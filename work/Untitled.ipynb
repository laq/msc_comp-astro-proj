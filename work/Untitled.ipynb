{
 "cells": [
  {
   "cell_type": "code",
   "execution_count": 3,
   "id": "463769dc-9d9c-4789-9b9f-1fe462ded8cc",
   "metadata": {},
   "outputs": [
    {
     "name": "stdout",
     "output_type": "stream",
     "text": [
      "[Taichi] version 1.7.3, llvm 15.0.4, commit 5ec301be, linux, python 3.11.10\n"
     ]
    },
    {
     "name": "stderr",
     "output_type": "stream",
     "text": [
      "[I 06/11/25 19:34:37.599 1814] [shell.py:_shell_pop_print@23] Graphical python shell detected, using wrapped sys.stdout\n"
     ]
    },
    {
     "name": "stdout",
     "output_type": "stream",
     "text": [
      "[Taichi] Starting on arch=opengl\n"
     ]
    },
    {
     "name": "stderr",
     "output_type": "stream",
     "text": [
      "[W 06/11/25 19:34:38.086 1814] [cuda_driver.cpp:load_lib@36] libcuda.so lib not found.\n",
      "RHI Error: Can not create Vulkan instance\n",
      "MESA: error: Failed to query drm device.\n",
      "glx: failed to create dri3 screen\n",
      "failed to load driver: iris\n",
      "failed to open /dev/dri/card1: No such file or directory\n",
      "failed to load driver: iris\n"
     ]
    },
    {
     "ename": "RuntimeError",
     "evalue": "Vulkan must be available for GGUI",
     "output_type": "error",
     "traceback": [
      "\u001b[0;31m---------------------------------------------------------------------------\u001b[0m",
      "\u001b[0;31mRuntimeError\u001b[0m                              Traceback (most recent call last)",
      "Cell \u001b[0;32mIn[3], line 43\u001b[0m\n\u001b[1;32m     40\u001b[0m init_planets()\n\u001b[1;32m     42\u001b[0m \u001b[38;5;66;03m# GUI setup\u001b[39;00m\n\u001b[0;32m---> 43\u001b[0m window \u001b[38;5;241m=\u001b[39m \u001b[43mti\u001b[49m\u001b[38;5;241;43m.\u001b[39;49m\u001b[43mui\u001b[49m\u001b[38;5;241;43m.\u001b[39;49m\u001b[43mWindow\u001b[49m\u001b[43m(\u001b[49m\u001b[38;5;124;43m\"\u001b[39;49m\u001b[38;5;124;43m3D N-Body (Taichi)\u001b[39;49m\u001b[38;5;124;43m\"\u001b[39;49m\u001b[43m,\u001b[49m\u001b[43m \u001b[49m\u001b[43m(\u001b[49m\u001b[38;5;241;43m800\u001b[39;49m\u001b[43m,\u001b[49m\u001b[43m \u001b[49m\u001b[38;5;241;43m600\u001b[39;49m\u001b[43m)\u001b[49m\u001b[43m)\u001b[49m\n\u001b[1;32m     44\u001b[0m canvas \u001b[38;5;241m=\u001b[39m window\u001b[38;5;241m.\u001b[39mget_canvas()\n\u001b[1;32m     45\u001b[0m scene \u001b[38;5;241m=\u001b[39m ti\u001b[38;5;241m.\u001b[39mui\u001b[38;5;241m.\u001b[39mScene()\n",
      "File \u001b[0;32m/opt/conda/lib/python3.11/site-packages/taichi/ui/window.py:37\u001b[0m, in \u001b[0;36mWindow.__init__\u001b[0;34m(self, name, res, vsync, show_window, fps_limit, pos)\u001b[0m\n\u001b[1;32m     35\u001b[0m package_path \u001b[38;5;241m=\u001b[39m \u001b[38;5;28mstr\u001b[39m(pathlib\u001b[38;5;241m.\u001b[39mPath(\u001b[38;5;18m__file__\u001b[39m)\u001b[38;5;241m.\u001b[39mparent\u001b[38;5;241m.\u001b[39mparent)\n\u001b[1;32m     36\u001b[0m ti_arch \u001b[38;5;241m=\u001b[39m default_cfg()\u001b[38;5;241m.\u001b[39march\n\u001b[0;32m---> 37\u001b[0m \u001b[38;5;28mself\u001b[39m\u001b[38;5;241m.\u001b[39mwindow \u001b[38;5;241m=\u001b[39m \u001b[43m_ti_core\u001b[49m\u001b[38;5;241;43m.\u001b[39;49m\u001b[43mPyWindow\u001b[49m\u001b[43m(\u001b[49m\n\u001b[1;32m     38\u001b[0m \u001b[43m    \u001b[49m\u001b[43mget_runtime\u001b[49m\u001b[43m(\u001b[49m\u001b[43m)\u001b[49m\u001b[38;5;241;43m.\u001b[39;49m\u001b[43mprog\u001b[49m\u001b[43m,\u001b[49m\n\u001b[1;32m     39\u001b[0m \u001b[43m    \u001b[49m\u001b[43mname\u001b[49m\u001b[43m,\u001b[49m\n\u001b[1;32m     40\u001b[0m \u001b[43m    \u001b[49m\u001b[43mres\u001b[49m\u001b[43m,\u001b[49m\n\u001b[1;32m     41\u001b[0m \u001b[43m    \u001b[49m\u001b[43mpos\u001b[49m\u001b[43m,\u001b[49m\n\u001b[1;32m     42\u001b[0m \u001b[43m    \u001b[49m\u001b[43mvsync\u001b[49m\u001b[43m,\u001b[49m\n\u001b[1;32m     43\u001b[0m \u001b[43m    \u001b[49m\u001b[43mshow_window\u001b[49m\u001b[43m,\u001b[49m\n\u001b[1;32m     44\u001b[0m \u001b[43m    \u001b[49m\u001b[43mfps_limit\u001b[49m\u001b[43m,\u001b[49m\n\u001b[1;32m     45\u001b[0m \u001b[43m    \u001b[49m\u001b[43mpackage_path\u001b[49m\u001b[43m,\u001b[49m\n\u001b[1;32m     46\u001b[0m \u001b[43m    \u001b[49m\u001b[43mti_arch\u001b[49m\u001b[43m,\u001b[49m\n\u001b[1;32m     47\u001b[0m \u001b[43m\u001b[49m\u001b[43m)\u001b[49m\n",
      "\u001b[0;31mRuntimeError\u001b[0m: Vulkan must be available for GGUI"
     ]
    }
   ],
   "source": [
    "import taichi as ti\n",
    "import numpy as np\n",
    "\n",
    "ti.init(arch=ti.gpu)  # Use GPU (or ti.cpu for CPU)\n",
    "\n",
    "# Constants\n",
    "N = 3  # Number of planets\n",
    "dt = 0.01  # Time step\n",
    "\n",
    "# Taichi fields (GPU/CPU arrays)\n",
    "positions = ti.Vector.field(3, dtype=ti.f32, shape=N)\n",
    "velocities = ti.Vector.field(3, dtype=ti.f32, shape=N)\n",
    "colors = ti.Vector.field(3, dtype=ti.f32, shape=N)\n",
    "\n",
    "# Initialize planets (position, velocity, color)\n",
    "@ti.kernel\n",
    "def init_planets():\n",
    "    # Planet 1: Red, moving along X\n",
    "    positions[0] = [0, 0, 0]\n",
    "    velocities[0] = [0.5, 0.0, 0.0]\n",
    "    colors[0] = [1.0, 0.0, 0.0]  # RGB (red)\n",
    "    \n",
    "    # Planet 2: Green, moving along Y\n",
    "    positions[1] = [2, 0, 0]\n",
    "    velocities[1] = [0.0, 0.5, 0.0]\n",
    "    colors[1] = [0.0, 1.0, 0.0]  # RGB (green)\n",
    "    \n",
    "    # Planet 3: Blue, moving along Z\n",
    "    positions[2] = [0, 0, 2]\n",
    "    velocities[2] = [0.0, 0.0, -0.5]\n",
    "    colors[2] = [0.0, 0.0, 1.0]  # RGB (blue)\n",
    "\n",
    "# Update positions (constant velocity motion)\n",
    "@ti.kernel\n",
    "def update_positions():\n",
    "    for i in range(N):\n",
    "        positions[i] += velocities[i] * dt\n",
    "\n",
    "# Initialize\n",
    "init_planets()\n",
    "\n",
    "# GUI setup\n",
    "window = ti.ui.Window(\"3D N-Body (Taichi)\", (800, 600))\n",
    "canvas = window.get_canvas()\n",
    "scene = ti.ui.Scene()\n",
    "camera = ti.ui.Camera()\n",
    "camera.position(5, 5, 5)  # Camera position\n",
    "camera.lookat(0, 0, 0)    # Camera looks at origin\n",
    "\n",
    "# Main loop\n",
    "while window.running:\n",
    "    update_positions()  # Update planet positions\n",
    "    \n",
    "    # Set up camera\n",
    "    camera.track_user_inputs(window, movement_speed=0.1, hold_key=ti.ui.RMB)\n",
    "    scene.set_camera(camera)\n",
    "    \n",
    "    # Add planets (as spheres)\n",
    "    scene.point_light(pos=(0, 5, 0), color=(1, 1, 1))\n",
    "    scene.ambient_light((0.5, 0.5, 0.5))\n",
    "    for i in range(N):\n",
    "        scene.particles(positions[i], radius=0.1, per_vertex_color=colors[i])\n",
    "    \n",
    "    # Render\n",
    "    canvas.scene(scene)\n",
    "    window.show()"
   ]
  },
  {
   "cell_type": "code",
   "execution_count": 2,
   "id": "bd493cef-cf94-4097-89e8-7eca33e5e395",
   "metadata": {},
   "outputs": [
    {
     "name": "stdout",
     "output_type": "stream",
     "text": [
      "Collecting taichi\n",
      "  Downloading taichi-1.7.3-cp311-cp311-manylinux_2_27_x86_64.whl.metadata (12 kB)\n",
      "Requirement already satisfied: numpy in /opt/conda/lib/python3.11/site-packages (from taichi) (2.0.2)\n",
      "Requirement already satisfied: colorama in /opt/conda/lib/python3.11/site-packages (from taichi) (0.4.6)\n",
      "Requirement already satisfied: dill in /opt/conda/lib/python3.11/site-packages (from taichi) (0.3.9)\n",
      "Collecting rich (from taichi)\n",
      "  Downloading rich-14.0.0-py3-none-any.whl.metadata (18 kB)\n",
      "Collecting markdown-it-py>=2.2.0 (from rich->taichi)\n",
      "  Downloading markdown_it_py-3.0.0-py3-none-any.whl.metadata (6.9 kB)\n",
      "Requirement already satisfied: pygments<3.0.0,>=2.13.0 in /opt/conda/lib/python3.11/site-packages (from rich->taichi) (2.18.0)\n",
      "Collecting mdurl~=0.1 (from markdown-it-py>=2.2.0->rich->taichi)\n",
      "  Downloading mdurl-0.1.2-py3-none-any.whl.metadata (1.6 kB)\n",
      "Downloading taichi-1.7.3-cp311-cp311-manylinux_2_27_x86_64.whl (55.0 MB)\n",
      "\u001b[2K   \u001b[90m━━━━━━━━━━━━━━━━━━━━━━━━━━━━━━━━━━━━━━━━\u001b[0m \u001b[32m55.0/55.0 MB\u001b[0m \u001b[31m742.2 kB/s\u001b[0m eta \u001b[36m0:00:00\u001b[0m00:01\u001b[0m00:02\u001b[0m\n",
      "\u001b[?25hDownloading rich-14.0.0-py3-none-any.whl (243 kB)\n",
      "Downloading markdown_it_py-3.0.0-py3-none-any.whl (87 kB)\n",
      "Downloading mdurl-0.1.2-py3-none-any.whl (10.0 kB)\n",
      "Installing collected packages: mdurl, markdown-it-py, rich, taichi\n",
      "Successfully installed markdown-it-py-3.0.0 mdurl-0.1.2 rich-14.0.0 taichi-1.7.3\n",
      "Note: you may need to restart the kernel to use updated packages.\n"
     ]
    }
   ],
   "source": [
    "%pip install taichi"
   ]
  }
 ],
 "metadata": {
  "kernelspec": {
   "display_name": "Python 3 (ipykernel)",
   "language": "python",
   "name": "python3"
  },
  "language_info": {
   "codemirror_mode": {
    "name": "ipython",
    "version": 3
   },
   "file_extension": ".py",
   "mimetype": "text/x-python",
   "name": "python",
   "nbconvert_exporter": "python",
   "pygments_lexer": "ipython3",
   "version": "3.11.10"
  }
 },
 "nbformat": 4,
 "nbformat_minor": 5
}
