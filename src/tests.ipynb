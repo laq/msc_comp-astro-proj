{
 "cells": [
  {
   "cell_type": "code",
   "execution_count": 1,
   "id": "805b387c",
   "metadata": {},
   "outputs": [
    {
     "data": {
      "text/plain": [
       "{'a': 2, 'b': 3}"
      ]
     },
     "execution_count": 1,
     "metadata": {},
     "output_type": "execute_result"
    }
   ],
   "source": [
    "a = {\"a\":2,\"b\":3}\n",
    "a"
   ]
  },
  {
   "cell_type": "code",
   "execution_count": 6,
   "id": "bf7c81a2",
   "metadata": {},
   "outputs": [
    {
     "name": "stdout",
     "output_type": "stream",
     "text": [
      "a\n",
      "2\n",
      "b\n",
      "3\n"
     ]
    }
   ],
   "source": [
    "for i,fn in a.items():\n",
    "    print(i)\n",
    "    print(fn)"
   ]
  },
  {
   "cell_type": "code",
   "execution_count": 12,
   "id": "5d55d7a0",
   "metadata": {},
   "outputs": [
    {
     "data": {
      "text/plain": [
       "dtype('float32')"
      ]
     },
     "execution_count": 12,
     "metadata": {},
     "output_type": "execute_result"
    }
   ],
   "source": [
    "import numpy as np\n",
    "x = np.random.rand(3)\n",
    "y = x.astype(np.float32)\n",
    "np.result_type(y)"
   ]
  },
  {
   "cell_type": "code",
   "execution_count": 27,
   "id": "f6f5e29e",
   "metadata": {},
   "outputs": [
    {
     "data": {
      "text/plain": [
       "(2400.0, 4800.0, 'MB', 720.0, 'GB')"
      ]
     },
     "execution_count": 27,
     "metadata": {},
     "output_type": "execute_result"
    }
   ],
   "source": [
    "N = int(1e8)\n",
    "x = np.random.rand(N,6).astype(np.float32)\n",
    "x.nbytes/10**6, (N*6*8)/10**6, \"MB\", (x.nbytes*300)/10**9,\"GB\""
   ]
  },
  {
   "cell_type": "code",
   "execution_count": 38,
   "id": "6e6b1140",
   "metadata": {},
   "outputs": [],
   "source": [
    "def f_acceleration_flat(state, *, fn_acc):\n",
    "    # Reshape 0:r,r_dot 1:planets 2:x,y\n",
    "    Y = state.reshape(2, 3, 2)\n",
    "    return np.array([Y[1], fn_acc(Y[0])]).flatten()"
   ]
  },
  {
   "cell_type": "code",
   "execution_count": 39,
   "id": "a50223c5",
   "metadata": {},
   "outputs": [
    {
     "data": {
      "text/plain": [
       "array([ 3.67568330e-01,  5.72946167e-01,  7.40036896e-03,  1.78390026e-01,\n",
       "        9.47619500e-01,  6.94870107e-01,  2.20183613e+01,  8.69117497e+00,\n",
       "       -2.60834443e+01,  4.94801598e+00,  4.06508295e+00, -1.36391909e+01])"
      ]
     },
     "execution_count": 39,
     "metadata": {},
     "output_type": "execute_result"
    }
   ],
   "source": [
    "from functools import partial\n",
    "# Implement using np arrays and broadcasting\n",
    "def get_acceleration_numpy(X: np.ndarray) -> np.ndarray:\n",
    "    vec_diff = X[:, np.newaxis] - X\n",
    "    distance_matrix = np.linalg.norm(vec_diff, axis=2) ** 3\n",
    "\n",
    "    # Set distance 0 to inf to avoid dividing by 0\n",
    "    distance_matrix[distance_matrix == 0] = np.inf\n",
    "\n",
    "    acceleration = vec_diff / distance_matrix[:, :, np.newaxis]\n",
    "\n",
    "    return -np.sum(acceleration, axis=0)\n",
    "\n",
    "\n",
    "\n",
    "partial(f_acceleration_flat,  fn_acc=get_acceleration_numpy)(np.random.rand(4,3))"
   ]
  },
  {
   "cell_type": "code",
   "execution_count": 43,
   "id": "6dff1b88",
   "metadata": {},
   "outputs": [],
   "source": [
    "import scipy as sp\n",
    "import numpy as np\n",
    "from functools import partial\n",
    "\n",
    "def f_acceleration_flat(x, y_flat, *, fn_acc):\n",
    "    # Reshape 0:r,r_dot 1:planets 2:x,y\n",
    "    Y = y_flat.reshape(2, 3, 2)\n",
    "    return np.array([Y[1], fn_acc(Y[0])]).flatten()\n",
    "\n",
    "\n",
    "def integrator_scipy(X, V, fn_acc, tmax, method=\"RK45\"):\n",
    "    phase_state = [X, V]\n",
    "    Y_flat = np.array(phase_state).flatten()\n",
    "\n",
    "    scipy_ivp = sp.integrate.solve_ivp(\n",
    "        partial(f_acceleration_flat, fn_acc=fn_acc),\n",
    "        (0, tmax),\n",
    "        Y_flat,\n",
    "        method=method,\n",
    "        # t_eval=t_eval,\n",
    "        vectorized=False,\n",
    "        atol=1e-7,\n",
    "        rtol=1e-7,\n",
    "    )\n",
    "    \n",
    "    scipy_ivp_trajectory = scipy_ivp.y.reshape(2, 6, -1)[0].T.reshape(-1, 3, 2)\n",
    "    scipy_ivp_velocity_trajectory = scipy_ivp.y.reshape(2, 6, -1)[1].T.reshape(-1, 3, 2)\n",
    "    return [scipy_ivp_trajectory, scipy_ivp_velocity_trajectory]"
   ]
  },
  {
   "cell_type": "code",
   "execution_count": 44,
   "id": "44597704",
   "metadata": {},
   "outputs": [],
   "source": [
    "r = np.array([[-1, 0], [1, 0], [0, 0]])\n",
    "\n",
    "\n",
    "r_dot = np.array([[0.080584, 0.588836], [0.080584, 0.588836], [-0.161168, -1.177672]])\n",
    "\n",
    "\n",
    "Xs, Vs = integrator_scipy(\n",
    "    r, r_dot, fn_acc=get_acceleration_numpy, tmax=2\n",
    ")"
   ]
  }
 ],
 "metadata": {
  "kernelspec": {
   "display_name": "Python 3 (ipykernel)",
   "language": "python",
   "name": "python3"
  }
 },
 "nbformat": 4,
 "nbformat_minor": 5
}
