{
 "cells": [
  {
   "cell_type": "code",
   "execution_count": 2,
   "id": "0ef507c3",
   "metadata": {},
   "outputs": [
    {
     "name": "stdout",
     "output_type": "stream",
     "text": [
      "Collecting plotly\n",
      "  Downloading plotly-6.1.2-py3-none-any.whl.metadata (6.9 kB)\n",
      "Collecting narwhals>=1.15.1 (from plotly)\n",
      "  Downloading narwhals-1.42.0-py3-none-any.whl.metadata (11 kB)\n",
      "Requirement already satisfied: packaging in /opt/conda/lib/python3.11/site-packages (from plotly) (24.1)\n",
      "Downloading plotly-6.1.2-py3-none-any.whl (16.3 MB)\n",
      "\u001b[2K   \u001b[90m━━━━━━━━━━━━━━━━━━━━━━━━━━━━━━━━━━━━━━━━\u001b[0m \u001b[32m16.3/16.3 MB\u001b[0m \u001b[31m5.7 MB/s\u001b[0m eta \u001b[36m0:00:00\u001b[0ma \u001b[36m0:00:01\u001b[0mm\n",
      "\u001b[?25hDownloading narwhals-1.42.0-py3-none-any.whl (359 kB)\n",
      "Installing collected packages: narwhals, plotly\n",
      "  Attempting uninstall: narwhals\n",
      "    Found existing installation: narwhals 1.9.0\n",
      "    Uninstalling narwhals-1.9.0:\n",
      "      Successfully uninstalled narwhals-1.9.0\n",
      "Successfully installed narwhals-1.42.0 plotly-6.1.2\n",
      "Note: you may need to restart the kernel to use updated packages.\n"
     ]
    }
   ],
   "source": [
    "%pip install plotly"
   ]
  },
  {
   "cell_type": "code",
   "execution_count": 4,
   "id": "d668dc22",
   "metadata": {},
   "outputs": [
    {
     "data": {
      "application/vnd.plotly.v1+json": {
       "config": {
        "plotlyServerURL": "https://plot.ly"
       },
       "data": [
        {
         "marker": {
          "color": "blue",
          "size": 10
         },
         "mode": "markers",
         "type": "scatter3d",
         "x": {
          "bdata": "oNLgbvm52D9IMyV6/XG3PwTVRBI7k8M/",
          "dtype": "f8"
         },
         "y": {
          "bdata": "Z3DxWaM64D8EPMgwgPbEPxU95JSSZu0/",
          "dtype": "f8"
         },
         "z": {
          "bdata": "Ol6gYEJv0D8ws1uWQMWtP8iGEtRc+ew/",
          "dtype": "f8"
         }
        }
       ],
       "layout": {
        "scene": {
         "aspectmode": "cube",
         "xaxis": {
          "title": {
           "text": "X"
          }
         },
         "yaxis": {
          "title": {
           "text": "Y"
          }
         },
         "zaxis": {
          "title": {
           "text": "Z"
          }
         }
        },
        "template": {
         "data": {
          "bar": [
           {
            "error_x": {
             "color": "#2a3f5f"
            },
            "error_y": {
             "color": "#2a3f5f"
            },
            "marker": {
             "line": {
              "color": "#E5ECF6",
              "width": 0.5
             },
             "pattern": {
              "fillmode": "overlay",
              "size": 10,
              "solidity": 0.2
             }
            },
            "type": "bar"
           }
          ],
          "barpolar": [
           {
            "marker": {
             "line": {
              "color": "#E5ECF6",
              "width": 0.5
             },
             "pattern": {
              "fillmode": "overlay",
              "size": 10,
              "solidity": 0.2
             }
            },
            "type": "barpolar"
           }
          ],
          "carpet": [
           {
            "aaxis": {
             "endlinecolor": "#2a3f5f",
             "gridcolor": "white",
             "linecolor": "white",
             "minorgridcolor": "white",
             "startlinecolor": "#2a3f5f"
            },
            "baxis": {
             "endlinecolor": "#2a3f5f",
             "gridcolor": "white",
             "linecolor": "white",
             "minorgridcolor": "white",
             "startlinecolor": "#2a3f5f"
            },
            "type": "carpet"
           }
          ],
          "choropleth": [
           {
            "colorbar": {
             "outlinewidth": 0,
             "ticks": ""
            },
            "type": "choropleth"
           }
          ],
          "contour": [
           {
            "colorbar": {
             "outlinewidth": 0,
             "ticks": ""
            },
            "colorscale": [
             [
              0,
              "#0d0887"
             ],
             [
              0.1111111111111111,
              "#46039f"
             ],
             [
              0.2222222222222222,
              "#7201a8"
             ],
             [
              0.3333333333333333,
              "#9c179e"
             ],
             [
              0.4444444444444444,
              "#bd3786"
             ],
             [
              0.5555555555555556,
              "#d8576b"
             ],
             [
              0.6666666666666666,
              "#ed7953"
             ],
             [
              0.7777777777777778,
              "#fb9f3a"
             ],
             [
              0.8888888888888888,
              "#fdca26"
             ],
             [
              1,
              "#f0f921"
             ]
            ],
            "type": "contour"
           }
          ],
          "contourcarpet": [
           {
            "colorbar": {
             "outlinewidth": 0,
             "ticks": ""
            },
            "type": "contourcarpet"
           }
          ],
          "heatmap": [
           {
            "colorbar": {
             "outlinewidth": 0,
             "ticks": ""
            },
            "colorscale": [
             [
              0,
              "#0d0887"
             ],
             [
              0.1111111111111111,
              "#46039f"
             ],
             [
              0.2222222222222222,
              "#7201a8"
             ],
             [
              0.3333333333333333,
              "#9c179e"
             ],
             [
              0.4444444444444444,
              "#bd3786"
             ],
             [
              0.5555555555555556,
              "#d8576b"
             ],
             [
              0.6666666666666666,
              "#ed7953"
             ],
             [
              0.7777777777777778,
              "#fb9f3a"
             ],
             [
              0.8888888888888888,
              "#fdca26"
             ],
             [
              1,
              "#f0f921"
             ]
            ],
            "type": "heatmap"
           }
          ],
          "histogram": [
           {
            "marker": {
             "pattern": {
              "fillmode": "overlay",
              "size": 10,
              "solidity": 0.2
             }
            },
            "type": "histogram"
           }
          ],
          "histogram2d": [
           {
            "colorbar": {
             "outlinewidth": 0,
             "ticks": ""
            },
            "colorscale": [
             [
              0,
              "#0d0887"
             ],
             [
              0.1111111111111111,
              "#46039f"
             ],
             [
              0.2222222222222222,
              "#7201a8"
             ],
             [
              0.3333333333333333,
              "#9c179e"
             ],
             [
              0.4444444444444444,
              "#bd3786"
             ],
             [
              0.5555555555555556,
              "#d8576b"
             ],
             [
              0.6666666666666666,
              "#ed7953"
             ],
             [
              0.7777777777777778,
              "#fb9f3a"
             ],
             [
              0.8888888888888888,
              "#fdca26"
             ],
             [
              1,
              "#f0f921"
             ]
            ],
            "type": "histogram2d"
           }
          ],
          "histogram2dcontour": [
           {
            "colorbar": {
             "outlinewidth": 0,
             "ticks": ""
            },
            "colorscale": [
             [
              0,
              "#0d0887"
             ],
             [
              0.1111111111111111,
              "#46039f"
             ],
             [
              0.2222222222222222,
              "#7201a8"
             ],
             [
              0.3333333333333333,
              "#9c179e"
             ],
             [
              0.4444444444444444,
              "#bd3786"
             ],
             [
              0.5555555555555556,
              "#d8576b"
             ],
             [
              0.6666666666666666,
              "#ed7953"
             ],
             [
              0.7777777777777778,
              "#fb9f3a"
             ],
             [
              0.8888888888888888,
              "#fdca26"
             ],
             [
              1,
              "#f0f921"
             ]
            ],
            "type": "histogram2dcontour"
           }
          ],
          "mesh3d": [
           {
            "colorbar": {
             "outlinewidth": 0,
             "ticks": ""
            },
            "type": "mesh3d"
           }
          ],
          "parcoords": [
           {
            "line": {
             "colorbar": {
              "outlinewidth": 0,
              "ticks": ""
             }
            },
            "type": "parcoords"
           }
          ],
          "pie": [
           {
            "automargin": true,
            "type": "pie"
           }
          ],
          "scatter": [
           {
            "fillpattern": {
             "fillmode": "overlay",
             "size": 10,
             "solidity": 0.2
            },
            "type": "scatter"
           }
          ],
          "scatter3d": [
           {
            "line": {
             "colorbar": {
              "outlinewidth": 0,
              "ticks": ""
             }
            },
            "marker": {
             "colorbar": {
              "outlinewidth": 0,
              "ticks": ""
             }
            },
            "type": "scatter3d"
           }
          ],
          "scattercarpet": [
           {
            "marker": {
             "colorbar": {
              "outlinewidth": 0,
              "ticks": ""
             }
            },
            "type": "scattercarpet"
           }
          ],
          "scattergeo": [
           {
            "marker": {
             "colorbar": {
              "outlinewidth": 0,
              "ticks": ""
             }
            },
            "type": "scattergeo"
           }
          ],
          "scattergl": [
           {
            "marker": {
             "colorbar": {
              "outlinewidth": 0,
              "ticks": ""
             }
            },
            "type": "scattergl"
           }
          ],
          "scattermap": [
           {
            "marker": {
             "colorbar": {
              "outlinewidth": 0,
              "ticks": ""
             }
            },
            "type": "scattermap"
           }
          ],
          "scattermapbox": [
           {
            "marker": {
             "colorbar": {
              "outlinewidth": 0,
              "ticks": ""
             }
            },
            "type": "scattermapbox"
           }
          ],
          "scatterpolar": [
           {
            "marker": {
             "colorbar": {
              "outlinewidth": 0,
              "ticks": ""
             }
            },
            "type": "scatterpolar"
           }
          ],
          "scatterpolargl": [
           {
            "marker": {
             "colorbar": {
              "outlinewidth": 0,
              "ticks": ""
             }
            },
            "type": "scatterpolargl"
           }
          ],
          "scatterternary": [
           {
            "marker": {
             "colorbar": {
              "outlinewidth": 0,
              "ticks": ""
             }
            },
            "type": "scatterternary"
           }
          ],
          "surface": [
           {
            "colorbar": {
             "outlinewidth": 0,
             "ticks": ""
            },
            "colorscale": [
             [
              0,
              "#0d0887"
             ],
             [
              0.1111111111111111,
              "#46039f"
             ],
             [
              0.2222222222222222,
              "#7201a8"
             ],
             [
              0.3333333333333333,
              "#9c179e"
             ],
             [
              0.4444444444444444,
              "#bd3786"
             ],
             [
              0.5555555555555556,
              "#d8576b"
             ],
             [
              0.6666666666666666,
              "#ed7953"
             ],
             [
              0.7777777777777778,
              "#fb9f3a"
             ],
             [
              0.8888888888888888,
              "#fdca26"
             ],
             [
              1,
              "#f0f921"
             ]
            ],
            "type": "surface"
           }
          ],
          "table": [
           {
            "cells": {
             "fill": {
              "color": "#EBF0F8"
             },
             "line": {
              "color": "white"
             }
            },
            "header": {
             "fill": {
              "color": "#C8D4E3"
             },
             "line": {
              "color": "white"
             }
            },
            "type": "table"
           }
          ]
         },
         "layout": {
          "annotationdefaults": {
           "arrowcolor": "#2a3f5f",
           "arrowhead": 0,
           "arrowwidth": 1
          },
          "autotypenumbers": "strict",
          "coloraxis": {
           "colorbar": {
            "outlinewidth": 0,
            "ticks": ""
           }
          },
          "colorscale": {
           "diverging": [
            [
             0,
             "#8e0152"
            ],
            [
             0.1,
             "#c51b7d"
            ],
            [
             0.2,
             "#de77ae"
            ],
            [
             0.3,
             "#f1b6da"
            ],
            [
             0.4,
             "#fde0ef"
            ],
            [
             0.5,
             "#f7f7f7"
            ],
            [
             0.6,
             "#e6f5d0"
            ],
            [
             0.7,
             "#b8e186"
            ],
            [
             0.8,
             "#7fbc41"
            ],
            [
             0.9,
             "#4d9221"
            ],
            [
             1,
             "#276419"
            ]
           ],
           "sequential": [
            [
             0,
             "#0d0887"
            ],
            [
             0.1111111111111111,
             "#46039f"
            ],
            [
             0.2222222222222222,
             "#7201a8"
            ],
            [
             0.3333333333333333,
             "#9c179e"
            ],
            [
             0.4444444444444444,
             "#bd3786"
            ],
            [
             0.5555555555555556,
             "#d8576b"
            ],
            [
             0.6666666666666666,
             "#ed7953"
            ],
            [
             0.7777777777777778,
             "#fb9f3a"
            ],
            [
             0.8888888888888888,
             "#fdca26"
            ],
            [
             1,
             "#f0f921"
            ]
           ],
           "sequentialminus": [
            [
             0,
             "#0d0887"
            ],
            [
             0.1111111111111111,
             "#46039f"
            ],
            [
             0.2222222222222222,
             "#7201a8"
            ],
            [
             0.3333333333333333,
             "#9c179e"
            ],
            [
             0.4444444444444444,
             "#bd3786"
            ],
            [
             0.5555555555555556,
             "#d8576b"
            ],
            [
             0.6666666666666666,
             "#ed7953"
            ],
            [
             0.7777777777777778,
             "#fb9f3a"
            ],
            [
             0.8888888888888888,
             "#fdca26"
            ],
            [
             1,
             "#f0f921"
            ]
           ]
          },
          "colorway": [
           "#636efa",
           "#EF553B",
           "#00cc96",
           "#ab63fa",
           "#FFA15A",
           "#19d3f3",
           "#FF6692",
           "#B6E880",
           "#FF97FF",
           "#FECB52"
          ],
          "font": {
           "color": "#2a3f5f"
          },
          "geo": {
           "bgcolor": "white",
           "lakecolor": "white",
           "landcolor": "#E5ECF6",
           "showlakes": true,
           "showland": true,
           "subunitcolor": "white"
          },
          "hoverlabel": {
           "align": "left"
          },
          "hovermode": "closest",
          "mapbox": {
           "style": "light"
          },
          "paper_bgcolor": "white",
          "plot_bgcolor": "#E5ECF6",
          "polar": {
           "angularaxis": {
            "gridcolor": "white",
            "linecolor": "white",
            "ticks": ""
           },
           "bgcolor": "#E5ECF6",
           "radialaxis": {
            "gridcolor": "white",
            "linecolor": "white",
            "ticks": ""
           }
          },
          "scene": {
           "xaxis": {
            "backgroundcolor": "#E5ECF6",
            "gridcolor": "white",
            "gridwidth": 2,
            "linecolor": "white",
            "showbackground": true,
            "ticks": "",
            "zerolinecolor": "white"
           },
           "yaxis": {
            "backgroundcolor": "#E5ECF6",
            "gridcolor": "white",
            "gridwidth": 2,
            "linecolor": "white",
            "showbackground": true,
            "ticks": "",
            "zerolinecolor": "white"
           },
           "zaxis": {
            "backgroundcolor": "#E5ECF6",
            "gridcolor": "white",
            "gridwidth": 2,
            "linecolor": "white",
            "showbackground": true,
            "ticks": "",
            "zerolinecolor": "white"
           }
          },
          "shapedefaults": {
           "line": {
            "color": "#2a3f5f"
           }
          },
          "ternary": {
           "aaxis": {
            "gridcolor": "white",
            "linecolor": "white",
            "ticks": ""
           },
           "baxis": {
            "gridcolor": "white",
            "linecolor": "white",
            "ticks": ""
           },
           "bgcolor": "#E5ECF6",
           "caxis": {
            "gridcolor": "white",
            "linecolor": "white",
            "ticks": ""
           }
          },
          "title": {
           "x": 0.05
          },
          "xaxis": {
           "automargin": true,
           "gridcolor": "white",
           "linecolor": "white",
           "ticks": "",
           "title": {
            "standoff": 15
           },
           "zerolinecolor": "white",
           "zerolinewidth": 2
          },
          "yaxis": {
           "automargin": true,
           "gridcolor": "white",
           "linecolor": "white",
           "ticks": "",
           "title": {
            "standoff": 15
           },
           "zerolinecolor": "white",
           "zerolinewidth": 2
          }
         }
        },
        "title": {
         "text": "3-Body Problem"
        }
       }
      }
     },
     "metadata": {},
     "output_type": "display_data"
    },
    {
     "data": {
      "application/vnd.plotly.v1+json": {
       "config": {
        "plotlyServerURL": "https://plot.ly"
       },
       "data": [
        {
         "marker": {
          "color": "blue",
          "size": 10
         },
         "mode": "markers",
         "type": "scatter3d",
         "x": {
          "bdata": "oNLgbvm52D9IMyV6/XG3PwTVRBI7k8M/",
          "dtype": "f8"
         },
         "y": {
          "bdata": "Z3DxWaM64D8EPMgwgPbEPxU95JSSZu0/",
          "dtype": "f8"
         },
         "z": {
          "bdata": "Ol6gYEJv0D8ws1uWQMWtP8iGEtRc+ew/",
          "dtype": "f8"
         }
        }
       ],
       "layout": {
        "scene": {
         "aspectmode": "cube",
         "xaxis": {
          "title": {
           "text": "X"
          }
         },
         "yaxis": {
          "title": {
           "text": "Y"
          }
         },
         "zaxis": {
          "title": {
           "text": "Z"
          }
         }
        },
        "template": {
         "data": {
          "bar": [
           {
            "error_x": {
             "color": "#2a3f5f"
            },
            "error_y": {
             "color": "#2a3f5f"
            },
            "marker": {
             "line": {
              "color": "#E5ECF6",
              "width": 0.5
             },
             "pattern": {
              "fillmode": "overlay",
              "size": 10,
              "solidity": 0.2
             }
            },
            "type": "bar"
           }
          ],
          "barpolar": [
           {
            "marker": {
             "line": {
              "color": "#E5ECF6",
              "width": 0.5
             },
             "pattern": {
              "fillmode": "overlay",
              "size": 10,
              "solidity": 0.2
             }
            },
            "type": "barpolar"
           }
          ],
          "carpet": [
           {
            "aaxis": {
             "endlinecolor": "#2a3f5f",
             "gridcolor": "white",
             "linecolor": "white",
             "minorgridcolor": "white",
             "startlinecolor": "#2a3f5f"
            },
            "baxis": {
             "endlinecolor": "#2a3f5f",
             "gridcolor": "white",
             "linecolor": "white",
             "minorgridcolor": "white",
             "startlinecolor": "#2a3f5f"
            },
            "type": "carpet"
           }
          ],
          "choropleth": [
           {
            "colorbar": {
             "outlinewidth": 0,
             "ticks": ""
            },
            "type": "choropleth"
           }
          ],
          "contour": [
           {
            "colorbar": {
             "outlinewidth": 0,
             "ticks": ""
            },
            "colorscale": [
             [
              0,
              "#0d0887"
             ],
             [
              0.1111111111111111,
              "#46039f"
             ],
             [
              0.2222222222222222,
              "#7201a8"
             ],
             [
              0.3333333333333333,
              "#9c179e"
             ],
             [
              0.4444444444444444,
              "#bd3786"
             ],
             [
              0.5555555555555556,
              "#d8576b"
             ],
             [
              0.6666666666666666,
              "#ed7953"
             ],
             [
              0.7777777777777778,
              "#fb9f3a"
             ],
             [
              0.8888888888888888,
              "#fdca26"
             ],
             [
              1,
              "#f0f921"
             ]
            ],
            "type": "contour"
           }
          ],
          "contourcarpet": [
           {
            "colorbar": {
             "outlinewidth": 0,
             "ticks": ""
            },
            "type": "contourcarpet"
           }
          ],
          "heatmap": [
           {
            "colorbar": {
             "outlinewidth": 0,
             "ticks": ""
            },
            "colorscale": [
             [
              0,
              "#0d0887"
             ],
             [
              0.1111111111111111,
              "#46039f"
             ],
             [
              0.2222222222222222,
              "#7201a8"
             ],
             [
              0.3333333333333333,
              "#9c179e"
             ],
             [
              0.4444444444444444,
              "#bd3786"
             ],
             [
              0.5555555555555556,
              "#d8576b"
             ],
             [
              0.6666666666666666,
              "#ed7953"
             ],
             [
              0.7777777777777778,
              "#fb9f3a"
             ],
             [
              0.8888888888888888,
              "#fdca26"
             ],
             [
              1,
              "#f0f921"
             ]
            ],
            "type": "heatmap"
           }
          ],
          "histogram": [
           {
            "marker": {
             "pattern": {
              "fillmode": "overlay",
              "size": 10,
              "solidity": 0.2
             }
            },
            "type": "histogram"
           }
          ],
          "histogram2d": [
           {
            "colorbar": {
             "outlinewidth": 0,
             "ticks": ""
            },
            "colorscale": [
             [
              0,
              "#0d0887"
             ],
             [
              0.1111111111111111,
              "#46039f"
             ],
             [
              0.2222222222222222,
              "#7201a8"
             ],
             [
              0.3333333333333333,
              "#9c179e"
             ],
             [
              0.4444444444444444,
              "#bd3786"
             ],
             [
              0.5555555555555556,
              "#d8576b"
             ],
             [
              0.6666666666666666,
              "#ed7953"
             ],
             [
              0.7777777777777778,
              "#fb9f3a"
             ],
             [
              0.8888888888888888,
              "#fdca26"
             ],
             [
              1,
              "#f0f921"
             ]
            ],
            "type": "histogram2d"
           }
          ],
          "histogram2dcontour": [
           {
            "colorbar": {
             "outlinewidth": 0,
             "ticks": ""
            },
            "colorscale": [
             [
              0,
              "#0d0887"
             ],
             [
              0.1111111111111111,
              "#46039f"
             ],
             [
              0.2222222222222222,
              "#7201a8"
             ],
             [
              0.3333333333333333,
              "#9c179e"
             ],
             [
              0.4444444444444444,
              "#bd3786"
             ],
             [
              0.5555555555555556,
              "#d8576b"
             ],
             [
              0.6666666666666666,
              "#ed7953"
             ],
             [
              0.7777777777777778,
              "#fb9f3a"
             ],
             [
              0.8888888888888888,
              "#fdca26"
             ],
             [
              1,
              "#f0f921"
             ]
            ],
            "type": "histogram2dcontour"
           }
          ],
          "mesh3d": [
           {
            "colorbar": {
             "outlinewidth": 0,
             "ticks": ""
            },
            "type": "mesh3d"
           }
          ],
          "parcoords": [
           {
            "line": {
             "colorbar": {
              "outlinewidth": 0,
              "ticks": ""
             }
            },
            "type": "parcoords"
           }
          ],
          "pie": [
           {
            "automargin": true,
            "type": "pie"
           }
          ],
          "scatter": [
           {
            "fillpattern": {
             "fillmode": "overlay",
             "size": 10,
             "solidity": 0.2
            },
            "type": "scatter"
           }
          ],
          "scatter3d": [
           {
            "line": {
             "colorbar": {
              "outlinewidth": 0,
              "ticks": ""
             }
            },
            "marker": {
             "colorbar": {
              "outlinewidth": 0,
              "ticks": ""
             }
            },
            "type": "scatter3d"
           }
          ],
          "scattercarpet": [
           {
            "marker": {
             "colorbar": {
              "outlinewidth": 0,
              "ticks": ""
             }
            },
            "type": "scattercarpet"
           }
          ],
          "scattergeo": [
           {
            "marker": {
             "colorbar": {
              "outlinewidth": 0,
              "ticks": ""
             }
            },
            "type": "scattergeo"
           }
          ],
          "scattergl": [
           {
            "marker": {
             "colorbar": {
              "outlinewidth": 0,
              "ticks": ""
             }
            },
            "type": "scattergl"
           }
          ],
          "scattermap": [
           {
            "marker": {
             "colorbar": {
              "outlinewidth": 0,
              "ticks": ""
             }
            },
            "type": "scattermap"
           }
          ],
          "scattermapbox": [
           {
            "marker": {
             "colorbar": {
              "outlinewidth": 0,
              "ticks": ""
             }
            },
            "type": "scattermapbox"
           }
          ],
          "scatterpolar": [
           {
            "marker": {
             "colorbar": {
              "outlinewidth": 0,
              "ticks": ""
             }
            },
            "type": "scatterpolar"
           }
          ],
          "scatterpolargl": [
           {
            "marker": {
             "colorbar": {
              "outlinewidth": 0,
              "ticks": ""
             }
            },
            "type": "scatterpolargl"
           }
          ],
          "scatterternary": [
           {
            "marker": {
             "colorbar": {
              "outlinewidth": 0,
              "ticks": ""
             }
            },
            "type": "scatterternary"
           }
          ],
          "surface": [
           {
            "colorbar": {
             "outlinewidth": 0,
             "ticks": ""
            },
            "colorscale": [
             [
              0,
              "#0d0887"
             ],
             [
              0.1111111111111111,
              "#46039f"
             ],
             [
              0.2222222222222222,
              "#7201a8"
             ],
             [
              0.3333333333333333,
              "#9c179e"
             ],
             [
              0.4444444444444444,
              "#bd3786"
             ],
             [
              0.5555555555555556,
              "#d8576b"
             ],
             [
              0.6666666666666666,
              "#ed7953"
             ],
             [
              0.7777777777777778,
              "#fb9f3a"
             ],
             [
              0.8888888888888888,
              "#fdca26"
             ],
             [
              1,
              "#f0f921"
             ]
            ],
            "type": "surface"
           }
          ],
          "table": [
           {
            "cells": {
             "fill": {
              "color": "#EBF0F8"
             },
             "line": {
              "color": "white"
             }
            },
            "header": {
             "fill": {
              "color": "#C8D4E3"
             },
             "line": {
              "color": "white"
             }
            },
            "type": "table"
           }
          ]
         },
         "layout": {
          "annotationdefaults": {
           "arrowcolor": "#2a3f5f",
           "arrowhead": 0,
           "arrowwidth": 1
          },
          "autotypenumbers": "strict",
          "coloraxis": {
           "colorbar": {
            "outlinewidth": 0,
            "ticks": ""
           }
          },
          "colorscale": {
           "diverging": [
            [
             0,
             "#8e0152"
            ],
            [
             0.1,
             "#c51b7d"
            ],
            [
             0.2,
             "#de77ae"
            ],
            [
             0.3,
             "#f1b6da"
            ],
            [
             0.4,
             "#fde0ef"
            ],
            [
             0.5,
             "#f7f7f7"
            ],
            [
             0.6,
             "#e6f5d0"
            ],
            [
             0.7,
             "#b8e186"
            ],
            [
             0.8,
             "#7fbc41"
            ],
            [
             0.9,
             "#4d9221"
            ],
            [
             1,
             "#276419"
            ]
           ],
           "sequential": [
            [
             0,
             "#0d0887"
            ],
            [
             0.1111111111111111,
             "#46039f"
            ],
            [
             0.2222222222222222,
             "#7201a8"
            ],
            [
             0.3333333333333333,
             "#9c179e"
            ],
            [
             0.4444444444444444,
             "#bd3786"
            ],
            [
             0.5555555555555556,
             "#d8576b"
            ],
            [
             0.6666666666666666,
             "#ed7953"
            ],
            [
             0.7777777777777778,
             "#fb9f3a"
            ],
            [
             0.8888888888888888,
             "#fdca26"
            ],
            [
             1,
             "#f0f921"
            ]
           ],
           "sequentialminus": [
            [
             0,
             "#0d0887"
            ],
            [
             0.1111111111111111,
             "#46039f"
            ],
            [
             0.2222222222222222,
             "#7201a8"
            ],
            [
             0.3333333333333333,
             "#9c179e"
            ],
            [
             0.4444444444444444,
             "#bd3786"
            ],
            [
             0.5555555555555556,
             "#d8576b"
            ],
            [
             0.6666666666666666,
             "#ed7953"
            ],
            [
             0.7777777777777778,
             "#fb9f3a"
            ],
            [
             0.8888888888888888,
             "#fdca26"
            ],
            [
             1,
             "#f0f921"
            ]
           ]
          },
          "colorway": [
           "#636efa",
           "#EF553B",
           "#00cc96",
           "#ab63fa",
           "#FFA15A",
           "#19d3f3",
           "#FF6692",
           "#B6E880",
           "#FF97FF",
           "#FECB52"
          ],
          "font": {
           "color": "#2a3f5f"
          },
          "geo": {
           "bgcolor": "white",
           "lakecolor": "white",
           "landcolor": "#E5ECF6",
           "showlakes": true,
           "showland": true,
           "subunitcolor": "white"
          },
          "hoverlabel": {
           "align": "left"
          },
          "hovermode": "closest",
          "mapbox": {
           "style": "light"
          },
          "paper_bgcolor": "white",
          "plot_bgcolor": "#E5ECF6",
          "polar": {
           "angularaxis": {
            "gridcolor": "white",
            "linecolor": "white",
            "ticks": ""
           },
           "bgcolor": "#E5ECF6",
           "radialaxis": {
            "gridcolor": "white",
            "linecolor": "white",
            "ticks": ""
           }
          },
          "scene": {
           "xaxis": {
            "backgroundcolor": "#E5ECF6",
            "gridcolor": "white",
            "gridwidth": 2,
            "linecolor": "white",
            "showbackground": true,
            "ticks": "",
            "zerolinecolor": "white"
           },
           "yaxis": {
            "backgroundcolor": "#E5ECF6",
            "gridcolor": "white",
            "gridwidth": 2,
            "linecolor": "white",
            "showbackground": true,
            "ticks": "",
            "zerolinecolor": "white"
           },
           "zaxis": {
            "backgroundcolor": "#E5ECF6",
            "gridcolor": "white",
            "gridwidth": 2,
            "linecolor": "white",
            "showbackground": true,
            "ticks": "",
            "zerolinecolor": "white"
           }
          },
          "shapedefaults": {
           "line": {
            "color": "#2a3f5f"
           }
          },
          "ternary": {
           "aaxis": {
            "gridcolor": "white",
            "linecolor": "white",
            "ticks": ""
           },
           "baxis": {
            "gridcolor": "white",
            "linecolor": "white",
            "ticks": ""
           },
           "bgcolor": "#E5ECF6",
           "caxis": {
            "gridcolor": "white",
            "linecolor": "white",
            "ticks": ""
           }
          },
          "title": {
           "x": 0.05
          },
          "xaxis": {
           "automargin": true,
           "gridcolor": "white",
           "linecolor": "white",
           "ticks": "",
           "title": {
            "standoff": 15
           },
           "zerolinecolor": "white",
           "zerolinewidth": 2
          },
          "yaxis": {
           "automargin": true,
           "gridcolor": "white",
           "linecolor": "white",
           "ticks": "",
           "title": {
            "standoff": 15
           },
           "zerolinecolor": "white",
           "zerolinewidth": 2
          }
         }
        },
        "title": {
         "text": "3-Body Problem"
        }
       }
      }
     },
     "metadata": {},
     "output_type": "display_data"
    },
    {
     "data": {
      "application/vnd.plotly.v1+json": {
       "config": {
        "plotlyServerURL": "https://plot.ly"
       },
       "data": [
        {
         "marker": {
          "color": "blue",
          "size": 10
         },
         "mode": "markers",
         "type": "scatter3d",
         "x": {
          "bdata": "BjlH1V8g3z9xZt+Jy4XIP+jQiO8DMNA/",
          "dtype": "f8"
         },
         "y": {
          "bdata": "mqMkjdZt4z9ohMp+puHQPyS4C+TiTPA/",
          "dtype": "f8"
         },
         "z": {
          "bdata": "oMQGx6jV1j+ZuWPyHD7EP/7cogNIFvA/",
          "dtype": "f8"
         }
        }
       ],
       "layout": {
        "scene": {
         "aspectmode": "cube",
         "xaxis": {
          "title": {
           "text": "X"
          }
         },
         "yaxis": {
          "title": {
           "text": "Y"
          }
         },
         "zaxis": {
          "title": {
           "text": "Z"
          }
         }
        },
        "template": {
         "data": {
          "bar": [
           {
            "error_x": {
             "color": "#2a3f5f"
            },
            "error_y": {
             "color": "#2a3f5f"
            },
            "marker": {
             "line": {
              "color": "#E5ECF6",
              "width": 0.5
             },
             "pattern": {
              "fillmode": "overlay",
              "size": 10,
              "solidity": 0.2
             }
            },
            "type": "bar"
           }
          ],
          "barpolar": [
           {
            "marker": {
             "line": {
              "color": "#E5ECF6",
              "width": 0.5
             },
             "pattern": {
              "fillmode": "overlay",
              "size": 10,
              "solidity": 0.2
             }
            },
            "type": "barpolar"
           }
          ],
          "carpet": [
           {
            "aaxis": {
             "endlinecolor": "#2a3f5f",
             "gridcolor": "white",
             "linecolor": "white",
             "minorgridcolor": "white",
             "startlinecolor": "#2a3f5f"
            },
            "baxis": {
             "endlinecolor": "#2a3f5f",
             "gridcolor": "white",
             "linecolor": "white",
             "minorgridcolor": "white",
             "startlinecolor": "#2a3f5f"
            },
            "type": "carpet"
           }
          ],
          "choropleth": [
           {
            "colorbar": {
             "outlinewidth": 0,
             "ticks": ""
            },
            "type": "choropleth"
           }
          ],
          "contour": [
           {
            "colorbar": {
             "outlinewidth": 0,
             "ticks": ""
            },
            "colorscale": [
             [
              0,
              "#0d0887"
             ],
             [
              0.1111111111111111,
              "#46039f"
             ],
             [
              0.2222222222222222,
              "#7201a8"
             ],
             [
              0.3333333333333333,
              "#9c179e"
             ],
             [
              0.4444444444444444,
              "#bd3786"
             ],
             [
              0.5555555555555556,
              "#d8576b"
             ],
             [
              0.6666666666666666,
              "#ed7953"
             ],
             [
              0.7777777777777778,
              "#fb9f3a"
             ],
             [
              0.8888888888888888,
              "#fdca26"
             ],
             [
              1,
              "#f0f921"
             ]
            ],
            "type": "contour"
           }
          ],
          "contourcarpet": [
           {
            "colorbar": {
             "outlinewidth": 0,
             "ticks": ""
            },
            "type": "contourcarpet"
           }
          ],
          "heatmap": [
           {
            "colorbar": {
             "outlinewidth": 0,
             "ticks": ""
            },
            "colorscale": [
             [
              0,
              "#0d0887"
             ],
             [
              0.1111111111111111,
              "#46039f"
             ],
             [
              0.2222222222222222,
              "#7201a8"
             ],
             [
              0.3333333333333333,
              "#9c179e"
             ],
             [
              0.4444444444444444,
              "#bd3786"
             ],
             [
              0.5555555555555556,
              "#d8576b"
             ],
             [
              0.6666666666666666,
              "#ed7953"
             ],
             [
              0.7777777777777778,
              "#fb9f3a"
             ],
             [
              0.8888888888888888,
              "#fdca26"
             ],
             [
              1,
              "#f0f921"
             ]
            ],
            "type": "heatmap"
           }
          ],
          "histogram": [
           {
            "marker": {
             "pattern": {
              "fillmode": "overlay",
              "size": 10,
              "solidity": 0.2
             }
            },
            "type": "histogram"
           }
          ],
          "histogram2d": [
           {
            "colorbar": {
             "outlinewidth": 0,
             "ticks": ""
            },
            "colorscale": [
             [
              0,
              "#0d0887"
             ],
             [
              0.1111111111111111,
              "#46039f"
             ],
             [
              0.2222222222222222,
              "#7201a8"
             ],
             [
              0.3333333333333333,
              "#9c179e"
             ],
             [
              0.4444444444444444,
              "#bd3786"
             ],
             [
              0.5555555555555556,
              "#d8576b"
             ],
             [
              0.6666666666666666,
              "#ed7953"
             ],
             [
              0.7777777777777778,
              "#fb9f3a"
             ],
             [
              0.8888888888888888,
              "#fdca26"
             ],
             [
              1,
              "#f0f921"
             ]
            ],
            "type": "histogram2d"
           }
          ],
          "histogram2dcontour": [
           {
            "colorbar": {
             "outlinewidth": 0,
             "ticks": ""
            },
            "colorscale": [
             [
              0,
              "#0d0887"
             ],
             [
              0.1111111111111111,
              "#46039f"
             ],
             [
              0.2222222222222222,
              "#7201a8"
             ],
             [
              0.3333333333333333,
              "#9c179e"
             ],
             [
              0.4444444444444444,
              "#bd3786"
             ],
             [
              0.5555555555555556,
              "#d8576b"
             ],
             [
              0.6666666666666666,
              "#ed7953"
             ],
             [
              0.7777777777777778,
              "#fb9f3a"
             ],
             [
              0.8888888888888888,
              "#fdca26"
             ],
             [
              1,
              "#f0f921"
             ]
            ],
            "type": "histogram2dcontour"
           }
          ],
          "mesh3d": [
           {
            "colorbar": {
             "outlinewidth": 0,
             "ticks": ""
            },
            "type": "mesh3d"
           }
          ],
          "parcoords": [
           {
            "line": {
             "colorbar": {
              "outlinewidth": 0,
              "ticks": ""
             }
            },
            "type": "parcoords"
           }
          ],
          "pie": [
           {
            "automargin": true,
            "type": "pie"
           }
          ],
          "scatter": [
           {
            "fillpattern": {
             "fillmode": "overlay",
             "size": 10,
             "solidity": 0.2
            },
            "type": "scatter"
           }
          ],
          "scatter3d": [
           {
            "line": {
             "colorbar": {
              "outlinewidth": 0,
              "ticks": ""
             }
            },
            "marker": {
             "colorbar": {
              "outlinewidth": 0,
              "ticks": ""
             }
            },
            "type": "scatter3d"
           }
          ],
          "scattercarpet": [
           {
            "marker": {
             "colorbar": {
              "outlinewidth": 0,
              "ticks": ""
             }
            },
            "type": "scattercarpet"
           }
          ],
          "scattergeo": [
           {
            "marker": {
             "colorbar": {
              "outlinewidth": 0,
              "ticks": ""
             }
            },
            "type": "scattergeo"
           }
          ],
          "scattergl": [
           {
            "marker": {
             "colorbar": {
              "outlinewidth": 0,
              "ticks": ""
             }
            },
            "type": "scattergl"
           }
          ],
          "scattermap": [
           {
            "marker": {
             "colorbar": {
              "outlinewidth": 0,
              "ticks": ""
             }
            },
            "type": "scattermap"
           }
          ],
          "scattermapbox": [
           {
            "marker": {
             "colorbar": {
              "outlinewidth": 0,
              "ticks": ""
             }
            },
            "type": "scattermapbox"
           }
          ],
          "scatterpolar": [
           {
            "marker": {
             "colorbar": {
              "outlinewidth": 0,
              "ticks": ""
             }
            },
            "type": "scatterpolar"
           }
          ],
          "scatterpolargl": [
           {
            "marker": {
             "colorbar": {
              "outlinewidth": 0,
              "ticks": ""
             }
            },
            "type": "scatterpolargl"
           }
          ],
          "scatterternary": [
           {
            "marker": {
             "colorbar": {
              "outlinewidth": 0,
              "ticks": ""
             }
            },
            "type": "scatterternary"
           }
          ],
          "surface": [
           {
            "colorbar": {
             "outlinewidth": 0,
             "ticks": ""
            },
            "colorscale": [
             [
              0,
              "#0d0887"
             ],
             [
              0.1111111111111111,
              "#46039f"
             ],
             [
              0.2222222222222222,
              "#7201a8"
             ],
             [
              0.3333333333333333,
              "#9c179e"
             ],
             [
              0.4444444444444444,
              "#bd3786"
             ],
             [
              0.5555555555555556,
              "#d8576b"
             ],
             [
              0.6666666666666666,
              "#ed7953"
             ],
             [
              0.7777777777777778,
              "#fb9f3a"
             ],
             [
              0.8888888888888888,
              "#fdca26"
             ],
             [
              1,
              "#f0f921"
             ]
            ],
            "type": "surface"
           }
          ],
          "table": [
           {
            "cells": {
             "fill": {
              "color": "#EBF0F8"
             },
             "line": {
              "color": "white"
             }
            },
            "header": {
             "fill": {
              "color": "#C8D4E3"
             },
             "line": {
              "color": "white"
             }
            },
            "type": "table"
           }
          ]
         },
         "layout": {
          "annotationdefaults": {
           "arrowcolor": "#2a3f5f",
           "arrowhead": 0,
           "arrowwidth": 1
          },
          "autotypenumbers": "strict",
          "coloraxis": {
           "colorbar": {
            "outlinewidth": 0,
            "ticks": ""
           }
          },
          "colorscale": {
           "diverging": [
            [
             0,
             "#8e0152"
            ],
            [
             0.1,
             "#c51b7d"
            ],
            [
             0.2,
             "#de77ae"
            ],
            [
             0.3,
             "#f1b6da"
            ],
            [
             0.4,
             "#fde0ef"
            ],
            [
             0.5,
             "#f7f7f7"
            ],
            [
             0.6,
             "#e6f5d0"
            ],
            [
             0.7,
             "#b8e186"
            ],
            [
             0.8,
             "#7fbc41"
            ],
            [
             0.9,
             "#4d9221"
            ],
            [
             1,
             "#276419"
            ]
           ],
           "sequential": [
            [
             0,
             "#0d0887"
            ],
            [
             0.1111111111111111,
             "#46039f"
            ],
            [
             0.2222222222222222,
             "#7201a8"
            ],
            [
             0.3333333333333333,
             "#9c179e"
            ],
            [
             0.4444444444444444,
             "#bd3786"
            ],
            [
             0.5555555555555556,
             "#d8576b"
            ],
            [
             0.6666666666666666,
             "#ed7953"
            ],
            [
             0.7777777777777778,
             "#fb9f3a"
            ],
            [
             0.8888888888888888,
             "#fdca26"
            ],
            [
             1,
             "#f0f921"
            ]
           ],
           "sequentialminus": [
            [
             0,
             "#0d0887"
            ],
            [
             0.1111111111111111,
             "#46039f"
            ],
            [
             0.2222222222222222,
             "#7201a8"
            ],
            [
             0.3333333333333333,
             "#9c179e"
            ],
            [
             0.4444444444444444,
             "#bd3786"
            ],
            [
             0.5555555555555556,
             "#d8576b"
            ],
            [
             0.6666666666666666,
             "#ed7953"
            ],
            [
             0.7777777777777778,
             "#fb9f3a"
            ],
            [
             0.8888888888888888,
             "#fdca26"
            ],
            [
             1,
             "#f0f921"
            ]
           ]
          },
          "colorway": [
           "#636efa",
           "#EF553B",
           "#00cc96",
           "#ab63fa",
           "#FFA15A",
           "#19d3f3",
           "#FF6692",
           "#B6E880",
           "#FF97FF",
           "#FECB52"
          ],
          "font": {
           "color": "#2a3f5f"
          },
          "geo": {
           "bgcolor": "white",
           "lakecolor": "white",
           "landcolor": "#E5ECF6",
           "showlakes": true,
           "showland": true,
           "subunitcolor": "white"
          },
          "hoverlabel": {
           "align": "left"
          },
          "hovermode": "closest",
          "mapbox": {
           "style": "light"
          },
          "paper_bgcolor": "white",
          "plot_bgcolor": "#E5ECF6",
          "polar": {
           "angularaxis": {
            "gridcolor": "white",
            "linecolor": "white",
            "ticks": ""
           },
           "bgcolor": "#E5ECF6",
           "radialaxis": {
            "gridcolor": "white",
            "linecolor": "white",
            "ticks": ""
           }
          },
          "scene": {
           "xaxis": {
            "backgroundcolor": "#E5ECF6",
            "gridcolor": "white",
            "gridwidth": 2,
            "linecolor": "white",
            "showbackground": true,
            "ticks": "",
            "zerolinecolor": "white"
           },
           "yaxis": {
            "backgroundcolor": "#E5ECF6",
            "gridcolor": "white",
            "gridwidth": 2,
            "linecolor": "white",
            "showbackground": true,
            "ticks": "",
            "zerolinecolor": "white"
           },
           "zaxis": {
            "backgroundcolor": "#E5ECF6",
            "gridcolor": "white",
            "gridwidth": 2,
            "linecolor": "white",
            "showbackground": true,
            "ticks": "",
            "zerolinecolor": "white"
           }
          },
          "shapedefaults": {
           "line": {
            "color": "#2a3f5f"
           }
          },
          "ternary": {
           "aaxis": {
            "gridcolor": "white",
            "linecolor": "white",
            "ticks": ""
           },
           "baxis": {
            "gridcolor": "white",
            "linecolor": "white",
            "ticks": ""
           },
           "bgcolor": "#E5ECF6",
           "caxis": {
            "gridcolor": "white",
            "linecolor": "white",
            "ticks": ""
           }
          },
          "title": {
           "x": 0.05
          },
          "xaxis": {
           "automargin": true,
           "gridcolor": "white",
           "linecolor": "white",
           "ticks": "",
           "title": {
            "standoff": 15
           },
           "zerolinecolor": "white",
           "zerolinewidth": 2
          },
          "yaxis": {
           "automargin": true,
           "gridcolor": "white",
           "linecolor": "white",
           "ticks": "",
           "title": {
            "standoff": 15
           },
           "zerolinecolor": "white",
           "zerolinewidth": 2
          }
         }
        },
        "title": {
         "text": "3-Body Problem"
        }
       }
      }
     },
     "metadata": {},
     "output_type": "display_data"
    },
    {
     "data": {
      "application/vnd.plotly.v1+json": {
       "config": {
        "plotlyServerURL": "https://plot.ly"
       },
       "data": [
        {
         "marker": {
          "color": "blue",
          "size": 10
         },
         "mode": "markers",
         "type": "scatter3d",
         "x": {
          "bdata": "ts/WHWPD4j+fGVYrTKnSP08371VqltY/",
          "dtype": "f8"
         },
         "y": {
          "bdata": "ztZXwAmh5j/P6jDlDEjXP75RpX185vE/",
          "dtype": "f8"
         },
         "z": {
          "bdata": "ByttLQ883T8zQ5jfdIXQP5d2PJ3hr/E/",
          "dtype": "f8"
         }
        }
       ],
       "layout": {
        "scene": {
         "aspectmode": "cube",
         "xaxis": {
          "title": {
           "text": "X"
          }
         },
         "yaxis": {
          "title": {
           "text": "Y"
          }
         },
         "zaxis": {
          "title": {
           "text": "Z"
          }
         }
        },
        "template": {
         "data": {
          "bar": [
           {
            "error_x": {
             "color": "#2a3f5f"
            },
            "error_y": {
             "color": "#2a3f5f"
            },
            "marker": {
             "line": {
              "color": "#E5ECF6",
              "width": 0.5
             },
             "pattern": {
              "fillmode": "overlay",
              "size": 10,
              "solidity": 0.2
             }
            },
            "type": "bar"
           }
          ],
          "barpolar": [
           {
            "marker": {
             "line": {
              "color": "#E5ECF6",
              "width": 0.5
             },
             "pattern": {
              "fillmode": "overlay",
              "size": 10,
              "solidity": 0.2
             }
            },
            "type": "barpolar"
           }
          ],
          "carpet": [
           {
            "aaxis": {
             "endlinecolor": "#2a3f5f",
             "gridcolor": "white",
             "linecolor": "white",
             "minorgridcolor": "white",
             "startlinecolor": "#2a3f5f"
            },
            "baxis": {
             "endlinecolor": "#2a3f5f",
             "gridcolor": "white",
             "linecolor": "white",
             "minorgridcolor": "white",
             "startlinecolor": "#2a3f5f"
            },
            "type": "carpet"
           }
          ],
          "choropleth": [
           {
            "colorbar": {
             "outlinewidth": 0,
             "ticks": ""
            },
            "type": "choropleth"
           }
          ],
          "contour": [
           {
            "colorbar": {
             "outlinewidth": 0,
             "ticks": ""
            },
            "colorscale": [
             [
              0,
              "#0d0887"
             ],
             [
              0.1111111111111111,
              "#46039f"
             ],
             [
              0.2222222222222222,
              "#7201a8"
             ],
             [
              0.3333333333333333,
              "#9c179e"
             ],
             [
              0.4444444444444444,
              "#bd3786"
             ],
             [
              0.5555555555555556,
              "#d8576b"
             ],
             [
              0.6666666666666666,
              "#ed7953"
             ],
             [
              0.7777777777777778,
              "#fb9f3a"
             ],
             [
              0.8888888888888888,
              "#fdca26"
             ],
             [
              1,
              "#f0f921"
             ]
            ],
            "type": "contour"
           }
          ],
          "contourcarpet": [
           {
            "colorbar": {
             "outlinewidth": 0,
             "ticks": ""
            },
            "type": "contourcarpet"
           }
          ],
          "heatmap": [
           {
            "colorbar": {
             "outlinewidth": 0,
             "ticks": ""
            },
            "colorscale": [
             [
              0,
              "#0d0887"
             ],
             [
              0.1111111111111111,
              "#46039f"
             ],
             [
              0.2222222222222222,
              "#7201a8"
             ],
             [
              0.3333333333333333,
              "#9c179e"
             ],
             [
              0.4444444444444444,
              "#bd3786"
             ],
             [
              0.5555555555555556,
              "#d8576b"
             ],
             [
              0.6666666666666666,
              "#ed7953"
             ],
             [
              0.7777777777777778,
              "#fb9f3a"
             ],
             [
              0.8888888888888888,
              "#fdca26"
             ],
             [
              1,
              "#f0f921"
             ]
            ],
            "type": "heatmap"
           }
          ],
          "histogram": [
           {
            "marker": {
             "pattern": {
              "fillmode": "overlay",
              "size": 10,
              "solidity": 0.2
             }
            },
            "type": "histogram"
           }
          ],
          "histogram2d": [
           {
            "colorbar": {
             "outlinewidth": 0,
             "ticks": ""
            },
            "colorscale": [
             [
              0,
              "#0d0887"
             ],
             [
              0.1111111111111111,
              "#46039f"
             ],
             [
              0.2222222222222222,
              "#7201a8"
             ],
             [
              0.3333333333333333,
              "#9c179e"
             ],
             [
              0.4444444444444444,
              "#bd3786"
             ],
             [
              0.5555555555555556,
              "#d8576b"
             ],
             [
              0.6666666666666666,
              "#ed7953"
             ],
             [
              0.7777777777777778,
              "#fb9f3a"
             ],
             [
              0.8888888888888888,
              "#fdca26"
             ],
             [
              1,
              "#f0f921"
             ]
            ],
            "type": "histogram2d"
           }
          ],
          "histogram2dcontour": [
           {
            "colorbar": {
             "outlinewidth": 0,
             "ticks": ""
            },
            "colorscale": [
             [
              0,
              "#0d0887"
             ],
             [
              0.1111111111111111,
              "#46039f"
             ],
             [
              0.2222222222222222,
              "#7201a8"
             ],
             [
              0.3333333333333333,
              "#9c179e"
             ],
             [
              0.4444444444444444,
              "#bd3786"
             ],
             [
              0.5555555555555556,
              "#d8576b"
             ],
             [
              0.6666666666666666,
              "#ed7953"
             ],
             [
              0.7777777777777778,
              "#fb9f3a"
             ],
             [
              0.8888888888888888,
              "#fdca26"
             ],
             [
              1,
              "#f0f921"
             ]
            ],
            "type": "histogram2dcontour"
           }
          ],
          "mesh3d": [
           {
            "colorbar": {
             "outlinewidth": 0,
             "ticks": ""
            },
            "type": "mesh3d"
           }
          ],
          "parcoords": [
           {
            "line": {
             "colorbar": {
              "outlinewidth": 0,
              "ticks": ""
             }
            },
            "type": "parcoords"
           }
          ],
          "pie": [
           {
            "automargin": true,
            "type": "pie"
           }
          ],
          "scatter": [
           {
            "fillpattern": {
             "fillmode": "overlay",
             "size": 10,
             "solidity": 0.2
            },
            "type": "scatter"
           }
          ],
          "scatter3d": [
           {
            "line": {
             "colorbar": {
              "outlinewidth": 0,
              "ticks": ""
             }
            },
            "marker": {
             "colorbar": {
              "outlinewidth": 0,
              "ticks": ""
             }
            },
            "type": "scatter3d"
           }
          ],
          "scattercarpet": [
           {
            "marker": {
             "colorbar": {
              "outlinewidth": 0,
              "ticks": ""
             }
            },
            "type": "scattercarpet"
           }
          ],
          "scattergeo": [
           {
            "marker": {
             "colorbar": {
              "outlinewidth": 0,
              "ticks": ""
             }
            },
            "type": "scattergeo"
           }
          ],
          "scattergl": [
           {
            "marker": {
             "colorbar": {
              "outlinewidth": 0,
              "ticks": ""
             }
            },
            "type": "scattergl"
           }
          ],
          "scattermap": [
           {
            "marker": {
             "colorbar": {
              "outlinewidth": 0,
              "ticks": ""
             }
            },
            "type": "scattermap"
           }
          ],
          "scattermapbox": [
           {
            "marker": {
             "colorbar": {
              "outlinewidth": 0,
              "ticks": ""
             }
            },
            "type": "scattermapbox"
           }
          ],
          "scatterpolar": [
           {
            "marker": {
             "colorbar": {
              "outlinewidth": 0,
              "ticks": ""
             }
            },
            "type": "scatterpolar"
           }
          ],
          "scatterpolargl": [
           {
            "marker": {
             "colorbar": {
              "outlinewidth": 0,
              "ticks": ""
             }
            },
            "type": "scatterpolargl"
           }
          ],
          "scatterternary": [
           {
            "marker": {
             "colorbar": {
              "outlinewidth": 0,
              "ticks": ""
             }
            },
            "type": "scatterternary"
           }
          ],
          "surface": [
           {
            "colorbar": {
             "outlinewidth": 0,
             "ticks": ""
            },
            "colorscale": [
             [
              0,
              "#0d0887"
             ],
             [
              0.1111111111111111,
              "#46039f"
             ],
             [
              0.2222222222222222,
              "#7201a8"
             ],
             [
              0.3333333333333333,
              "#9c179e"
             ],
             [
              0.4444444444444444,
              "#bd3786"
             ],
             [
              0.5555555555555556,
              "#d8576b"
             ],
             [
              0.6666666666666666,
              "#ed7953"
             ],
             [
              0.7777777777777778,
              "#fb9f3a"
             ],
             [
              0.8888888888888888,
              "#fdca26"
             ],
             [
              1,
              "#f0f921"
             ]
            ],
            "type": "surface"
           }
          ],
          "table": [
           {
            "cells": {
             "fill": {
              "color": "#EBF0F8"
             },
             "line": {
              "color": "white"
             }
            },
            "header": {
             "fill": {
              "color": "#C8D4E3"
             },
             "line": {
              "color": "white"
             }
            },
            "type": "table"
           }
          ]
         },
         "layout": {
          "annotationdefaults": {
           "arrowcolor": "#2a3f5f",
           "arrowhead": 0,
           "arrowwidth": 1
          },
          "autotypenumbers": "strict",
          "coloraxis": {
           "colorbar": {
            "outlinewidth": 0,
            "ticks": ""
           }
          },
          "colorscale": {
           "diverging": [
            [
             0,
             "#8e0152"
            ],
            [
             0.1,
             "#c51b7d"
            ],
            [
             0.2,
             "#de77ae"
            ],
            [
             0.3,
             "#f1b6da"
            ],
            [
             0.4,
             "#fde0ef"
            ],
            [
             0.5,
             "#f7f7f7"
            ],
            [
             0.6,
             "#e6f5d0"
            ],
            [
             0.7,
             "#b8e186"
            ],
            [
             0.8,
             "#7fbc41"
            ],
            [
             0.9,
             "#4d9221"
            ],
            [
             1,
             "#276419"
            ]
           ],
           "sequential": [
            [
             0,
             "#0d0887"
            ],
            [
             0.1111111111111111,
             "#46039f"
            ],
            [
             0.2222222222222222,
             "#7201a8"
            ],
            [
             0.3333333333333333,
             "#9c179e"
            ],
            [
             0.4444444444444444,
             "#bd3786"
            ],
            [
             0.5555555555555556,
             "#d8576b"
            ],
            [
             0.6666666666666666,
             "#ed7953"
            ],
            [
             0.7777777777777778,
             "#fb9f3a"
            ],
            [
             0.8888888888888888,
             "#fdca26"
            ],
            [
             1,
             "#f0f921"
            ]
           ],
           "sequentialminus": [
            [
             0,
             "#0d0887"
            ],
            [
             0.1111111111111111,
             "#46039f"
            ],
            [
             0.2222222222222222,
             "#7201a8"
            ],
            [
             0.3333333333333333,
             "#9c179e"
            ],
            [
             0.4444444444444444,
             "#bd3786"
            ],
            [
             0.5555555555555556,
             "#d8576b"
            ],
            [
             0.6666666666666666,
             "#ed7953"
            ],
            [
             0.7777777777777778,
             "#fb9f3a"
            ],
            [
             0.8888888888888888,
             "#fdca26"
            ],
            [
             1,
             "#f0f921"
            ]
           ]
          },
          "colorway": [
           "#636efa",
           "#EF553B",
           "#00cc96",
           "#ab63fa",
           "#FFA15A",
           "#19d3f3",
           "#FF6692",
           "#B6E880",
           "#FF97FF",
           "#FECB52"
          ],
          "font": {
           "color": "#2a3f5f"
          },
          "geo": {
           "bgcolor": "white",
           "lakecolor": "white",
           "landcolor": "#E5ECF6",
           "showlakes": true,
           "showland": true,
           "subunitcolor": "white"
          },
          "hoverlabel": {
           "align": "left"
          },
          "hovermode": "closest",
          "mapbox": {
           "style": "light"
          },
          "paper_bgcolor": "white",
          "plot_bgcolor": "#E5ECF6",
          "polar": {
           "angularaxis": {
            "gridcolor": "white",
            "linecolor": "white",
            "ticks": ""
           },
           "bgcolor": "#E5ECF6",
           "radialaxis": {
            "gridcolor": "white",
            "linecolor": "white",
            "ticks": ""
           }
          },
          "scene": {
           "xaxis": {
            "backgroundcolor": "#E5ECF6",
            "gridcolor": "white",
            "gridwidth": 2,
            "linecolor": "white",
            "showbackground": true,
            "ticks": "",
            "zerolinecolor": "white"
           },
           "yaxis": {
            "backgroundcolor": "#E5ECF6",
            "gridcolor": "white",
            "gridwidth": 2,
            "linecolor": "white",
            "showbackground": true,
            "ticks": "",
            "zerolinecolor": "white"
           },
           "zaxis": {
            "backgroundcolor": "#E5ECF6",
            "gridcolor": "white",
            "gridwidth": 2,
            "linecolor": "white",
            "showbackground": true,
            "ticks": "",
            "zerolinecolor": "white"
           }
          },
          "shapedefaults": {
           "line": {
            "color": "#2a3f5f"
           }
          },
          "ternary": {
           "aaxis": {
            "gridcolor": "white",
            "linecolor": "white",
            "ticks": ""
           },
           "baxis": {
            "gridcolor": "white",
            "linecolor": "white",
            "ticks": ""
           },
           "bgcolor": "#E5ECF6",
           "caxis": {
            "gridcolor": "white",
            "linecolor": "white",
            "ticks": ""
           }
          },
          "title": {
           "x": 0.05
          },
          "xaxis": {
           "automargin": true,
           "gridcolor": "white",
           "linecolor": "white",
           "ticks": "",
           "title": {
            "standoff": 15
           },
           "zerolinecolor": "white",
           "zerolinewidth": 2
          },
          "yaxis": {
           "automargin": true,
           "gridcolor": "white",
           "linecolor": "white",
           "ticks": "",
           "title": {
            "standoff": 15
           },
           "zerolinecolor": "white",
           "zerolinewidth": 2
          }
         }
        },
        "title": {
         "text": "3-Body Problem"
        }
       }
      }
     },
     "metadata": {},
     "output_type": "display_data"
    },
    {
     "data": {
      "application/vnd.plotly.v1+json": {
       "config": {
        "plotlyServerURL": "https://plot.ly"
       },
       "data": [
        {
         "marker": {
          "color": "blue",
          "size": 10
         },
         "mode": "markers",
         "type": "scatter3d",
         "x": {
          "bdata": "6gIKUZb25T8GgLyRsg/ZP7adVbzQ/Nw/",
          "dtype": "f8"
         },
         "y": {
          "bdata": "AQqL8zzU6T82UZdLc67dP1jrPhcWgPM/",
          "dtype": "f8"
         },
         "z": {
          "bdata": "t8jpyTrR4T+aqf5F2+vWPzEQ1jZ7SfM/",
          "dtype": "f8"
         }
        }
       ],
       "layout": {
        "scene": {
         "aspectmode": "cube",
         "xaxis": {
          "title": {
           "text": "X"
          }
         },
         "yaxis": {
          "title": {
           "text": "Y"
          }
         },
         "zaxis": {
          "title": {
           "text": "Z"
          }
         }
        },
        "template": {
         "data": {
          "bar": [
           {
            "error_x": {
             "color": "#2a3f5f"
            },
            "error_y": {
             "color": "#2a3f5f"
            },
            "marker": {
             "line": {
              "color": "#E5ECF6",
              "width": 0.5
             },
             "pattern": {
              "fillmode": "overlay",
              "size": 10,
              "solidity": 0.2
             }
            },
            "type": "bar"
           }
          ],
          "barpolar": [
           {
            "marker": {
             "line": {
              "color": "#E5ECF6",
              "width": 0.5
             },
             "pattern": {
              "fillmode": "overlay",
              "size": 10,
              "solidity": 0.2
             }
            },
            "type": "barpolar"
           }
          ],
          "carpet": [
           {
            "aaxis": {
             "endlinecolor": "#2a3f5f",
             "gridcolor": "white",
             "linecolor": "white",
             "minorgridcolor": "white",
             "startlinecolor": "#2a3f5f"
            },
            "baxis": {
             "endlinecolor": "#2a3f5f",
             "gridcolor": "white",
             "linecolor": "white",
             "minorgridcolor": "white",
             "startlinecolor": "#2a3f5f"
            },
            "type": "carpet"
           }
          ],
          "choropleth": [
           {
            "colorbar": {
             "outlinewidth": 0,
             "ticks": ""
            },
            "type": "choropleth"
           }
          ],
          "contour": [
           {
            "colorbar": {
             "outlinewidth": 0,
             "ticks": ""
            },
            "colorscale": [
             [
              0,
              "#0d0887"
             ],
             [
              0.1111111111111111,
              "#46039f"
             ],
             [
              0.2222222222222222,
              "#7201a8"
             ],
             [
              0.3333333333333333,
              "#9c179e"
             ],
             [
              0.4444444444444444,
              "#bd3786"
             ],
             [
              0.5555555555555556,
              "#d8576b"
             ],
             [
              0.6666666666666666,
              "#ed7953"
             ],
             [
              0.7777777777777778,
              "#fb9f3a"
             ],
             [
              0.8888888888888888,
              "#fdca26"
             ],
             [
              1,
              "#f0f921"
             ]
            ],
            "type": "contour"
           }
          ],
          "contourcarpet": [
           {
            "colorbar": {
             "outlinewidth": 0,
             "ticks": ""
            },
            "type": "contourcarpet"
           }
          ],
          "heatmap": [
           {
            "colorbar": {
             "outlinewidth": 0,
             "ticks": ""
            },
            "colorscale": [
             [
              0,
              "#0d0887"
             ],
             [
              0.1111111111111111,
              "#46039f"
             ],
             [
              0.2222222222222222,
              "#7201a8"
             ],
             [
              0.3333333333333333,
              "#9c179e"
             ],
             [
              0.4444444444444444,
              "#bd3786"
             ],
             [
              0.5555555555555556,
              "#d8576b"
             ],
             [
              0.6666666666666666,
              "#ed7953"
             ],
             [
              0.7777777777777778,
              "#fb9f3a"
             ],
             [
              0.8888888888888888,
              "#fdca26"
             ],
             [
              1,
              "#f0f921"
             ]
            ],
            "type": "heatmap"
           }
          ],
          "histogram": [
           {
            "marker": {
             "pattern": {
              "fillmode": "overlay",
              "size": 10,
              "solidity": 0.2
             }
            },
            "type": "histogram"
           }
          ],
          "histogram2d": [
           {
            "colorbar": {
             "outlinewidth": 0,
             "ticks": ""
            },
            "colorscale": [
             [
              0,
              "#0d0887"
             ],
             [
              0.1111111111111111,
              "#46039f"
             ],
             [
              0.2222222222222222,
              "#7201a8"
             ],
             [
              0.3333333333333333,
              "#9c179e"
             ],
             [
              0.4444444444444444,
              "#bd3786"
             ],
             [
              0.5555555555555556,
              "#d8576b"
             ],
             [
              0.6666666666666666,
              "#ed7953"
             ],
             [
              0.7777777777777778,
              "#fb9f3a"
             ],
             [
              0.8888888888888888,
              "#fdca26"
             ],
             [
              1,
              "#f0f921"
             ]
            ],
            "type": "histogram2d"
           }
          ],
          "histogram2dcontour": [
           {
            "colorbar": {
             "outlinewidth": 0,
             "ticks": ""
            },
            "colorscale": [
             [
              0,
              "#0d0887"
             ],
             [
              0.1111111111111111,
              "#46039f"
             ],
             [
              0.2222222222222222,
              "#7201a8"
             ],
             [
              0.3333333333333333,
              "#9c179e"
             ],
             [
              0.4444444444444444,
              "#bd3786"
             ],
             [
              0.5555555555555556,
              "#d8576b"
             ],
             [
              0.6666666666666666,
              "#ed7953"
             ],
             [
              0.7777777777777778,
              "#fb9f3a"
             ],
             [
              0.8888888888888888,
              "#fdca26"
             ],
             [
              1,
              "#f0f921"
             ]
            ],
            "type": "histogram2dcontour"
           }
          ],
          "mesh3d": [
           {
            "colorbar": {
             "outlinewidth": 0,
             "ticks": ""
            },
            "type": "mesh3d"
           }
          ],
          "parcoords": [
           {
            "line": {
             "colorbar": {
              "outlinewidth": 0,
              "ticks": ""
             }
            },
            "type": "parcoords"
           }
          ],
          "pie": [
           {
            "automargin": true,
            "type": "pie"
           }
          ],
          "scatter": [
           {
            "fillpattern": {
             "fillmode": "overlay",
             "size": 10,
             "solidity": 0.2
            },
            "type": "scatter"
           }
          ],
          "scatter3d": [
           {
            "line": {
             "colorbar": {
              "outlinewidth": 0,
              "ticks": ""
             }
            },
            "marker": {
             "colorbar": {
              "outlinewidth": 0,
              "ticks": ""
             }
            },
            "type": "scatter3d"
           }
          ],
          "scattercarpet": [
           {
            "marker": {
             "colorbar": {
              "outlinewidth": 0,
              "ticks": ""
             }
            },
            "type": "scattercarpet"
           }
          ],
          "scattergeo": [
           {
            "marker": {
             "colorbar": {
              "outlinewidth": 0,
              "ticks": ""
             }
            },
            "type": "scattergeo"
           }
          ],
          "scattergl": [
           {
            "marker": {
             "colorbar": {
              "outlinewidth": 0,
              "ticks": ""
             }
            },
            "type": "scattergl"
           }
          ],
          "scattermap": [
           {
            "marker": {
             "colorbar": {
              "outlinewidth": 0,
              "ticks": ""
             }
            },
            "type": "scattermap"
           }
          ],
          "scattermapbox": [
           {
            "marker": {
             "colorbar": {
              "outlinewidth": 0,
              "ticks": ""
             }
            },
            "type": "scattermapbox"
           }
          ],
          "scatterpolar": [
           {
            "marker": {
             "colorbar": {
              "outlinewidth": 0,
              "ticks": ""
             }
            },
            "type": "scatterpolar"
           }
          ],
          "scatterpolargl": [
           {
            "marker": {
             "colorbar": {
              "outlinewidth": 0,
              "ticks": ""
             }
            },
            "type": "scatterpolargl"
           }
          ],
          "scatterternary": [
           {
            "marker": {
             "colorbar": {
              "outlinewidth": 0,
              "ticks": ""
             }
            },
            "type": "scatterternary"
           }
          ],
          "surface": [
           {
            "colorbar": {
             "outlinewidth": 0,
             "ticks": ""
            },
            "colorscale": [
             [
              0,
              "#0d0887"
             ],
             [
              0.1111111111111111,
              "#46039f"
             ],
             [
              0.2222222222222222,
              "#7201a8"
             ],
             [
              0.3333333333333333,
              "#9c179e"
             ],
             [
              0.4444444444444444,
              "#bd3786"
             ],
             [
              0.5555555555555556,
              "#d8576b"
             ],
             [
              0.6666666666666666,
              "#ed7953"
             ],
             [
              0.7777777777777778,
              "#fb9f3a"
             ],
             [
              0.8888888888888888,
              "#fdca26"
             ],
             [
              1,
              "#f0f921"
             ]
            ],
            "type": "surface"
           }
          ],
          "table": [
           {
            "cells": {
             "fill": {
              "color": "#EBF0F8"
             },
             "line": {
              "color": "white"
             }
            },
            "header": {
             "fill": {
              "color": "#C8D4E3"
             },
             "line": {
              "color": "white"
             }
            },
            "type": "table"
           }
          ]
         },
         "layout": {
          "annotationdefaults": {
           "arrowcolor": "#2a3f5f",
           "arrowhead": 0,
           "arrowwidth": 1
          },
          "autotypenumbers": "strict",
          "coloraxis": {
           "colorbar": {
            "outlinewidth": 0,
            "ticks": ""
           }
          },
          "colorscale": {
           "diverging": [
            [
             0,
             "#8e0152"
            ],
            [
             0.1,
             "#c51b7d"
            ],
            [
             0.2,
             "#de77ae"
            ],
            [
             0.3,
             "#f1b6da"
            ],
            [
             0.4,
             "#fde0ef"
            ],
            [
             0.5,
             "#f7f7f7"
            ],
            [
             0.6,
             "#e6f5d0"
            ],
            [
             0.7,
             "#b8e186"
            ],
            [
             0.8,
             "#7fbc41"
            ],
            [
             0.9,
             "#4d9221"
            ],
            [
             1,
             "#276419"
            ]
           ],
           "sequential": [
            [
             0,
             "#0d0887"
            ],
            [
             0.1111111111111111,
             "#46039f"
            ],
            [
             0.2222222222222222,
             "#7201a8"
            ],
            [
             0.3333333333333333,
             "#9c179e"
            ],
            [
             0.4444444444444444,
             "#bd3786"
            ],
            [
             0.5555555555555556,
             "#d8576b"
            ],
            [
             0.6666666666666666,
             "#ed7953"
            ],
            [
             0.7777777777777778,
             "#fb9f3a"
            ],
            [
             0.8888888888888888,
             "#fdca26"
            ],
            [
             1,
             "#f0f921"
            ]
           ],
           "sequentialminus": [
            [
             0,
             "#0d0887"
            ],
            [
             0.1111111111111111,
             "#46039f"
            ],
            [
             0.2222222222222222,
             "#7201a8"
            ],
            [
             0.3333333333333333,
             "#9c179e"
            ],
            [
             0.4444444444444444,
             "#bd3786"
            ],
            [
             0.5555555555555556,
             "#d8576b"
            ],
            [
             0.6666666666666666,
             "#ed7953"
            ],
            [
             0.7777777777777778,
             "#fb9f3a"
            ],
            [
             0.8888888888888888,
             "#fdca26"
            ],
            [
             1,
             "#f0f921"
            ]
           ]
          },
          "colorway": [
           "#636efa",
           "#EF553B",
           "#00cc96",
           "#ab63fa",
           "#FFA15A",
           "#19d3f3",
           "#FF6692",
           "#B6E880",
           "#FF97FF",
           "#FECB52"
          ],
          "font": {
           "color": "#2a3f5f"
          },
          "geo": {
           "bgcolor": "white",
           "lakecolor": "white",
           "landcolor": "#E5ECF6",
           "showlakes": true,
           "showland": true,
           "subunitcolor": "white"
          },
          "hoverlabel": {
           "align": "left"
          },
          "hovermode": "closest",
          "mapbox": {
           "style": "light"
          },
          "paper_bgcolor": "white",
          "plot_bgcolor": "#E5ECF6",
          "polar": {
           "angularaxis": {
            "gridcolor": "white",
            "linecolor": "white",
            "ticks": ""
           },
           "bgcolor": "#E5ECF6",
           "radialaxis": {
            "gridcolor": "white",
            "linecolor": "white",
            "ticks": ""
           }
          },
          "scene": {
           "xaxis": {
            "backgroundcolor": "#E5ECF6",
            "gridcolor": "white",
            "gridwidth": 2,
            "linecolor": "white",
            "showbackground": true,
            "ticks": "",
            "zerolinecolor": "white"
           },
           "yaxis": {
            "backgroundcolor": "#E5ECF6",
            "gridcolor": "white",
            "gridwidth": 2,
            "linecolor": "white",
            "showbackground": true,
            "ticks": "",
            "zerolinecolor": "white"
           },
           "zaxis": {
            "backgroundcolor": "#E5ECF6",
            "gridcolor": "white",
            "gridwidth": 2,
            "linecolor": "white",
            "showbackground": true,
            "ticks": "",
            "zerolinecolor": "white"
           }
          },
          "shapedefaults": {
           "line": {
            "color": "#2a3f5f"
           }
          },
          "ternary": {
           "aaxis": {
            "gridcolor": "white",
            "linecolor": "white",
            "ticks": ""
           },
           "baxis": {
            "gridcolor": "white",
            "linecolor": "white",
            "ticks": ""
           },
           "bgcolor": "#E5ECF6",
           "caxis": {
            "gridcolor": "white",
            "linecolor": "white",
            "ticks": ""
           }
          },
          "title": {
           "x": 0.05
          },
          "xaxis": {
           "automargin": true,
           "gridcolor": "white",
           "linecolor": "white",
           "ticks": "",
           "title": {
            "standoff": 15
           },
           "zerolinecolor": "white",
           "zerolinewidth": 2
          },
          "yaxis": {
           "automargin": true,
           "gridcolor": "white",
           "linecolor": "white",
           "ticks": "",
           "title": {
            "standoff": 15
           },
           "zerolinecolor": "white",
           "zerolinewidth": 2
          }
         }
        },
        "title": {
         "text": "3-Body Problem"
        }
       }
      }
     },
     "metadata": {},
     "output_type": "display_data"
    },
    {
     "data": {
      "application/vnd.plotly.v1+json": {
       "config": {
        "plotlyServerURL": "https://plot.ly"
       },
       "data": [
        {
         "marker": {
          "color": "blue",
          "size": 10
         },
         "mode": "markers",
         "type": "scatter3d",
         "x": {
          "bdata": "HTY9hMkp6T9s5iL4GHbfPw4CXpGbseE/",
          "dtype": "f8"
         },
         "y": {
          "bdata": "ND2+JnAH7T/O2/7YbAriP/GE2LCvGfU/",
          "dtype": "f8"
         },
         "z": {
          "bdata": "6vsc/W0E5T8AEGWsQVLdP8qpb9AU4/Q/",
          "dtype": "f8"
         }
        }
       ],
       "layout": {
        "scene": {
         "aspectmode": "cube",
         "xaxis": {
          "title": {
           "text": "X"
          }
         },
         "yaxis": {
          "title": {
           "text": "Y"
          }
         },
         "zaxis": {
          "title": {
           "text": "Z"
          }
         }
        },
        "template": {
         "data": {
          "bar": [
           {
            "error_x": {
             "color": "#2a3f5f"
            },
            "error_y": {
             "color": "#2a3f5f"
            },
            "marker": {
             "line": {
              "color": "#E5ECF6",
              "width": 0.5
             },
             "pattern": {
              "fillmode": "overlay",
              "size": 10,
              "solidity": 0.2
             }
            },
            "type": "bar"
           }
          ],
          "barpolar": [
           {
            "marker": {
             "line": {
              "color": "#E5ECF6",
              "width": 0.5
             },
             "pattern": {
              "fillmode": "overlay",
              "size": 10,
              "solidity": 0.2
             }
            },
            "type": "barpolar"
           }
          ],
          "carpet": [
           {
            "aaxis": {
             "endlinecolor": "#2a3f5f",
             "gridcolor": "white",
             "linecolor": "white",
             "minorgridcolor": "white",
             "startlinecolor": "#2a3f5f"
            },
            "baxis": {
             "endlinecolor": "#2a3f5f",
             "gridcolor": "white",
             "linecolor": "white",
             "minorgridcolor": "white",
             "startlinecolor": "#2a3f5f"
            },
            "type": "carpet"
           }
          ],
          "choropleth": [
           {
            "colorbar": {
             "outlinewidth": 0,
             "ticks": ""
            },
            "type": "choropleth"
           }
          ],
          "contour": [
           {
            "colorbar": {
             "outlinewidth": 0,
             "ticks": ""
            },
            "colorscale": [
             [
              0,
              "#0d0887"
             ],
             [
              0.1111111111111111,
              "#46039f"
             ],
             [
              0.2222222222222222,
              "#7201a8"
             ],
             [
              0.3333333333333333,
              "#9c179e"
             ],
             [
              0.4444444444444444,
              "#bd3786"
             ],
             [
              0.5555555555555556,
              "#d8576b"
             ],
             [
              0.6666666666666666,
              "#ed7953"
             ],
             [
              0.7777777777777778,
              "#fb9f3a"
             ],
             [
              0.8888888888888888,
              "#fdca26"
             ],
             [
              1,
              "#f0f921"
             ]
            ],
            "type": "contour"
           }
          ],
          "contourcarpet": [
           {
            "colorbar": {
             "outlinewidth": 0,
             "ticks": ""
            },
            "type": "contourcarpet"
           }
          ],
          "heatmap": [
           {
            "colorbar": {
             "outlinewidth": 0,
             "ticks": ""
            },
            "colorscale": [
             [
              0,
              "#0d0887"
             ],
             [
              0.1111111111111111,
              "#46039f"
             ],
             [
              0.2222222222222222,
              "#7201a8"
             ],
             [
              0.3333333333333333,
              "#9c179e"
             ],
             [
              0.4444444444444444,
              "#bd3786"
             ],
             [
              0.5555555555555556,
              "#d8576b"
             ],
             [
              0.6666666666666666,
              "#ed7953"
             ],
             [
              0.7777777777777778,
              "#fb9f3a"
             ],
             [
              0.8888888888888888,
              "#fdca26"
             ],
             [
              1,
              "#f0f921"
             ]
            ],
            "type": "heatmap"
           }
          ],
          "histogram": [
           {
            "marker": {
             "pattern": {
              "fillmode": "overlay",
              "size": 10,
              "solidity": 0.2
             }
            },
            "type": "histogram"
           }
          ],
          "histogram2d": [
           {
            "colorbar": {
             "outlinewidth": 0,
             "ticks": ""
            },
            "colorscale": [
             [
              0,
              "#0d0887"
             ],
             [
              0.1111111111111111,
              "#46039f"
             ],
             [
              0.2222222222222222,
              "#7201a8"
             ],
             [
              0.3333333333333333,
              "#9c179e"
             ],
             [
              0.4444444444444444,
              "#bd3786"
             ],
             [
              0.5555555555555556,
              "#d8576b"
             ],
             [
              0.6666666666666666,
              "#ed7953"
             ],
             [
              0.7777777777777778,
              "#fb9f3a"
             ],
             [
              0.8888888888888888,
              "#fdca26"
             ],
             [
              1,
              "#f0f921"
             ]
            ],
            "type": "histogram2d"
           }
          ],
          "histogram2dcontour": [
           {
            "colorbar": {
             "outlinewidth": 0,
             "ticks": ""
            },
            "colorscale": [
             [
              0,
              "#0d0887"
             ],
             [
              0.1111111111111111,
              "#46039f"
             ],
             [
              0.2222222222222222,
              "#7201a8"
             ],
             [
              0.3333333333333333,
              "#9c179e"
             ],
             [
              0.4444444444444444,
              "#bd3786"
             ],
             [
              0.5555555555555556,
              "#d8576b"
             ],
             [
              0.6666666666666666,
              "#ed7953"
             ],
             [
              0.7777777777777778,
              "#fb9f3a"
             ],
             [
              0.8888888888888888,
              "#fdca26"
             ],
             [
              1,
              "#f0f921"
             ]
            ],
            "type": "histogram2dcontour"
           }
          ],
          "mesh3d": [
           {
            "colorbar": {
             "outlinewidth": 0,
             "ticks": ""
            },
            "type": "mesh3d"
           }
          ],
          "parcoords": [
           {
            "line": {
             "colorbar": {
              "outlinewidth": 0,
              "ticks": ""
             }
            },
            "type": "parcoords"
           }
          ],
          "pie": [
           {
            "automargin": true,
            "type": "pie"
           }
          ],
          "scatter": [
           {
            "fillpattern": {
             "fillmode": "overlay",
             "size": 10,
             "solidity": 0.2
            },
            "type": "scatter"
           }
          ],
          "scatter3d": [
           {
            "line": {
             "colorbar": {
              "outlinewidth": 0,
              "ticks": ""
             }
            },
            "marker": {
             "colorbar": {
              "outlinewidth": 0,
              "ticks": ""
             }
            },
            "type": "scatter3d"
           }
          ],
          "scattercarpet": [
           {
            "marker": {
             "colorbar": {
              "outlinewidth": 0,
              "ticks": ""
             }
            },
            "type": "scattercarpet"
           }
          ],
          "scattergeo": [
           {
            "marker": {
             "colorbar": {
              "outlinewidth": 0,
              "ticks": ""
             }
            },
            "type": "scattergeo"
           }
          ],
          "scattergl": [
           {
            "marker": {
             "colorbar": {
              "outlinewidth": 0,
              "ticks": ""
             }
            },
            "type": "scattergl"
           }
          ],
          "scattermap": [
           {
            "marker": {
             "colorbar": {
              "outlinewidth": 0,
              "ticks": ""
             }
            },
            "type": "scattermap"
           }
          ],
          "scattermapbox": [
           {
            "marker": {
             "colorbar": {
              "outlinewidth": 0,
              "ticks": ""
             }
            },
            "type": "scattermapbox"
           }
          ],
          "scatterpolar": [
           {
            "marker": {
             "colorbar": {
              "outlinewidth": 0,
              "ticks": ""
             }
            },
            "type": "scatterpolar"
           }
          ],
          "scatterpolargl": [
           {
            "marker": {
             "colorbar": {
              "outlinewidth": 0,
              "ticks": ""
             }
            },
            "type": "scatterpolargl"
           }
          ],
          "scatterternary": [
           {
            "marker": {
             "colorbar": {
              "outlinewidth": 0,
              "ticks": ""
             }
            },
            "type": "scatterternary"
           }
          ],
          "surface": [
           {
            "colorbar": {
             "outlinewidth": 0,
             "ticks": ""
            },
            "colorscale": [
             [
              0,
              "#0d0887"
             ],
             [
              0.1111111111111111,
              "#46039f"
             ],
             [
              0.2222222222222222,
              "#7201a8"
             ],
             [
              0.3333333333333333,
              "#9c179e"
             ],
             [
              0.4444444444444444,
              "#bd3786"
             ],
             [
              0.5555555555555556,
              "#d8576b"
             ],
             [
              0.6666666666666666,
              "#ed7953"
             ],
             [
              0.7777777777777778,
              "#fb9f3a"
             ],
             [
              0.8888888888888888,
              "#fdca26"
             ],
             [
              1,
              "#f0f921"
             ]
            ],
            "type": "surface"
           }
          ],
          "table": [
           {
            "cells": {
             "fill": {
              "color": "#EBF0F8"
             },
             "line": {
              "color": "white"
             }
            },
            "header": {
             "fill": {
              "color": "#C8D4E3"
             },
             "line": {
              "color": "white"
             }
            },
            "type": "table"
           }
          ]
         },
         "layout": {
          "annotationdefaults": {
           "arrowcolor": "#2a3f5f",
           "arrowhead": 0,
           "arrowwidth": 1
          },
          "autotypenumbers": "strict",
          "coloraxis": {
           "colorbar": {
            "outlinewidth": 0,
            "ticks": ""
           }
          },
          "colorscale": {
           "diverging": [
            [
             0,
             "#8e0152"
            ],
            [
             0.1,
             "#c51b7d"
            ],
            [
             0.2,
             "#de77ae"
            ],
            [
             0.3,
             "#f1b6da"
            ],
            [
             0.4,
             "#fde0ef"
            ],
            [
             0.5,
             "#f7f7f7"
            ],
            [
             0.6,
             "#e6f5d0"
            ],
            [
             0.7,
             "#b8e186"
            ],
            [
             0.8,
             "#7fbc41"
            ],
            [
             0.9,
             "#4d9221"
            ],
            [
             1,
             "#276419"
            ]
           ],
           "sequential": [
            [
             0,
             "#0d0887"
            ],
            [
             0.1111111111111111,
             "#46039f"
            ],
            [
             0.2222222222222222,
             "#7201a8"
            ],
            [
             0.3333333333333333,
             "#9c179e"
            ],
            [
             0.4444444444444444,
             "#bd3786"
            ],
            [
             0.5555555555555556,
             "#d8576b"
            ],
            [
             0.6666666666666666,
             "#ed7953"
            ],
            [
             0.7777777777777778,
             "#fb9f3a"
            ],
            [
             0.8888888888888888,
             "#fdca26"
            ],
            [
             1,
             "#f0f921"
            ]
           ],
           "sequentialminus": [
            [
             0,
             "#0d0887"
            ],
            [
             0.1111111111111111,
             "#46039f"
            ],
            [
             0.2222222222222222,
             "#7201a8"
            ],
            [
             0.3333333333333333,
             "#9c179e"
            ],
            [
             0.4444444444444444,
             "#bd3786"
            ],
            [
             0.5555555555555556,
             "#d8576b"
            ],
            [
             0.6666666666666666,
             "#ed7953"
            ],
            [
             0.7777777777777778,
             "#fb9f3a"
            ],
            [
             0.8888888888888888,
             "#fdca26"
            ],
            [
             1,
             "#f0f921"
            ]
           ]
          },
          "colorway": [
           "#636efa",
           "#EF553B",
           "#00cc96",
           "#ab63fa",
           "#FFA15A",
           "#19d3f3",
           "#FF6692",
           "#B6E880",
           "#FF97FF",
           "#FECB52"
          ],
          "font": {
           "color": "#2a3f5f"
          },
          "geo": {
           "bgcolor": "white",
           "lakecolor": "white",
           "landcolor": "#E5ECF6",
           "showlakes": true,
           "showland": true,
           "subunitcolor": "white"
          },
          "hoverlabel": {
           "align": "left"
          },
          "hovermode": "closest",
          "mapbox": {
           "style": "light"
          },
          "paper_bgcolor": "white",
          "plot_bgcolor": "#E5ECF6",
          "polar": {
           "angularaxis": {
            "gridcolor": "white",
            "linecolor": "white",
            "ticks": ""
           },
           "bgcolor": "#E5ECF6",
           "radialaxis": {
            "gridcolor": "white",
            "linecolor": "white",
            "ticks": ""
           }
          },
          "scene": {
           "xaxis": {
            "backgroundcolor": "#E5ECF6",
            "gridcolor": "white",
            "gridwidth": 2,
            "linecolor": "white",
            "showbackground": true,
            "ticks": "",
            "zerolinecolor": "white"
           },
           "yaxis": {
            "backgroundcolor": "#E5ECF6",
            "gridcolor": "white",
            "gridwidth": 2,
            "linecolor": "white",
            "showbackground": true,
            "ticks": "",
            "zerolinecolor": "white"
           },
           "zaxis": {
            "backgroundcolor": "#E5ECF6",
            "gridcolor": "white",
            "gridwidth": 2,
            "linecolor": "white",
            "showbackground": true,
            "ticks": "",
            "zerolinecolor": "white"
           }
          },
          "shapedefaults": {
           "line": {
            "color": "#2a3f5f"
           }
          },
          "ternary": {
           "aaxis": {
            "gridcolor": "white",
            "linecolor": "white",
            "ticks": ""
           },
           "baxis": {
            "gridcolor": "white",
            "linecolor": "white",
            "ticks": ""
           },
           "bgcolor": "#E5ECF6",
           "caxis": {
            "gridcolor": "white",
            "linecolor": "white",
            "ticks": ""
           }
          },
          "title": {
           "x": 0.05
          },
          "xaxis": {
           "automargin": true,
           "gridcolor": "white",
           "linecolor": "white",
           "ticks": "",
           "title": {
            "standoff": 15
           },
           "zerolinecolor": "white",
           "zerolinewidth": 2
          },
          "yaxis": {
           "automargin": true,
           "gridcolor": "white",
           "linecolor": "white",
           "ticks": "",
           "title": {
            "standoff": 15
           },
           "zerolinecolor": "white",
           "zerolinewidth": 2
          }
         }
        },
        "title": {
         "text": "3-Body Problem"
        }
       }
      }
     },
     "metadata": {},
     "output_type": "display_data"
    },
    {
     "data": {
      "application/vnd.plotly.v1+json": {
       "config": {
        "plotlyServerURL": "https://plot.ly"
       },
       "data": [
        {
         "marker": {
          "color": "blue",
          "size": 10
         },
         "mode": "markers",
         "type": "scatter3d",
         "x": {
          "bdata": "UGlwt/xc7D9ppkSvP+7iP0E1kcTO5OQ/",
          "dtype": "f8"
         },
         "y": {
          "bdata": "NLj4rFEd8D8BDzIMoD3lP4oeckpJs/Y/",
          "dtype": "f8"
         },
         "z": {
          "bdata": "HS9QMKE36D8zu2UJVNzhP2RDCWqufPY/",
          "dtype": "f8"
         }
        }
       ],
       "layout": {
        "scene": {
         "aspectmode": "cube",
         "xaxis": {
          "title": {
           "text": "X"
          }
         },
         "yaxis": {
          "title": {
           "text": "Y"
          }
         },
         "zaxis": {
          "title": {
           "text": "Z"
          }
         }
        },
        "template": {
         "data": {
          "bar": [
           {
            "error_x": {
             "color": "#2a3f5f"
            },
            "error_y": {
             "color": "#2a3f5f"
            },
            "marker": {
             "line": {
              "color": "#E5ECF6",
              "width": 0.5
             },
             "pattern": {
              "fillmode": "overlay",
              "size": 10,
              "solidity": 0.2
             }
            },
            "type": "bar"
           }
          ],
          "barpolar": [
           {
            "marker": {
             "line": {
              "color": "#E5ECF6",
              "width": 0.5
             },
             "pattern": {
              "fillmode": "overlay",
              "size": 10,
              "solidity": 0.2
             }
            },
            "type": "barpolar"
           }
          ],
          "carpet": [
           {
            "aaxis": {
             "endlinecolor": "#2a3f5f",
             "gridcolor": "white",
             "linecolor": "white",
             "minorgridcolor": "white",
             "startlinecolor": "#2a3f5f"
            },
            "baxis": {
             "endlinecolor": "#2a3f5f",
             "gridcolor": "white",
             "linecolor": "white",
             "minorgridcolor": "white",
             "startlinecolor": "#2a3f5f"
            },
            "type": "carpet"
           }
          ],
          "choropleth": [
           {
            "colorbar": {
             "outlinewidth": 0,
             "ticks": ""
            },
            "type": "choropleth"
           }
          ],
          "contour": [
           {
            "colorbar": {
             "outlinewidth": 0,
             "ticks": ""
            },
            "colorscale": [
             [
              0,
              "#0d0887"
             ],
             [
              0.1111111111111111,
              "#46039f"
             ],
             [
              0.2222222222222222,
              "#7201a8"
             ],
             [
              0.3333333333333333,
              "#9c179e"
             ],
             [
              0.4444444444444444,
              "#bd3786"
             ],
             [
              0.5555555555555556,
              "#d8576b"
             ],
             [
              0.6666666666666666,
              "#ed7953"
             ],
             [
              0.7777777777777778,
              "#fb9f3a"
             ],
             [
              0.8888888888888888,
              "#fdca26"
             ],
             [
              1,
              "#f0f921"
             ]
            ],
            "type": "contour"
           }
          ],
          "contourcarpet": [
           {
            "colorbar": {
             "outlinewidth": 0,
             "ticks": ""
            },
            "type": "contourcarpet"
           }
          ],
          "heatmap": [
           {
            "colorbar": {
             "outlinewidth": 0,
             "ticks": ""
            },
            "colorscale": [
             [
              0,
              "#0d0887"
             ],
             [
              0.1111111111111111,
              "#46039f"
             ],
             [
              0.2222222222222222,
              "#7201a8"
             ],
             [
              0.3333333333333333,
              "#9c179e"
             ],
             [
              0.4444444444444444,
              "#bd3786"
             ],
             [
              0.5555555555555556,
              "#d8576b"
             ],
             [
              0.6666666666666666,
              "#ed7953"
             ],
             [
              0.7777777777777778,
              "#fb9f3a"
             ],
             [
              0.8888888888888888,
              "#fdca26"
             ],
             [
              1,
              "#f0f921"
             ]
            ],
            "type": "heatmap"
           }
          ],
          "histogram": [
           {
            "marker": {
             "pattern": {
              "fillmode": "overlay",
              "size": 10,
              "solidity": 0.2
             }
            },
            "type": "histogram"
           }
          ],
          "histogram2d": [
           {
            "colorbar": {
             "outlinewidth": 0,
             "ticks": ""
            },
            "colorscale": [
             [
              0,
              "#0d0887"
             ],
             [
              0.1111111111111111,
              "#46039f"
             ],
             [
              0.2222222222222222,
              "#7201a8"
             ],
             [
              0.3333333333333333,
              "#9c179e"
             ],
             [
              0.4444444444444444,
              "#bd3786"
             ],
             [
              0.5555555555555556,
              "#d8576b"
             ],
             [
              0.6666666666666666,
              "#ed7953"
             ],
             [
              0.7777777777777778,
              "#fb9f3a"
             ],
             [
              0.8888888888888888,
              "#fdca26"
             ],
             [
              1,
              "#f0f921"
             ]
            ],
            "type": "histogram2d"
           }
          ],
          "histogram2dcontour": [
           {
            "colorbar": {
             "outlinewidth": 0,
             "ticks": ""
            },
            "colorscale": [
             [
              0,
              "#0d0887"
             ],
             [
              0.1111111111111111,
              "#46039f"
             ],
             [
              0.2222222222222222,
              "#7201a8"
             ],
             [
              0.3333333333333333,
              "#9c179e"
             ],
             [
              0.4444444444444444,
              "#bd3786"
             ],
             [
              0.5555555555555556,
              "#d8576b"
             ],
             [
              0.6666666666666666,
              "#ed7953"
             ],
             [
              0.7777777777777778,
              "#fb9f3a"
             ],
             [
              0.8888888888888888,
              "#fdca26"
             ],
             [
              1,
              "#f0f921"
             ]
            ],
            "type": "histogram2dcontour"
           }
          ],
          "mesh3d": [
           {
            "colorbar": {
             "outlinewidth": 0,
             "ticks": ""
            },
            "type": "mesh3d"
           }
          ],
          "parcoords": [
           {
            "line": {
             "colorbar": {
              "outlinewidth": 0,
              "ticks": ""
             }
            },
            "type": "parcoords"
           }
          ],
          "pie": [
           {
            "automargin": true,
            "type": "pie"
           }
          ],
          "scatter": [
           {
            "fillpattern": {
             "fillmode": "overlay",
             "size": 10,
             "solidity": 0.2
            },
            "type": "scatter"
           }
          ],
          "scatter3d": [
           {
            "line": {
             "colorbar": {
              "outlinewidth": 0,
              "ticks": ""
             }
            },
            "marker": {
             "colorbar": {
              "outlinewidth": 0,
              "ticks": ""
             }
            },
            "type": "scatter3d"
           }
          ],
          "scattercarpet": [
           {
            "marker": {
             "colorbar": {
              "outlinewidth": 0,
              "ticks": ""
             }
            },
            "type": "scattercarpet"
           }
          ],
          "scattergeo": [
           {
            "marker": {
             "colorbar": {
              "outlinewidth": 0,
              "ticks": ""
             }
            },
            "type": "scattergeo"
           }
          ],
          "scattergl": [
           {
            "marker": {
             "colorbar": {
              "outlinewidth": 0,
              "ticks": ""
             }
            },
            "type": "scattergl"
           }
          ],
          "scattermap": [
           {
            "marker": {
             "colorbar": {
              "outlinewidth": 0,
              "ticks": ""
             }
            },
            "type": "scattermap"
           }
          ],
          "scattermapbox": [
           {
            "marker": {
             "colorbar": {
              "outlinewidth": 0,
              "ticks": ""
             }
            },
            "type": "scattermapbox"
           }
          ],
          "scatterpolar": [
           {
            "marker": {
             "colorbar": {
              "outlinewidth": 0,
              "ticks": ""
             }
            },
            "type": "scatterpolar"
           }
          ],
          "scatterpolargl": [
           {
            "marker": {
             "colorbar": {
              "outlinewidth": 0,
              "ticks": ""
             }
            },
            "type": "scatterpolargl"
           }
          ],
          "scatterternary": [
           {
            "marker": {
             "colorbar": {
              "outlinewidth": 0,
              "ticks": ""
             }
            },
            "type": "scatterternary"
           }
          ],
          "surface": [
           {
            "colorbar": {
             "outlinewidth": 0,
             "ticks": ""
            },
            "colorscale": [
             [
              0,
              "#0d0887"
             ],
             [
              0.1111111111111111,
              "#46039f"
             ],
             [
              0.2222222222222222,
              "#7201a8"
             ],
             [
              0.3333333333333333,
              "#9c179e"
             ],
             [
              0.4444444444444444,
              "#bd3786"
             ],
             [
              0.5555555555555556,
              "#d8576b"
             ],
             [
              0.6666666666666666,
              "#ed7953"
             ],
             [
              0.7777777777777778,
              "#fb9f3a"
             ],
             [
              0.8888888888888888,
              "#fdca26"
             ],
             [
              1,
              "#f0f921"
             ]
            ],
            "type": "surface"
           }
          ],
          "table": [
           {
            "cells": {
             "fill": {
              "color": "#EBF0F8"
             },
             "line": {
              "color": "white"
             }
            },
            "header": {
             "fill": {
              "color": "#C8D4E3"
             },
             "line": {
              "color": "white"
             }
            },
            "type": "table"
           }
          ]
         },
         "layout": {
          "annotationdefaults": {
           "arrowcolor": "#2a3f5f",
           "arrowhead": 0,
           "arrowwidth": 1
          },
          "autotypenumbers": "strict",
          "coloraxis": {
           "colorbar": {
            "outlinewidth": 0,
            "ticks": ""
           }
          },
          "colorscale": {
           "diverging": [
            [
             0,
             "#8e0152"
            ],
            [
             0.1,
             "#c51b7d"
            ],
            [
             0.2,
             "#de77ae"
            ],
            [
             0.3,
             "#f1b6da"
            ],
            [
             0.4,
             "#fde0ef"
            ],
            [
             0.5,
             "#f7f7f7"
            ],
            [
             0.6,
             "#e6f5d0"
            ],
            [
             0.7,
             "#b8e186"
            ],
            [
             0.8,
             "#7fbc41"
            ],
            [
             0.9,
             "#4d9221"
            ],
            [
             1,
             "#276419"
            ]
           ],
           "sequential": [
            [
             0,
             "#0d0887"
            ],
            [
             0.1111111111111111,
             "#46039f"
            ],
            [
             0.2222222222222222,
             "#7201a8"
            ],
            [
             0.3333333333333333,
             "#9c179e"
            ],
            [
             0.4444444444444444,
             "#bd3786"
            ],
            [
             0.5555555555555556,
             "#d8576b"
            ],
            [
             0.6666666666666666,
             "#ed7953"
            ],
            [
             0.7777777777777778,
             "#fb9f3a"
            ],
            [
             0.8888888888888888,
             "#fdca26"
            ],
            [
             1,
             "#f0f921"
            ]
           ],
           "sequentialminus": [
            [
             0,
             "#0d0887"
            ],
            [
             0.1111111111111111,
             "#46039f"
            ],
            [
             0.2222222222222222,
             "#7201a8"
            ],
            [
             0.3333333333333333,
             "#9c179e"
            ],
            [
             0.4444444444444444,
             "#bd3786"
            ],
            [
             0.5555555555555556,
             "#d8576b"
            ],
            [
             0.6666666666666666,
             "#ed7953"
            ],
            [
             0.7777777777777778,
             "#fb9f3a"
            ],
            [
             0.8888888888888888,
             "#fdca26"
            ],
            [
             1,
             "#f0f921"
            ]
           ]
          },
          "colorway": [
           "#636efa",
           "#EF553B",
           "#00cc96",
           "#ab63fa",
           "#FFA15A",
           "#19d3f3",
           "#FF6692",
           "#B6E880",
           "#FF97FF",
           "#FECB52"
          ],
          "font": {
           "color": "#2a3f5f"
          },
          "geo": {
           "bgcolor": "white",
           "lakecolor": "white",
           "landcolor": "#E5ECF6",
           "showlakes": true,
           "showland": true,
           "subunitcolor": "white"
          },
          "hoverlabel": {
           "align": "left"
          },
          "hovermode": "closest",
          "mapbox": {
           "style": "light"
          },
          "paper_bgcolor": "white",
          "plot_bgcolor": "#E5ECF6",
          "polar": {
           "angularaxis": {
            "gridcolor": "white",
            "linecolor": "white",
            "ticks": ""
           },
           "bgcolor": "#E5ECF6",
           "radialaxis": {
            "gridcolor": "white",
            "linecolor": "white",
            "ticks": ""
           }
          },
          "scene": {
           "xaxis": {
            "backgroundcolor": "#E5ECF6",
            "gridcolor": "white",
            "gridwidth": 2,
            "linecolor": "white",
            "showbackground": true,
            "ticks": "",
            "zerolinecolor": "white"
           },
           "yaxis": {
            "backgroundcolor": "#E5ECF6",
            "gridcolor": "white",
            "gridwidth": 2,
            "linecolor": "white",
            "showbackground": true,
            "ticks": "",
            "zerolinecolor": "white"
           },
           "zaxis": {
            "backgroundcolor": "#E5ECF6",
            "gridcolor": "white",
            "gridwidth": 2,
            "linecolor": "white",
            "showbackground": true,
            "ticks": "",
            "zerolinecolor": "white"
           }
          },
          "shapedefaults": {
           "line": {
            "color": "#2a3f5f"
           }
          },
          "ternary": {
           "aaxis": {
            "gridcolor": "white",
            "linecolor": "white",
            "ticks": ""
           },
           "baxis": {
            "gridcolor": "white",
            "linecolor": "white",
            "ticks": ""
           },
           "bgcolor": "#E5ECF6",
           "caxis": {
            "gridcolor": "white",
            "linecolor": "white",
            "ticks": ""
           }
          },
          "title": {
           "x": 0.05
          },
          "xaxis": {
           "automargin": true,
           "gridcolor": "white",
           "linecolor": "white",
           "ticks": "",
           "title": {
            "standoff": 15
           },
           "zerolinecolor": "white",
           "zerolinewidth": 2
          },
          "yaxis": {
           "automargin": true,
           "gridcolor": "white",
           "linecolor": "white",
           "ticks": "",
           "title": {
            "standoff": 15
           },
           "zerolinecolor": "white",
           "zerolinewidth": 2
          }
         }
        },
        "title": {
         "text": "3-Body Problem"
        }
       }
      }
     },
     "metadata": {},
     "output_type": "display_data"
    },
    {
     "data": {
      "application/vnd.plotly.v1+json": {
       "config": {
        "plotlyServerURL": "https://plot.ly"
       },
       "data": [
        {
         "marker": {
          "color": "blue",
          "size": 10
         },
         "mode": "markers",
         "type": "scatter3d",
         "x": {
          "bdata": "hJyj6i+Q7z+d2XficiHmP3VoxPcBGOg/",
          "dtype": "f8"
         },
         "y": {
          "bdata": "zlGSRuu28T81QmU/03DoPyS4C+TiTPg/",
          "dtype": "f8"
         },
         "z": {
          "bdata": "UWKDY9Rq6z9n7pg8hw/lP/7cogNIFvg/",
          "dtype": "f8"
         }
        }
       ],
       "layout": {
        "scene": {
         "aspectmode": "cube",
         "xaxis": {
          "title": {
           "text": "X"
          }
         },
         "yaxis": {
          "title": {
           "text": "Y"
          }
         },
         "zaxis": {
          "title": {
           "text": "Z"
          }
         }
        },
        "template": {
         "data": {
          "bar": [
           {
            "error_x": {
             "color": "#2a3f5f"
            },
            "error_y": {
             "color": "#2a3f5f"
            },
            "marker": {
             "line": {
              "color": "#E5ECF6",
              "width": 0.5
             },
             "pattern": {
              "fillmode": "overlay",
              "size": 10,
              "solidity": 0.2
             }
            },
            "type": "bar"
           }
          ],
          "barpolar": [
           {
            "marker": {
             "line": {
              "color": "#E5ECF6",
              "width": 0.5
             },
             "pattern": {
              "fillmode": "overlay",
              "size": 10,
              "solidity": 0.2
             }
            },
            "type": "barpolar"
           }
          ],
          "carpet": [
           {
            "aaxis": {
             "endlinecolor": "#2a3f5f",
             "gridcolor": "white",
             "linecolor": "white",
             "minorgridcolor": "white",
             "startlinecolor": "#2a3f5f"
            },
            "baxis": {
             "endlinecolor": "#2a3f5f",
             "gridcolor": "white",
             "linecolor": "white",
             "minorgridcolor": "white",
             "startlinecolor": "#2a3f5f"
            },
            "type": "carpet"
           }
          ],
          "choropleth": [
           {
            "colorbar": {
             "outlinewidth": 0,
             "ticks": ""
            },
            "type": "choropleth"
           }
          ],
          "contour": [
           {
            "colorbar": {
             "outlinewidth": 0,
             "ticks": ""
            },
            "colorscale": [
             [
              0,
              "#0d0887"
             ],
             [
              0.1111111111111111,
              "#46039f"
             ],
             [
              0.2222222222222222,
              "#7201a8"
             ],
             [
              0.3333333333333333,
              "#9c179e"
             ],
             [
              0.4444444444444444,
              "#bd3786"
             ],
             [
              0.5555555555555556,
              "#d8576b"
             ],
             [
              0.6666666666666666,
              "#ed7953"
             ],
             [
              0.7777777777777778,
              "#fb9f3a"
             ],
             [
              0.8888888888888888,
              "#fdca26"
             ],
             [
              1,
              "#f0f921"
             ]
            ],
            "type": "contour"
           }
          ],
          "contourcarpet": [
           {
            "colorbar": {
             "outlinewidth": 0,
             "ticks": ""
            },
            "type": "contourcarpet"
           }
          ],
          "heatmap": [
           {
            "colorbar": {
             "outlinewidth": 0,
             "ticks": ""
            },
            "colorscale": [
             [
              0,
              "#0d0887"
             ],
             [
              0.1111111111111111,
              "#46039f"
             ],
             [
              0.2222222222222222,
              "#7201a8"
             ],
             [
              0.3333333333333333,
              "#9c179e"
             ],
             [
              0.4444444444444444,
              "#bd3786"
             ],
             [
              0.5555555555555556,
              "#d8576b"
             ],
             [
              0.6666666666666666,
              "#ed7953"
             ],
             [
              0.7777777777777778,
              "#fb9f3a"
             ],
             [
              0.8888888888888888,
              "#fdca26"
             ],
             [
              1,
              "#f0f921"
             ]
            ],
            "type": "heatmap"
           }
          ],
          "histogram": [
           {
            "marker": {
             "pattern": {
              "fillmode": "overlay",
              "size": 10,
              "solidity": 0.2
             }
            },
            "type": "histogram"
           }
          ],
          "histogram2d": [
           {
            "colorbar": {
             "outlinewidth": 0,
             "ticks": ""
            },
            "colorscale": [
             [
              0,
              "#0d0887"
             ],
             [
              0.1111111111111111,
              "#46039f"
             ],
             [
              0.2222222222222222,
              "#7201a8"
             ],
             [
              0.3333333333333333,
              "#9c179e"
             ],
             [
              0.4444444444444444,
              "#bd3786"
             ],
             [
              0.5555555555555556,
              "#d8576b"
             ],
             [
              0.6666666666666666,
              "#ed7953"
             ],
             [
              0.7777777777777778,
              "#fb9f3a"
             ],
             [
              0.8888888888888888,
              "#fdca26"
             ],
             [
              1,
              "#f0f921"
             ]
            ],
            "type": "histogram2d"
           }
          ],
          "histogram2dcontour": [
           {
            "colorbar": {
             "outlinewidth": 0,
             "ticks": ""
            },
            "colorscale": [
             [
              0,
              "#0d0887"
             ],
             [
              0.1111111111111111,
              "#46039f"
             ],
             [
              0.2222222222222222,
              "#7201a8"
             ],
             [
              0.3333333333333333,
              "#9c179e"
             ],
             [
              0.4444444444444444,
              "#bd3786"
             ],
             [
              0.5555555555555556,
              "#d8576b"
             ],
             [
              0.6666666666666666,
              "#ed7953"
             ],
             [
              0.7777777777777778,
              "#fb9f3a"
             ],
             [
              0.8888888888888888,
              "#fdca26"
             ],
             [
              1,
              "#f0f921"
             ]
            ],
            "type": "histogram2dcontour"
           }
          ],
          "mesh3d": [
           {
            "colorbar": {
             "outlinewidth": 0,
             "ticks": ""
            },
            "type": "mesh3d"
           }
          ],
          "parcoords": [
           {
            "line": {
             "colorbar": {
              "outlinewidth": 0,
              "ticks": ""
             }
            },
            "type": "parcoords"
           }
          ],
          "pie": [
           {
            "automargin": true,
            "type": "pie"
           }
          ],
          "scatter": [
           {
            "fillpattern": {
             "fillmode": "overlay",
             "size": 10,
             "solidity": 0.2
            },
            "type": "scatter"
           }
          ],
          "scatter3d": [
           {
            "line": {
             "colorbar": {
              "outlinewidth": 0,
              "ticks": ""
             }
            },
            "marker": {
             "colorbar": {
              "outlinewidth": 0,
              "ticks": ""
             }
            },
            "type": "scatter3d"
           }
          ],
          "scattercarpet": [
           {
            "marker": {
             "colorbar": {
              "outlinewidth": 0,
              "ticks": ""
             }
            },
            "type": "scattercarpet"
           }
          ],
          "scattergeo": [
           {
            "marker": {
             "colorbar": {
              "outlinewidth": 0,
              "ticks": ""
             }
            },
            "type": "scattergeo"
           }
          ],
          "scattergl": [
           {
            "marker": {
             "colorbar": {
              "outlinewidth": 0,
              "ticks": ""
             }
            },
            "type": "scattergl"
           }
          ],
          "scattermap": [
           {
            "marker": {
             "colorbar": {
              "outlinewidth": 0,
              "ticks": ""
             }
            },
            "type": "scattermap"
           }
          ],
          "scattermapbox": [
           {
            "marker": {
             "colorbar": {
              "outlinewidth": 0,
              "ticks": ""
             }
            },
            "type": "scattermapbox"
           }
          ],
          "scatterpolar": [
           {
            "marker": {
             "colorbar": {
              "outlinewidth": 0,
              "ticks": ""
             }
            },
            "type": "scatterpolar"
           }
          ],
          "scatterpolargl": [
           {
            "marker": {
             "colorbar": {
              "outlinewidth": 0,
              "ticks": ""
             }
            },
            "type": "scatterpolargl"
           }
          ],
          "scatterternary": [
           {
            "marker": {
             "colorbar": {
              "outlinewidth": 0,
              "ticks": ""
             }
            },
            "type": "scatterternary"
           }
          ],
          "surface": [
           {
            "colorbar": {
             "outlinewidth": 0,
             "ticks": ""
            },
            "colorscale": [
             [
              0,
              "#0d0887"
             ],
             [
              0.1111111111111111,
              "#46039f"
             ],
             [
              0.2222222222222222,
              "#7201a8"
             ],
             [
              0.3333333333333333,
              "#9c179e"
             ],
             [
              0.4444444444444444,
              "#bd3786"
             ],
             [
              0.5555555555555556,
              "#d8576b"
             ],
             [
              0.6666666666666666,
              "#ed7953"
             ],
             [
              0.7777777777777778,
              "#fb9f3a"
             ],
             [
              0.8888888888888888,
              "#fdca26"
             ],
             [
              1,
              "#f0f921"
             ]
            ],
            "type": "surface"
           }
          ],
          "table": [
           {
            "cells": {
             "fill": {
              "color": "#EBF0F8"
             },
             "line": {
              "color": "white"
             }
            },
            "header": {
             "fill": {
              "color": "#C8D4E3"
             },
             "line": {
              "color": "white"
             }
            },
            "type": "table"
           }
          ]
         },
         "layout": {
          "annotationdefaults": {
           "arrowcolor": "#2a3f5f",
           "arrowhead": 0,
           "arrowwidth": 1
          },
          "autotypenumbers": "strict",
          "coloraxis": {
           "colorbar": {
            "outlinewidth": 0,
            "ticks": ""
           }
          },
          "colorscale": {
           "diverging": [
            [
             0,
             "#8e0152"
            ],
            [
             0.1,
             "#c51b7d"
            ],
            [
             0.2,
             "#de77ae"
            ],
            [
             0.3,
             "#f1b6da"
            ],
            [
             0.4,
             "#fde0ef"
            ],
            [
             0.5,
             "#f7f7f7"
            ],
            [
             0.6,
             "#e6f5d0"
            ],
            [
             0.7,
             "#b8e186"
            ],
            [
             0.8,
             "#7fbc41"
            ],
            [
             0.9,
             "#4d9221"
            ],
            [
             1,
             "#276419"
            ]
           ],
           "sequential": [
            [
             0,
             "#0d0887"
            ],
            [
             0.1111111111111111,
             "#46039f"
            ],
            [
             0.2222222222222222,
             "#7201a8"
            ],
            [
             0.3333333333333333,
             "#9c179e"
            ],
            [
             0.4444444444444444,
             "#bd3786"
            ],
            [
             0.5555555555555556,
             "#d8576b"
            ],
            [
             0.6666666666666666,
             "#ed7953"
            ],
            [
             0.7777777777777778,
             "#fb9f3a"
            ],
            [
             0.8888888888888888,
             "#fdca26"
            ],
            [
             1,
             "#f0f921"
            ]
           ],
           "sequentialminus": [
            [
             0,
             "#0d0887"
            ],
            [
             0.1111111111111111,
             "#46039f"
            ],
            [
             0.2222222222222222,
             "#7201a8"
            ],
            [
             0.3333333333333333,
             "#9c179e"
            ],
            [
             0.4444444444444444,
             "#bd3786"
            ],
            [
             0.5555555555555556,
             "#d8576b"
            ],
            [
             0.6666666666666666,
             "#ed7953"
            ],
            [
             0.7777777777777778,
             "#fb9f3a"
            ],
            [
             0.8888888888888888,
             "#fdca26"
            ],
            [
             1,
             "#f0f921"
            ]
           ]
          },
          "colorway": [
           "#636efa",
           "#EF553B",
           "#00cc96",
           "#ab63fa",
           "#FFA15A",
           "#19d3f3",
           "#FF6692",
           "#B6E880",
           "#FF97FF",
           "#FECB52"
          ],
          "font": {
           "color": "#2a3f5f"
          },
          "geo": {
           "bgcolor": "white",
           "lakecolor": "white",
           "landcolor": "#E5ECF6",
           "showlakes": true,
           "showland": true,
           "subunitcolor": "white"
          },
          "hoverlabel": {
           "align": "left"
          },
          "hovermode": "closest",
          "mapbox": {
           "style": "light"
          },
          "paper_bgcolor": "white",
          "plot_bgcolor": "#E5ECF6",
          "polar": {
           "angularaxis": {
            "gridcolor": "white",
            "linecolor": "white",
            "ticks": ""
           },
           "bgcolor": "#E5ECF6",
           "radialaxis": {
            "gridcolor": "white",
            "linecolor": "white",
            "ticks": ""
           }
          },
          "scene": {
           "xaxis": {
            "backgroundcolor": "#E5ECF6",
            "gridcolor": "white",
            "gridwidth": 2,
            "linecolor": "white",
            "showbackground": true,
            "ticks": "",
            "zerolinecolor": "white"
           },
           "yaxis": {
            "backgroundcolor": "#E5ECF6",
            "gridcolor": "white",
            "gridwidth": 2,
            "linecolor": "white",
            "showbackground": true,
            "ticks": "",
            "zerolinecolor": "white"
           },
           "zaxis": {
            "backgroundcolor": "#E5ECF6",
            "gridcolor": "white",
            "gridwidth": 2,
            "linecolor": "white",
            "showbackground": true,
            "ticks": "",
            "zerolinecolor": "white"
           }
          },
          "shapedefaults": {
           "line": {
            "color": "#2a3f5f"
           }
          },
          "ternary": {
           "aaxis": {
            "gridcolor": "white",
            "linecolor": "white",
            "ticks": ""
           },
           "baxis": {
            "gridcolor": "white",
            "linecolor": "white",
            "ticks": ""
           },
           "bgcolor": "#E5ECF6",
           "caxis": {
            "gridcolor": "white",
            "linecolor": "white",
            "ticks": ""
           }
          },
          "title": {
           "x": 0.05
          },
          "xaxis": {
           "automargin": true,
           "gridcolor": "white",
           "linecolor": "white",
           "ticks": "",
           "title": {
            "standoff": 15
           },
           "zerolinecolor": "white",
           "zerolinewidth": 2
          },
          "yaxis": {
           "automargin": true,
           "gridcolor": "white",
           "linecolor": "white",
           "ticks": "",
           "title": {
            "standoff": 15
           },
           "zerolinecolor": "white",
           "zerolinewidth": 2
          }
         }
        },
        "title": {
         "text": "3-Body Problem"
        }
       }
      }
     },
     "metadata": {},
     "output_type": "display_data"
    },
    {
     "data": {
      "application/vnd.plotly.v1+json": {
       "config": {
        "plotlyServerURL": "https://plot.ly"
       },
       "data": [
        {
         "marker": {
          "color": "blue",
          "size": 10
         },
         "mode": "markers",
         "type": "scatter3d",
         "x": {
          "bdata": "3GfrjrFh8T/QDKsVplTpP6ib9yo1S+s/",
          "dtype": "f8"
         },
         "y": {
          "bdata": "Z+sr4IRQ8z9odZhyBqTrP75RpX185vk/",
          "dtype": "f8"
         },
         "z": {
          "bdata": "hJW2lgee7j+aIcxvukLoP5h2PJ3hr/k/",
          "dtype": "f8"
         }
        }
       ],
       "layout": {
        "scene": {
         "aspectmode": "cube",
         "xaxis": {
          "title": {
           "text": "X"
          }
         },
         "yaxis": {
          "title": {
           "text": "Y"
          }
         },
         "zaxis": {
          "title": {
           "text": "Z"
          }
         }
        },
        "template": {
         "data": {
          "bar": [
           {
            "error_x": {
             "color": "#2a3f5f"
            },
            "error_y": {
             "color": "#2a3f5f"
            },
            "marker": {
             "line": {
              "color": "#E5ECF6",
              "width": 0.5
             },
             "pattern": {
              "fillmode": "overlay",
              "size": 10,
              "solidity": 0.2
             }
            },
            "type": "bar"
           }
          ],
          "barpolar": [
           {
            "marker": {
             "line": {
              "color": "#E5ECF6",
              "width": 0.5
             },
             "pattern": {
              "fillmode": "overlay",
              "size": 10,
              "solidity": 0.2
             }
            },
            "type": "barpolar"
           }
          ],
          "carpet": [
           {
            "aaxis": {
             "endlinecolor": "#2a3f5f",
             "gridcolor": "white",
             "linecolor": "white",
             "minorgridcolor": "white",
             "startlinecolor": "#2a3f5f"
            },
            "baxis": {
             "endlinecolor": "#2a3f5f",
             "gridcolor": "white",
             "linecolor": "white",
             "minorgridcolor": "white",
             "startlinecolor": "#2a3f5f"
            },
            "type": "carpet"
           }
          ],
          "choropleth": [
           {
            "colorbar": {
             "outlinewidth": 0,
             "ticks": ""
            },
            "type": "choropleth"
           }
          ],
          "contour": [
           {
            "colorbar": {
             "outlinewidth": 0,
             "ticks": ""
            },
            "colorscale": [
             [
              0,
              "#0d0887"
             ],
             [
              0.1111111111111111,
              "#46039f"
             ],
             [
              0.2222222222222222,
              "#7201a8"
             ],
             [
              0.3333333333333333,
              "#9c179e"
             ],
             [
              0.4444444444444444,
              "#bd3786"
             ],
             [
              0.5555555555555556,
              "#d8576b"
             ],
             [
              0.6666666666666666,
              "#ed7953"
             ],
             [
              0.7777777777777778,
              "#fb9f3a"
             ],
             [
              0.8888888888888888,
              "#fdca26"
             ],
             [
              1,
              "#f0f921"
             ]
            ],
            "type": "contour"
           }
          ],
          "contourcarpet": [
           {
            "colorbar": {
             "outlinewidth": 0,
             "ticks": ""
            },
            "type": "contourcarpet"
           }
          ],
          "heatmap": [
           {
            "colorbar": {
             "outlinewidth": 0,
             "ticks": ""
            },
            "colorscale": [
             [
              0,
              "#0d0887"
             ],
             [
              0.1111111111111111,
              "#46039f"
             ],
             [
              0.2222222222222222,
              "#7201a8"
             ],
             [
              0.3333333333333333,
              "#9c179e"
             ],
             [
              0.4444444444444444,
              "#bd3786"
             ],
             [
              0.5555555555555556,
              "#d8576b"
             ],
             [
              0.6666666666666666,
              "#ed7953"
             ],
             [
              0.7777777777777778,
              "#fb9f3a"
             ],
             [
              0.8888888888888888,
              "#fdca26"
             ],
             [
              1,
              "#f0f921"
             ]
            ],
            "type": "heatmap"
           }
          ],
          "histogram": [
           {
            "marker": {
             "pattern": {
              "fillmode": "overlay",
              "size": 10,
              "solidity": 0.2
             }
            },
            "type": "histogram"
           }
          ],
          "histogram2d": [
           {
            "colorbar": {
             "outlinewidth": 0,
             "ticks": ""
            },
            "colorscale": [
             [
              0,
              "#0d0887"
             ],
             [
              0.1111111111111111,
              "#46039f"
             ],
             [
              0.2222222222222222,
              "#7201a8"
             ],
             [
              0.3333333333333333,
              "#9c179e"
             ],
             [
              0.4444444444444444,
              "#bd3786"
             ],
             [
              0.5555555555555556,
              "#d8576b"
             ],
             [
              0.6666666666666666,
              "#ed7953"
             ],
             [
              0.7777777777777778,
              "#fb9f3a"
             ],
             [
              0.8888888888888888,
              "#fdca26"
             ],
             [
              1,
              "#f0f921"
             ]
            ],
            "type": "histogram2d"
           }
          ],
          "histogram2dcontour": [
           {
            "colorbar": {
             "outlinewidth": 0,
             "ticks": ""
            },
            "colorscale": [
             [
              0,
              "#0d0887"
             ],
             [
              0.1111111111111111,
              "#46039f"
             ],
             [
              0.2222222222222222,
              "#7201a8"
             ],
             [
              0.3333333333333333,
              "#9c179e"
             ],
             [
              0.4444444444444444,
              "#bd3786"
             ],
             [
              0.5555555555555556,
              "#d8576b"
             ],
             [
              0.6666666666666666,
              "#ed7953"
             ],
             [
              0.7777777777777778,
              "#fb9f3a"
             ],
             [
              0.8888888888888888,
              "#fdca26"
             ],
             [
              1,
              "#f0f921"
             ]
            ],
            "type": "histogram2dcontour"
           }
          ],
          "mesh3d": [
           {
            "colorbar": {
             "outlinewidth": 0,
             "ticks": ""
            },
            "type": "mesh3d"
           }
          ],
          "parcoords": [
           {
            "line": {
             "colorbar": {
              "outlinewidth": 0,
              "ticks": ""
             }
            },
            "type": "parcoords"
           }
          ],
          "pie": [
           {
            "automargin": true,
            "type": "pie"
           }
          ],
          "scatter": [
           {
            "fillpattern": {
             "fillmode": "overlay",
             "size": 10,
             "solidity": 0.2
            },
            "type": "scatter"
           }
          ],
          "scatter3d": [
           {
            "line": {
             "colorbar": {
              "outlinewidth": 0,
              "ticks": ""
             }
            },
            "marker": {
             "colorbar": {
              "outlinewidth": 0,
              "ticks": ""
             }
            },
            "type": "scatter3d"
           }
          ],
          "scattercarpet": [
           {
            "marker": {
             "colorbar": {
              "outlinewidth": 0,
              "ticks": ""
             }
            },
            "type": "scattercarpet"
           }
          ],
          "scattergeo": [
           {
            "marker": {
             "colorbar": {
              "outlinewidth": 0,
              "ticks": ""
             }
            },
            "type": "scattergeo"
           }
          ],
          "scattergl": [
           {
            "marker": {
             "colorbar": {
              "outlinewidth": 0,
              "ticks": ""
             }
            },
            "type": "scattergl"
           }
          ],
          "scattermap": [
           {
            "marker": {
             "colorbar": {
              "outlinewidth": 0,
              "ticks": ""
             }
            },
            "type": "scattermap"
           }
          ],
          "scattermapbox": [
           {
            "marker": {
             "colorbar": {
              "outlinewidth": 0,
              "ticks": ""
             }
            },
            "type": "scattermapbox"
           }
          ],
          "scatterpolar": [
           {
            "marker": {
             "colorbar": {
              "outlinewidth": 0,
              "ticks": ""
             }
            },
            "type": "scatterpolar"
           }
          ],
          "scatterpolargl": [
           {
            "marker": {
             "colorbar": {
              "outlinewidth": 0,
              "ticks": ""
             }
            },
            "type": "scatterpolargl"
           }
          ],
          "scatterternary": [
           {
            "marker": {
             "colorbar": {
              "outlinewidth": 0,
              "ticks": ""
             }
            },
            "type": "scatterternary"
           }
          ],
          "surface": [
           {
            "colorbar": {
             "outlinewidth": 0,
             "ticks": ""
            },
            "colorscale": [
             [
              0,
              "#0d0887"
             ],
             [
              0.1111111111111111,
              "#46039f"
             ],
             [
              0.2222222222222222,
              "#7201a8"
             ],
             [
              0.3333333333333333,
              "#9c179e"
             ],
             [
              0.4444444444444444,
              "#bd3786"
             ],
             [
              0.5555555555555556,
              "#d8576b"
             ],
             [
              0.6666666666666666,
              "#ed7953"
             ],
             [
              0.7777777777777778,
              "#fb9f3a"
             ],
             [
              0.8888888888888888,
              "#fdca26"
             ],
             [
              1,
              "#f0f921"
             ]
            ],
            "type": "surface"
           }
          ],
          "table": [
           {
            "cells": {
             "fill": {
              "color": "#EBF0F8"
             },
             "line": {
              "color": "white"
             }
            },
            "header": {
             "fill": {
              "color": "#C8D4E3"
             },
             "line": {
              "color": "white"
             }
            },
            "type": "table"
           }
          ]
         },
         "layout": {
          "annotationdefaults": {
           "arrowcolor": "#2a3f5f",
           "arrowhead": 0,
           "arrowwidth": 1
          },
          "autotypenumbers": "strict",
          "coloraxis": {
           "colorbar": {
            "outlinewidth": 0,
            "ticks": ""
           }
          },
          "colorscale": {
           "diverging": [
            [
             0,
             "#8e0152"
            ],
            [
             0.1,
             "#c51b7d"
            ],
            [
             0.2,
             "#de77ae"
            ],
            [
             0.3,
             "#f1b6da"
            ],
            [
             0.4,
             "#fde0ef"
            ],
            [
             0.5,
             "#f7f7f7"
            ],
            [
             0.6,
             "#e6f5d0"
            ],
            [
             0.7,
             "#b8e186"
            ],
            [
             0.8,
             "#7fbc41"
            ],
            [
             0.9,
             "#4d9221"
            ],
            [
             1,
             "#276419"
            ]
           ],
           "sequential": [
            [
             0,
             "#0d0887"
            ],
            [
             0.1111111111111111,
             "#46039f"
            ],
            [
             0.2222222222222222,
             "#7201a8"
            ],
            [
             0.3333333333333333,
             "#9c179e"
            ],
            [
             0.4444444444444444,
             "#bd3786"
            ],
            [
             0.5555555555555556,
             "#d8576b"
            ],
            [
             0.6666666666666666,
             "#ed7953"
            ],
            [
             0.7777777777777778,
             "#fb9f3a"
            ],
            [
             0.8888888888888888,
             "#fdca26"
            ],
            [
             1,
             "#f0f921"
            ]
           ],
           "sequentialminus": [
            [
             0,
             "#0d0887"
            ],
            [
             0.1111111111111111,
             "#46039f"
            ],
            [
             0.2222222222222222,
             "#7201a8"
            ],
            [
             0.3333333333333333,
             "#9c179e"
            ],
            [
             0.4444444444444444,
             "#bd3786"
            ],
            [
             0.5555555555555556,
             "#d8576b"
            ],
            [
             0.6666666666666666,
             "#ed7953"
            ],
            [
             0.7777777777777778,
             "#fb9f3a"
            ],
            [
             0.8888888888888888,
             "#fdca26"
            ],
            [
             1,
             "#f0f921"
            ]
           ]
          },
          "colorway": [
           "#636efa",
           "#EF553B",
           "#00cc96",
           "#ab63fa",
           "#FFA15A",
           "#19d3f3",
           "#FF6692",
           "#B6E880",
           "#FF97FF",
           "#FECB52"
          ],
          "font": {
           "color": "#2a3f5f"
          },
          "geo": {
           "bgcolor": "white",
           "lakecolor": "white",
           "landcolor": "#E5ECF6",
           "showlakes": true,
           "showland": true,
           "subunitcolor": "white"
          },
          "hoverlabel": {
           "align": "left"
          },
          "hovermode": "closest",
          "mapbox": {
           "style": "light"
          },
          "paper_bgcolor": "white",
          "plot_bgcolor": "#E5ECF6",
          "polar": {
           "angularaxis": {
            "gridcolor": "white",
            "linecolor": "white",
            "ticks": ""
           },
           "bgcolor": "#E5ECF6",
           "radialaxis": {
            "gridcolor": "white",
            "linecolor": "white",
            "ticks": ""
           }
          },
          "scene": {
           "xaxis": {
            "backgroundcolor": "#E5ECF6",
            "gridcolor": "white",
            "gridwidth": 2,
            "linecolor": "white",
            "showbackground": true,
            "ticks": "",
            "zerolinecolor": "white"
           },
           "yaxis": {
            "backgroundcolor": "#E5ECF6",
            "gridcolor": "white",
            "gridwidth": 2,
            "linecolor": "white",
            "showbackground": true,
            "ticks": "",
            "zerolinecolor": "white"
           },
           "zaxis": {
            "backgroundcolor": "#E5ECF6",
            "gridcolor": "white",
            "gridwidth": 2,
            "linecolor": "white",
            "showbackground": true,
            "ticks": "",
            "zerolinecolor": "white"
           }
          },
          "shapedefaults": {
           "line": {
            "color": "#2a3f5f"
           }
          },
          "ternary": {
           "aaxis": {
            "gridcolor": "white",
            "linecolor": "white",
            "ticks": ""
           },
           "baxis": {
            "gridcolor": "white",
            "linecolor": "white",
            "ticks": ""
           },
           "bgcolor": "#E5ECF6",
           "caxis": {
            "gridcolor": "white",
            "linecolor": "white",
            "ticks": ""
           }
          },
          "title": {
           "x": 0.05
          },
          "xaxis": {
           "automargin": true,
           "gridcolor": "white",
           "linecolor": "white",
           "ticks": "",
           "title": {
            "standoff": 15
           },
           "zerolinecolor": "white",
           "zerolinewidth": 2
          },
          "yaxis": {
           "automargin": true,
           "gridcolor": "white",
           "linecolor": "white",
           "ticks": "",
           "title": {
            "standoff": 15
           },
           "zerolinecolor": "white",
           "zerolinewidth": 2
          }
         }
        },
        "title": {
         "text": "3-Body Problem"
        }
       }
      }
     },
     "metadata": {},
     "output_type": "display_data"
    },
    {
     "data": {
      "application/vnd.plotly.v1+json": {
       "config": {
        "plotlyServerURL": "https://plot.ly"
       },
       "data": [
        {
         "marker": {
          "color": "blue",
          "size": 10
         },
         "mode": "markers",
         "type": "scatter3d",
         "x": {
          "bdata": "dQGFKEv78j8DQN5I2YfsP9vOKl5ofu4/",
          "dtype": "f8"
         },
         "y": {
          "bdata": "AIXFeR7q9D+bqMulOdfuP1jrPhcWgPs/",
          "dtype": "f8"
         },
         "z": {
          "bdata": "XOT0ZJ3o8D/NVP+i7XXrPzEQ1jZ7Sfs/",
          "dtype": "f8"
         }
        }
       ],
       "layout": {
        "scene": {
         "aspectmode": "cube",
         "xaxis": {
          "title": {
           "text": "X"
          }
         },
         "yaxis": {
          "title": {
           "text": "Y"
          }
         },
         "zaxis": {
          "title": {
           "text": "Z"
          }
         }
        },
        "template": {
         "data": {
          "bar": [
           {
            "error_x": {
             "color": "#2a3f5f"
            },
            "error_y": {
             "color": "#2a3f5f"
            },
            "marker": {
             "line": {
              "color": "#E5ECF6",
              "width": 0.5
             },
             "pattern": {
              "fillmode": "overlay",
              "size": 10,
              "solidity": 0.2
             }
            },
            "type": "bar"
           }
          ],
          "barpolar": [
           {
            "marker": {
             "line": {
              "color": "#E5ECF6",
              "width": 0.5
             },
             "pattern": {
              "fillmode": "overlay",
              "size": 10,
              "solidity": 0.2
             }
            },
            "type": "barpolar"
           }
          ],
          "carpet": [
           {
            "aaxis": {
             "endlinecolor": "#2a3f5f",
             "gridcolor": "white",
             "linecolor": "white",
             "minorgridcolor": "white",
             "startlinecolor": "#2a3f5f"
            },
            "baxis": {
             "endlinecolor": "#2a3f5f",
             "gridcolor": "white",
             "linecolor": "white",
             "minorgridcolor": "white",
             "startlinecolor": "#2a3f5f"
            },
            "type": "carpet"
           }
          ],
          "choropleth": [
           {
            "colorbar": {
             "outlinewidth": 0,
             "ticks": ""
            },
            "type": "choropleth"
           }
          ],
          "contour": [
           {
            "colorbar": {
             "outlinewidth": 0,
             "ticks": ""
            },
            "colorscale": [
             [
              0,
              "#0d0887"
             ],
             [
              0.1111111111111111,
              "#46039f"
             ],
             [
              0.2222222222222222,
              "#7201a8"
             ],
             [
              0.3333333333333333,
              "#9c179e"
             ],
             [
              0.4444444444444444,
              "#bd3786"
             ],
             [
              0.5555555555555556,
              "#d8576b"
             ],
             [
              0.6666666666666666,
              "#ed7953"
             ],
             [
              0.7777777777777778,
              "#fb9f3a"
             ],
             [
              0.8888888888888888,
              "#fdca26"
             ],
             [
              1,
              "#f0f921"
             ]
            ],
            "type": "contour"
           }
          ],
          "contourcarpet": [
           {
            "colorbar": {
             "outlinewidth": 0,
             "ticks": ""
            },
            "type": "contourcarpet"
           }
          ],
          "heatmap": [
           {
            "colorbar": {
             "outlinewidth": 0,
             "ticks": ""
            },
            "colorscale": [
             [
              0,
              "#0d0887"
             ],
             [
              0.1111111111111111,
              "#46039f"
             ],
             [
              0.2222222222222222,
              "#7201a8"
             ],
             [
              0.3333333333333333,
              "#9c179e"
             ],
             [
              0.4444444444444444,
              "#bd3786"
             ],
             [
              0.5555555555555556,
              "#d8576b"
             ],
             [
              0.6666666666666666,
              "#ed7953"
             ],
             [
              0.7777777777777778,
              "#fb9f3a"
             ],
             [
              0.8888888888888888,
              "#fdca26"
             ],
             [
              1,
              "#f0f921"
             ]
            ],
            "type": "heatmap"
           }
          ],
          "histogram": [
           {
            "marker": {
             "pattern": {
              "fillmode": "overlay",
              "size": 10,
              "solidity": 0.2
             }
            },
            "type": "histogram"
           }
          ],
          "histogram2d": [
           {
            "colorbar": {
             "outlinewidth": 0,
             "ticks": ""
            },
            "colorscale": [
             [
              0,
              "#0d0887"
             ],
             [
              0.1111111111111111,
              "#46039f"
             ],
             [
              0.2222222222222222,
              "#7201a8"
             ],
             [
              0.3333333333333333,
              "#9c179e"
             ],
             [
              0.4444444444444444,
              "#bd3786"
             ],
             [
              0.5555555555555556,
              "#d8576b"
             ],
             [
              0.6666666666666666,
              "#ed7953"
             ],
             [
              0.7777777777777778,
              "#fb9f3a"
             ],
             [
              0.8888888888888888,
              "#fdca26"
             ],
             [
              1,
              "#f0f921"
             ]
            ],
            "type": "histogram2d"
           }
          ],
          "histogram2dcontour": [
           {
            "colorbar": {
             "outlinewidth": 0,
             "ticks": ""
            },
            "colorscale": [
             [
              0,
              "#0d0887"
             ],
             [
              0.1111111111111111,
              "#46039f"
             ],
             [
              0.2222222222222222,
              "#7201a8"
             ],
             [
              0.3333333333333333,
              "#9c179e"
             ],
             [
              0.4444444444444444,
              "#bd3786"
             ],
             [
              0.5555555555555556,
              "#d8576b"
             ],
             [
              0.6666666666666666,
              "#ed7953"
             ],
             [
              0.7777777777777778,
              "#fb9f3a"
             ],
             [
              0.8888888888888888,
              "#fdca26"
             ],
             [
              1,
              "#f0f921"
             ]
            ],
            "type": "histogram2dcontour"
           }
          ],
          "mesh3d": [
           {
            "colorbar": {
             "outlinewidth": 0,
             "ticks": ""
            },
            "type": "mesh3d"
           }
          ],
          "parcoords": [
           {
            "line": {
             "colorbar": {
              "outlinewidth": 0,
              "ticks": ""
             }
            },
            "type": "parcoords"
           }
          ],
          "pie": [
           {
            "automargin": true,
            "type": "pie"
           }
          ],
          "scatter": [
           {
            "fillpattern": {
             "fillmode": "overlay",
             "size": 10,
             "solidity": 0.2
            },
            "type": "scatter"
           }
          ],
          "scatter3d": [
           {
            "line": {
             "colorbar": {
              "outlinewidth": 0,
              "ticks": ""
             }
            },
            "marker": {
             "colorbar": {
              "outlinewidth": 0,
              "ticks": ""
             }
            },
            "type": "scatter3d"
           }
          ],
          "scattercarpet": [
           {
            "marker": {
             "colorbar": {
              "outlinewidth": 0,
              "ticks": ""
             }
            },
            "type": "scattercarpet"
           }
          ],
          "scattergeo": [
           {
            "marker": {
             "colorbar": {
              "outlinewidth": 0,
              "ticks": ""
             }
            },
            "type": "scattergeo"
           }
          ],
          "scattergl": [
           {
            "marker": {
             "colorbar": {
              "outlinewidth": 0,
              "ticks": ""
             }
            },
            "type": "scattergl"
           }
          ],
          "scattermap": [
           {
            "marker": {
             "colorbar": {
              "outlinewidth": 0,
              "ticks": ""
             }
            },
            "type": "scattermap"
           }
          ],
          "scattermapbox": [
           {
            "marker": {
             "colorbar": {
              "outlinewidth": 0,
              "ticks": ""
             }
            },
            "type": "scattermapbox"
           }
          ],
          "scatterpolar": [
           {
            "marker": {
             "colorbar": {
              "outlinewidth": 0,
              "ticks": ""
             }
            },
            "type": "scatterpolar"
           }
          ],
          "scatterpolargl": [
           {
            "marker": {
             "colorbar": {
              "outlinewidth": 0,
              "ticks": ""
             }
            },
            "type": "scatterpolargl"
           }
          ],
          "scatterternary": [
           {
            "marker": {
             "colorbar": {
              "outlinewidth": 0,
              "ticks": ""
             }
            },
            "type": "scatterternary"
           }
          ],
          "surface": [
           {
            "colorbar": {
             "outlinewidth": 0,
             "ticks": ""
            },
            "colorscale": [
             [
              0,
              "#0d0887"
             ],
             [
              0.1111111111111111,
              "#46039f"
             ],
             [
              0.2222222222222222,
              "#7201a8"
             ],
             [
              0.3333333333333333,
              "#9c179e"
             ],
             [
              0.4444444444444444,
              "#bd3786"
             ],
             [
              0.5555555555555556,
              "#d8576b"
             ],
             [
              0.6666666666666666,
              "#ed7953"
             ],
             [
              0.7777777777777778,
              "#fb9f3a"
             ],
             [
              0.8888888888888888,
              "#fdca26"
             ],
             [
              1,
              "#f0f921"
             ]
            ],
            "type": "surface"
           }
          ],
          "table": [
           {
            "cells": {
             "fill": {
              "color": "#EBF0F8"
             },
             "line": {
              "color": "white"
             }
            },
            "header": {
             "fill": {
              "color": "#C8D4E3"
             },
             "line": {
              "color": "white"
             }
            },
            "type": "table"
           }
          ]
         },
         "layout": {
          "annotationdefaults": {
           "arrowcolor": "#2a3f5f",
           "arrowhead": 0,
           "arrowwidth": 1
          },
          "autotypenumbers": "strict",
          "coloraxis": {
           "colorbar": {
            "outlinewidth": 0,
            "ticks": ""
           }
          },
          "colorscale": {
           "diverging": [
            [
             0,
             "#8e0152"
            ],
            [
             0.1,
             "#c51b7d"
            ],
            [
             0.2,
             "#de77ae"
            ],
            [
             0.3,
             "#f1b6da"
            ],
            [
             0.4,
             "#fde0ef"
            ],
            [
             0.5,
             "#f7f7f7"
            ],
            [
             0.6,
             "#e6f5d0"
            ],
            [
             0.7,
             "#b8e186"
            ],
            [
             0.8,
             "#7fbc41"
            ],
            [
             0.9,
             "#4d9221"
            ],
            [
             1,
             "#276419"
            ]
           ],
           "sequential": [
            [
             0,
             "#0d0887"
            ],
            [
             0.1111111111111111,
             "#46039f"
            ],
            [
             0.2222222222222222,
             "#7201a8"
            ],
            [
             0.3333333333333333,
             "#9c179e"
            ],
            [
             0.4444444444444444,
             "#bd3786"
            ],
            [
             0.5555555555555556,
             "#d8576b"
            ],
            [
             0.6666666666666666,
             "#ed7953"
            ],
            [
             0.7777777777777778,
             "#fb9f3a"
            ],
            [
             0.8888888888888888,
             "#fdca26"
            ],
            [
             1,
             "#f0f921"
            ]
           ],
           "sequentialminus": [
            [
             0,
             "#0d0887"
            ],
            [
             0.1111111111111111,
             "#46039f"
            ],
            [
             0.2222222222222222,
             "#7201a8"
            ],
            [
             0.3333333333333333,
             "#9c179e"
            ],
            [
             0.4444444444444444,
             "#bd3786"
            ],
            [
             0.5555555555555556,
             "#d8576b"
            ],
            [
             0.6666666666666666,
             "#ed7953"
            ],
            [
             0.7777777777777778,
             "#fb9f3a"
            ],
            [
             0.8888888888888888,
             "#fdca26"
            ],
            [
             1,
             "#f0f921"
            ]
           ]
          },
          "colorway": [
           "#636efa",
           "#EF553B",
           "#00cc96",
           "#ab63fa",
           "#FFA15A",
           "#19d3f3",
           "#FF6692",
           "#B6E880",
           "#FF97FF",
           "#FECB52"
          ],
          "font": {
           "color": "#2a3f5f"
          },
          "geo": {
           "bgcolor": "white",
           "lakecolor": "white",
           "landcolor": "#E5ECF6",
           "showlakes": true,
           "showland": true,
           "subunitcolor": "white"
          },
          "hoverlabel": {
           "align": "left"
          },
          "hovermode": "closest",
          "mapbox": {
           "style": "light"
          },
          "paper_bgcolor": "white",
          "plot_bgcolor": "#E5ECF6",
          "polar": {
           "angularaxis": {
            "gridcolor": "white",
            "linecolor": "white",
            "ticks": ""
           },
           "bgcolor": "#E5ECF6",
           "radialaxis": {
            "gridcolor": "white",
            "linecolor": "white",
            "ticks": ""
           }
          },
          "scene": {
           "xaxis": {
            "backgroundcolor": "#E5ECF6",
            "gridcolor": "white",
            "gridwidth": 2,
            "linecolor": "white",
            "showbackground": true,
            "ticks": "",
            "zerolinecolor": "white"
           },
           "yaxis": {
            "backgroundcolor": "#E5ECF6",
            "gridcolor": "white",
            "gridwidth": 2,
            "linecolor": "white",
            "showbackground": true,
            "ticks": "",
            "zerolinecolor": "white"
           },
           "zaxis": {
            "backgroundcolor": "#E5ECF6",
            "gridcolor": "white",
            "gridwidth": 2,
            "linecolor": "white",
            "showbackground": true,
            "ticks": "",
            "zerolinecolor": "white"
           }
          },
          "shapedefaults": {
           "line": {
            "color": "#2a3f5f"
           }
          },
          "ternary": {
           "aaxis": {
            "gridcolor": "white",
            "linecolor": "white",
            "ticks": ""
           },
           "baxis": {
            "gridcolor": "white",
            "linecolor": "white",
            "ticks": ""
           },
           "bgcolor": "#E5ECF6",
           "caxis": {
            "gridcolor": "white",
            "linecolor": "white",
            "ticks": ""
           }
          },
          "title": {
           "x": 0.05
          },
          "xaxis": {
           "automargin": true,
           "gridcolor": "white",
           "linecolor": "white",
           "ticks": "",
           "title": {
            "standoff": 15
           },
           "zerolinecolor": "white",
           "zerolinewidth": 2
          },
          "yaxis": {
           "automargin": true,
           "gridcolor": "white",
           "linecolor": "white",
           "ticks": "",
           "title": {
            "standoff": 15
           },
           "zerolinecolor": "white",
           "zerolinewidth": 2
          }
         }
        },
        "title": {
         "text": "3-Body Problem"
        }
       }
      }
     },
     "metadata": {},
     "output_type": "display_data"
    },
    {
     "data": {
      "application/vnd.plotly.v1+json": {
       "config": {
        "plotlyServerURL": "https://plot.ly"
       },
       "data": [
        {
         "marker": {
          "color": "blue",
          "size": 10
         },
         "mode": "markers",
         "type": "scatter3d",
         "x": {
          "bdata": "DpsewuSU9D82cxF8DLvvPwcBr8jN2PA/",
          "dtype": "f8"
         },
         "y": {
          "bdata": "mh5fE7iD9j/nbX9sNgXxP/GE2LCvGf0/",
          "dtype": "f8"
         },
         "z": {
          "bdata": "9X2O/jaC8j8AiDLWIKnuP8qpb9AU4/w/",
          "dtype": "f8"
         }
        }
       ],
       "layout": {
        "scene": {
         "aspectmode": "cube",
         "xaxis": {
          "title": {
           "text": "X"
          }
         },
         "yaxis": {
          "title": {
           "text": "Y"
          }
         },
         "zaxis": {
          "title": {
           "text": "Z"
          }
         }
        },
        "template": {
         "data": {
          "bar": [
           {
            "error_x": {
             "color": "#2a3f5f"
            },
            "error_y": {
             "color": "#2a3f5f"
            },
            "marker": {
             "line": {
              "color": "#E5ECF6",
              "width": 0.5
             },
             "pattern": {
              "fillmode": "overlay",
              "size": 10,
              "solidity": 0.2
             }
            },
            "type": "bar"
           }
          ],
          "barpolar": [
           {
            "marker": {
             "line": {
              "color": "#E5ECF6",
              "width": 0.5
             },
             "pattern": {
              "fillmode": "overlay",
              "size": 10,
              "solidity": 0.2
             }
            },
            "type": "barpolar"
           }
          ],
          "carpet": [
           {
            "aaxis": {
             "endlinecolor": "#2a3f5f",
             "gridcolor": "white",
             "linecolor": "white",
             "minorgridcolor": "white",
             "startlinecolor": "#2a3f5f"
            },
            "baxis": {
             "endlinecolor": "#2a3f5f",
             "gridcolor": "white",
             "linecolor": "white",
             "minorgridcolor": "white",
             "startlinecolor": "#2a3f5f"
            },
            "type": "carpet"
           }
          ],
          "choropleth": [
           {
            "colorbar": {
             "outlinewidth": 0,
             "ticks": ""
            },
            "type": "choropleth"
           }
          ],
          "contour": [
           {
            "colorbar": {
             "outlinewidth": 0,
             "ticks": ""
            },
            "colorscale": [
             [
              0,
              "#0d0887"
             ],
             [
              0.1111111111111111,
              "#46039f"
             ],
             [
              0.2222222222222222,
              "#7201a8"
             ],
             [
              0.3333333333333333,
              "#9c179e"
             ],
             [
              0.4444444444444444,
              "#bd3786"
             ],
             [
              0.5555555555555556,
              "#d8576b"
             ],
             [
              0.6666666666666666,
              "#ed7953"
             ],
             [
              0.7777777777777778,
              "#fb9f3a"
             ],
             [
              0.8888888888888888,
              "#fdca26"
             ],
             [
              1,
              "#f0f921"
             ]
            ],
            "type": "contour"
           }
          ],
          "contourcarpet": [
           {
            "colorbar": {
             "outlinewidth": 0,
             "ticks": ""
            },
            "type": "contourcarpet"
           }
          ],
          "heatmap": [
           {
            "colorbar": {
             "outlinewidth": 0,
             "ticks": ""
            },
            "colorscale": [
             [
              0,
              "#0d0887"
             ],
             [
              0.1111111111111111,
              "#46039f"
             ],
             [
              0.2222222222222222,
              "#7201a8"
             ],
             [
              0.3333333333333333,
              "#9c179e"
             ],
             [
              0.4444444444444444,
              "#bd3786"
             ],
             [
              0.5555555555555556,
              "#d8576b"
             ],
             [
              0.6666666666666666,
              "#ed7953"
             ],
             [
              0.7777777777777778,
              "#fb9f3a"
             ],
             [
              0.8888888888888888,
              "#fdca26"
             ],
             [
              1,
              "#f0f921"
             ]
            ],
            "type": "heatmap"
           }
          ],
          "histogram": [
           {
            "marker": {
             "pattern": {
              "fillmode": "overlay",
              "size": 10,
              "solidity": 0.2
             }
            },
            "type": "histogram"
           }
          ],
          "histogram2d": [
           {
            "colorbar": {
             "outlinewidth": 0,
             "ticks": ""
            },
            "colorscale": [
             [
              0,
              "#0d0887"
             ],
             [
              0.1111111111111111,
              "#46039f"
             ],
             [
              0.2222222222222222,
              "#7201a8"
             ],
             [
              0.3333333333333333,
              "#9c179e"
             ],
             [
              0.4444444444444444,
              "#bd3786"
             ],
             [
              0.5555555555555556,
              "#d8576b"
             ],
             [
              0.6666666666666666,
              "#ed7953"
             ],
             [
              0.7777777777777778,
              "#fb9f3a"
             ],
             [
              0.8888888888888888,
              "#fdca26"
             ],
             [
              1,
              "#f0f921"
             ]
            ],
            "type": "histogram2d"
           }
          ],
          "histogram2dcontour": [
           {
            "colorbar": {
             "outlinewidth": 0,
             "ticks": ""
            },
            "colorscale": [
             [
              0,
              "#0d0887"
             ],
             [
              0.1111111111111111,
              "#46039f"
             ],
             [
              0.2222222222222222,
              "#7201a8"
             ],
             [
              0.3333333333333333,
              "#9c179e"
             ],
             [
              0.4444444444444444,
              "#bd3786"
             ],
             [
              0.5555555555555556,
              "#d8576b"
             ],
             [
              0.6666666666666666,
              "#ed7953"
             ],
             [
              0.7777777777777778,
              "#fb9f3a"
             ],
             [
              0.8888888888888888,
              "#fdca26"
             ],
             [
              1,
              "#f0f921"
             ]
            ],
            "type": "histogram2dcontour"
           }
          ],
          "mesh3d": [
           {
            "colorbar": {
             "outlinewidth": 0,
             "ticks": ""
            },
            "type": "mesh3d"
           }
          ],
          "parcoords": [
           {
            "line": {
             "colorbar": {
              "outlinewidth": 0,
              "ticks": ""
             }
            },
            "type": "parcoords"
           }
          ],
          "pie": [
           {
            "automargin": true,
            "type": "pie"
           }
          ],
          "scatter": [
           {
            "fillpattern": {
             "fillmode": "overlay",
             "size": 10,
             "solidity": 0.2
            },
            "type": "scatter"
           }
          ],
          "scatter3d": [
           {
            "line": {
             "colorbar": {
              "outlinewidth": 0,
              "ticks": ""
             }
            },
            "marker": {
             "colorbar": {
              "outlinewidth": 0,
              "ticks": ""
             }
            },
            "type": "scatter3d"
           }
          ],
          "scattercarpet": [
           {
            "marker": {
             "colorbar": {
              "outlinewidth": 0,
              "ticks": ""
             }
            },
            "type": "scattercarpet"
           }
          ],
          "scattergeo": [
           {
            "marker": {
             "colorbar": {
              "outlinewidth": 0,
              "ticks": ""
             }
            },
            "type": "scattergeo"
           }
          ],
          "scattergl": [
           {
            "marker": {
             "colorbar": {
              "outlinewidth": 0,
              "ticks": ""
             }
            },
            "type": "scattergl"
           }
          ],
          "scattermap": [
           {
            "marker": {
             "colorbar": {
              "outlinewidth": 0,
              "ticks": ""
             }
            },
            "type": "scattermap"
           }
          ],
          "scattermapbox": [
           {
            "marker": {
             "colorbar": {
              "outlinewidth": 0,
              "ticks": ""
             }
            },
            "type": "scattermapbox"
           }
          ],
          "scatterpolar": [
           {
            "marker": {
             "colorbar": {
              "outlinewidth": 0,
              "ticks": ""
             }
            },
            "type": "scatterpolar"
           }
          ],
          "scatterpolargl": [
           {
            "marker": {
             "colorbar": {
              "outlinewidth": 0,
              "ticks": ""
             }
            },
            "type": "scatterpolargl"
           }
          ],
          "scatterternary": [
           {
            "marker": {
             "colorbar": {
              "outlinewidth": 0,
              "ticks": ""
             }
            },
            "type": "scatterternary"
           }
          ],
          "surface": [
           {
            "colorbar": {
             "outlinewidth": 0,
             "ticks": ""
            },
            "colorscale": [
             [
              0,
              "#0d0887"
             ],
             [
              0.1111111111111111,
              "#46039f"
             ],
             [
              0.2222222222222222,
              "#7201a8"
             ],
             [
              0.3333333333333333,
              "#9c179e"
             ],
             [
              0.4444444444444444,
              "#bd3786"
             ],
             [
              0.5555555555555556,
              "#d8576b"
             ],
             [
              0.6666666666666666,
              "#ed7953"
             ],
             [
              0.7777777777777778,
              "#fb9f3a"
             ],
             [
              0.8888888888888888,
              "#fdca26"
             ],
             [
              1,
              "#f0f921"
             ]
            ],
            "type": "surface"
           }
          ],
          "table": [
           {
            "cells": {
             "fill": {
              "color": "#EBF0F8"
             },
             "line": {
              "color": "white"
             }
            },
            "header": {
             "fill": {
              "color": "#C8D4E3"
             },
             "line": {
              "color": "white"
             }
            },
            "type": "table"
           }
          ]
         },
         "layout": {
          "annotationdefaults": {
           "arrowcolor": "#2a3f5f",
           "arrowhead": 0,
           "arrowwidth": 1
          },
          "autotypenumbers": "strict",
          "coloraxis": {
           "colorbar": {
            "outlinewidth": 0,
            "ticks": ""
           }
          },
          "colorscale": {
           "diverging": [
            [
             0,
             "#8e0152"
            ],
            [
             0.1,
             "#c51b7d"
            ],
            [
             0.2,
             "#de77ae"
            ],
            [
             0.3,
             "#f1b6da"
            ],
            [
             0.4,
             "#fde0ef"
            ],
            [
             0.5,
             "#f7f7f7"
            ],
            [
             0.6,
             "#e6f5d0"
            ],
            [
             0.7,
             "#b8e186"
            ],
            [
             0.8,
             "#7fbc41"
            ],
            [
             0.9,
             "#4d9221"
            ],
            [
             1,
             "#276419"
            ]
           ],
           "sequential": [
            [
             0,
             "#0d0887"
            ],
            [
             0.1111111111111111,
             "#46039f"
            ],
            [
             0.2222222222222222,
             "#7201a8"
            ],
            [
             0.3333333333333333,
             "#9c179e"
            ],
            [
             0.4444444444444444,
             "#bd3786"
            ],
            [
             0.5555555555555556,
             "#d8576b"
            ],
            [
             0.6666666666666666,
             "#ed7953"
            ],
            [
             0.7777777777777778,
             "#fb9f3a"
            ],
            [
             0.8888888888888888,
             "#fdca26"
            ],
            [
             1,
             "#f0f921"
            ]
           ],
           "sequentialminus": [
            [
             0,
             "#0d0887"
            ],
            [
             0.1111111111111111,
             "#46039f"
            ],
            [
             0.2222222222222222,
             "#7201a8"
            ],
            [
             0.3333333333333333,
             "#9c179e"
            ],
            [
             0.4444444444444444,
             "#bd3786"
            ],
            [
             0.5555555555555556,
             "#d8576b"
            ],
            [
             0.6666666666666666,
             "#ed7953"
            ],
            [
             0.7777777777777778,
             "#fb9f3a"
            ],
            [
             0.8888888888888888,
             "#fdca26"
            ],
            [
             1,
             "#f0f921"
            ]
           ]
          },
          "colorway": [
           "#636efa",
           "#EF553B",
           "#00cc96",
           "#ab63fa",
           "#FFA15A",
           "#19d3f3",
           "#FF6692",
           "#B6E880",
           "#FF97FF",
           "#FECB52"
          ],
          "font": {
           "color": "#2a3f5f"
          },
          "geo": {
           "bgcolor": "white",
           "lakecolor": "white",
           "landcolor": "#E5ECF6",
           "showlakes": true,
           "showland": true,
           "subunitcolor": "white"
          },
          "hoverlabel": {
           "align": "left"
          },
          "hovermode": "closest",
          "mapbox": {
           "style": "light"
          },
          "paper_bgcolor": "white",
          "plot_bgcolor": "#E5ECF6",
          "polar": {
           "angularaxis": {
            "gridcolor": "white",
            "linecolor": "white",
            "ticks": ""
           },
           "bgcolor": "#E5ECF6",
           "radialaxis": {
            "gridcolor": "white",
            "linecolor": "white",
            "ticks": ""
           }
          },
          "scene": {
           "xaxis": {
            "backgroundcolor": "#E5ECF6",
            "gridcolor": "white",
            "gridwidth": 2,
            "linecolor": "white",
            "showbackground": true,
            "ticks": "",
            "zerolinecolor": "white"
           },
           "yaxis": {
            "backgroundcolor": "#E5ECF6",
            "gridcolor": "white",
            "gridwidth": 2,
            "linecolor": "white",
            "showbackground": true,
            "ticks": "",
            "zerolinecolor": "white"
           },
           "zaxis": {
            "backgroundcolor": "#E5ECF6",
            "gridcolor": "white",
            "gridwidth": 2,
            "linecolor": "white",
            "showbackground": true,
            "ticks": "",
            "zerolinecolor": "white"
           }
          },
          "shapedefaults": {
           "line": {
            "color": "#2a3f5f"
           }
          },
          "ternary": {
           "aaxis": {
            "gridcolor": "white",
            "linecolor": "white",
            "ticks": ""
           },
           "baxis": {
            "gridcolor": "white",
            "linecolor": "white",
            "ticks": ""
           },
           "bgcolor": "#E5ECF6",
           "caxis": {
            "gridcolor": "white",
            "linecolor": "white",
            "ticks": ""
           }
          },
          "title": {
           "x": 0.05
          },
          "xaxis": {
           "automargin": true,
           "gridcolor": "white",
           "linecolor": "white",
           "ticks": "",
           "title": {
            "standoff": 15
           },
           "zerolinecolor": "white",
           "zerolinewidth": 2
          },
          "yaxis": {
           "automargin": true,
           "gridcolor": "white",
           "linecolor": "white",
           "ticks": "",
           "title": {
            "standoff": 15
           },
           "zerolinecolor": "white",
           "zerolinewidth": 2
          }
         }
        },
        "title": {
         "text": "3-Body Problem"
        }
       }
      }
     },
     "metadata": {},
     "output_type": "display_data"
    }
   ],
   "source": [
    "import plotly.graph_objects as go\n",
    "import numpy as np\n",
    "\n",
    "# Example initial positions and velocities\n",
    "positions = np.random.rand(3, 3)  # 3 bodies, 3D positions\n",
    "velocities = np.random.rand(3, 3) * 0.1  # Initial velocities\n",
    "\n",
    "# Create a figure\n",
    "fig = go.Figure()\n",
    "\n",
    "# Scatter plot for the initial positions of the bodies\n",
    "scatter = go.Scatter3d(\n",
    "    x=positions[:, 0], y=positions[:, 1], z=positions[:, 2],\n",
    "    mode='markers', marker=dict(size=10, color='blue')\n",
    ")\n",
    "\n",
    "# Add the scatter plot to the figure\n",
    "fig.add_trace(scatter)\n",
    "\n",
    "# Layout options\n",
    "fig.update_layout(\n",
    "    title=\"3-Body Problem\",\n",
    "    scene=dict(\n",
    "        xaxis_title='X',\n",
    "        yaxis_title='Y',\n",
    "        zaxis_title='Z',\n",
    "        aspectmode=\"cube\"\n",
    "    )\n",
    ")\n",
    "\n",
    "# Show the plot\n",
    "fig.show()\n",
    "\n",
    "# To update positions, you can use the `update_traces` function\n",
    "def update_positions(new_positions):\n",
    "    fig.update_traces(\n",
    "        x=new_positions[:, 0], y=new_positions[:, 1], z=new_positions[:, 2]\n",
    "    )\n",
    "    fig.show()\n",
    "\n",
    "\n",
    "for i in range(10):\n",
    "    update_positions(positions+0.1*i)"
   ]
  },
  {
   "cell_type": "code",
   "execution_count": 6,
   "id": "d395a5db",
   "metadata": {},
   "outputs": [
    {
     "name": "stdout",
     "output_type": "stream",
     "text": [
      "Collecting vpython\n",
      "  Downloading vpython-7.6.5-cp311-cp311-manylinux_2_5_x86_64.manylinux1_x86_64.manylinux_2_17_x86_64.manylinux2014_x86_64.whl.metadata (5.7 kB)\n",
      "Collecting jupyter (from vpython)\n",
      "  Downloading jupyter-1.1.1-py2.py3-none-any.whl.metadata (2.0 kB)\n",
      "Collecting jupyter-server-proxy (from vpython)\n",
      "  Downloading jupyter_server_proxy-4.4.0-py3-none-any.whl.metadata (8.7 kB)\n",
      "Collecting jupyterlab-vpython>=3.1.8 (from vpython)\n",
      "  Downloading jupyterlab_vpython-3.1.8-py3-none-any.whl.metadata (5.3 kB)\n",
      "Requirement already satisfied: numpy in /opt/conda/lib/python3.11/site-packages (from vpython) (2.0.2)\n",
      "Requirement already satisfied: ipykernel in /opt/conda/lib/python3.11/site-packages (from vpython) (6.29.5)\n",
      "Collecting autobahn<27,>=22.6.1 (from vpython)\n",
      "  Downloading autobahn-24.4.2-py2.py3-none-any.whl.metadata (18 kB)\n",
      "Collecting txaio>=21.2.1 (from autobahn<27,>=22.6.1->vpython)\n",
      "  Downloading txaio-23.1.1-py2.py3-none-any.whl.metadata (5.4 kB)\n",
      "Requirement already satisfied: cryptography>=3.4.6 in /opt/conda/lib/python3.11/site-packages (from autobahn<27,>=22.6.1->vpython) (43.0.1)\n",
      "Collecting hyperlink>=21.0.0 (from autobahn<27,>=22.6.1->vpython)\n",
      "  Downloading hyperlink-21.0.0-py2.py3-none-any.whl.metadata (1.5 kB)\n",
      "Requirement already satisfied: setuptools in /opt/conda/lib/python3.11/site-packages (from autobahn<27,>=22.6.1->vpython) (75.1.0)\n",
      "Requirement already satisfied: comm>=0.1.1 in /opt/conda/lib/python3.11/site-packages (from ipykernel->vpython) (0.2.2)\n",
      "Requirement already satisfied: debugpy>=1.6.5 in /opt/conda/lib/python3.11/site-packages (from ipykernel->vpython) (1.8.6)\n",
      "Requirement already satisfied: ipython>=7.23.1 in /opt/conda/lib/python3.11/site-packages (from ipykernel->vpython) (8.28.0)\n",
      "Requirement already satisfied: jupyter-client>=6.1.12 in /opt/conda/lib/python3.11/site-packages (from ipykernel->vpython) (8.6.3)\n",
      "Requirement already satisfied: jupyter-core!=5.0.*,>=4.12 in /opt/conda/lib/python3.11/site-packages (from ipykernel->vpython) (5.7.2)\n",
      "Requirement already satisfied: matplotlib-inline>=0.1 in /opt/conda/lib/python3.11/site-packages (from ipykernel->vpython) (0.1.7)\n",
      "Requirement already satisfied: nest-asyncio in /opt/conda/lib/python3.11/site-packages (from ipykernel->vpython) (1.6.0)\n",
      "Requirement already satisfied: packaging in /opt/conda/lib/python3.11/site-packages (from ipykernel->vpython) (24.1)\n",
      "Requirement already satisfied: psutil in /opt/conda/lib/python3.11/site-packages (from ipykernel->vpython) (6.0.0)\n",
      "Requirement already satisfied: pyzmq>=24 in /opt/conda/lib/python3.11/site-packages (from ipykernel->vpython) (26.2.0)\n",
      "Requirement already satisfied: tornado>=6.1 in /opt/conda/lib/python3.11/site-packages (from ipykernel->vpython) (6.4.1)\n",
      "Requirement already satisfied: traitlets>=5.4.0 in /opt/conda/lib/python3.11/site-packages (from ipykernel->vpython) (5.14.3)\n",
      "Requirement already satisfied: notebook in /opt/conda/lib/python3.11/site-packages (from jupyter->vpython) (7.2.2)\n",
      "Collecting jupyter-console (from jupyter->vpython)\n",
      "  Downloading jupyter_console-6.6.3-py3-none-any.whl.metadata (5.8 kB)\n",
      "Requirement already satisfied: nbconvert in /opt/conda/lib/python3.11/site-packages (from jupyter->vpython) (7.16.4)\n",
      "Requirement already satisfied: ipywidgets in /opt/conda/lib/python3.11/site-packages (from jupyter->vpython) (8.1.5)\n",
      "Requirement already satisfied: jupyterlab in /opt/conda/lib/python3.11/site-packages (from jupyter->vpython) (4.2.5)\n",
      "Collecting aiohttp (from jupyter-server-proxy->vpython)\n",
      "  Downloading aiohttp-3.12.12-cp311-cp311-manylinux_2_17_x86_64.manylinux2014_x86_64.whl.metadata (7.6 kB)\n",
      "Requirement already satisfied: jupyter-server>=1.24.0 in /opt/conda/lib/python3.11/site-packages (from jupyter-server-proxy->vpython) (2.14.2)\n",
      "Collecting simpervisor>=1.0.0 (from jupyter-server-proxy->vpython)\n",
      "  Downloading simpervisor-1.0.0-py3-none-any.whl.metadata (4.3 kB)\n",
      "Requirement already satisfied: cffi>=1.12 in /opt/conda/lib/python3.11/site-packages (from cryptography>=3.4.6->autobahn<27,>=22.6.1->vpython) (1.17.1)\n",
      "Requirement already satisfied: idna>=2.5 in /opt/conda/lib/python3.11/site-packages (from hyperlink>=21.0.0->autobahn<27,>=22.6.1->vpython) (3.10)\n",
      "Requirement already satisfied: decorator in /opt/conda/lib/python3.11/site-packages (from ipython>=7.23.1->ipykernel->vpython) (5.1.1)\n",
      "Requirement already satisfied: jedi>=0.16 in /opt/conda/lib/python3.11/site-packages (from ipython>=7.23.1->ipykernel->vpython) (0.19.1)\n",
      "Requirement already satisfied: prompt-toolkit<3.1.0,>=3.0.41 in /opt/conda/lib/python3.11/site-packages (from ipython>=7.23.1->ipykernel->vpython) (3.0.48)\n",
      "Requirement already satisfied: pygments>=2.4.0 in /opt/conda/lib/python3.11/site-packages (from ipython>=7.23.1->ipykernel->vpython) (2.18.0)\n",
      "Requirement already satisfied: stack-data in /opt/conda/lib/python3.11/site-packages (from ipython>=7.23.1->ipykernel->vpython) (0.6.2)\n",
      "Requirement already satisfied: typing-extensions>=4.6 in /opt/conda/lib/python3.11/site-packages (from ipython>=7.23.1->ipykernel->vpython) (4.12.2)\n",
      "Requirement already satisfied: pexpect>4.3 in /opt/conda/lib/python3.11/site-packages (from ipython>=7.23.1->ipykernel->vpython) (4.9.0)\n",
      "Requirement already satisfied: python-dateutil>=2.8.2 in /opt/conda/lib/python3.11/site-packages (from jupyter-client>=6.1.12->ipykernel->vpython) (2.9.0)\n",
      "Requirement already satisfied: platformdirs>=2.5 in /opt/conda/lib/python3.11/site-packages (from jupyter-core!=5.0.*,>=4.12->ipykernel->vpython) (4.3.6)\n",
      "Requirement already satisfied: anyio>=3.1.0 in /opt/conda/lib/python3.11/site-packages (from jupyter-server>=1.24.0->jupyter-server-proxy->vpython) (4.6.0)\n",
      "Requirement already satisfied: argon2-cffi>=21.1 in /opt/conda/lib/python3.11/site-packages (from jupyter-server>=1.24.0->jupyter-server-proxy->vpython) (23.1.0)\n",
      "Requirement already satisfied: jinja2>=3.0.3 in /opt/conda/lib/python3.11/site-packages (from jupyter-server>=1.24.0->jupyter-server-proxy->vpython) (3.1.4)\n",
      "Requirement already satisfied: jupyter-events>=0.9.0 in /opt/conda/lib/python3.11/site-packages (from jupyter-server>=1.24.0->jupyter-server-proxy->vpython) (0.10.0)\n",
      "Requirement already satisfied: jupyter-server-terminals>=0.4.4 in /opt/conda/lib/python3.11/site-packages (from jupyter-server>=1.24.0->jupyter-server-proxy->vpython) (0.5.3)\n",
      "Requirement already satisfied: nbformat>=5.3.0 in /opt/conda/lib/python3.11/site-packages (from jupyter-server>=1.24.0->jupyter-server-proxy->vpython) (5.10.4)\n",
      "Requirement already satisfied: overrides>=5.0 in /opt/conda/lib/python3.11/site-packages (from jupyter-server>=1.24.0->jupyter-server-proxy->vpython) (7.7.0)\n",
      "Requirement already satisfied: prometheus-client>=0.9 in /opt/conda/lib/python3.11/site-packages (from jupyter-server>=1.24.0->jupyter-server-proxy->vpython) (0.21.0)\n",
      "Requirement already satisfied: send2trash>=1.8.2 in /opt/conda/lib/python3.11/site-packages (from jupyter-server>=1.24.0->jupyter-server-proxy->vpython) (1.8.3)\n",
      "Requirement already satisfied: terminado>=0.8.3 in /opt/conda/lib/python3.11/site-packages (from jupyter-server>=1.24.0->jupyter-server-proxy->vpython) (0.18.1)\n",
      "Requirement already satisfied: websocket-client>=1.7 in /opt/conda/lib/python3.11/site-packages (from jupyter-server>=1.24.0->jupyter-server-proxy->vpython) (1.8.0)\n",
      "Requirement already satisfied: beautifulsoup4 in /opt/conda/lib/python3.11/site-packages (from nbconvert->jupyter->vpython) (4.12.3)\n",
      "Requirement already satisfied: bleach!=5.0.0 in /opt/conda/lib/python3.11/site-packages (from nbconvert->jupyter->vpython) (6.1.0)\n",
      "Requirement already satisfied: defusedxml in /opt/conda/lib/python3.11/site-packages (from nbconvert->jupyter->vpython) (0.7.1)\n",
      "Requirement already satisfied: jupyterlab-pygments in /opt/conda/lib/python3.11/site-packages (from nbconvert->jupyter->vpython) (0.3.0)\n",
      "Requirement already satisfied: markupsafe>=2.0 in /opt/conda/lib/python3.11/site-packages (from nbconvert->jupyter->vpython) (2.1.5)\n",
      "Requirement already satisfied: mistune<4,>=2.0.3 in /opt/conda/lib/python3.11/site-packages (from nbconvert->jupyter->vpython) (3.0.2)\n",
      "Requirement already satisfied: nbclient>=0.5.0 in /opt/conda/lib/python3.11/site-packages (from nbconvert->jupyter->vpython) (0.10.0)\n",
      "Requirement already satisfied: pandocfilters>=1.4.1 in /opt/conda/lib/python3.11/site-packages (from nbconvert->jupyter->vpython) (1.5.0)\n",
      "Requirement already satisfied: tinycss2 in /opt/conda/lib/python3.11/site-packages (from nbconvert->jupyter->vpython) (1.3.0)\n",
      "Collecting aiohappyeyeballs>=2.5.0 (from aiohttp->jupyter-server-proxy->vpython)\n",
      "  Downloading aiohappyeyeballs-2.6.1-py3-none-any.whl.metadata (5.9 kB)\n",
      "Collecting aiosignal>=1.1.2 (from aiohttp->jupyter-server-proxy->vpython)\n",
      "  Downloading aiosignal-1.3.2-py2.py3-none-any.whl.metadata (3.8 kB)\n",
      "Requirement already satisfied: attrs>=17.3.0 in /opt/conda/lib/python3.11/site-packages (from aiohttp->jupyter-server-proxy->vpython) (24.2.0)\n",
      "Collecting frozenlist>=1.1.1 (from aiohttp->jupyter-server-proxy->vpython)\n",
      "  Downloading frozenlist-1.7.0-cp311-cp311-manylinux_2_5_x86_64.manylinux1_x86_64.manylinux_2_17_x86_64.manylinux2014_x86_64.whl.metadata (18 kB)\n",
      "Collecting multidict<7.0,>=4.5 (from aiohttp->jupyter-server-proxy->vpython)\n",
      "  Downloading multidict-6.4.4-cp311-cp311-manylinux_2_17_x86_64.manylinux2014_x86_64.whl.metadata (5.3 kB)\n",
      "Collecting propcache>=0.2.0 (from aiohttp->jupyter-server-proxy->vpython)\n",
      "  Downloading propcache-0.3.2-cp311-cp311-manylinux_2_17_x86_64.manylinux2014_x86_64.whl.metadata (12 kB)\n",
      "Collecting yarl<2.0,>=1.17.0 (from aiohttp->jupyter-server-proxy->vpython)\n",
      "  Downloading yarl-1.20.1-cp311-cp311-manylinux_2_17_x86_64.manylinux2014_x86_64.whl.metadata (73 kB)\n",
      "Requirement already satisfied: widgetsnbextension~=4.0.12 in /opt/conda/lib/python3.11/site-packages (from ipywidgets->jupyter->vpython) (4.0.13)\n",
      "Requirement already satisfied: jupyterlab-widgets~=3.0.12 in /opt/conda/lib/python3.11/site-packages (from ipywidgets->jupyter->vpython) (3.0.13)\n",
      "Requirement already satisfied: async-lru>=1.0.0 in /opt/conda/lib/python3.11/site-packages (from jupyterlab->jupyter->vpython) (2.0.4)\n",
      "Requirement already satisfied: httpx>=0.25.0 in /opt/conda/lib/python3.11/site-packages (from jupyterlab->jupyter->vpython) (0.27.2)\n",
      "Requirement already satisfied: jupyter-lsp>=2.0.0 in /opt/conda/lib/python3.11/site-packages (from jupyterlab->jupyter->vpython) (2.2.5)\n",
      "Requirement already satisfied: jupyterlab-server<3,>=2.27.1 in /opt/conda/lib/python3.11/site-packages (from jupyterlab->jupyter->vpython) (2.27.3)\n",
      "Requirement already satisfied: notebook-shim>=0.2 in /opt/conda/lib/python3.11/site-packages (from jupyterlab->jupyter->vpython) (0.2.4)\n",
      "Requirement already satisfied: sniffio>=1.1 in /opt/conda/lib/python3.11/site-packages (from anyio>=3.1.0->jupyter-server>=1.24.0->jupyter-server-proxy->vpython) (1.3.1)\n",
      "Requirement already satisfied: argon2-cffi-bindings in /opt/conda/lib/python3.11/site-packages (from argon2-cffi>=21.1->jupyter-server>=1.24.0->jupyter-server-proxy->vpython) (21.2.0)\n",
      "Requirement already satisfied: six>=1.9.0 in /opt/conda/lib/python3.11/site-packages (from bleach!=5.0.0->nbconvert->jupyter->vpython) (1.16.0)\n",
      "Requirement already satisfied: webencodings in /opt/conda/lib/python3.11/site-packages (from bleach!=5.0.0->nbconvert->jupyter->vpython) (0.5.1)\n",
      "Requirement already satisfied: pycparser in /opt/conda/lib/python3.11/site-packages (from cffi>=1.12->cryptography>=3.4.6->autobahn<27,>=22.6.1->vpython) (2.22)\n",
      "Requirement already satisfied: certifi in /opt/conda/lib/python3.11/site-packages (from httpx>=0.25.0->jupyterlab->jupyter->vpython) (2024.8.30)\n",
      "Requirement already satisfied: httpcore==1.* in /opt/conda/lib/python3.11/site-packages (from httpx>=0.25.0->jupyterlab->jupyter->vpython) (1.0.6)\n",
      "Requirement already satisfied: h11<0.15,>=0.13 in /opt/conda/lib/python3.11/site-packages (from httpcore==1.*->httpx>=0.25.0->jupyterlab->jupyter->vpython) (0.14.0)\n",
      "Requirement already satisfied: parso<0.9.0,>=0.8.3 in /opt/conda/lib/python3.11/site-packages (from jedi>=0.16->ipython>=7.23.1->ipykernel->vpython) (0.8.4)\n",
      "Requirement already satisfied: jsonschema>=4.18.0 in /opt/conda/lib/python3.11/site-packages (from jsonschema[format-nongpl]>=4.18.0->jupyter-events>=0.9.0->jupyter-server>=1.24.0->jupyter-server-proxy->vpython) (4.23.0)\n",
      "Requirement already satisfied: python-json-logger>=2.0.4 in /opt/conda/lib/python3.11/site-packages (from jupyter-events>=0.9.0->jupyter-server>=1.24.0->jupyter-server-proxy->vpython) (2.0.7)\n",
      "Requirement already satisfied: pyyaml>=5.3 in /opt/conda/lib/python3.11/site-packages (from jupyter-events>=0.9.0->jupyter-server>=1.24.0->jupyter-server-proxy->vpython) (6.0.2)\n",
      "Requirement already satisfied: referencing in /opt/conda/lib/python3.11/site-packages (from jupyter-events>=0.9.0->jupyter-server>=1.24.0->jupyter-server-proxy->vpython) (0.35.1)\n",
      "Requirement already satisfied: rfc3339-validator in /opt/conda/lib/python3.11/site-packages (from jupyter-events>=0.9.0->jupyter-server>=1.24.0->jupyter-server-proxy->vpython) (0.1.4)\n",
      "Requirement already satisfied: rfc3986-validator>=0.1.1 in /opt/conda/lib/python3.11/site-packages (from jupyter-events>=0.9.0->jupyter-server>=1.24.0->jupyter-server-proxy->vpython) (0.1.1)\n",
      "Requirement already satisfied: babel>=2.10 in /opt/conda/lib/python3.11/site-packages (from jupyterlab-server<3,>=2.27.1->jupyterlab->jupyter->vpython) (2.14.0)\n",
      "Requirement already satisfied: json5>=0.9.0 in /opt/conda/lib/python3.11/site-packages (from jupyterlab-server<3,>=2.27.1->jupyterlab->jupyter->vpython) (0.9.25)\n",
      "Requirement already satisfied: requests>=2.31 in /opt/conda/lib/python3.11/site-packages (from jupyterlab-server<3,>=2.27.1->jupyterlab->jupyter->vpython) (2.32.3)\n",
      "Requirement already satisfied: fastjsonschema>=2.15 in /opt/conda/lib/python3.11/site-packages (from nbformat>=5.3.0->jupyter-server>=1.24.0->jupyter-server-proxy->vpython) (2.20.0)\n",
      "Requirement already satisfied: ptyprocess>=0.5 in /opt/conda/lib/python3.11/site-packages (from pexpect>4.3->ipython>=7.23.1->ipykernel->vpython) (0.7.0)\n",
      "Requirement already satisfied: wcwidth in /opt/conda/lib/python3.11/site-packages (from prompt-toolkit<3.1.0,>=3.0.41->ipython>=7.23.1->ipykernel->vpython) (0.2.13)\n",
      "Requirement already satisfied: soupsieve>1.2 in /opt/conda/lib/python3.11/site-packages (from beautifulsoup4->nbconvert->jupyter->vpython) (2.5)\n",
      "Requirement already satisfied: executing>=1.2.0 in /opt/conda/lib/python3.11/site-packages (from stack-data->ipython>=7.23.1->ipykernel->vpython) (2.1.0)\n",
      "Requirement already satisfied: asttokens>=2.1.0 in /opt/conda/lib/python3.11/site-packages (from stack-data->ipython>=7.23.1->ipykernel->vpython) (2.4.1)\n",
      "Requirement already satisfied: pure-eval in /opt/conda/lib/python3.11/site-packages (from stack-data->ipython>=7.23.1->ipykernel->vpython) (0.2.3)\n",
      "Requirement already satisfied: jsonschema-specifications>=2023.03.6 in /opt/conda/lib/python3.11/site-packages (from jsonschema>=4.18.0->jsonschema[format-nongpl]>=4.18.0->jupyter-events>=0.9.0->jupyter-server>=1.24.0->jupyter-server-proxy->vpython) (2023.12.1)\n",
      "Requirement already satisfied: rpds-py>=0.7.1 in /opt/conda/lib/python3.11/site-packages (from jsonschema>=4.18.0->jsonschema[format-nongpl]>=4.18.0->jupyter-events>=0.9.0->jupyter-server>=1.24.0->jupyter-server-proxy->vpython) (0.20.0)\n",
      "Requirement already satisfied: fqdn in /opt/conda/lib/python3.11/site-packages (from jsonschema[format-nongpl]>=4.18.0->jupyter-events>=0.9.0->jupyter-server>=1.24.0->jupyter-server-proxy->vpython) (1.5.1)\n",
      "Requirement already satisfied: isoduration in /opt/conda/lib/python3.11/site-packages (from jsonschema[format-nongpl]>=4.18.0->jupyter-events>=0.9.0->jupyter-server>=1.24.0->jupyter-server-proxy->vpython) (20.11.0)\n",
      "Requirement already satisfied: jsonpointer>1.13 in /opt/conda/lib/python3.11/site-packages (from jsonschema[format-nongpl]>=4.18.0->jupyter-events>=0.9.0->jupyter-server>=1.24.0->jupyter-server-proxy->vpython) (3.0.0)\n",
      "Requirement already satisfied: uri-template in /opt/conda/lib/python3.11/site-packages (from jsonschema[format-nongpl]>=4.18.0->jupyter-events>=0.9.0->jupyter-server>=1.24.0->jupyter-server-proxy->vpython) (1.3.0)\n",
      "Requirement already satisfied: webcolors>=24.6.0 in /opt/conda/lib/python3.11/site-packages (from jsonschema[format-nongpl]>=4.18.0->jupyter-events>=0.9.0->jupyter-server>=1.24.0->jupyter-server-proxy->vpython) (24.8.0)\n",
      "Requirement already satisfied: charset-normalizer<4,>=2 in /opt/conda/lib/python3.11/site-packages (from requests>=2.31->jupyterlab-server<3,>=2.27.1->jupyterlab->jupyter->vpython) (3.3.2)\n",
      "Requirement already satisfied: urllib3<3,>=1.21.1 in /opt/conda/lib/python3.11/site-packages (from requests>=2.31->jupyterlab-server<3,>=2.27.1->jupyterlab->jupyter->vpython) (2.2.3)\n",
      "Requirement already satisfied: arrow>=0.15.0 in /opt/conda/lib/python3.11/site-packages (from isoduration->jsonschema[format-nongpl]>=4.18.0->jupyter-events>=0.9.0->jupyter-server>=1.24.0->jupyter-server-proxy->vpython) (1.3.0)\n",
      "Requirement already satisfied: types-python-dateutil>=2.8.10 in /opt/conda/lib/python3.11/site-packages (from arrow>=0.15.0->isoduration->jsonschema[format-nongpl]>=4.18.0->jupyter-events>=0.9.0->jupyter-server>=1.24.0->jupyter-server-proxy->vpython) (2.9.0.20241003)\n",
      "Downloading vpython-7.6.5-cp311-cp311-manylinux_2_5_x86_64.manylinux1_x86_64.manylinux_2_17_x86_64.manylinux2014_x86_64.whl (3.9 MB)\n",
      "\u001b[2K   \u001b[90m━━━━━━━━━━━━━━━━━━━━━━━━━━━━━━━━━━━━━━━━\u001b[0m \u001b[32m3.9/3.9 MB\u001b[0m \u001b[31m5.6 MB/s\u001b[0m eta \u001b[36m0:00:00\u001b[0ma \u001b[36m0:00:01\u001b[0mm\n",
      "\u001b[?25hDownloading autobahn-24.4.2-py2.py3-none-any.whl (666 kB)\n",
      "\u001b[2K   \u001b[90m━━━━━━━━━━━━━━━━━━━━━━━━━━━━━━━━━━━━━━━━\u001b[0m \u001b[32m667.0/667.0 kB\u001b[0m \u001b[31m17.4 MB/s\u001b[0m eta \u001b[36m0:00:00\u001b[0m\n",
      "\u001b[?25hDownloading jupyterlab_vpython-3.1.8-py3-none-any.whl (5.3 MB)\n",
      "\u001b[2K   \u001b[90m━━━━━━━━━━━━━━━━━━━━━━━━━━━━━━━━━━━━━━━━\u001b[0m \u001b[32m5.3/5.3 MB\u001b[0m \u001b[31m6.2 MB/s\u001b[0m eta \u001b[36m0:00:00\u001b[0m00:01\u001b[0m00:04\u001b[0m\n",
      "\u001b[?25hDownloading jupyter-1.1.1-py2.py3-none-any.whl (2.7 kB)\n",
      "Downloading jupyter_server_proxy-4.4.0-py3-none-any.whl (37 kB)\n",
      "Downloading hyperlink-21.0.0-py2.py3-none-any.whl (74 kB)\n",
      "Downloading simpervisor-1.0.0-py3-none-any.whl (8.3 kB)\n",
      "Downloading txaio-23.1.1-py2.py3-none-any.whl (30 kB)\n",
      "Downloading aiohttp-3.12.12-cp311-cp311-manylinux_2_17_x86_64.manylinux2014_x86_64.whl (1.7 MB)\n",
      "\u001b[2K   \u001b[90m━━━━━━━━━━━━━━━━━━━━━━━━━━━━━━━━━━━━━━━━\u001b[0m \u001b[32m1.7/1.7 MB\u001b[0m \u001b[31m20.8 MB/s\u001b[0m eta \u001b[36m0:00:00\u001b[0m\n",
      "\u001b[?25hDownloading jupyter_console-6.6.3-py3-none-any.whl (24 kB)\n",
      "Downloading aiohappyeyeballs-2.6.1-py3-none-any.whl (15 kB)\n",
      "Downloading aiosignal-1.3.2-py2.py3-none-any.whl (7.6 kB)\n",
      "Downloading frozenlist-1.7.0-cp311-cp311-manylinux_2_5_x86_64.manylinux1_x86_64.manylinux_2_17_x86_64.manylinux2014_x86_64.whl (235 kB)\n",
      "Downloading multidict-6.4.4-cp311-cp311-manylinux_2_17_x86_64.manylinux2014_x86_64.whl (223 kB)\n",
      "Downloading propcache-0.3.2-cp311-cp311-manylinux_2_17_x86_64.manylinux2014_x86_64.whl (213 kB)\n",
      "Downloading yarl-1.20.1-cp311-cp311-manylinux_2_17_x86_64.manylinux2014_x86_64.whl (348 kB)\n",
      "Installing collected packages: txaio, simpervisor, propcache, multidict, jupyterlab-vpython, hyperlink, frozenlist, aiohappyeyeballs, yarl, aiosignal, autobahn, aiohttp, jupyter-console, jupyter-server-proxy, jupyter, vpython\n",
      "Successfully installed aiohappyeyeballs-2.6.1 aiohttp-3.12.12 aiosignal-1.3.2 autobahn-24.4.2 frozenlist-1.7.0 hyperlink-21.0.0 jupyter-1.1.1 jupyter-console-6.6.3 jupyter-server-proxy-4.4.0 jupyterlab-vpython-3.1.8 multidict-6.4.4 propcache-0.3.2 simpervisor-1.0.0 txaio-23.1.1 vpython-7.6.5 yarl-1.20.1\n",
      "Note: you may need to restart the kernel to use updated packages.\n"
     ]
    }
   ],
   "source": [
    "%pip install vpython"
   ]
  },
  {
   "cell_type": "code",
   "execution_count": 8,
   "id": "4c6613a0",
   "metadata": {},
   "outputs": [
    {
     "ename": "KeyboardInterrupt",
     "evalue": "",
     "output_type": "error",
     "traceback": [
      "\u001b[0;31m---------------------------------------------------------------------------\u001b[0m",
      "\u001b[0;31mKeyboardInterrupt\u001b[0m                         Traceback (most recent call last)",
      "Cell \u001b[0;32mIn[8], line 4\u001b[0m\n\u001b[1;32m      1\u001b[0m \u001b[38;5;28;01mfrom\u001b[39;00m \u001b[38;5;21;01mvpython\u001b[39;00m \u001b[38;5;28;01mimport\u001b[39;00m sphere, vector, rate, color\n\u001b[1;32m      3\u001b[0m \u001b[38;5;66;03m# Create the bodies as spheres\u001b[39;00m\n\u001b[0;32m----> 4\u001b[0m body1 \u001b[38;5;241m=\u001b[39m \u001b[43msphere\u001b[49m\u001b[43m(\u001b[49m\u001b[43mpos\u001b[49m\u001b[38;5;241;43m=\u001b[39;49m\u001b[43mvector\u001b[49m\u001b[43m(\u001b[49m\u001b[38;5;241;43m1\u001b[39;49m\u001b[43m,\u001b[49m\u001b[43m \u001b[49m\u001b[38;5;241;43m0\u001b[39;49m\u001b[43m,\u001b[49m\u001b[43m \u001b[49m\u001b[38;5;241;43m0\u001b[39;49m\u001b[43m)\u001b[49m\u001b[43m,\u001b[49m\u001b[43m \u001b[49m\u001b[43mradius\u001b[49m\u001b[38;5;241;43m=\u001b[39;49m\u001b[38;5;241;43m0.1\u001b[39;49m\u001b[43m,\u001b[49m\u001b[43m \u001b[49m\u001b[43mcolor\u001b[49m\u001b[38;5;241;43m=\u001b[39;49m\u001b[43mcolor\u001b[49m\u001b[38;5;241;43m.\u001b[39;49m\u001b[43mred\u001b[49m\u001b[43m,\u001b[49m\u001b[43m \u001b[49m\u001b[43mvelocity\u001b[49m\u001b[38;5;241;43m=\u001b[39;49m\u001b[43mvector\u001b[49m\u001b[43m(\u001b[49m\u001b[38;5;241;43m0\u001b[39;49m\u001b[43m,\u001b[49m\u001b[43m \u001b[49m\u001b[38;5;241;43m0.1\u001b[39;49m\u001b[43m,\u001b[49m\u001b[43m \u001b[49m\u001b[38;5;241;43m0\u001b[39;49m\u001b[43m)\u001b[49m\u001b[43m)\u001b[49m\n\u001b[1;32m      5\u001b[0m body2 \u001b[38;5;241m=\u001b[39m sphere(pos\u001b[38;5;241m=\u001b[39mvector(\u001b[38;5;241m-\u001b[39m\u001b[38;5;241m1\u001b[39m, \u001b[38;5;241m0\u001b[39m, \u001b[38;5;241m0\u001b[39m), radius\u001b[38;5;241m=\u001b[39m\u001b[38;5;241m0.1\u001b[39m, color\u001b[38;5;241m=\u001b[39mcolor\u001b[38;5;241m.\u001b[39mblue, velocity\u001b[38;5;241m=\u001b[39mvector(\u001b[38;5;241m0\u001b[39m, \u001b[38;5;241m-\u001b[39m\u001b[38;5;241m0.1\u001b[39m, \u001b[38;5;241m0\u001b[39m))\n\u001b[1;32m      6\u001b[0m body3 \u001b[38;5;241m=\u001b[39m sphere(pos\u001b[38;5;241m=\u001b[39mvector(\u001b[38;5;241m0\u001b[39m, \u001b[38;5;241m1\u001b[39m, \u001b[38;5;241m0\u001b[39m), radius\u001b[38;5;241m=\u001b[39m\u001b[38;5;241m0.1\u001b[39m, color\u001b[38;5;241m=\u001b[39mcolor\u001b[38;5;241m.\u001b[39mgreen, velocity\u001b[38;5;241m=\u001b[39mvector(\u001b[38;5;241m0\u001b[39m, \u001b[38;5;241m0\u001b[39m, \u001b[38;5;241m0.1\u001b[39m))\n",
      "File \u001b[0;32m/opt/conda/lib/python3.11/site-packages/vpython/vpython.py:1189\u001b[0m, in \u001b[0;36msphere.__init__\u001b[0;34m(self, **args)\u001b[0m\n\u001b[1;32m   1187\u001b[0m args[\u001b[38;5;124m'\u001b[39m\u001b[38;5;124m_default_size\u001b[39m\u001b[38;5;124m'\u001b[39m] \u001b[38;5;241m=\u001b[39m vector(\u001b[38;5;241m2\u001b[39m,\u001b[38;5;241m2\u001b[39m,\u001b[38;5;241m2\u001b[39m)\n\u001b[1;32m   1188\u001b[0m args[\u001b[38;5;124m'\u001b[39m\u001b[38;5;124m_objName\u001b[39m\u001b[38;5;124m'\u001b[39m] \u001b[38;5;241m=\u001b[39m \u001b[38;5;124m\"\u001b[39m\u001b[38;5;124msphere\u001b[39m\u001b[38;5;124m\"\u001b[39m\n\u001b[0;32m-> 1189\u001b[0m \u001b[38;5;28;43msuper\u001b[39;49m\u001b[43m(\u001b[49m\u001b[43msphere\u001b[49m\u001b[43m,\u001b[49m\u001b[43m \u001b[49m\u001b[38;5;28;43mself\u001b[39;49m\u001b[43m)\u001b[49m\u001b[38;5;241;43m.\u001b[39;49m\u001b[43msetup\u001b[49m\u001b[43m(\u001b[49m\u001b[43margs\u001b[49m\u001b[43m)\u001b[49m\n\u001b[1;32m   1190\u001b[0m \u001b[38;5;28mself\u001b[39m\u001b[38;5;241m.\u001b[39m_sizing \u001b[38;5;241m=\u001b[39m \u001b[38;5;28;01mFalse\u001b[39;00m\n",
      "File \u001b[0;32m/opt/conda/lib/python3.11/site-packages/vpython/vpython.py:612\u001b[0m, in \u001b[0;36mstandardAttributes.setup\u001b[0;34m(self, args)\u001b[0m\n\u001b[1;32m    611\u001b[0m \u001b[38;5;28;01mdef\u001b[39;00m \u001b[38;5;21msetup\u001b[39m(\u001b[38;5;28mself\u001b[39m, args):\n\u001b[0;32m--> 612\u001b[0m     \u001b[38;5;28;43msuper\u001b[39;49m\u001b[43m(\u001b[49m\u001b[43mstandardAttributes\u001b[49m\u001b[43m,\u001b[49m\u001b[43m \u001b[49m\u001b[38;5;28;43mself\u001b[39;49m\u001b[43m)\u001b[49m\u001b[38;5;241;43m.\u001b[39;49m\u001b[38;5;21;43m__init__\u001b[39;49m\u001b[43m(\u001b[49m\u001b[43m)\u001b[49m\n\u001b[1;32m    613\u001b[0m     \u001b[38;5;28mself\u001b[39m\u001b[38;5;241m.\u001b[39m_constructing \u001b[38;5;241m=\u001b[39m \u001b[38;5;28;01mTrue\u001b[39;00m  \u001b[38;5;66;03m## calls to setters are from constructor\u001b[39;00m\n\u001b[1;32m    615\u001b[0m     objName \u001b[38;5;241m=\u001b[39m \u001b[38;5;28mself\u001b[39m\u001b[38;5;241m.\u001b[39m_objName \u001b[38;5;241m=\u001b[39m args[\u001b[38;5;124m'\u001b[39m\u001b[38;5;124m_objName\u001b[39m\u001b[38;5;124m'\u001b[39m]  \u001b[38;5;66;03m## identifies object type\u001b[39;00m\n",
      "File \u001b[0;32m/opt/conda/lib/python3.11/site-packages/vpython/vpython.py:265\u001b[0m, in \u001b[0;36mbaseObj.__init__\u001b[0;34m(self, **kwargs)\u001b[0m\n\u001b[1;32m    262\u001b[0m \u001b[38;5;28;01mif\u001b[39;00m \u001b[38;5;129;01mnot\u001b[39;00m (baseObj\u001b[38;5;241m.\u001b[39m_view_constructed \u001b[38;5;129;01mor\u001b[39;00m\n\u001b[1;32m    263\u001b[0m         baseObj\u001b[38;5;241m.\u001b[39m_canvas_constructing):\n\u001b[1;32m    264\u001b[0m     \u001b[38;5;28;01mif\u001b[39;00m _isnotebook:\n\u001b[0;32m--> 265\u001b[0m         \u001b[38;5;28;01mfrom\u001b[39;00m \u001b[38;5;21;01m.\u001b[39;00m\u001b[38;5;21;01mwith_notebook\u001b[39;00m \u001b[38;5;28;01mimport\u001b[39;00m _\n\u001b[1;32m    266\u001b[0m     \u001b[38;5;28;01melse\u001b[39;00m:\n\u001b[1;32m    267\u001b[0m         \u001b[38;5;28;01mfrom\u001b[39;00m \u001b[38;5;21;01m.\u001b[39;00m\u001b[38;5;21;01mno_notebook\u001b[39;00m \u001b[38;5;28;01mimport\u001b[39;00m _\n",
      "File \u001b[0;32m/opt/conda/lib/python3.11/site-packages/vpython/with_notebook.py:154\u001b[0m\n\u001b[1;32m    152\u001b[0m baseObj\u001b[38;5;241m.\u001b[39mglow \u001b[38;5;241m=\u001b[39m GlowWidget(wsport\u001b[38;5;241m=\u001b[39m__SOCKET_PORT, wsuri\u001b[38;5;241m=\u001b[39m\u001b[38;5;124m'\u001b[39m\u001b[38;5;124m/ws\u001b[39m\u001b[38;5;124m'\u001b[39m)\n\u001b[1;32m    153\u001b[0m \u001b[38;5;28;01mwhile\u001b[39;00m (\u001b[38;5;129;01mnot\u001b[39;00m wsConnected):\n\u001b[0;32m--> 154\u001b[0m     \u001b[43mtime\u001b[49m\u001b[38;5;241;43m.\u001b[39;49m\u001b[43msleep\u001b[49m\u001b[43m(\u001b[49m\u001b[38;5;241;43m0.1\u001b[39;49m\u001b[43m)\u001b[49m          \u001b[38;5;66;03m# wait for websocket to connect\u001b[39;00m\n\u001b[1;32m    156\u001b[0m baseObj\u001b[38;5;241m.\u001b[39mtrigger()  \u001b[38;5;66;03m# start the trigger ping-pong process\u001b[39;00m\n\u001b[1;32m    159\u001b[0m \u001b[38;5;66;03m# Same justification as above for removing the ipykernel check.\u001b[39;00m\n\u001b[1;32m    160\u001b[0m \u001b[38;5;66;03m# There was also an IPython version check for >=4, which was\u001b[39;00m\n\u001b[1;32m    161\u001b[0m \u001b[38;5;66;03m# released in Nov 2015. Ok to stop supporting in 2.019 I think.\u001b[39;00m\n",
      "\u001b[0;31mKeyboardInterrupt\u001b[0m: "
     ]
    }
   ],
   "source": [
    "from vpython import sphere, vector, rate, color\n",
    "\n",
    "# Create the bodies as spheres\n",
    "body1 = sphere(pos=vector(1, 0, 0), radius=0.1, color=color.red, velocity=vector(0, 0.1, 0))\n",
    "body2 = sphere(pos=vector(-1, 0, 0), radius=0.1, color=color.blue, velocity=vector(0, -0.1, 0))\n",
    "body3 = sphere(pos=vector(0, 1, 0), radius=0.1, color=color.green, velocity=vector(0, 0, 0.1))\n",
    "\n",
    "# Constants\n",
    "G = 6.67430e-11  # Gravitational constant\n",
    "m1 = 1e10  # Mass of body1\n",
    "m2 = 1e10  # Mass of body2\n",
    "m3 = 1e10  # Mass of body3\n",
    "\n",
    "# Time step\n",
    "dt = 0.01\n",
    "\n",
    "# Simulation loop\n",
    "while True:\n",
    "    rate(100)  # Controls speed of simulation\n",
    "\n",
    "    # Calculate the gravitational forces between the bodies\n",
    "    r12 = body2.pos - body1.pos\n",
    "    r13 = body3.pos - body1.pos\n",
    "    r23 = body3.pos - body2.pos\n",
    "\n",
    "    r12_mag = mag(r12)\n",
    "    r13_mag = mag(r13)\n",
    "    r23_mag = mag(r23)\n",
    "\n",
    "    F12 = G * m1 * m2 * r12 / r12_mag**3\n",
    "    F13 = G * m1 * m3 * r13 / r13_mag**3\n",
    "    F23 = G * m2 * m3 * r23 / r23_mag**3\n",
    "\n",
    "    # Update the velocities of each body based on the forces\n",
    "    body1.velocity += (F12 + F13) / m1 * dt\n",
    "    body2.velocity += (-F12 + F23) / m2 * dt\n",
    "    body3.velocity += (-F13 - F23) / m3 * dt\n",
    "\n",
    "    # Update the positions of each body\n",
    "    body1.pos += body1.velocity * dt\n",
    "    body2.pos += body2.velocity * dt\n",
    "    body3.pos += body3.velocity * dt\n"
   ]
  },
  {
   "cell_type": "code",
   "execution_count": 9,
   "id": "f480c76b",
   "metadata": {},
   "outputs": [
    {
     "data": {
      "text/html": [
       "<video width=\"1000\" height=\"800\" controls autoplay loop>\n",
       "  <source type=\"video/mp4\" src=\"data:video/mp4;base64,AAAAIGZ0eXBNNFYgAAACAE00ViBpc29taXNvMmF2YzEAAAAIZnJlZQAA1jVtZGF0AAACrwYF//+r\n",
       "3EXpvebZSLeWLNgg2SPu73gyNjQgLSBjb3JlIDE2NCByMzEwOCAzMWUxOWY5IC0gSC4yNjQvTVBF\n",
       "Ry00IEFWQyBjb2RlYyAtIENvcHlsZWZ0IDIwMDMtMjAyMyAtIGh0dHA6Ly93d3cudmlkZW9sYW4u\n",
       "b3JnL3gyNjQuaHRtbCAtIG9wdGlvbnM6IGNhYmFjPTEgcmVmPTMgZGVibG9jaz0xOjA6MCBhbmFs\n",
       "eXNlPTB4MzoweDExMyBtZT1oZXggc3VibWU9NyBwc3k9MSBwc3lfcmQ9MS4wMDowLjAwIG1peGVk\n",
       "X3JlZj0xIG1lX3JhbmdlPTE2IGNocm9tYV9tZT0xIHRyZWxsaXM9MSA4eDhkY3Q9MSBjcW09MCBk\n",
       "ZWFkem9uZT0yMSwxMSBmYXN0X3Bza2lwPTEgY2hyb21hX3FwX29mZnNldD0tMiB0aHJlYWRzPTE4\n",
       "IGxvb2thaGVhZF90aHJlYWRzPTMgc2xpY2VkX3RocmVhZHM9MCBucj0wIGRlY2ltYXRlPTEgaW50\n",
       "ZXJsYWNlZD0wIGJsdXJheV9jb21wYXQ9MCBjb25zdHJhaW5lZF9pbnRyYT0wIGJmcmFtZXM9MyBi\n",
       "X3B5cmFtaWQ9MiBiX2FkYXB0PTEgYl9iaWFzPTAgZGlyZWN0PTEgd2VpZ2h0Yj0xIG9wZW5fZ29w\n",
       "PTAgd2VpZ2h0cD0yIGtleWludD0yNTAga2V5aW50X21pbj0yMCBzY2VuZWN1dD00MCBpbnRyYV9y\n",
       "ZWZyZXNoPTAgcmNfbG9va2FoZWFkPTQwIHJjPWNyZiBtYnRyZWU9MSBjcmY9MjMuMCBxY29tcD0w\n",
       "LjYwIHFwbWluPTAgcXBtYXg9NjkgcXBzdGVwPTQgaXBfcmF0aW89MS40MCBhcT0xOjEuMDAAgAAA\n",
       "klZliIQAP//+92ifAptaQ3qA5JXFJdtPgf+rZ3B8j+kDAAADAAADAAADAAAHGuzgbHOIJMz+IAAA\n",
       "AwAGIABHwAbwAWIASgARsAXmw5/eHgfwCaiT72GEz1eUouCWluPiP3xGhIiwKf5dTqbr0DOKyQOW\n",
       "vhB4i7+xmi+dybJVRKFhFAa7tIiCXdQp0sWWnLFyCzkSz2tGSli53NbozBwSwdY5w+q/yfQLpw6w\n",
       "AUuzP3jGjW2bmD2OVRbr98ki0hFZBtBcZGZBfLub+EyT/4nEuFU+2E4ZfUq7gj41J+afJKe396rM\n",
       "ZmolIUJg5LQyJUdbsG0Zb+33G04UCLRd/FmCv1ZoaerwZhO8UeOdzThQjYDQVGgA5Vh6h890yYC2\n",
       "hWZmFQnVxaE7Wt6a+MP78YwLT4q3iuNUz6gd/n4/eO9MhLdDCIzPGpnnqA/wCk+1hxFpRhuKq5o0\n",
       "FSjLO9EO35dt2iBHYLzILu17K+hW5tE50LQrQOUYqr6dfypm6qFvSU25qMzfGTBbBAptbACOmPCB\n",
       "avSXG15cb/tBIGt6vaAFBelwzxc3QPNUBN/AEduKKsmMzU7nfKlmwjGg5Fj6g3oA0zLOhUhHrZQY\n",
       "yLGBP1P+GStLt44uWc989bBxOiebwCD2QMvt+tYnWia9ZNAaN3OZWIJXY0z4mXp1J64c54pwKF7G\n",
       "/FFszXEgfLMUq4aje1GITeiPZ+vInWVRoOOv2QTgMojVS8saqYYoOtbVN620db0Ey2vGW6bBPJwk\n",
       "kkWfdoiVupmEKgCUxtIlmMHmxFHS/tOLI+KhAtmxiWipjnZ7xc44gbZWsfd8O2NVT3+saUL7Th9/\n",
       "JbQ5dPYQ+dNsfXVUREzPf9Zv3rXmQAEcS2qLrFBmVk0DP85JSCgW+V015wl0wAAL98AVeExXhFHj\n",
       "Ge2sU7Sh2NASIARR+otKG0VL7prvwns7IrexKADzHeSMb7YXWbzgoK+TZhxqG11p43KgTq7kOADx\n",
       "5oiJOwSbXrXUBFjPU2Y6XcK1/rSk1nhQ5f1gED9PXKBfNgHiYP0tJqf923QiisV7VbcfZKGKvorw\n",
       "6hH+38+m+GS/K1pLW4mA+xZT1DGeyMx2VQxFt80YL9e2luM/6kNUMjRLYlj4QvhxabEnuOxHPp6N\n",
       "1z1PSHyBCwBH/JDDTzhRKXSRHCGsp657F1VamneMOG6EnlyAQ9+qYZLkHQNcLAx2rsKgHgShkjcP\n",
       "+6GxaRXQDoZ7asdfgd7sm0oNj/ZnISfeaODfPoaPLrhqiX80mrK/XcSITBt+j5Ien2O0xjHxJpSs\n",
       "7aChZ6Sli5rF6KAItYvOnf928ZcpWb7AMiheEyHt/A0rScupA022Nb1Nt2ocLuhdibTkREHxzzRz\n",
       "wmSiVDJt600AD/IP23VAMPnXzBFOTbCzHum+e+4G8NI0paWrXF0Ej3Jib/KrvQLASTzzrxGBsMkS\n",
       "s299N82vx5ZKssnjrong0kukW04i3KSN2Zf1deKvSPT9BxiAzeXl2MWZBHpBhx6dM1eDGv9pkOq0\n",
       "7aqO2C12MdhdUz4sUxt/CslT6n2rNnTTpFPowyHEYHTUWdqNLArY8scJKP3gCQB1byZ2g9jebxOz\n",
       "qtkrSIO43xjB1XqFaNOUGewv4HflEkJUIAADL4hwenC4qsMG8RGykmdiPjz/PE57y1YWZ8c5a5SN\n",
       "O2kxCmUy5vA8upj/nfXgpvJrv/UvRp0J2w2BufemGWmDzQCJrw7GJeKTf/y2Z4R/Pq+etdgfkLHX\n",
       "JidzI8H17Fuhy/ow73ESXtW0SHqjWP9dD/MK/q0Etlyjxbwe2aXSLJymEZIU9VC6A60pdNUb801l\n",
       "EHwEh46BD7lv5MXL5ey791FweBLLd8FpdOn4Leh2vZw6rYwLyHwZXCMGAJttMC5C10N64OvPwVot\n",
       "mQwpxvpR+ybWbuZlCkaPt1/EVw8KmiXQtCIeg+/GAJBkr8SrfIjf0E/wJBCOeeS9teLi66Nh42fy\n",
       "ttXYn0xrRC9NM3nEj+/1h75zthxkQzCxNvKX3nQbMEmTtJ1FO+zT6o+VTg7/BZ/Vjcjc8MjLJ0Qj\n",
       "xj/+4mj5is6x2T2eMh8e/5maZR7Pxvgc5IBds1kVhV4f6tkuFrJwTmHw+XbNN/qJQW/cUeRVEK9S\n",
       "EsOnCsiJBbHfw3YFNlod2tsQyCPEc+Cw4p7npXOppcrRMxAa6SNFnTxifndHPPKL3qQK+1FjyO4/\n",
       "RDdPrX2Eegy+oLy+DxgWgEBYWO42lhN19sQrCRAqx/XEEyQ07GngOPUpnaJX6gk7bXW7Grae4fil\n",
       "MfhB2MKd5SIRVxzxABJtO68Fl/JOo2kuBouJqJDnZpHxBsjEB3v3FUX5OCvx2P4qayfaU0+WuRWK\n",
       "H4eOI/LUE7cO9m5k5DS1dKYzAg4JUowfYVW3bHgt9WLkIvYGvM9F7C71MzOsg1GWuP3W9AZSebJT\n",
       "VaYjRniXwtsJN9OvCLXfHZp42oG60zi/QhkuC85HBsJj+RYrM9iq3KdE4fF00jXHXY1MkYqLoMaE\n",
       "kRrCQ3ReM7/Ksu50NKEKxS5NjYUOE3nm/ZsndKKL+puXQuSdRMEuNeVkyCtDYFu1Axl3x9xTexKJ\n",
       "3iymgUVQwJYlyuI6M5wVCKIR5iGkzQw0L9C8RaATPj9df75GiZohkewLOMQryYs1ez/0Rf5EyGIt\n",
       "9luXdx3L2iNd+YZSjUY8sNMLW62sobMfCcMRvzc+c718fUINZh7QYYr45ARWPy2P5DwMKgue7HrF\n",
       "gB7aN6UY8E1AN/Snl8mZ3CNcb0v2gTCF9UGtoW9/c5Z4fvuw/jfuLr2JCgE5RnBWXgvX/+uYTKPi\n",
       "iZHWYRwDByiHsixorWzI61zTVoGuKxCxOy9Cy5OSZe3fHJjMP9iacAUquoqANP/I32ZWbJoxbioQ\n",
       "U1+5tj72mwmUYcegE06/8rsEbjCO8yQVdrSjkOn2/l6l2GFYFn34CHqv1Brgy4U2Rgr0nJg8BJqE\n",
       "RH2mMs8DhDRAPKeSWig4spO8XiKpMrQD7nm+GKQ6Q7l1JVpevBhvZBa6tKvfIpOyrS38UgUNNdet\n",
       "LhbRpS9ulDqQ5WYg+fLOUcaDrAcH9I5iA4Z1ugwl2TQ/ILN6BXiBeAc3yiS8dfUbU9eSlnwxnUqo\n",
       "E7WTCXgWnXT3z75pdxAWK+YELqbi+U3TKX8GYIeOwC1PP7ZM+QSG9OZJ98HJ92QUqGqXIMEfCHsc\n",
       "cKDJV1cqtyQnrmQewn6j36aXn0DLpV5k4R2EjzBuy65J0w5Z+d5ZG1cyTpoxnUIOrnecSIB3Uc+M\n",
       "AZMsQPk4+782vYoJ8nOMPWo3Yd07SS1IEZ/NoIhIaEljPLhS7Q3rZjWsiesY76tlTka0swzN+7dC\n",
       "Duer5o2tJoKhdaQqfMxHkSvDyDzOGEV24AjmT24Szt7QXU5bEmEdF3MxVQDcfGmBcRi2hskljzKc\n",
       "O1EVlwOZhsylHb0ZLnYf1Fi3NQ1keUnfWgIAB/Ti57GkvEUb8BMd/d1j8OAXK6IHvF/OErjchNEO\n",
       "WHWzg2KDEwH8L/mwG5h3oCNDnk8F84rRE3R7LwMQmBYGr9u9R9LtMotDllF2JaPs9BanRgKCuloj\n",
       "13SAxMgb0cz0bP+f3TFKZNimqYakRgT3asmd/j+NS+/KE9KBSv0MDXkLeoXhgUmrK3IaF/kXcmM6\n",
       "Z7DoKSd9Axmqo8EmkU2+0Dq8GLheJE0OwuvkfCbUWqX2C0+8eNfT63kS7qwWoz00gvNwJF81kxFB\n",
       "vzhQT/MSMpIS3kK27Nt2tjmGlvE6MojWXmG9DCQ75RUR3NFjns8aDHUiuaCgHWhKwe2k8tErIo1D\n",
       "ZTmWK97rF+lc7RNDGpSA0s3JA4aXUdF/bVsiJu7+zOzEga+hrhX1bWmdpg/mwrZDWDuFEXIzuxnS\n",
       "/aEwOHzvoNBv/fe3iCQTwkd9sXBmIIbgf36bXq5i8tU0E9/D4yts8CQ4ZO7eU8fv3+8Y5eBVSypz\n",
       "4y8PCI223/vGjT/5cmFljLyv9gZjrzW5nzNttS2m60Kxeqj9aWWegvo/x9acsEspKv2uTvOwag1e\n",
       "zwGJiMEab2N4prIEjosOMTNnVqq2OKx+O7BdeirWD/9cAvUzRZGTJKeSySmVMp2L0EnH8ZZWt236\n",
       "oycwF0hZsT/hJB3KtaIIbIFDSnnRkJnkrTOYMV3DWdY+8+GDpO5ITjT7MG39nJCkszfDD6JHKnfc\n",
       "ZkfZF24VEGPsrZ+xtB3YA0kLMk4KZr7WFX5mkSvoirZySO5RNYbuIu2Il4Vy0xeESn497Enpcf2A\n",
       "AlAJDQNh7TjBEsYlc2YLWcz0mmZm6cFN+2LQbVpyxnqwkpVCDJ2Y1qqEJaihdxZ0hqTreKkJtswe\n",
       "P6HaMX0X1LGEwEIzq5ov7cYig/bHJYMM7vhmFEIAO/Vtx6cp0IeezgKXlkTwyhWZMx+AqUb9zVeg\n",
       "bQKPllBFWO5VqDJSPdScXC9ypjYkDuF06bv7xLLT1Ri2CmhqT6AKt2xytQJUXMsMXefVNMSzsPlX\n",
       "Y7lmumezMZb4h8BhMH2UuBVnawCjaWJIrQ2UV8MNeRiF/N34RGKZM06oTRU/3yb1ofrggjoMHYkN\n",
       "+6LU5/2kt8Bz0o86urHgaovLCht2tVoDqmOq+LeKI4zu3Zuf1DdbK6XN05PjBFjhBZY4aksA3PR4\n",
       "9mcHw1zYQxX1gIz/MmoUTBWJfjqrn6XqcHpKyGUtcPksAVKsqx4Z4CJDsdsLy3/G+kKzbg4yxb51\n",
       "jzyKFIhYMFiAi+8GKSO+7JhCh9dgOHlJWGYE1q+3VOKV4kIjlB2q5mdKw4dU+kSNzSeMpdYNSidA\n",
       "JN97Kj5uh8I311gsBus2Ax+RhfwE1WJJXOxMWlJmzKyv4dIepmk6AdLKMyTOitt8HZlUmqmjlWog\n",
       "DhiU3ezscuVbTbvdvGoCdn/xHkopgHESFt8osTmRrI86uwGpmERbgIHyqGD/tGYF8zWxEoDpuNxQ\n",
       "OWkUZZ9+GZ1uzhZWuQ8gEeAh404R6f/8dyYYaK26Vm3QXpEVA6tr1a3uo5xtZiG786UiV82dMxh5\n",
       "eVC2hujxceUrzToFH3fH5a/kZ5ApIq5ogjuffUDw83yA8uQQMMMYMYqnLtyYQEtM0OT+eiZkPaSp\n",
       "gbE4/oK8Ub7UxK4b9uOlxz3Xz4SHMV33C5ILx/iXulqe3bWnOhiOIYNPtB05+F65HFY4SqzG57p5\n",
       "cdc0YNEpJ2lcnMCvIJ2icjwFD2M0/SvBkRdcrb1aA3j1V7XpGBn8xhPolfzs9Ws+x6mRO9smGN9J\n",
       "mxAcQlBK5Ki3W0Gd+LmF8MkrfC3um3VbfdfSJkXmGYMbWy6lc3k7qbqmeYU1Te0+etnUmFCauNMO\n",
       "xnUP4WLMV0UCAMM0+BjeMZYu8H/dL68XdRz97Er8lXocrxJvjImntfSjNURs6rdBGjAq/e8EtcUH\n",
       "3NYjbGlHC2os9ESLFgAprLKRvSosWMrc9rqpjaiALJvx+Se+fPhqF4CNhBs1JAI0SOkn7Mz4WgeC\n",
       "5UQzKikEEKnP5l1DHOW3Jo+o8UfyIiI2NtrJn5ZGhau4pmGEARtI5l4/+cvI2OrF1D/BdCFTvK/1\n",
       "1iAX6W6WmCs4uivDHaFNSbtgnNX7ICMVGcetTqSeqqWAaHUzt7RRiYqFqZt/Uw/dh3WCj8WSWD3f\n",
       "SrUxr9Xtp0cheJLLUkrfeliQv5uHjCR0eehaR5pTprtqDTRLwvzOS44OlEULueKnPBzxTM+X9ryG\n",
       "EbJ1U+mrUzyyexAAAEk33rV+zwaZDG3b/KJbnLed1EpZUrtZfjZ6fTjZ3yr1XRbtKEsuswFTxNzH\n",
       "2VZViOhh+eBHvLD/2r53H4lBrDZ/0TTpvs+JkRxew5y9WPr6knHoYainKFjy9w/n1DeChO+Me//9\n",
       "rqyjgiK6ROSAo4uFDeHMcF3eCQ45Jl3/iXv72PBF7YMOwzFceps2GiTV2v4yF2Q6FzzaRr1GEEB6\n",
       "FjuGVyvD3fiUgOlY0lgblmZatlLkG5mdhoNnd0QKV4FMObDx20knJaKwO0B6K1gOWnjDHj2oDXVN\n",
       "ZU1kpSv2sbaMBwQ+oC0CzLrtLO83ykf5M7On859eHjXeS9hQq8LPi7DXOl+lceSqYA56KXNghmSw\n",
       "k48BYDtEVjCrs3LiXYCCmz2zvn34ky0GjTOB95HZm7nzeQcDrJNLAbUYPdTeimlF5nrz3pJEQn2X\n",
       "t5REbMt1gvtesXW3TG7AgE/cOMqP65BHRTi2OpGL7nn1+VfAlsRdNFOvBsFMivr0UJXWmIDTflE4\n",
       "OWtRrlf/TYOsT8QS+q5xFdMa7JXf/eFTm8a4BXPhBlWUbG/K+b8O18J0+2jHr4xYk3wC5bPaOM5P\n",
       "RDeTCAREQJSeMVS6WHnbfA6O6Kizk1OvZ1lvpWWwqsrygK8FE+xOEzPF/ngMMOomaELXgwktcNzm\n",
       "E/pxSItRGwH2q2BSeNG9iJG9gJpFwYLNh1lct2tZEJVszINKkr6aqwMeaa8n7DzKoPDGmmAJL5VZ\n",
       "v0RIXpqofKq88hgF4cK43wgidfcfn9DVILxEOJmKe5WYzDEeX7j2KUDpPSNw847OOzz0UFyPiCo+\n",
       "aVyD9jhT4Yo6Nh8sPE5HyrtlqQtlRqJt4/mAndjguQKhVwm3Oaq3hONffzLZZadkGGY+1PNzzOwp\n",
       "fVJt4ejcyD9oGBTmO6stAP1aZRs1Uq7b4P+8aAYDZtDen1dp/Aj4Wzdi6Z1F88V0HG8umZCBoUdJ\n",
       "GY9zA8FHsuTet8wjuTCqbjBKy230JM0RyxvvdJ+28lvfLNex8J9a/TQs8cPvX/yq/viFGMdtvNah\n",
       "Jwry5wPURjm1x9cbu4hoQVc3TNeEJtmGjoKPaBBoAfXPlyzqQAM9CcbyRsbsJxwm8Q9kWjpFghGR\n",
       "9OrbKn/F9ei2o5a3GsaxeJtuISAbpdO3SociCJfQHlwh4sZdbv7l71FfwJX1DNUvQO5jpQPmb7QJ\n",
       "uvPiJCE6VAPWcloIzFtTLZhNJW3kxLMZ1j4vO6BuVwTY57dQF08JwbvJpY51K6CxLo2S+Uvo+lNZ\n",
       "vwzhi/d8uqxA2ndjd0gfG+1Y0HVq3WSlTXIJNHwMt9be3sIHV7Iu/L5HMO27jT3kSrb8CijugFh3\n",
       "eLjwoMD5tIsvd/aDOn3TFVlZhWWIHOiTIpT4UC/xvwiZUFSHDAZsZI28YxIyrgHQpBMxoRHnroFr\n",
       "e08PFIBnPDPHLSMoCe6RodCZNszLJDnJipXk07534rRyIeMRUHp0YuDkZWQ3Gj+P5W0vzPNheJa8\n",
       "77pLscKSAU5KCO8rmQp3Kyx60Bjc/UkaA4hKI/dXo/QUr8KgRx9XpCK+T09P3H0I1csljAloDkq+\n",
       "id1NoEpyp+Ofm669Hx3UVnVVCYeZJWyrxT/cOh671xXhFJbJDbic+II9Fvz+W6O23pe+vM12YjD9\n",
       "78oVVXkHhwXrUfqzfzXyeuTHbioq0XY7Wm82/9tY9GAV9Foebns722so2sZplIrglRjbc3v3678x\n",
       "TIZ9EhysCv8jUFvIuQhfD//ihoL0uctTa74DwOIbD1rD0PeKNjkmIPurgIqCneMDdxKKJ8tw98Z0\n",
       "Zyx5AWWnrPKZR58OHW1K1rlya6t4zNnrEWV/4gAUqYZaNozeP1WMA4nsqCDVSgktbAKsyqlP5jIG\n",
       "Z3z0iKwROHu0uxzBEkmGmuPToa0QD0zxuiFV1q7nI1ESaeCcStD63fCgI4SR5qkCiRSpg3wIH39p\n",
       "XrLid1lHM10hFqJQ+sN8ntP+4F5KfcPcNMujt9UhyUMmZLUTfZoFuDAZlz38fVKmtYhR4MJtea1M\n",
       "HiqktR/nEwPoa8c8f27he8K+BKEtXjgA/6z/MrBWbaX5R+kgRXauWTO5aH/lg/b7l3eD6MPZSCF8\n",
       "9HCfRyZYmRoXR1yL6eCmmxunOTKMO+TkFBDvk2L3MnAiCH4HaxDYPRVj0D3ENYUNS/5Vo2P4Brci\n",
       "SnWYLgmhrtC9KKKiTzwYyj2E7mdkoMYuu+ZLBcqDw6FYbx+wNUrAHJIiLhatrMo+H3qK85WTNTKg\n",
       "fvntz1H/A253Ua8ww/4V7Pq7H51woA16zoTBCQkplyXz1eWaxeGi+DCboq23hEw7SHGkgK5fZzrz\n",
       "fUf5otM35UvdOzT1S1OE6iBF67RftHkWZvIq1iSx4j0TxLtmgTXQei5CYYChASLdyoMtLXCcWmA0\n",
       "a+kf7B7xzVU9Cv8DmH2DOUaNV91VmSyMlhGCHeK7LnVcMLh+UEiFls6bDhNc/6/jjYYSIGvDWSTs\n",
       "502Xk3ENrS5Mm1H58tESTcXVsJLbTNc9A1wszquCK/EiJhzPhbbM1Bp59+E8fUcn+k2QzIdPtAYy\n",
       "XCsMyuAK4NV6FYjke0DVZQCETDSBo0GC6Tu5BG4SCDKHQoSAWqTcHfYBhBLyeXO7rwRe7W/38WfE\n",
       "qbnbROMC84z/Os1i94uMiRE0SQu+5iWgFITwFymM3b2MtZzCGpfAtroaHaYcVa8SIICi9RT7n6XL\n",
       "MPGouioZ2I8jd7GDPQB+sjzVbUn4HQigieh4qA48rLxqVn6S2LodJce4LZePeKCA8gJq+6rzgPkl\n",
       "DsgFPh+18riZOCWVitE0uYqkKWk24XTI7E5TDO3fDuVcEj/oI+OZB64P8FcVT03Jsh/MOseaecp7\n",
       "9P1i1yyZRhymeHQyra0hdrDjxJq1crgCVzvj/jUQbBTRW+ih02kEqbn61LvLqwMYPrGmrV2XBoQ/\n",
       "MnyUBwTAwZa9/5sx+FWAr7B0yGMprTOuoTQVRDQ0PPUn+x8Be9qjJzOhT0xYoTOQ9wAFw9s7Gnl2\n",
       "roMxfKQnPShOv07kpvvsHOpA1JeFIwklQem6FUHf974So6A3Sc3wxqZUh4Lgj0DCko0ORRnqzGeq\n",
       "QVaGKJdbwDgMqgbytG114G6IYtpVVD1O8WjEg61lgZNw5F3GyYmFZAPOl6HdGRdJr5vDzFegb+mm\n",
       "M094IFqfZVJEk2s8IGbju3QjwSE33MKDxT32u2V0Pnxc4bqf/ASwKxHfr9eDVxMqmhjCTdtfcj5z\n",
       "EnKc8+u6n0p/yXYq5DGopSpVn01QgBEwEHb0bx5hOiagDR3rSvgCzRZp1mF8cS6Vjxe4TNb1qYFr\n",
       "Qfk59EbDYFMW+zus3U3P/ZyOOulHfMQVLMqvTO730AqZgcOV3zrtwLHVzRuD05bhtMTdFAz9a4iM\n",
       "/ezsTQqeitR4if6GCwPnvRBVMv91G9JzAtVGWneXZPXiT3iFZllSxQk4/OkVdvY3/5uSfJVh3P7o\n",
       "NBmt8J9FYF1oe5AfwAK+INQa5EXIsdeMcsfujRjgyC8424DDPcmn1/zoyCI1cUwrV1fkK4EgpGCn\n",
       "zrfihT/QZ/0l/mdkPX+keokmXeLiA9AJ4LJ9O+0eOhOGA1p+NLZiwz7IUNsRcBxLs3eOwKyV2jkB\n",
       "11S/BrsDJ4g7U7oMQ26drfCF1v/lb8mSOkrw1LfmF34RdCxrn1UG0kHJdEznMm6KmJ/AknN2uFX5\n",
       "LoO92MkuRk3RW1SzBVqEwx9bdJlhCR8/LfU5vi0xUG8qs8Hmalbxw6Xk5uqGwBPDxDWyqRbp4Elo\n",
       "p4XF/C7HeSvQoWrjlFbs1g0zh7aKX0X8+QJkwPmmsfmHH78HKg1cXG1ojwZw9VekbcUSez8INJDY\n",
       "uokahHDG6CZcu4OuBXrrENBJP6vvr6rZtwMU7wemjzjtT4lkLyzUYRVuhB3SvWpIIfHam5JQ31Ws\n",
       "eoaUmqsv/YlJpSP7XDLCfUdu2cPC+0gp+226jHpjbpd6ZTWWqUMMTmNxkLY72AIfC18FAFJixSvu\n",
       "hywZnMkvdntR/b/IJEdixIcMHY82ogxg1w7phI3o14s1V0xvCJfzZmIZbPiZrsG6Env8Op/XTPig\n",
       "fgAfoRNmJAHJ7+FKYiYYutQIpIb8hESfYKSWsnE3ThzCCQl/mOv18xHwkS18qST+WDcGx2Zi+voL\n",
       "c4XqtS+8kd5hWFxtp3Vwi6TN62qO+5Yn6llyaYKT/J3ZoWQ4SiHw1CghusrgsW5BlpHyDGlLGRX8\n",
       "LNnQzLYkFK1c/sJdBtcH/E6YQCevubwS0EBuoRclImLSQ0+/WWUeeYD896Lo6CpKiUR/pTuQFYJT\n",
       "27rImvhvrVog1WZLfmS8qeBKeLbmo5MeV3/M+EsbN42hJeuDuIHdQGQKGD11rLlLSm+rjqB9JQJL\n",
       "TA3/kmd8ZcIXzyS1Go/RKnsqAOfvkXXIceP0flIl8fpf/cAozEavPGXAPkfsaxpkvZBVp/CMFl6P\n",
       "6+cUiLJIfV3HypFCAxGk1skoDQPOuKMP/WoIvLkjfdto11jVYwwUx+PWJdS9e9ctBDi9sMFKn8bH\n",
       "Y9NOnhOfdIkSS+aURgglsuhzHr+VcHEb1x1rRXa3LwUjWThA11zd2mlip9fvTiZbYk9A9qx6gofq\n",
       "qUb5tuUac77aT3rxCNUm/cM69MdNnIag7XG/QLSh5fS6kPCtB6qW4CuiXPIZmu6F5xB9dBwWlvEs\n",
       "rrMj+8MM8fTWpVOP9tXkxCp8f7zw0m3mrJygUpD2DsNfcwu+tM3fOharIFm6IxS4NtuxgLgPwHtw\n",
       "RZnkXmxALug3E28D7LT7VhtiEJptlbUyw/H3oMo9DYqkhasiUIPbdBP+UIAq5Y8pt9yHu7t745f1\n",
       "9LjR+GabU9HAt6bihjmcmjeupAhktx0Ey0qa6TAxOaY4ME5Y9ggMQAPGjo1ucZ2Ya6djEWN4lJpS\n",
       "6ao//+wZbSZt67qpcCnmh6808hZw3MlVJKtY5+oDHjkGcybttWzBuDgpLpewABQb8NCxryUO4DzO\n",
       "FKytY8cjauysv/Wwizrx/j0eAgTp8JFHEeIcaXkW+EzsAdLMql0XKCJNwmljhl4QIxvrm6i2Xf4E\n",
       "y43LDvC7JmEaI/BJuoYPAQd+YWyf6jMmx06df0USGr2MB3WRveYJoO14mewrOIqdEaW9VMVFQxVa\n",
       "zUKYQabOgHTo8+xwA7p6Iac1eEeojMB4L3hcSMHsxuXn2CNucOskPUXNwdNNG7jkHAeTTJkCLDMC\n",
       "pnXUsEwmmaF+yJSIylbf+UvfEcMmXgH3f1nOqMh8YlHkYJkRL84tVUOlGIE4GL0Z/Bsp4CYcquh4\n",
       "SNHFY82S/RnAVoKf2ffYH1glxtnxdiDLMu/88H8W5UHVXrRFcdN4k6wURcAyHNgvI+kYYEHwgzPw\n",
       "+IaGk+peqhqlZ0r7o1+GEegobDQiDg9cgECVcrVmSl5J63feWLPfrZZqrNO2Q6QQvrh9VCBwKPBy\n",
       "bfmRvyJ0Usx98IeMF5WxiQXk8zv011VxXJyH8lhjuw0uqDmUaUoa26vw7tMiIJMYy1BWxIT2JBCC\n",
       "atdiTykSoBdvml4ZHH1RxMTHOw+2cEucd7gAqJ0xHyCEauyIAm3XFi7RgDXIAlYqo1gp62lTsIXY\n",
       "gjPNHJAKMPRPJjGNI1CzonYwRwuobE7cPSezQl/x2CD3PqNYYTlP7qM5WSveohGaHS7A/g5k0UYu\n",
       "z/RnXyd+OND2xyyyDb7+3FKMJTawFrosaQ1qeKMHjvfpLYTWwECeJvPni5gz8K2dvtljX8YfoqFa\n",
       "TFtXBG2+3LunoyXWj0jGOiPieSa9oUQ8C7aTx7s42OngA37RpGGVIANEYPZi4pb4sz0xyd5O21vY\n",
       "D/9+Rt0LgFVe+Iwb8rTbN7atEOhUTK3gwSWILRtGX+GpGZSeUqqERfk5mINNpuhYrsDgoOKHqo6d\n",
       "ZXUdzmQNgeAdvByhsYnCvyJ+3m9mBvX1ynRJRvmk78qoyFCM7pJxquJ+GXXiPbmVQGmpGZBjBSyo\n",
       "V4t1cjmBXPI58vbjZLjH0i47KU8ldxYSn/7QFdtYUYqXWuueIN8ME9mcqFWHwLoJCSGyx9RL7qdU\n",
       "b0+lkv/dOqWkGl0ixh6h1uIvtM4xFrLRQdYZ7pSgFn0utlQ2qv8c/FxwLDnCLYhmhnc/wUcAhCuf\n",
       "bnD7vqZ8KOhkJox5An027sw9rqo9nG8knQS3hCadQuAFmHs980F3BGm9U+tFLRaFz7DMJRUfLV2i\n",
       "oNUEmGflWbOZ0ihTiqRh5yQCHpM2iliap+Z7FDj0/cCQe1ZEZwE/+IxvEw7zt9J1REvf8jtcBBRZ\n",
       "0CVl78mqcEJPx52iAq2pyNFDCtqypjpNycO/Wqjmw6qWIQfg5iMCQiRjp95SiUXaJIrEYRvR9cSa\n",
       "vO4eiaXueAe5dGXW5DntuepklR6XzDTPR3/YVTGX1ooI79LEiC9OGUX1zwxssajJvUGPU3lm4GXS\n",
       "LOvU3P58Yr0zxTkyhiYt2PDDKLiTjA2a8O2Geld7jPdbFCZKskoEMIttLaQQlhlFC2NHWKa5s4yq\n",
       "KPsgJ5dlj2o4lyRDHmDlc8KCR0vo7I9aU/KdyOmmx7f6j37gy8QVnz+frl37RENfiM/semGozwAX\n",
       "g46YCgM8/u9x3jF3/Nemtgd5pEMex7M0RFUnnj+5nCcO+JanXPwnQzgMO8xistZpeM7LjYQ16OAJ\n",
       "qzw7XDsYGvXzNArsaMT8OWMtobDapoDn37q56NzxQLtyNMl5Wd/5xz8sxxHPaJ6e2cqBcRJhZm5N\n",
       "8z/dIwUetJBzvLZhrg/h4DcoSDSm9d/v7PanQR+guGBUgR4lLh0gaSdF40YBKNXPziKCMdGIIrjr\n",
       "kqX4WAWD9GLOIHBnMCEwUadWLg9h2GkF6/x0dx4ZIoKE697po5/Hq+XVIWtAADT5ortrh0Ah34am\n",
       "0kmaBWgBQgZO+2W7Lx699gHzkaixadL7ZrVlcieea6TSX63aKQdoN1zuDAyef1n3Pk0/ba87IiXL\n",
       "P3reuTBbRhwthUv5T34WAx9h2QqCo3KYIK97LwKxCiclVf/Vw2F5QIoD/lNWHxaIftUYjgn6Y3Ya\n",
       "I8Gm68oi/qGRaz5oV9umy6C70tfQjsaVlVm+RB1faVCQqSRa5L5f8Y9LqRIhNf8x5t13+nTxmts4\n",
       "/A+frnkrGCb3muM9fwjIsx2ppwlP2/DV9VszoMGyMGWf3K6371TGXb6EGVFPzUZ7griUsOCi64m0\n",
       "N1AWGudMtcCgqWgjE0HVK/LMOAXJ216zfdRU9OfuO+V5rgh2K/Luem5yb/PtAiIhqf3dSjrTVcGq\n",
       "r6YE+MLJJLqisWdB6Edz+vrd8YtM/IndlZRrsQ6HRlvqjsLrW4p3n5qUPLlVKmUNXuY6L0QTgnm5\n",
       "H0FUAGO21HPN+Ggh/sxpCMg0jXlvsYgDOVCSJ4aOWxh5s1XDed2Detlgkd+WQe4eZjJqFYPMeLxY\n",
       "4AMaxFeehjX24Xf4gn5rxkM2y4d9HkmkSmBeZtqUFaq6skULunF58nJA6R/Ctz67V8iwhAbrvIsZ\n",
       "eNH3BJntm/nsQgCVGHyhmk4yN3zZo1GoPX3LiW+1WCtiFEqhbrvzHINrh+my+ZcYuMpanCx02srH\n",
       "RvsfWgBJeLWdnunQY7txMl7g0RsI2Y/el25Fa/RsHmoo7nlPaxVCcVI5GWd2fAt8DSsinKOIh4UR\n",
       "Ib6V+pt9XPO+E12cfwYYEW52ukltYHJ/xsmxsirQJBh8znPxRDuDCQAewnigbbfHepFcNrI8yi9i\n",
       "0XcxCFFVIZSEBH01G8h+2roZLkXua0RB/7yE+VHDIwmsP9XGV6Woja8/KYqFJYdxCGS8xJDjlET9\n",
       "i4+A0+tg2peXVUZhgS0HmioyXfj8hkwfIgknzNN7bx3xgj3KRawQwFgaHhofgUMYxpHH0nljBqYZ\n",
       "OJ/NHDJ21utrJsuBpXI6+BJIXScPDjiwpDZx5xelro4QsQtOF4b+o17Eoy76kEJ9yYcA7KHQA2cp\n",
       "qd/p1JZLgSBV6C2k3R34IExCdBAbM4TpO9w5FLRxJmbKNZT72RCNtAeo+K6Tc87p/+WR/qXOxjrO\n",
       "YYr/ZN/FnA81CKARwquV8uwCHTBdQWpjmY0UWIp1+NtoAIoM+741XiFsvRM/uyexkOskrpLi9Kze\n",
       "x1VzY1rdqZFGA6dfx1iq2UUGYNgAPpvtsJhF1EdEll0aYXPry7j8D9FpweaYslXsblV1ZVkaZkdY\n",
       "fXFC/qZwbXKJ1/ha65u3E7FpEaqxAagDzsR3ILxiIBVYQRTR5djaSUsVgeEYhz5w2ZL8fErsUjPl\n",
       "RwaHLnVBjhJdWf3XAXChJOJXhx5gAQd4I4DWGTjm4CVBLiR11C9ww15KG2V1+yHF90KLd2G9ojeT\n",
       "W/91zV+/swq+cyOedZddNRPLGubZ3H4RVu6bRjRmQAVy8wYwzUj6uIMvfQtB0/00YN2eLXWFM5qI\n",
       "Z6xiTfVDOwRBh7WhUyOvc6gtabB1c5imAOiqjZMsCHN9uzaDHB34Ybz2GgTd77fOkKTDj9/9bcoW\n",
       "IHTQXwfm0lnezSfkUt8u+tidkEpKdu7QApUgu/YWpJ4HI4ar65NiWk2nhiLNNYgnJPCX2UaWWtzM\n",
       "j6fw588lB1kE9PHXlfFYUOvLjygh0qJ5IU1ZsoqJ/bvd1G/9FpEJPtftuLisEqyQrnPZpspmCCz4\n",
       "g25IsAxGX9A5lIRutgwEMD1VuHD5619fGdyqicjFAnCmTdwHoKD8TbpObLVu1WUZ1a/QiBaMwUty\n",
       "QN/PqSbU6LVofQYZMQcSCUrWInMiwXU6/n1+iT7RaAuTsNn235ycHavODqg7qKrxwxgyRQ/IMWf1\n",
       "FBxMJjqw9W9jUgSTi+1CSnhEZ+I+SInSm2BNvU2CAsWcjHz0nHVSYBn1IjsWlSFXHq3zNIzngFk+\n",
       "IdEpq4S2Ja/oaSiGB/dHP5okfU6rOYilGye/lAd+IMrsW7bfAlZoKjNyMfdekDquB3qY8yDjNZ+Z\n",
       "0sGIzm/PrSnHgr/9gYfFM1tEKSv3wM/lOuHA1IS92IAETWQOLV0ZdIbGePplymkLzYSDlqt2a2HG\n",
       "pGBYKbQ7lTj8gn4NO2k0OeBa4eC/OSKRrumwoLT10hb3JuES1KhdVd5wm7v0ZcFaEagAmx2aB3vE\n",
       "rMoVT6HaKIqSvk66zy1IfBxkpChNP+61WWHZD87+GFq2uZR752zDJfgCeK230YaSNclCHSaIq/GI\n",
       "XZ/ixP4Rv93VD+9TEIgMrlV+Li+ZapkzZhPzXadevO7LrjwhUqgHb5xL4h2obYSD/O5uLWpBwC3t\n",
       "MfHq87GROR79zEjk9KB5a68nxew7NDC5C0rm/+maIv885gFsTQTkqx/kxgO4Jvodc19J+GmonT3s\n",
       "PIf69vPKc+NTfhJaGo47C/IqOw5SOdIox9Om6FMKITk0Bq7RARMm50EaOaa7Yn91yJ20grpcJ8hS\n",
       "mSEprs2JTzpFigPD1rxYXKnyc+zdpjp+lK0QlT1ZdE3Wd3V3fqwW/guGmBkDBdIJHaNpjaBn+Xvf\n",
       "3uoXP+Guzq3OxfJIl6DG7Qt6ryD+zkHHey2ZKAlacaMWj7usycbRD+pZE4B4chEdg+WyPmdWwiy2\n",
       "6iUOIjpneZEKS0kN4sHidVI/g64Z9TBxHSB2vPuWTLtN9yYw+RwR/X3PCl4sm9OU20keoRCpQVh+\n",
       "LKKk5fhdBZvbKiuTiDIYb8BBiIhHp5RbgeL+XDkygzRYXirGkygN72pMoEqd+jrwAonsKmLytHMt\n",
       "rfTIu0wumuldL1aLge5xOUK4aptm0PggzRPGDbDP+4PjkqTHWDxWB8OakL56ZFjlAMLq5m3giaTY\n",
       "6xpP4HjEMEG2BTKnZYNUg8gpmkwI0MM1f1Gqn4DGhoYxAbDT+m7IoN3bNHsdnm0J3RDvRjreXC5w\n",
       "XKFL/541ZSnDj/H6DRxdaSDFdfKFS/xl8mltMJUosU55NCV0/RLXKdAP6utOHSOtQNjpC6aBWnx5\n",
       "nzKSckT+pdbQdgh4ue50scqUSFxy6uDs/20fy7VXb7jQ1q5gpO7NJWTba9CtbzuO3nPFbw8Wgi5b\n",
       "oiS22fn+4Khvvz3VMOinojhi212B0NgTdkhmyQQ7hjEjL0h/IIEiuvBO0QTK/sHk5oVThAMU94OG\n",
       "UU7I+JFHuiAHSCZDBPl1yzOBty8Yu00pvuraSpeRSMOz51ulg4xd+Sd970/95w/uUsHF54P8IHcN\n",
       "FnSsg1q9NwccX+XNLHfrcHGEwjVOPqGRErGcRIMtX86NOgqu5ha8/i8f1lkI5uu5KH+sg6S/K6mJ\n",
       "1o4Eji/ieJ1WN5yriv36D4Vxwgbg3s/Bz3NnlQb+oqhSFjmDcxvKt/mjYMJ/4W8rqNeTZP5F0i8m\n",
       "/Fu+b6Bz5QTw/VlzF5DGzt1S6+v1q/BjaDekv+MFIMSxcvs7Ig5ktLmGu+shjoEWk7zbs2G0Zfxl\n",
       "7x/+7iv65ZKn1KaXJ2KTXuKGS+u44JVDcUFSoryKVwFEXeYNLykAjamVc8w/TOkfBQKwPHfSvetc\n",
       "ZNtDHeK1MuwseLwgfauGK/toAJXEhYZ0zYULO1sOJF+TZpsF4W99PaTpwKMbBtpPUR4KVN+n/qVm\n",
       "GadrMvChBQjTyOh8/zAonEsw9aJZYC2eN7ZCsACyfSJD8rmDmrgWnFk3HyonFh4k5Dyh6jia0osj\n",
       "6RyUyh3X3NGEQ0H045q5jZphkSwBFdS/9NflTebIYXk6wXRcBphjqUOrE2aSKe/FJLckpve7xesW\n",
       "Zn8ua/pSLNlQjEvIm0SjgIH+u6yGe4FXZkkk06driCZBB8Ei0DV0DFj40/+nkIVVdyknllhQ9tA6\n",
       "DjYbymYqY98Cd0CGgcbgtlt3bFVNfpwqs/tHDV0ISYEaqxkHUx9KyXzbrm33JukaUjnfccdpB7oy\n",
       "aED1zArfxKVOuRYAjYWiRKWgtfLvQZeYwL8VnU+UH88m1vePNx4GfTmTfud57CVu+uG4iQzRWnau\n",
       "YIUCnJ/Oahw4cnRziWt/ZJlvc6uXaAs1XVi1i6VL5O9dn2YmcNSltXZSxdgqtGncr+iv7NDWJqOk\n",
       "Q8CCSBuY82QXatBDHDLDdVf1QqMRzcwpCwnhi7789G5Oyz4wLb+IgXsXYKf2FW6bKFxLhshGrApC\n",
       "k+wQQKJ2Lf1tJ0OqLQ9cZ2+xQq0+pahnymuwl7JC5ZBtpDkjvxoSR/qvolmbwf9+SiMdHWc5Y3Xe\n",
       "TlTkJ2dgwFfG58fKEY1GyT60o6PNAZPH29VozwXv/f+y2Fhc/uw02g52RHXhb9V6vDFb0gpktjtZ\n",
       "cT5OyMXGVbshUc2741C259a7Javh5Q8j6UgZqbsI4N73Cbw9dEDqarLqWd8XWBfE0/mC/bgRThHY\n",
       "I7UMgCL9D8cm/qtjnq13bYRBHY1GaMISJjJFeMqeRSLLvrd/F4N+lYXkDLuOnAn9NQc/IC2GpWAw\n",
       "sskbaPIznTa4pRPfR9OqL1h9h0qozCo/G4qNwHNjrlmnFXUiPf93ur4tu/CmkfoPQIzP+dJdfq+U\n",
       "aaruIZV69NeT9izAE57mFKFI6kgkKMvn/57/J1E58EfILnz/VQMYQJznijkGEFVayZBNYTwLi7uF\n",
       "R78sst8OKhQz/JN+ZWLbM4FsptUc7vAjnSWqeSc6DAOWrFq/iqFthdk2FjhbJbLAFCOU7sEnDD8n\n",
       "gROakhZuMqU47jbP+G4ByHpjy3FKgHwKWQQI7D3zn9MuY+C8grpi6XEg7oervjuGv8ASpgWfuYv+\n",
       "viNEIt14U8NZW876pYScdfamiRKD2pKcNnKTOC7v7JJGuGVLo+c40ewETPYVB8vTUASRoyGHvF5e\n",
       "CaTvSXyolNrVT1SiVsGjSEDkFwgdmznpIdDfv7zfjP/zVYOLAFYwf20CAtpuuYcEFzhVi3BVZHHo\n",
       "xJGzYVlEFcdbg6nlkNwVmY0bLXvlCy4Q2X9h8TiF/GYzi9M6l1DXZeGzfjul9wJ+3dB16MpeWSf8\n",
       "Jz3wrj863Yee+vQoJ6OSJkpy2aZIla6QWmBXPQ1cfZXgdYU/STc6QLAC3JquPkmT7ij+YDRnCv7M\n",
       "a7h6+2b0d2VZL8lR3wPit53SN8d3pXvl26ou2cafBKlC//5v4zJZlXopMek/Hngl3Z10HUn6dLWs\n",
       "W0v13SymbHUWvScvEl0Bi5cYRTvHkWB9b1XfY1gwKSnFHiCP1ZGr8kOdUHFsLeNyX0dHrj8Rua/5\n",
       "pFj2CqhXPzOafId1D665HrzAj6O/mBJ7HO827yLcxcn7wKR+cB9fSroVDrTF7kWiuhHnvsMTz/lU\n",
       "qD6iqK/QgCvKGWHiBAVXXvzPTZgjG8cQ9vlHU53tz+zsRQfYaTUNc+tfRWFHLAhX8hqQjXcAIfJP\n",
       "QWFKF4wAnA0o1isccE3HIvo4+pdkuMAgaBTUQJ9XoAdVW7uEHnlHhJsiXbaHQomKzGkR77ZOQoLB\n",
       "QLsYeQ5acmGIWwDmU58/hjf+a1k3skdWN1O/Lc0wJSGo5uv7/noDHYDJUUK6JfS6YcNP2a4DWHA+\n",
       "S5KFVAQWpaN7EwFHBECaUwKrJFfJXdqSCvTsxcNNc/EoZuWluXEX1eBudmECPtuhAg5Gv8a6FPnP\n",
       "aazLESUjHMtdbJ2IQMfEIQhrZxDGkE1dVZxPFNAOYQiK3fM/9YFRZAfolSVDJLh+JYuY02BPkSfz\n",
       "ojBIo62ppSH7jyPWUJ5ILMewsuHdUw2zWDNUXCrhM2/ymA2oOib/0A4sevd7VaUTFxRvAPFOih/f\n",
       "MqdwRXLqjKhbn6fx3eYxMLhL3OKwHryZUurmgWShX0+EL/lxOiBFAnXVhOGFmv2ic6iopTh378pj\n",
       "NNKcXyF+/9icAHtWbgyfIwYKc8949NtC7uEMl9I1o8AcKOqoHCruHeXt4Qr3wmF0IvdSFyYKsgFi\n",
       "V6GWzPXfa7j3fUV+YLWg+AwbBIzp504QQTmoMxMI6rWeewi8BMSb1ZUIcksfk0FIW1Xbydk/TiZR\n",
       "8kG32aAGrr0VyZAMY5tQlBL+Z99oqYgIF9b7UZPDse1v5YJigAKnlSorcGQDk0urbDNmD433BNSH\n",
       "9JMOhcOWh/L8iV1GF33wtUuxyb1XD59PJ0wZH5i05xpIsFLKs/6+7gt0ieSp40w+B/ELcFOd68eh\n",
       "61BF1m4iCf+E1F0r1Ytl/8h5VgGSZBZcMJ0nr5RbUBFfJlZzN1Vq4o1vyYv7Ndwks8+XKpPGRzJK\n",
       "RYiLOJI6kUnurNaNICE4/GfbxWf56EEtTwyMVxaulSKbeNOTsuGTKsKPVFHEbl1lOLeRsBPrerBo\n",
       "55IBsI7ylvatiM8xJl6VRdCtlgk7ejq/SLzWoCK15ywmd3uPSw5cxSIcTcK8+ut89cUow2A5nHrl\n",
       "zr1utopJDoucUnxK76Ms4FhdtcDEKhnJ8VU+FLWInrP2pOF0v+53GecisTUIoRnU914hEGFDLZTY\n",
       "ZMz1fFg/udXWWareiPiXAieoxouNHbJXIvG9SV0v5mKH/G+ebbsRkk4vz4TKnA2Ty938C4CmNYlj\n",
       "bd9BimEL1KnZe53EGA+BPVB/IyuRMTSs3NNpLbIUXuz2Bd+ieCtacK5sbD9844L4Ie53XtG+99Dt\n",
       "Wl5OcQG+AB/blU/P0ajfD8mEF3SCAN3niiVOyu/kw4nhoDf6hdwRc/fo4XmZ/6YlESo0mrOUlKAO\n",
       "V3BrHkeiuwdOLM3v/X/cqxwkNAPbEI3fdlIZDJcSwY7NF+1nd97UgvbWRpnL79CENgP/ocC5Me2D\n",
       "kJrC/1cl+SDvvUd97Otj3zNtiTEeh9udn+1WgYIo3+hNeHIgoxi+4fbo2yIylW59wcKil08ZFyzc\n",
       "3bpwX9Agsa0CVE7+zi1SjNaNTGDRpaKrlaLPJqp+dj6Ih7Uhvk63/2G/nF9EQ0HKL9ODb/e8uKXi\n",
       "OCURnqFaMfVyxezni6du2uBwHRY9sXl79j0/60iGsQpgtRDnqWRiwRHnBze+9bKsO2+6QD+V0xk+\n",
       "HZx7lRDBTBLtieZibyOoTgcK3ihSC2NoA0ERZg2rud/U/QtvHCfsH4gOVEmGn0WgQBLgLoJdTqQh\n",
       "cV/dthUoFPl4VzAzlWYA1t8vgV8W9dh7OOcxrVpyhsIhLSF11AA8Q2b0qDn7AAW5APbLIYRZjp1q\n",
       "yVx/kth+mWDwAP3tX0TlyKkkjkggMgcdspu443suO26UABDfKmzg+4xm2VQWFb+j/Cn7HQDZWyWl\n",
       "8ZI9lK8lOaXsuxsfvLMmtxgH+wRgXWO/tWqvUx7URBKTpAxsUjFkLuXic3QcL4UGwdnepAeKzCj6\n",
       "mr8u8lYo4+3ZRF/5kZD6LMYavRC8s+xXqN8xciOiEdwejOXpst1uZOP5sci+NF3Pzt/2xT+R6Vxh\n",
       "PEHkHcHEcyZPsM3eio4QPGHDRH11RWaT5rdR93vETi9UCiJ/e7d6fF9OfqXUEO/29fKfi7ZUHxuG\n",
       "DjTVAdVkFMHWQH7m6PKCNQmNxgE/c7DmtdGuLyz7RkmZ9wZ1Qe9F9sWasC4oZcdn13qmejsxxGA0\n",
       "zEBrVS0/LLxk6vaccDG3FFHnQsHgl6HtenRcPeNnc3KYDcwgfh8LJ4oN44s93wZPZH89VabZ7UtE\n",
       "f8ptOztx9aYjMhgAFhcmPKqPsbY0HdeSLahro83v18r4uoz98uPO+fMgtJeL8IndwomZn/v0zUk7\n",
       "JBud570Wz0Zx9CoVcFSK/EhcFGpjiMqwNT2VDwtCTzkxi3+fMUwAYdk/DuhTw63LCjbcEvRsuOrL\n",
       "DRxxSS+bWvL+U6SZELCedI8p2iHayGxFt1eM1nCRQdi0zpjUV2TMNR8yMjSEvsv9P6Cx0sPuXOLh\n",
       "3CdxO0Q5LjTn7aC89ecanbzOgrbEQWGXG2qsPIYgqVwgeGu4WEOHYwmImWM9w3PN0p/f9v/o1Oq3\n",
       "jOHLCkZQY6TOj7I1lMzoqTzk8tqNt5Mb/Yi/qOhWC2+PROweAn1VFtrR2AUOvpCqpQ9J5PtG0RBB\n",
       "ZImNXlKQR715hM3BSIkyIaED1ggYGACD+Tajfq3iy+fpdfZIcAyh+/l32RrAN8N6LX/tBG96mG3x\n",
       "W611OQw/lsM0/XICS1XKm/Wuqllb5EbSTjRAGEZ0LnOpJ1qjo9bhVYUCwFs/iuaPRMBWt3MQkhry\n",
       "T20RONnpyltZFAsBZEQpZG5ZOUnHpdQSVZSu0UardszTHTziXxwnnikYrevKjWMiCWDGnXxXJM4Q\n",
       "YMQl01tpbg99T7AuE8FBGj83SMzohxqzuv+PPiZfadQRcqayipWs9OOW+/8QFPPzVlU7z5Lj8Gz5\n",
       "hahPPMuFE75eruClAbeBJUYxyvpE076Q/h/rP7/mg4qjuWtjgNELR+wWro66oI6DGfZFloZF9MjE\n",
       "uo579pQLb3khar/+86glV3+TX1qVIe7n/KVcqFELe9AQRPQa39/GEy60BuBDWjcOBjCltyeIJfee\n",
       "LLNst6iS9hWjWlDACLZ+/GelxUr147KWDQN/EroQt3FBSpxZz3DK1WQ7/yRGcIH4ek9D7uS4Kqpt\n",
       "L1tnWhHsqFzSAFRCOtF7iJe8bZaWVjpcQZpeOz9BrM4DvVGrKCMG4f7CizZ+mM3LeWTROOS7mRxB\n",
       "/1HkO+oEZVkknGLR6NT6NA/IJYCwd6kmIDGN4Z9klF7c+LpzJt9V7vZX17C3QN4vu1XN1oN54A9A\n",
       "4dfD2Q61hbfEBL6cYaM9RTVlbLDmpw8qMHseb7j9cpLcFx8VwpGdGQNpwZSIeseUmSyU7SJ8pUn3\n",
       "4QZPit3y4DtKpNVClD8GPuHrHFb4vmQgVVxfDHelh5kmXUZBmfI8raxehMaPlKmmm1p1blqW+oFE\n",
       "vgbfy6ZsEKeYCKLib/6aBmmTqNgEB9yGg/haiXNRLi4wMU92R9mipOQgEVgBSPb6BSNIOnnyssOg\n",
       "5c+7uXZjd1nr3Q1iIRhu080h9dlyXKLIAFCxoY7wu8CSkUZbWadgy0WzhvuWCJA+vh+9YMxAF/2y\n",
       "hax1HqpWrXzD296ewnSiKeGbkDEw7lIfeH1H5nP553Zd5cdQbsiylQ96pqY3Tm2v7mcJOHZ+obT2\n",
       "DWcC+0jKg5BHIZLnXUhVjWeoS/IUdlsHAmeM3+rCQ0vxOj4seVmJYPI//G0CKe9qjL7WC9fpaceU\n",
       "uKjOryfV76ootc91WaQk0YaZqkU1yiaJf4vEB9pFPp+n9XIDeAR//of78Ki4A4yB9sT1KTp8OfOg\n",
       "FF7MZwCNyRCNFMNF05D/uSJROQcSVd9rX3luCY/y3+Qc8AB+jDWuevjxPQHwgX1Oi8eaK/4nzIfU\n",
       "8aDYCtNQoTS0yomVDQNxJEMFhmeqks5Bv7BLDz02IP/OFy5I++TF02HUtJVt2EHYLNwM2TSfnT29\n",
       "6z6ZrE5vjVBPgQtB6WUDWXATfthMfTL7s261pj+WiL+7/LdK9c5T5BPbptlHDNcqPPHwL29kIER3\n",
       "kokv036sFGvD16TqXOh1ZVLIUNK2Q2nzBOlv5axusBObsb4vBY+yfejF57HjoYy1kgDQ7vvp64r7\n",
       "mXcMBZNMtSbkdQcSi1Bf1qsPjqf60OhYqU0CfXTix5Ztel4UcuedUa0gBgOcHqINAq1Mf75bBvIU\n",
       "iW+V6XDFp3g8oBpQiGSRXeKx5kdNHrkhgFgRUDFAlLEFbEH1imXPCEtWrNOGL5muUSsBy1s1teaD\n",
       "68XaXjNYSCfdb1NQ7rG2rkdsfzW067t2mMOthqB9b8QMeDdJH+06u38vwwrdTrmBXJBsVXLVoXtO\n",
       "slp7gO/wh0ZnDIsa6W6FOZrBf2rqbm1/ezEn6z7Sf9M9PvFeKLWdsCSjj7ygkYZC7c5XPykanklt\n",
       "U2jIoAcABvP6WP3gFpXdIH0YOJonAtbgJon8PSbj8RrFJ0FS+QIS1odFbRfsU97z24lST2XoeKtQ\n",
       "stLsR7bX20tNYq9Ba0FdQR8HLE8sj94vwB+N7bsP44a8CSvGCVO3++rOnU85Dun/k0xn4YrbfJFB\n",
       "VTsnNwQshfoE9BU88RlEqMlB2+vK7fHCySguJ5yokLZ+Owz5fuu/OMtPVnFHMBuhIPQTGifv0xTl\n",
       "7sFOt9yopSGVKUXYcMUmgJCD2s0ZdXTpEKPCVfXzmxRRER6pw2X8VgtwbpMji9iLgZDUuYKbWbSe\n",
       "dvcpxlOAwgnNFch71425cPZe528Gbt+cINAlkvUwifko7UHcFcb5L00pgCVl/TjMbPIFDhoZ6h9N\n",
       "Nva7qeIgLTXajtN3HXWnwhJkBv+Fx5Uz1nlsUSoJVGytqBqsx+J0ZGZfa79Dbz/fJuc32ogejrRT\n",
       "FUqu0qe80ruHzgiH875YwIvU3mQ2p9nYvv+KUImHCfjlPbF2/EjhJPKbanLo2taIuGkyWaIjlJHw\n",
       "pRRfGTaE5V2pgzt5s6qQxdez6DKZYVk4XA5yOZa6B8bdnYfnEiA3RtnonsgDEWLv5j1pjqg7TyUx\n",
       "I4EtOCiAeE+UNsGDG5D2bLX6d96RQYcc+ETq9GdR8QKrrA+XYUK8IIMauzlSW33VigYQZzqMCLl8\n",
       "naxMQE/LLNaswKFEuTGwBL8zOMnyuhfCXD9IBxL2fa+putvA3ALJjWgUAWxXKnL+lF/d9VcAKqRS\n",
       "h7HYIc1ZoShtJbh8M1y/q1brPWLUoruoghILaysraQsZO1yhmQSz1f9qG56R6u38X9XvJUlXkmYt\n",
       "R4VJvMPS4gP9IRuRJ3PMkV57hhXGCBkPyKUInN9gfQaXL0kZmd1EHan+Pbvk4i30VSUNtpvP7Vek\n",
       "Kevu2wZN66dfVBqVs4W+b36Mz7nbovrIKcjUn9tQ0tBShTF7vF30gRF7hE+o2zJNr0ptx395vK1s\n",
       "1T20mwlRWSkT/MBYI084no6WEe5gWWhP0b9CxtfIQxECMjWOS11tMdAKlrMPbYUb0IWYP/9xzgTL\n",
       "5yv57D3ReQAPfkb9CGR3Tl1jZQmOi1KCJamS9IJ1KmIIlSnYmqNJvvRwRt10X141O1m4pMLKwQ+f\n",
       "FCwBsx3gViLlNE+AkJ3Z1vAW9soCjFVoO6jJRtTaQeSeclQP5spmabtHvihHYrtYOvH+/8d6VYbQ\n",
       "1cZsl45II95pkdVciN9PMCetCzDMVdhwXGsdgP/DWMp3s5YZoEuZohI1Hp3nmyb3ox4rJR9i/WBm\n",
       "WTibLXWpEZ3i7mT8+TPZX4kUHcHzk4As0u4C8Q6pfXklibEVuZZUkXmffwlrcIMMWdBDAuDbmW/1\n",
       "oHB/vhRGheXtiWHPBQfqBtDGduVcqLwgvllcmB7hKkxUprvRWComQDkzddK+fw3vqN6/AeGD48vl\n",
       "a0uiLmhW3xmTCZ/tYVJjK4x+lahwON9yjZ+9AHML12hLlESIXhmkeoGF8tqvDhaHYiGtpIjIjqZ8\n",
       "MVDSoPjPjg+iV3HpwcWqk2za4EvVjcY868tCnZr+34xHikp9DBdYfqxq4r3JJ67R+sxHPMFsNZwW\n",
       "EiVR4CHtn1WiLf83cFwAUdeo0zg0QArY9Qh5/mnzUaYOjHoUl0cOjOlX11rztlbGfla1rWWMLurR\n",
       "UgYks1vSJLKLqyS9rk0WxDbFrslTeckuKWYr7zUeeCa2NLQzhn8rttDk7M7y5Axd4XTmJW+QZ/JZ\n",
       "nSwRcB99m8EZSoi5V8ocH+Ow6+lvUBSg3k5Paqr78SrLjHb46Z6Qa0DR3fw/KOhCeQhdVCwEylAe\n",
       "vcI86/mf5cBB8SuarR4pR7+/2LazAcpnZZ42GaqZBfgefJSM2dEv7mRgC4bFMbt5WG67MTLl5645\n",
       "jvcgTyHtxTZ3BU6+UFawSM3squh7JbisOMwdVQc/lSTfZFFa3scKdRHSrA6x1zu9u2gBqqtcLIH2\n",
       "6wf6jBtu7ND2YFyTkqJziamlTXuGiAX420vV1o37EDhkpM00mPfnt9LbdNPyG3sz28W0ZOzsQpGQ\n",
       "zQtr2CP8PFLKSWUiHjxqTFLY3/Z8I4djDwhNSRHZP1ds8JuL12bY/qk3FBTdJ691qcGjKVQU0OeI\n",
       "hhglb+BoeO/UTThH8vPkFTKdz7CMJqJYtbFmIPPBia3EqbNO6gXSREeH3sJfLOZDOE84EZk7oJZD\n",
       "PgFFzrSnEPeetgrFiIweLtFogHjjAzwpQBDdFWRNkNWg4tQcFKH3aSDcdUWUSnpS3SGI53KS6U4W\n",
       "GHTwYz6YpQpQasl1qzZ3Jrjl8R2eRMu37O1stmFprjCOsnEzuHazaw5l/WrGwI0qF3Y0EddsTl9q\n",
       "yIuqjBi5qmpKw+v+ULc0w+upbwdHqKxfaxgSjhyWvHv/tiC+ZFyG2wGkCajoFl3C7hkDH+77bNU4\n",
       "+VdZ8zh422BQPIU1gAecOry5ZqzmDbyHNNeE5KY39tsRZQ9/jhKSDgqMZEe3NKBSdsax4F49IsDk\n",
       "FFuItvjSX9wbHhPk7BO563K8ZxEGfTuaVdGUzG7HvMaGGC1c4MzhCE0ffAnbSQ6bjyOAjhJVuody\n",
       "2jnthzZ6aO3Z2EqrqE3lnoyz5EOwquj24Fbp1k2cpSRDyh3dzFUtcPvCp14yZ4b7gK/izRtuM1pV\n",
       "T2sKhKWPTbztMJgfpaU2Ulp4/7ypHS9w8o78wuomjHUYXAy5LtG0blrHd6R64Y2zwRqzaUFJmgAE\n",
       "x5ThUC6tXEOJMbZ21Et/1/XYWVbsW7rW9E37AggqOGH34w1Zp9gQr99/8lyJQTOGqnakfmcsr/MW\n",
       "lwWXMb/kDJnFk7d3EyNlQOUPWEE3WDLIG7nYNfDkXxKfBwFjO1tzXTSYa9ZvJZI+xICVtGm4Xqck\n",
       "QlHU4M+W33SDA/IwtniOFQeU0b2gR2tgc8pZym26eTGzwRbTR6qHDBAfqKmlwWZUtLZ64Lia0OHs\n",
       "Ta+uwW9LovU2RBpaGc9s8R85kKcG+uQe+I/38gadlkGTZBraial2RHBPZmEuZiwcQX0RNmf9PXLz\n",
       "u72P9Nqcy8jJGYBegHDpIrIpM3Uavy98ugMwk7ideS7NWqFGvIDgGOEkmTeb8oQNyUw00xYHnjnh\n",
       "mGyLKVNwUiBhEdA878BOnfaMw+6V1FbBjkyF/VCGq78wUztjJ4Oqz0w0uVKx3OB5b6Eaco7DkXZF\n",
       "lCnv5n2PbvFt0nJ20fxR1S2frnaDZVnji//NdZrNbzU3X62vH+Z0XU+/gaQm6beD+owgSV/oS9im\n",
       "Icf9YnfjdorqndNIdoH9ssM7bG6o1asfp3FNHFia6+3sVWLk75RlbiHEw5QZVA3ql5P25iGe1jW1\n",
       "/tqu+5RBhm7DcUneJP/mC2OcZn/AQVoN35AHLETRrEBFyYkbeUFm7RWVYWB2xvNGQVlGOrL5r3gp\n",
       "FY378QQ/YttHQv1URySt+OJ/vIO/EspGFznmcn3XWbBgTM/ONGuzb+laJxzepp871QrlmGE6PmQX\n",
       "JRjbQgzRLEOtMhIXs/ULE5Ohv+DcSY0Brabm2KF77i1i21qA/NIy+stekNswyAStRDQ3UytgL1Cw\n",
       "fmIXSvlDV7TI95X+C1gvYDpSjRQa0Y+sztQsRdrnX4QA/emZIak/JqMj//lmz44fm7eQoSd46t5K\n",
       "SjbTLvnKxOXOC6GUcoESu+2X7SG3Qeda6tzOCDorHrtIp5n8nh0IKSAbWQV5Fi8EYN8UAZNZXtxL\n",
       "FYY4Vap7Ill+Yho+L9UZ6kfpqroC3sJfGugGFjb7YwBInmqk/B4tUXZJaudupnTjg6yhdTxzcCBj\n",
       "HiFNpySgfDJNindU8uC2LyyC5nsudtc6YzVnnoxO4WdHjgGv/5PcrlSqCL4TZmlBlOG4sOJloc7n\n",
       "ZX7QpRTogVX+sgliva9H7sM4K2QOqcGDGofRH0sxym9ygi3a/7UX7NbMocSREFt0y0pGP3gmKqep\n",
       "Aa5C7F2U43RgLWePqp1grfnFwC5g8pJoCGl04A7RcYbt5vqnJxsg6i37AUUF45LlaiVCBL36LAPK\n",
       "XdXS8OlGaUsmTh2ftJZaiLavc1LlyVXVD/sK+QoVFDagvuedcf6WQQ9o8sgm3yPbT4XRIjSqSMNC\n",
       "AyTKmgfZzXZwW73tX8nRe5SB2NFVaDVk3SJWJqVF1anspYhvLc2V+KAyR7NBfiY+O3n1GCiW+jff\n",
       "fXXZHi1arBV63/osbv1RVNyZ4VPiHLPPz9enBxK1fWVIxlw8tslUVpd23l8p/L9eUKjIukbTK3Q0\n",
       "9k4fUNdtfiw52oWYVX4r54ndZzYzYnb3Wjh4k2e2kuSwoZLfrGIDJI/+jQUEC7gGn4ylCHxcTvu7\n",
       "5S8usfOl+6Hxn/VtAuUyI8fnHZD5Pu18X859Nn8fSNI6OiVfD+abDTd7isTXBt6L4vFT6ilNGwMD\n",
       "GzqXyVmPOStdKgZOhOo6WPzgfI97O9MIhm/0vqSyO9U6Hs3o+0kK128elaejXT1g10EgPIbSlGgW\n",
       "UR6Dl0O4nlMhRymP2lf5Jp58WYzPu8RLWUO0DPpIOqt5wL790HHlMJKaTGbgD1ab1rpibHWs9suv\n",
       "HI8xeCwUyJRg0N1aphwCjxAsCGD0xZdepJqsPm/PlaVMrXZWO+C3ZeEM+e3+p0YefDv/oMV10yrF\n",
       "tgmexuAVsOZmP+sECCTtYYR8x4XCAS04H26aZSXFVIExF/z5KgtVBzEUa69ojRjqfZ6T7zqrGI9d\n",
       "wPLOoxtgQX6rXIpDFhDWRuvAFOzfSHVlQ2dsYDDJCE7jVaDq883kQgUW5Nn+LEDhDDzIirKdpigt\n",
       "wZEJE/lKvUZn+y+QZChjVDR72oTvuLwjC6b64Jo1pE6ZDeLwzQjvTk/tz15796lpMko1mZy9q+uJ\n",
       "tFCtj47ZUj7PknoaLdh2gFBPZFPtX0Z+n2EFuZoAaXXnLLvDXTUdgU5w36c0fhqXFfGDCDLdHfSU\n",
       "H78v6QgqipLIAAOA6QWaUZmKEz421SyyXTMlsx9Uc1+YI89B8cPGCTIYLRb7k8Wa6erFI7ZyL7HU\n",
       "eXv9iS96eTXU1ik7OZhCPSyYHMMISff5fVIWyf+bNQPs3n+fFVk0yF4uvh9YxhfleFeK9dj7FKhi\n",
       "NO4/f3XJJSg5UC+1JNPyI5e9iM0/vuZosKZHdBshphj20X+ZwodTCsbG7y0ZatPpIxAcyOM/4ROl\n",
       "SxYR7aNeSB7iLMHsKt/qRMcOdFoZqQOXHUOM2mWtWicCLaQEOIEURfcT4HroaN6AjcRPawGTwl7J\n",
       "P5hyhN/tZDXC66eB8Vzl3TtV+YsiP6mt0EnvzHPYgegemiJenI+vxVQiTKatSi3Iq6cthDUOLvq0\n",
       "yjdJahqT4WOfTYZabMsh6Fi+/9kmh9BZblWZAPHj7GXXmLFk6a+CzQVSUusTPpHMbWmmY9c67ouL\n",
       "Ee08uCy8+Jgmuzk8ZgA56p36QaXUaVUnZfRibToESp8H0GFaAu3ofHoiHvFFQfng6MHvkJ5ANYPu\n",
       "Ge3MOoctNhyvptsiYcHH7PahHqJGqrvn0I2dr/w7RkPlmAW0p+IYXZL+2QZz7Q9zJRoPlXCyPZVX\n",
       "6yh0h9nd4hQmXNtkV+QcQRpPsA6+2iAmGb7JpLckYv41Nb9XdgQy8/I1kuYYW80DEwzYtuGfE/iE\n",
       "h/DMypzypWvYOpxn4UILbuL8sDiZ7ieZdUCzue/W//0rm3QqLY3UZmli9nBeHuzXkJF784Ioe5+v\n",
       "9CpNlPdythRAzYL8Fv9zz2sO9BamRmodncV+KOzkKNClX3qsoEIYvt6cPuyRbdqftpa5W9gAlTau\n",
       "QFygvIALajkkIG9Khe2P72671Y0H9FxWxE+DF7qMe8Ku+Ich8nDwhVEz9srGbAm0xpZOda6jgFIV\n",
       "6Im5VSIu3YWElq3jqfNPpHqbfYiQfzyqh0hKXMJQ/fyZv01JFl+H87fmUQLh3FTLvuZ5jc0I5yB/\n",
       "S/FoxEtmm+V/DGYHzfAREAun4A09nxjE4WW6+BDJsGKjcm+ouQggnhNFLhhVu1uiwqN9bly00c1c\n",
       "7KrxwG7jh0oZ50RlB48UHtmu1FsqStupg+h//TvEwrPbSHVX214XjhLgbTJjtHW9TfeP5akgZ+Jx\n",
       "LsCnzJUNWJLoPkbzbYisPVsiec1GChBiLYfAU841mM5G6zXkPBgJDyFnFqgfyivVr0k5X6n2cB2X\n",
       "i0WeMgmsjYiSNSVi8KNOAO4/FAY1nMl/vvlxhx0PUTpG+yeu5itP2ZCVbZps/dSu8FQD5JHtGE61\n",
       "+N0guYiYS3w7tq1Vz2dcqY/7alVosArvPkWgZGIZNRFpYMkwljp6R3dZEdghL8eufXcUAAOhvwnL\n",
       "vAtG1XOOUbqazwnuvI3JvGcvtWfphSeE8fPYBTuIAstV1QtIBqzxQH2sqGkoSb5twY91NqdchsSG\n",
       "CfhU1G4DGrsglhOi2t0mAgN7RWX6rUBPKGg1W5Z2kmk/eZ50k+ypBgM4cI2CpewQEMFmiDqlVqP7\n",
       "r8phM2iFws0NaDfWD8ve+ISewXCkTc+aQFHyT22gmq7H7LzzxUHKdwdoS/udR9Zcnn9HG+m+4KmB\n",
       "/2f5qEQE30sIef6XsxYIiDDlez0tdju6NhGoxaPP6FrIl6jbsYT44hJKKTGacOeEp/Bb4h5Y9ZGD\n",
       "EsnSqbTNV5JOqDNZHO5rdgAx9v+Npm2095+s5zmwmPyTwGGw/2fBVuOJRd2eTwaW39FFKdw/9AKq\n",
       "7TKKeokLchVhJJXwmivnUFYPdnguvBzSEbP11dudr0eSncVVehjqOQDkANfRB0GWEjxzA8AhDaDE\n",
       "7cDwjUVtNtzrnzprttDaQjddy+6UeupunGHuEN9coEWlLR4+lsfuGFlKHW1AtmoCbEqBRyip/QFL\n",
       "OyJ6hjZcrY6XUIUbHlh94aw+2h/vy9o2qu1XDfZLbvG6R+TjFPJal7yZ4M0bH37W5UleKrW3HF+/\n",
       "anry4xf7tDJMrr8XeUh+0IuKuaWjk8k6fg+wcCXw+e2AxBMTsMNZ6YN8f+mwHu24U0POMgJgTfou\n",
       "i9H2NeOusI+J5gMI8h6E8baP/kWeIUf79PKUEnG3za/sPaVc8PEuIR/DMT6hTPrgzu8JWRB7eEqH\n",
       "AOO/dVlDyDf+XpCmI7qfvy6SXu4EUfbjsyOSEi4UJFA+pbnmT2qnbHyg43wAKjsG8POtjIrT7OhD\n",
       "4xx3B1KmaFCEp6HxECw8kHuxfzxzH6jH3ge1zxzhwbMDA5MtEmLmgE0VI/iHQastwrn0gHvKRXVU\n",
       "RvkDKaRsCZ0tNp2g5ry7lEf5HSZHgL/OfrEiox+vbLrZm5v0yyqTImM79nu35F8ydGYBt8ZDe9Kp\n",
       "Bx5gUJDM8/yBMmlVs+hJHfmwRt4Azf2fOYhjaxgQRSnq/nHF2kvddVw6+W/ogio9P3Cwzvj58bCI\n",
       "yhFRMoeLzO9zlQyTBT+lIDAU6TubrAnhrgeJfTmC/Zv523exVd2eIO1c8Fmto1AxS7bSM/Fvt/Et\n",
       "QS3lsH+UZjm2SHcZxUXaGMhjSV81rR/eMg2uuAMVbUwDNJLOgrLWdAXl5LevbCyab3ZCotwcMd/K\n",
       "+XosFL50TqekOVrYlDB5aVR4JIvWU7xQ5bSr+1B2YrtT7ju8Nsx/s1bLFaJ/0yj88xUydSUrQzNG\n",
       "hEs0yN3frsUIPPRgtgvNx0PW5RkYG3KQ6TrRwGgalxb1UJYCqvHmmkdRsIV8qlp6C9s/Cda5y3PS\n",
       "oGNEABFa5bwh4hincfuVkmgMNzdo9B4sMCFGd7wWbh6ySdQ7Uy4p1eeX2+ai7iRKXHJI8BMQ/oBf\n",
       "3lT01ZlxPx/lH/73pssxrVNRv8VF1eC3Y3QI9pIUrBQ64H+oE0WHr5DgZNVfjW72PbcL4dex/A8v\n",
       "B+vgzbMnMLTZP322rq81KitUbZFhr0gCmdV7ytsszxX2hfhnNDOX8HJy6hHl5GvOPuAtQaz1Olo4\n",
       "48eWqa4nBSxyzDZlbkuhLKz7if64+Y+oEWWGNPIrLKdDAYfeuVDjUXh8RiR3jL7zFc8mqJnui3Mc\n",
       "6JvWRXFLsY0o9/tSmW7EmQMwr0xzOzJPphcH77j+UgDVgsVI7s0VzOKMTTg9a0Apc1BQKComFZbm\n",
       "J7mEKghJGp7dy9GnkKAbRIkmmjg1Xyh4Sg5eBnAUgGb8112PJu67HdEDyA3ARrUa1LXq8wb94BWM\n",
       "k/CGZ8dFnDRBN+ekTlr/fXj5wgdU/JtGsPNWqsS5aQpI2hCkZMrFBT4O/7qq4mhWizRCE8DDbpcS\n",
       "/EG7YScTA1ZK91wYglA6vh+Lc4JmazmNRnGvdXXzM9wQnpbDggr9FCiZZyP9lS+A5gvwq5HUAk9S\n",
       "Lxzd2HrB6Dl/hrE+pwN/+6xXUsmgMvau0LluR4wH5RvEV7TaHeLGw2I76S06fZSfAmrOB1mciQSi\n",
       "e3XQyHmeMuqMIoQE+uUT6DFzz0Kd+HBYod5mtoP8ylHrPEpQ+6LslBnLAFyCPWdx+wQdlFiVJ3iG\n",
       "HQYsLZ6mcmf6gEgCdcEoSWJ+RtsJGsLu6pSNqC9BnSs/kJVmVrgtddZ1uXdLmbGU4MuPOTxWdxgA\n",
       "S3Wl9DR4VVEeo+gpCaIxNxlkkMM2nzIzvjrvLDMkTX/RmtewzgR1kkW3vUm3hhLYFAiEnw8oFpDv\n",
       "hKAM+z7+lzz9FR7a1+g0e4TrhGK073y+zqUtUkFv/bFZhGATye+FoIizQuZor5i5a3X07y6np5Bd\n",
       "Rv9xaKFuBCkaGTj+mXT70vdu+fcAMOLkU8veeql56Je/h7N4ApuuOYbJy8rGOkaYW6tVx4nC/+Js\n",
       "6Yvr4Lpu55RZO3bykJh285/QZHSiCYCriVc18fht07NLZL6prfyH+woJHCeuSp7ZGQ8fa9eeq5dY\n",
       "1m8eRAp5dNVgcvnS9PvoIg8kX8Dmveui/SZ3PhF8mliilgIRGYkFk0gowCgOvJkwqInOmS37ozts\n",
       "VndP+42SEMf8JilvQQzIKtEDUrOszr5yoR1jt/OPJYWt0ll3H381NA+f2rFiIPX5J5Pr8N+nDilb\n",
       "11beya/jS55DXrEqpkmsVj9w7tXuGIu6YdhOtJzbJc52reiILJowJXjiZCy9j1AUdoESYdvlna1B\n",
       "CJOwBC5lO5pgmmK4aTausaZ7HPaVL17bGDXT/SgxpxoRvyKkVHK/5XxpZBnKYVlogbmVoysbHnzy\n",
       "Ip2gJxOI5FFFoTDuuRYwjuSvHRZ+2WYtoFihkwjd+ly+q20ThKRSRkTfjkDqHB9/Npaizz22Z5yE\n",
       "EVHz3gDfEdI1oMxwmb2IoPz4EmQPhKsL0AAAqfloFn76O1zfz5+2ktqISUKNKtHelzT1BQzREPLq\n",
       "fwODf543X74YNkzzkkLKeaRXPUVcAbQqHc6ZBjPGNFKrzWixl13/43qHeBgs3kYpHY9lb0QZqpEl\n",
       "ntWbGyZdmCmrgoeh3Qlq2d1BkAMkBhSJjw5AyQA8GUwWwhkJTd+YwdPScGqlphI4xwenskjfs//2\n",
       "SLt4imjWbnlfqOCvN44hWbi5+qd2uviDyKrwzCESA5KeROSi1ga7Mnlgj9usWf0XawU8ErS3MM2s\n",
       "cSVu0z+1LSK1zi7BUhW6A7fCrbWyU8JfbPYTXco7RDhFjAatTT8LIBhxG3IQiucs/aUg4vo7TvJN\n",
       "H0M9aU1mTLocySYUsmaZH0by9DrLJkMa5MYTlCh/QSSgxs+Xt9y8UsjXZSAEyhZqYBYqwqg+YPJ2\n",
       "03UZVCR/wWOKzk0wuHxENOXXDPQKgQPzKhPOu4QOqv4zRznb6SkhKw5BSvncT1MvxsvaaO7tMaxD\n",
       "XR3p1WeW47rZN7PdoVYsy/9kt8ee5frQP7n3Xg3ohOzusj1kuFrCtdSQfoL6SJpm4Aic24fu3XNE\n",
       "2HMoyWQxbB7VYRjl024oJYMvPysXaeiHHuOigqYAQrbV4oSQeRK/sbTO8X1+6M4asQJvv9DmTNQo\n",
       "vzAn7M3/Xag1l+bJ58k/RdG5OfV98keJ3C6lTIa4EimCKTedeAJRIXt9T+dw5e2TgboQ73coGYUS\n",
       "mRce7/0Y8BkYyzvCYoGhMs47BQCfudCMVz8T9rO2OCwz2LY9iX0syNjCgyRwwuXcgQjKkKJvyTGX\n",
       "JeTY65VVEgGQy76vG/pOhMfs90T3L/f2prh9A6FA7gdUs8WVfaRo+Mh/iO8gyvu4Jf59h4nS7SDN\n",
       "9aJTy8CGhcVZHKM8iL3sHzqjt3lZ5176cjp1bVm8OgcfAldnv7AAWtnBjEyw0ycqhBijtrKFZQlO\n",
       "sjia2hUxcaEBID/pilNMILDke3sMfJIAF/mfS700tAaerfOTnrW2ByXKE7z1HSpWdK8lxeZdU6LF\n",
       "cS9lQBA/ycuoZhXZt3lCGkqoDP686riyl1nGvNSRZvg2tN5ak+tBoUUgeQO75PLvDm50wPtV2h9K\n",
       "ny1VrTuXGJs2LJ4Ve2cnWPsNUcfkb7VXYu74zv4MNqg1qmFfwWqwK83nc2Rn1qwXRbCETKjIQWMB\n",
       "WqICMhw3OaOyd+1V5c0OPyuxZByGker8rmsHTqc31RPcCdXhIjpPMGdU9PGGIyf02dagvVWyWLg2\n",
       "GrFIai8wuYDecoVl14f22NpUC9hlbguCvog3bqG8W45X8b39GOT+djQ20f1RilZfi2Ku37FPeV7h\n",
       "HaP4zyFnfX87A4HEtyHXCt4nAbguHq43UDsOjBx1cObmV/Tmia+0pAUaQRfdq0t9Q58Cy5NMg6hz\n",
       "GOxzrU9tg9C+Hh6+Ifjv4wgnOw+nEfa43zPhRBTyRwyhsPPnvN3b0q8nH4mULLd7aZXBy8qyayKR\n",
       "4lL6rT2NKLrJIGcSFKX8yfsdGcMtUv8o22lUop2amTDvZH8TVF2g5ZintIM3k3FFZumzg77oC8OJ\n",
       "hjpQrjL1mZJ3fJJXjBEo9fi75p9oLVWPwq0fCaw9r67xN3mfzmZCRQlWrqZZC4X32UEAKK9o1qKG\n",
       "g0D6i5pi+6es6APmvH4CBhZp68koMzbUv3mXVPfo4JaIv5AH3dmzH27BsycCB6h675zaSsYO+a1F\n",
       "uYA4rriabyGEGydsljVIsIpcSowwiwxdH68njHo0OESicPt2UE9IsnZyRQ7AVDpqvl52yqMq6FMx\n",
       "IIUmNTFZyG11+eKLRAlcoCC1sv4hGf7r4cJJqivX4OoS6AiG6wW4C6zY5GgOgsCmI2zyaSYwhsua\n",
       "gS/3I4OwzkbDj7/ovEdb8dlOloUi/N7EM7D/yPYAu+bjN4C1TE8rQBPCY7DhZm+Xm0umYSpJszhM\n",
       "ckRoFLIxvTf1RIjmehkfLm/K2FRiI5AoYK9OM3eDegAPk1GJ1Oy/9r44uZpw9s5unwK8nLYD6/MA\n",
       "JK234/nrqk48OCZyyZbDfVFFwdXkbw+eFvPntod/348KgHx4g3kc2FsBaVf77f3z3RFtDeSmNCu7\n",
       "+NZ7BhvBQ51r4LjMsOywWrt4LQKvi6CS/4RDIfxIHHMZ3seQqSTollwsS0ot6gUTXjYzmwKMsPXh\n",
       "paNZjxpjFoO539uvZQdk3qO6m2clE4vSSe/desDLsx3T7tMYR4jD3y/y5IguWdrIwLewUgwwKveF\n",
       "ouaAgJuQgn65j3tVjBAXUKWCkXQ7oZgFZQs/EJfBQDm2QZB+Eu4dMA1rBv9AJjW8UI/o39R+J1lp\n",
       "6DYdVlgLzetT2pWuU+oXEQKw4+bXzR271sJrdKeW3uzl/d6I3c+oTQTPSkJX1/k5KmqMpboBL9aV\n",
       "N49LHCRxR8oZeCXQouvCb9BrQ9LMBdET9+tEdjdd+QrOO/mFEWBye4nF2QdF1OQKTbOmnhJDnJIN\n",
       "slJAMbxtjZaZ9WwRp+OByqe5FF6LgUNjv0b0Ahz6Vln91bymHE+NAkI/CTqrJE84U3qseS3UWHm5\n",
       "LjcvNQ3MgUABoutupJKRIgsbS1KkZT+ijprIagmTDYc2Q9TjOX4YJED/+uGT1jiBaq1Xo9tkVxwV\n",
       "SCFK4aCaRcbxq84rgqh+DfjeQ6nZ6Sorb4b2EAWCBSz8jpNntkrLAmspffJVCD4utjS462lehhzQ\n",
       "FYWmOheDGyTwghOiggRvNlPYIyU10AUzAXwzFwOIGTq0mL3jQb2rngCAMOLe3T5dRhRuynA8ZUOj\n",
       "a2+TTPYPMkH77Lf/FGrjPD15SoOjsKH3uKNYEdeqsu417ba2xgA36nCIfZJYEYwKsuhd58ZdPRuM\n",
       "0WdqYJ6I2tVCN7r3j+9rxg0VkBJKLvnn/Ot10+QMaKxlIZFRWv34SQKXijrxMtUc5lsjRz8aqhEg\n",
       "LxlU/tTyHJtIeVE49sjlwpNF1zs6c+LrFe8israxYXL5y49F+ghotXsEtFggu7hMSajvpaQtbzLq\n",
       "LRJ4PdEGiypoZf2F7BUaWCxU1FTmWeBReOLevoD6znmspDWvoXJy3rnQQLvK+dR5fwQMOblF8SCg\n",
       "3GcO8UReK+R6CJi4CqZY0/t2sYyPEAm5NGvsOCEtRzbmPyAWYcqav+1UMcGZ8ksb3hKe15kK9fLW\n",
       "6du7FISGKYBVFweJYvDpjRv3F+ob6nm9kEFDXP0rjXrK2cQJPsjzgHgyIR/3SVcvUKxTYqLGI0iI\n",
       "spk5EIcG8Ofn0vdLGVdkwpoqdiE34ivhfhzuA5lWoGlQQDMvj2ghJCt62ZVHAr+D/m6t+Zg9R4wc\n",
       "7Bzm6J4zhbMciwraZp/TO1INhza8QjV14XF7e0CDnp7ruUz7s5QVZCqttU9hWLTnF8ImVgd8auK2\n",
       "TvwqTH1K+0hGOKhSo7Xr65R+8Pz+j8rttbRSeOryVnSuYcEQ/kAYGH45g5VWqr3YZOgt8y+AoPLK\n",
       "3SNdFDtMzvWax197P+zFkUYCwPHjPS6iy1cGMMMZEzFnKqbW/HE2BihqEJfb23+1h97hSqunt87M\n",
       "npF4DMmRgDb7weo0pBze3a/+TJ81S2U3wFxKFJ/cWQV5ZpgM126zF50lRcdE25Xz8MzGMKsheH2D\n",
       "IwHpy548Sy2oDG0Fhkr4rsocAgYE70kD9477KyP7XD4slfO+9a72LfV81k32aGttiasJcNftq/Yi\n",
       "wphzqf2vDI31VzeTbFiHHvCI7L58IxKyzS5dPas+jRRLnXs0UhiOuOAsAOH/yVRRaMF4J5QOlwq8\n",
       "hfmMvV+d3+PiH9t/SU7f8c569UPno1T+e0gigyjkUco79XSdb0SAO+oBl5CtGIibRZoQa0l3tqnx\n",
       "7D3qYd8qUz84M60UNA6h/YUFhMD4zTcISMU/Y1vnnxeLFDfn/9Cs4NwYWP838SLtJ9vxd1HNsoEP\n",
       "vdqYv/OqjS8OjrH7BTIgmvu8llm2dN8x3Y+FLojV3fj4/MT79rGYeBCsEh+fwe8WlhwK4URbDI0C\n",
       "+lCOYka5mt/1hp20925112mhgbQb0duRqmzkpSUXqvbph+NOlFL/D/laICKicEd0hAGnHopKVDvn\n",
       "j06NZq0O9YSvvVmZRTiXFXFvxr+Wyy8mFwEWWhUQ8kR8UJnPtOONuFyyNJ0UBQ5rvqLTGwk2TrcU\n",
       "FHItcSK67GO/L91Q9S1T/vqtLDIE+aSgE6eVEL5uHgOwDlG+2ZlrjfMJcj+UMVy+uF5rBoUmAf92\n",
       "OEOuujiR5SMZDXqOZbkamCVi3Gmham7zLs9S01es8EtsHvIq3/jbbyhKlRqtt5cqvrxm8d/t2IIq\n",
       "Pk/Mc5jiAWZE9WJ4grlzRzWS8ldy8H7+GV6VzOUERvYXLFDbNYPLCJa+fAhPOj2aCyWoDER5FdKu\n",
       "1NQEIaJzIBgddEuFZPYp5vM+WHCagv6Q2bdlEH0YcakjjECkToPOoqK74+p/Uky6jz8jYtv/+pgL\n",
       "VDNcJng1nacdYovkk0qCiOtiHPOLGxBSkgXqg9vI+oKpbbmFm4343H6fYg0pxGG1iL0XNFryaX3I\n",
       "9J1JtSzV/8lqONNsSuF5UOcGCdiRCDUUsX3ehwMLeHpeFMs5mHPbWuXzOvlrC9/QYon7jywzC1RS\n",
       "Y0ggiVzVu5PidK+JPkku0h118H1B4CGDmJcmvVAdrKF94DaDwQLLH/6CaQ6MolNg4b5+J2WZuDp7\n",
       "smF1Ju3XNjsRY4UHmDYPp2kcdaH1S7CSX2TT+yKEdOqUA6sWy9EiDJnV3MYLWc0ToGn2korVAVqO\n",
       "3e6Bxhj2sMIS/6XsVOBclG2qCp+MmiVTV9ARrL0IE58DvW0YsKqKlgcfVnCuuWoQM4i6gfIPoHlr\n",
       "viRRAr17WdwQHBv9K/jO/ACOSH1mqXLl3xgUcyhOOYnpFcy4Ha+8c73YiEOx6NuebQVktntWCBEO\n",
       "zhu39CeCkLu/JczBQX5r+eNdurv73TrMbPbaiJ9Q4V/AhWml3M0n1z/e8Tpkwd7XjibSnheEWhiM\n",
       "qBSiB9hv7SVXxAML5JOGglwpNZhXBOl3F6bLSW3Sq3OT+y1/j6oneOWJdVwirY3J3zatwLsKid56\n",
       "PDgn3c3czanKU6L0IENJpMt5FWqfFyqmJxQcZW1UPRg9bMwdRn5DyTasQSbSqrpR4I9t7PHVjg5X\n",
       "tVQqf8UTXuV9LMnfbWVRNGrQzewpGVj49F7vTpOhM+NfnmVRyhQXMKeS/sxTmxWN9korz86j8KQ1\n",
       "S+Gsgb2fnGis6Nrv+QmvnkL+1vyigPFSyLqs7YJGugb7t2csyi093Aqc/hFyND+QL8HeynfEGjCb\n",
       "8Rcu6F4ABS1P6NKqUQfe88I9lokRVmZ3/06Tai/U9XP7j+QLlJwi0mRms5BqTia2MihnbJ8oLabj\n",
       "95NQ4qqkzy7aBxYSRpNRzfONn0feAGrNjyH0d+1C+hJ2KiJdm3otKsIx3mzNy0LVf9hybKXMiwZz\n",
       "Bk7VLVBAiXJ0wKfS9sTj4gzRE3SQmDp1IKlQ9disEdVvh7lZwz3AvLD3+7nwh/f72OW+dM2pNkeP\n",
       "nLuIiLxU4odfUqFy0KO6pgDx46mejl8UtqueWeQAGTB80XuSWP//G0gunT19eh/9Mr6aQDmU8lb4\n",
       "FkKSry1sYXAt1XKwTHrsyR4G54fKkQ0hifWzP8WDeqqzKqMvEus/j1SvymsUyTScyJdG/pyWOeOz\n",
       "2bQTMzq5e7rXXPF40EmbX/pg33reYYMsx4vIyAnAK3N5//xPY6HddbI9O0xGeyJLiR+/R3KFytn5\n",
       "wuYN5Qmf8BUbDWYvLlEzPK6rAFT4JtDY8tuzICRFDwV7zDdJ2tvHERAbxOslDDLj7ut48R1ApCVf\n",
       "0XTYGQgFWI18bb2K818RO4+eY+GdWPTK3QRGS0URhz7DIGnMsHSVljcwpTtM/rPLBrFk4v0NR2ps\n",
       "r8UYjyb340OCK2hJ8OkHGAviz6ejaNyws/7mXN5Fs9bQ406LYB5q+OD2RuW5hch3uixuhuWqrpyP\n",
       "n52gL/RqJgqeLnPJiVQ0hsIoqzH35bLHLYqf26AvGirv01xMsRNt2eAsT2qDmSVAsBDEosYfynp+\n",
       "YVQHbeNUrJlCTXMdF71BInX1a16h8y7J6Gl9LqRwyTfk4sT+7QF6Yak45vmB/BN+dMxDYrWUCyNu\n",
       "1GgCUrG3d+pZghHWxHcaMhr4DSsuT7DpHTtOUMdHQWanS6TRtUBiotxuefRI2T7Jd/7vxNjkqzSg\n",
       "o+YsBaR9bcgBRVJMyMwwJ/UgB8r28zVp+ZcbkjTdF49aOq4JkaXyjuurk7XPIvcPaUj05QGPDlUL\n",
       "K2dv00bCA4z4N+Y7Rfq5qAlOVQi+JXfpwGWBSayNjKfhALK0uaTpsRBEWpnCEghJFalpvlaDAbdw\n",
       "9ZaC9iLgb/PJgdRbBTRX9ofbswoPC5YGwHDVPpDglSak0cwokwKFSoWyDyViO6u/S6cW7V820eo1\n",
       "QPcu2k8JT8AlWh5Vk1ZsO3wW/XhVOWijeLWuh04Yzg8RohhGI7nJShicF4eWlUQ1Z+binlHqyIww\n",
       "ZN9DY0kY1/Ya5SP+YbZp9RfpmNttsVbvnTZ6fzQCGruOT/9d1c8uRq99p1lajC9L7pkE1jxviIQM\n",
       "7qg3QrY4kcefFAfXQNcCD5m1icIYGmKVvWZKIROo1kHEhjKp0JGssLlkrdzaQUbueO6D/dOHC+jq\n",
       "6uuney0VBsYdUTUJDvP1gfBKoRry8KxCUJBuKTZ/xsgKZMwuzXt1swwfqUtj9L1jW3CHqkcBnJB4\n",
       "wJyLsftbqziyNR1Pjc8+PQCJVrRRbBpfIoln51kudq9BQGQBbWf2ucUhDzU5jTPBLqdfcb9qaQyg\n",
       "nm2sOruZxIMoOY2Kmwh0/zJGl6DLsIjd0hNX/FZl6/H1vfqg1p0lCM7t2hkMJ3q1CkEVSlxRAOeY\n",
       "e7oyaf9xpUsCUIM9pWDYfzc89k/yxxV3osG0PlTjupzS1LbB567udMOZ7SMvVd/aMccY/mGtA22/\n",
       "rY2uiNyWmxOmCj2KNmoIZ/eXbz6hPWOFToMfQTadC534Y4pWAnEYZk9G9mt4VDlQG/35snF02KLi\n",
       "4x08FLsZ3Hg1/REqM0T7e/poDws4AA3sqlIEyZKu3tn3EsQzYv/lgvGAHUQ1BwLowgtf6L1dfskQ\n",
       "vL5RxerDs3jX9TLONQoMy8bpNBQOLwJzATEIJiw0d56mwGUv6ghP+mz6C/L2eO8wO+CCdlhPfuPz\n",
       "/+AM9KBdCNXMMdtdWaiOdvgWnnwa6m8ehbNAg0OBAFrPkuKtgYMDNueCGUuOerW4kOQoN9G+f+r7\n",
       "NkOeD/8NUrAnAPoy8QP9tCPy1XJPmR3RDoHWaat9dG4uNWFn0TjW7mi3pF0jM8VQgh7k/aKvEk0m\n",
       "Y8WbemeHzNL/SSvLhhNxQRm07bgAB+5p8JzjOuPCwaI423aTncxMLTH/zgnDCWFkv+XjO5Sgm/RO\n",
       "W8NX3sJdmwFOYbpzqjL2Jhx+vCiU85lyXD0fFgvQ6X6eYJWxIn7MQCbHcg5mji27VoLPcD0BUCnk\n",
       "qMqaZBmzwu2gX1sQ52w9JEtb/bfiuJQseLtsUMseK6xU1cuqzenUFMceRiHwhSrqnfcBpbIa/Ifc\n",
       "P4aD4oaPLeW2cI7C3KDiahHaz/cueWlbGsXgXolRHkfY0ZfXdH4N6VyQNyIY2onyYzV7FHpSEg7O\n",
       "ZUvbZDKYkZooRI0eeaqlZLNGfjw9d8StIAR6zgATi/jsdIWG0avvkfA1LrgllwQIf7/LM1fzFrTh\n",
       "wvBSROZc5hiNB+iUe6deDMNT+NpUiKLj7pn5hlo9cxAWFUBBtQHbw6Y+mmfNCBbUk6U7ZINwEc2Y\n",
       "dqPCENuV/mUKo59YJu9tnJtlAlr7hL17UT2BzDrzX1+uWTU+gJXO9XMXkXBcDsyhc5+MKi6OY3x5\n",
       "QuPQbBWkJNj7kE2I5UJ1hcH2cBiUFjRxS35vYGqGlCeDcXDJhYHZ//0n4nVnOyleXqt9Zdn6EPYj\n",
       "mC+iq1jPi5xHGxfYtC2Hv0NeA86zFq+261ZKyl/2KkyJtMrqmc+L/l2u4aF2RRr707DXYkTdw7ua\n",
       "JCZJS4um4auH242Pf8C8A4z0A58/3xPVwoEm12QFKid533ssNQG/oEixVZmEBYb4hIwwG2acAQWg\n",
       "/3ZxtuiLH+3H+pgsIyytv4DC3hfugOP8lLYMZZ++i85f2lgUXTeJ1VlZUOPlPu7osiQIp7ATir+G\n",
       "1/Zn7ZVClO0QGwppwU+tzA9MOCX8PSXAL3rHTCFl+omartFqhDD1ccCmI/0zaSbvoUBgfnJqBgOp\n",
       "cjZGtGSpM643bUZ56PS8+1no8XyinlhLTXYYl/v96JBqlgWmvBMvUmEpsdsPuO9ebl7sD2e8um7O\n",
       "NywqYk4oyLdaIccY6pXz1FA5jNwbflbNXa5L+h180IUDSo1+Jpuwo/dxciawS2S2cOL/1U0/pLYX\n",
       "yST4d3UusjT4BbDF5wiM7wElidKKcdv7ljy+hmslw9MSVJ1UjFBhM9TOUxIxaL5Pf+BIR4qXk7uV\n",
       "z8wnw0h6OYi7fhzvJy+Wb6RpJbr0pJnjI0aqRb9tcwswDMk8G9S6/YZLAfNMN6pPGFJGEjBliUGy\n",
       "DnPPbA7i+C6XJeFoaLB12Nu1jQBjVgaOCXcwvibAu174k2RTxfbT366Qku5o7gXt/GPTuJCh1NBL\n",
       "xMUWJYRxkCUxZxnRJLPaDv3nyaEo5B/7UsZalcMWgOjUzPjhgDzqSDQBZVKqUR6z30i5HtfFQ3Yq\n",
       "0QXY3J7zsf2LQR76zLHXSH+LKMhgaIP6Qr45srTleEXJJ2cJMJAM7hIr9WQIEgOVg1LJSqdGlgn/\n",
       "ijJBtR2CJqbLZO/Dtfwaq/kLiUGQvOv2Ezv4YHXVL7kPiQrUVvmLOnMY4dX8Ngou2U2PTeMAgEdI\n",
       "TdhWAgCQA36g54qrzIEjG/cYWHwsC9Tkt/SAxwOIEU1ZJ30gDeMaetcoi2xv1+1zElQd8mUAOZ9F\n",
       "CzYqGE98aLO+dsnOPsXUntRHMC+Wyzn595TY6E+vD9vgXuRQC9FUXogwzcHMC2AV8qlncadb8Prm\n",
       "UHB0PjJpUgmiih55XicemtXGQy1GcsMO4NwEF2pImjVLkud8iG7yAqgo6m0ZE84X6oSU5kBiIcZo\n",
       "gpRBPLVFzJaeCztM6qRQNr3AAL5aXeO34o9bvouXJbo3u6/kxE9lIrf+sRPf1NTO+PT72sseWn/2\n",
       "0VokFwr2+lQOe/iG1UjeiERkBnDJQdlG2/fB8z/IC6uZGyM6QADFz7QB63Msy1vHRvnhNrUSR4ob\n",
       "LXTohBTSPa1wl6oHrsY/X7Mp4OrSgZsYwG2pribG+EfqBhFvZs5/hQPPNuGzR8dJiwSkrSDhqlEy\n",
       "qlL/kEH6VpHiW7cak7qC0xfD/tlYIb0yiozgPeD8WLulwA76JFsj4vl2TDfKaVSjG85h+hKuKdrz\n",
       "ilZOzmUgnh9SRTLOTLhdoX/Bl6Z9rH49vpnxtI00AKR6tpqgA2LMYcN/RsnKP6sPM4yZswW2ZCFW\n",
       "K5KTrDcAMU9a2ANw/+pb7gCYNj+jXZ+o2gPcal5aKVCOUGuCP870v4xLUJNWSi24dKn9sVXGG0ZJ\n",
       "b3mQXenI38ZgtRiAyFEdjmHULDWLRs5UDIM5gSi2sChYu3qLbGP7XJqFeCoYQfuae/3Z18uMEGTu\n",
       "e22xJMftfl0t7jVKG2llXd15q+kP1TEqhM35+zbXnnPNFifx++fvBx8fRD4WeyIycjGaBM5GaSLn\n",
       "jHRrVFL6X39uMprQ8ZwkU0T7M5TWMea+HmvMrsv2KnmEkuJh2TT2KCL1fDCwdXNetKDouF9KCtPp\n",
       "gkC/avFsIGdAGhxJdAhYr0Rvku7bCFq2MC+9Igj/2cniQwUpWZWk3X6jXLY4HQfNgKKB5tsvxzy5\n",
       "Qn5ONfokrhJ4kCUUjD6snQq3Dz+MZUG1hP0SD+A8zJ4LeJCeQB/+G6WerDGfZC+zQex6zlMBYDQ8\n",
       "FxcWozNaKKEsmuhotXJOSMhV3SEvUs1F7CTxs64J4mWEANyO4Hqv7d5hslWAezB8yJwVLlTUrEKD\n",
       "9qxnfLoqdnpNH6CrK4WANPY27B+rGP1cpaQio203FV+MjeMURTlPiJolSNOwBEy7ZSXbZ3C5L/nb\n",
       "bKrb5CwKIrmKaWn45+AaXf+ltowovXuYTWYcHr1bEwNL6TD7Yg7xaVR8OYP/nIiq2x2Ddc0yhLop\n",
       "zgwh1GJtYaiY21hK1JG7q3lFAi1ydJDwN8RdBbW6wsLnQtEZWaHjoLgZwmJU9ajL6hUjLlEdWhWC\n",
       "zoTIF6FJIMLa2O3bIDiTMOk0c/9Lo1mz6J7ybVmHKTnNxjwo4zAx5eOlNGGfIM1wdX9lbDDLpyoW\n",
       "8xKp6j7X9ISktv/uD7u8wnlfHk51yzCecyzRIut3T290kgSyUpR/VTNdMZx7oZjkWB3fNTmzxDAp\n",
       "fKxXFsLFjq1J9YbAxXF2e21F7n8DHbS92EYwhkZzr2peCQnt/6bp4vL3I6ScQFVBwZNnkf21Rfzg\n",
       "loS+jebEMet6rF2GMo4EvazCpCuHnf1HqNQlrWD7r9JXc0VFTJS6ArJE0KyF0b7fEKXQJGUuWvIG\n",
       "xw5ZWtye4Bia5ITGJaEwQPbL7+7vSJy84xtfE9+atVFCSwanvA6xKgYZgbDX+dA5FLPRoGNZ5orX\n",
       "s4zCTSUMlpUBYbR4Z+AfTyGA9HiLLBxhiICr+WMXco/838uz8bfu/Z5ZwcqePtICisnBhielWSrH\n",
       "ssDjbpWiRwvTY3+adYBP6VP9ufysVW9npN2fwlFN0TTuS44hxSC0iSekb/cxCOzWDA4/XWZ9GnmG\n",
       "FwfkHiO70v+IJXxnyJWFPjaXc3V++uPKO/2Eg4Nqz4VIyfYAr4emq1G5spvFk+QjdwLawTyfmNr/\n",
       "7ATLdcmGRSU400Yo/LoW6mIK9ZY6Qfc8mf/pB1BrVusSTt4WHVzxGxapPqn1Swz2uQBQ3f7MmSwS\n",
       "TJly8u4efFCS+eYcm42W/54CQbE/d3dQLRHrVxMiTaKph2nmJJzWIHhRXB3Je35xflsd91kg8AgD\n",
       "0H37d3DqCBtoNE9M8utf/DOL6Wx+W2e0NgV18xxHib7c3+n+ci3zQu/ZcSy+5xa+usALJsWN8VaA\n",
       "Z/T/4zZdvBiGjN72p2AoOO80WixbrY/Hjohxb78zaTwV2k174R1t43yQlAEDo/aIyqEX4bY8Kf6I\n",
       "htaeQTy8C2x/xErTQ1WEjSSnxGncW8wonITseWmR2f81BJwBKnxzMZ0wq7LDUlgj21MAnJPE+opi\n",
       "W5DH/nd+wvuTn1G6aeNGR2A4FQJ4DsfrfEGP8j5WtxYNDnkCVjyjTVKF2w7o7yCQflCpXWIRMZH6\n",
       "Iu05Sn07fBZz9gziCSK1xGCK1oTUwXz68x//Tky1VWYCdkgHfVUXy/EsHBSQIgb7htEbqFND4M7e\n",
       "MEdjeL7vf0GT/ASFPCe1T51v3P3F3IcAtr7YxxL+Wo6Huu8SoAe3BIk9YaMRL36ByhUW7gbAxbaq\n",
       "4zUgk0bJ6JLvNrIx315kAEFerjqt9aWWpqqLkhYDvcf6PgDhXBSdmtInXtbK4wxwaKeSShP1XBxj\n",
       "+f/9dkMC2grHngkCZqp5UDoJjPhMpLxqtUJykEbpH1imYlsGUFRHgRVV9cTvwdnOApIssI1MHvSA\n",
       "O540LLsBcIMC6Pepf+Gd1Fsn/BAi7RPu0gPBhAE+uP4EmareM/DtPXOuc29mJSngbOK45AfEojnp\n",
       "pRHEy3QzEiSgzzcNl2q5L4YTAkJO2Mdj0Dfteb4DgPSOx34JithmX0QNOX1uDsoWnp1OoZ+Z6DAE\n",
       "GncCaNj/NZZywzOyIEcBTxwpwee/GU9yZQQO/S8m/5m/2JNbWmYLmfxaPS5x3/M+wfogiLM4Z+Zw\n",
       "BO5zCxfRnN6jm+5TrtvltjBKg6UO6yvqCG/0e8ZYAmvD4u5dEgQCu/4797hj0TEs9z0TjTLZDoxp\n",
       "UmIDnyDVoaBBpZfDbsYDn2X5QsTTOq8CGVorSDC1iMDpktQTyIS+yJXTyrzqQF0vr3oQ73k7RZMr\n",
       "3viVSHJo6kL2qQBzN6DTzCyIlPCmk9AcHjx7r2o7rp9q7D2Iepco/I6dd1Yby/AfbDIeYnCFKEeW\n",
       "Ncrs5+MVBvkliLIsmEsZad9Cz9dpZ7e3VGqNiIOkBjTufvm0wgVz9PZge9gpfC0KGPm1cVEEdpUw\n",
       "hk6AL4w8WFmB+GlbRvEbDbdIwUQ5nfGZ3yZh0bQK9G5/aEL8OGlGLDyzx7MxyjtmCuztVc6/dwkT\n",
       "wnYwLlReUUeLsdaf6IuiAcyMlVSWcFLQxejrpr98umD3woDKNfL2/MCIHbDdXUnP8FvGs0Ge0ub+\n",
       "rQqKtktmvaiDPd99ncImwj5eyXsuFDJXsOvArbi2WW5BNd9Px1iF4ulOfFx8gTQzlafsw5hc4AwZ\n",
       "1S2Le6Kf1h/Kcn+7txbX2unc7ZGygo9+8dC56zMY+/ejtdrQiCuG5Sr1NnK+cFBSav/Z8F+Do2O1\n",
       "jsmUPoT0mKMdLMKCkb7aZLEX6rYEtRwyaLHkORXcKPq36LPqYhVLmAKHDNIejI9hIVqmcVWJS3XZ\n",
       "YUb+8bJ4AK4s5gXkcf6HsbGMmljq4usttGtHF5n1PNwckucp71kajuiajhiqE+Xf/SFP1MDKMwrW\n",
       "8nJ9uV/6row4RjpEXCGk+sgBB0q17wOa33W7eVrrCT/puNbde+orHZUKhsWq4MMi4wFEO2Hr+mq2\n",
       "fOb1cGWXicI2/3pTrd8/XzLgMADnSPLFTGHHqZGOUac4XVfDzpb3KJzeBhKbvvhTfEZ0ZJ4ltXhC\n",
       "P2zVwoUy/FJlh0PHYPJXNV9R5FYIFqLUJg9HivyyZj798WbikPy+jMe6YGU26nXeIaIvoPk33FNp\n",
       "KFfX4CaUidlWZZ0G7RNf2aznnb5meXbLY6Av4KdaEfE7HUZ+6cWiVAYzXYI5TGIY34lGy/Csv1kZ\n",
       "nprkNkCML8Tn206QTeadfyEzmBekpD6tz98GOqA5MV8lu/doXQF7qnQ802RRpsZJWgvWEi5RmHL+\n",
       "b1C67WD7YbdG0vzxHkxE+fp7WO+vFC+rdD7qiNxfuYD1mbT1XcJWALYYBAFCaF09AjF1han364wX\n",
       "GtZOghQq+K0RF/xq64MR70p6fOW2peHmgzeoaCpCK9PtQldhlOWG6A4DQJHp70JUJQ0Xk3EGQSm6\n",
       "qbwtTpoXH/bfA4iX5BLJeRcjgWPMPgoc7eUP3WjdjppWaCwNdsBhrs52v8z+xhHqgmLwvbWSEjug\n",
       "Oa4pZJEWmK0Ux7xihkjBibXrk7qB++E8KmQoSWLWZbZPBmiDmqUrkqj/1GejoQPewjBn8BrYlCsO\n",
       "0HenbYWL2xie7SpFQ88pAkGpQ/FXNErZJ5VD9rYefZpLX9WyqgcqEHnC2llbwiaCCzGgUzFNDB2t\n",
       "GsiVsLa9rF3bVUCwMzUas4a20z+8D+5hA/LEUkCy7RYSwzUFPAAIl0p1Hi9Jmh55XIHMfMqVEBL5\n",
       "9Du/QR4aIsLZNsY3Ofgv7Zy7KM939bi2G5yoNVXz4xfcamOTKlZc/eJqnZ5GjK4AsgI6WT2r7w1s\n",
       "GnNROtdOfIYgSAh0dl9QeynbAubI98scma7npcx77RqvlzeWtnpWAG7O4YP1a5+QQkamLKfWGp7G\n",
       "DehP3WyAjK6l9lYWEqq35CXOAjG2msP+ucQvJIPADwPKq3QwEu80FrXmHhK17MhxsnYOqZ25aRNr\n",
       "bK2I+9sCccyfpfrO9UQhI8iie/78XUhLEV3JyyCCo2WQH8i7yCNxIsF9oM6e+Y3BrZpSphOm77Gp\n",
       "D991raSNW54tm1374AJXIz74v7Z3W6Ms7IYWAUc3nngStECcLWRmVd2OVM4dKLK9mJg2LoJLRy76\n",
       "gUDV86/cqokuf7GNIobsti2/9CQz7Eiw7mRP28ssnj7X/wR+1WXlBsyZ+tzVoc7bzbpTkPpNSiol\n",
       "L9bg1NfnCHx5ZEUd2qmszVPMPhFwIuElkd9VFtEHuio1LAz4zSv5VwST3w/FAyrPjHs/hyjhf/Qg\n",
       "oZAxAh9QCtmUkg9eSImA/18QAd4hBW506bkwjJSvqsaFC6gcFKsQrDyU2qWf/HCik0SaKMWMXTtm\n",
       "MWW1Yc0GM1cMvO61tNmn2wv3le/ZH7XoYPWQP7Gb0x9dveE66JrypLM87jSyvXP+gKxjF9cro7Xu\n",
       "aDBh4bOND5h49GO9xULHGgRIb1q7qayCyJiWE/5KUpirYih3ws5JL7XKH0tr+DU6lpGKRtwt704N\n",
       "JFgdYAiLDjCiqf5fodCLAXLLAC3EVatf2agsblLz8jBb6SHlZzRsPPkYTZPmV3Zqsse2y638hDY/\n",
       "6s/45SRb6o/VRv56HA2r7r+4IIM/ZMhzWBzvLnXdpfGbtdBeo+UhHLdgVOrioEIJ5tw/dyvtGrhQ\n",
       "iqGTVoCYKY7z484/nvSuyWTIWbQvv60lGYe20grYcEbJ3STI+TH3SzG9V37nbE/3f9kz7tNKYTin\n",
       "C38A5ebrVKKhGqXv8zInYjzKzfV4AHUX1lfTq9azi0Ke8ziWG3D6HOLF8JVPbyltVpBlE+iEuP7Y\n",
       "ZEE0hA8ngKMT3o40C031BKlUHdsWkcK2xVEPit5dorrB9GnZZ8onincmLwp8B6kVwFtA72QrmeLV\n",
       "QQVkwUKXcOdg1D7fNl5ZWpGzP6TFfoSMV6vnPOOFKYOvGwJdefxhFffNsT6UtZvIjMOkXIxtY70C\n",
       "WCki8Qv4wf72H/6cDwCjGg+TrufylobV1xE3NwFJrQuAbRxl737FPtHbFBBJvJkluV7RpmEtzDG8\n",
       "6fn9U8scb5qt9p4rYMsl3/xW+XBIRGtIlPNmYIZDYMZ/ssBdsO1E77xXh1ShkyQhxjdttuNWu+y3\n",
       "JQEyaiog72qTDKFXfvlXA5XDCHH7uxXzrI1jsz64xqL/DntZpLqb3xlHFH86oHVyggJKutd1fMPm\n",
       "eH3lju5klSKQJV82jDVMQL6QKGkkwD4W61gfJ6g3j6EQ0D50QYpIAp3hSR6M8jzYuFO4JDxNQtxQ\n",
       "j6hppD/eLD5SJdSP1hRrx7dwLvHER5m2MbNAh1reACf/71ks5WFUPvfFQggpooMRk/DeuETRLJv5\n",
       "8n+6MfvmZQe2RLIGzfY5L2DWUCMFKYXh7gz6Pf9xDCJ9EbLyXVgzRvAGA4Xj+ItQx8ABgB9/9rkL\n",
       "OqpKrOlBvEGDylQX5KKal1q5cDPwMlwLlPny1dnNRKy/NVBXXVcPLY/yKy174pT6luCRCLqIhMyo\n",
       "ZwL1e4xuXQ7ZG1XVReHIKDeJYmHrHtj6mYAojkQWyzKcajKQzzTmTVyb6eG3GFCdGd07pkoCSTxN\n",
       "py8xUqMayB/PQ1O+I91RYSRtm1BaiXJUJ/pqS+fn9/RQsFeOOjVzCCiygx0gTSXiW9cWjKdAVzNi\n",
       "A+0f1af1Z9XTuPLprcH6L1+nP4hKuCM8FmzO4ui7Os6yhhYffF2hZ2puo8dyQ5HkvlaM6+6VNYL1\n",
       "wq2GKZjxQsBsl8Pa58myfS5pKyvtbzqr+3nFYN/s44DSQFS81bsQE2j06knYfWGxwIaettg9aCTE\n",
       "THO0I0r0gFHEV3k151x0IHDxnTI8yk5Nvg59JtEmBFYz83NNGMesNjkjSAFPyzAtdvOfD8RifDsT\n",
       "uP+PHgFH6KKZHUkVuOCxMZmdAhoTde0lOt0RsWSkQqbaa6nbgBYcQ57tCmHBRRvWaclIuFi+efUz\n",
       "RTA+4tdUyQb7TBFaTK8iC5YaCcAx8VKsgDIpkFbD4b61GzmtTFgcIQE0zxwOvTDbbphfS9uf2g8m\n",
       "f4rZMXmwQNLMg2V/enq+loWmal3QSl+FcnHZ5pbHzxwF6NCNjrWjGSyTX1ftRQFyNv4ihpRc4wra\n",
       "jrf7WirL0/xjuJsfDmFMsuEXXEVwas39jd2UNSFbKpjb4cyIgPprSMzYW7+Jbl5sn6xiBU7lOo6G\n",
       "rclobmTE2ltpw+8vA79J0c7QVf9kUE5Q/IDkFlBJG03aFPdRziPZrm5nzVybV+vGtp62l4qzp3ZW\n",
       "ZP637/l/FPGguJ9wTqvemkeQBg8gKaX+WQN2OL2Cpxd6UUh5FoQ0N5wEd3+zDZGStdhB9iYTayBS\n",
       "d4tfAQ3FNgS8AoqtdIFsxE5ECqiWiwdywf/NSY0CQ5VIdnRXe+O+IpkJ4/+usdC+Gmq/4bwI6MaK\n",
       "LV4l99IFa9m+TK++tea/9nBOHWuIya65UJCkxPiSc2eJX4HruDtvqNq8H2IT+Rr8Q9AmIPMd/eNh\n",
       "u4pG+hdXw+rBcT5F9X/o21q7O++8EcJmBgoaodWzA7mvbx3nCMMBO4KLRIJnkoiorXTXcdcz7Z2k\n",
       "1QSpAFQcqqVFzbBVchyd4vNnOclmlL449M6+ONsAALK1aUB4ohyZnYcB/Rioa8Y8Y3fS/OjDUZt/\n",
       "HkKv/lLZCNqPYE2HKu6mVkfHp7DjEqmyQHNXyPYueynSXIQsfMpMQpmBiq4mnQKwiGlBnBhpJLWV\n",
       "c+6UHE3twlfs0hEedkr96IsBaH/qmZDFwkBGSw4gWMa5trlmxrZPYtMbuWXjIMPnnmiQXdF1IK79\n",
       "TnKmkybzB4uf1GerLAPl9I6Um68xlML4TjQDFrK2x9WCGrK9lYDLpGhv0KQfiZ2rICXy4M/CXSm+\n",
       "Xm1yRuDQa20f0lAKI+5Gd30xernbfXhaK71qDFeBac2pUfxb55kGPtYoyHHvbtwzyAbHxQ63gUnV\n",
       "KcNRzenLq/2ORahDgEEiUn+sWasnzmRv0ImumzHwL8gsDFZEvZg65I+wU6SxkvvEd3VjtJG0z7N/\n",
       "W3fUi/HYYogYYZ3Ukdy7M7bfbQZH09Xbe5ebTNALWOz8TvKbdAZzDhlFu9ZYmQePUfGooxV9dJy/\n",
       "d3ROEkq2mE+lA/5Wl5ayh0X7j5GAioDxy7V6ek0FUm2uuenzkeXA5ayv6WcSmePcE3WcZyU9UFLA\n",
       "ypREoYH4YkpwENkLoV3ZJtuFgKKk6gJbqVsOmFMnP7H0pnWkg25c4jYg/LuWHZY82wBurFaJJsBH\n",
       "qs9b1DY1zwdgh/ZB/hLI1fDwQqq1mhE7dCSFZEerzeqq8u0/jP/Q2GS3pyMbNbBTyBcD0aKwPQmo\n",
       "pxEStu5lilQ2G4FpQ8L4VLfsX85xjWDkFcjhdaE9NMz1dz5wD0uzeHdrb5aZPZdPsPnv44pxMZBl\n",
       "qr8jeq5XRmeo0dYOEFQsG9ZqENHA13RPQCcVc1juMV+5RO6v2uFZSKaLkKuJAAU1qP18Uby6WUbP\n",
       "n7FefGCEgZq3DscFfXJH92RvMG9AHgNV4so/ieafDR4dndzfdNsRJLEo4T42/fejh6P/u1427pWq\n",
       "qhXG5dMl1y7YZW1tTD8+2CiFBHdMFC4JuGoakITeryhexESEaUI+jgFOVsxeEfNChQAYQb8KFKfq\n",
       "/Srk4eC2NmYN0gnEPSyF4wQlpi8G28wErub1VX8C4EgA2MALyV1Pipyrb2zJbn436xZ2qB0dImxq\n",
       "bQdo0SBNEeIgFF1/Zw/GpHoGh8XOssrK08FnaZqnhxQa5n+8o0JoU22t7aiU8rScqqPa22XnrmXB\n",
       "3+JO6xBJzibDAn/B0LcJwZjMqzeHHdYDcQuAwAaApz0h2Sqe7O8Qp1i7WCY5wITaxNzxK9yww4K+\n",
       "8e6nJ7n3ehCDJOYbudEDcCOyQdFlkH/+WgYHBOp3nZ/qV5DvUaRq8LLVWXQM4WoUtW4wiaQpAOiS\n",
       "P19k8kGiPNV+u/f/5kKAIJAZawEabCEIO9UbGCIUbkhZq0Ga5laxHLj5wFxUy3Dq8ksYVi9O4UAc\n",
       "8ttu9jwgXnieuza9sObEz9fnolofOGj3ghhtuGzNLvkQ66kNVLvxpdWQWYPbJ3dwR4N68B/9T9n9\n",
       "uKSzWue4+PN8LUmOfxlErTWK/QTr5CAra3JiZlkvhmhG8eo8Ytn+lLbnqZEulKsIqnf+X0li/gGg\n",
       "EN3lzZ0pfpBSxYNmbinmIlwh82X8pAu2z637+RGYtezknAd0M5SEr3r8YBZEtF8PATTySMyAoXl0\n",
       "9TLlUcJXo58E3VtFmJ4iaUSR1OPE4L84mzzl+xXxGnQL/fkGiFtI81slILgbD6+FfbR7DeiPPmOi\n",
       "d/sMCa3Glfla9jV5GCJvH9GVBf1hwpXdYxK60f5ggao/efeTWGYNIfnCNRVMJki3OL3zEo8+2wnm\n",
       "fOLkDwNs/1/xB6cWwVrX/Urmj1InoHYQVqImlOU3q+PwC9+ljH1p/1KJJX8oubpDSmWs+aVquWFL\n",
       "T/y1nAClYUQ94oTFutZso1F4V1+MUn54u/JgafLgNed/8F32UenYDzu3rKwp1oEsvDDVDJreNssW\n",
       "C6KuJCVFioYjvrOPN4X7rQLygTc+MrjTXgViNe0PCS/vXYantS9voPwfPYrqpnMAAAMAAAMAAAMA\n",
       "AAMAAAMAAAMAAAMAABPRAAADnkGaJGxD//6plgAAAwAOpGnNsaAfACeBQU0vYQCv7QgwUkTKP5La\n",
       "dR/pc+EKqM6QivDvsv0Nnc5ie1TBMLQ1heIORWfX2DN7Cli0BEtszE68phiskuUxcoVXmsgN4nZn\n",
       "JNjjKnfLKd1UWw9e63B3viPj7Ba/wSz8jf3iBRXJFTx9GzgX3Yj+fCTSS8gW1ZTwMvIq7DEhWQWL\n",
       "SXaITkp5Ef6/opHoYtDnzX+yWq2AbQ1O3QmqtYNtbNjiSytrcGVQ2ao6rbg925b6mOSr90Uad47/\n",
       "2g8S6GNdT7vSWDJ8aHUnHE+77wAHT5748aHS47GwBpM3zJeDA9c2NiSWDDyIAKfnhvwce8AndVsq\n",
       "3kNYH3zXLAoO8EjL/fUAqG1eRYMbWr3meICkxtu8OMtszUWyG7l9pIqlLWPmqmcyxwxkH5MiBaaD\n",
       "Z7x60ELyfAkb5kiZbnmsVITKo3lYtvfGgdxUm41FOvSVMdvSvtyhkJrxDCQD6PGZDjhh7X9sK1CN\n",
       "VJ/T6Iaf1nLuZIeu/SY5FxiziUapMwPLu0P6km+D/oqfEy9D9MiMg5l9GvG/piVP3zfTC9DRZ9jc\n",
       "1jv7SNr7D7TOuzOsurzQt1OROcCPUxOXWnAvW1JCO1i2GyvzOYSLemm1PfON45+GEizcnPeTLWFl\n",
       "YZYKw4+910CBnKOMeT65bm2Ols2guJBPHzAAOqv+rJvE3jzGtbz/SylglCo2NYLQUZSkDdkFQu60\n",
       "nwyOrf7AwdFnkqJkzveVTo/0Z5ShBsgSSbaUqQWVndyLdP514/J5ofjwHBja6RPtblDyeGXlspdi\n",
       "k3Rg6HKxOIr4weuhgLxUs5d6SE8h27d6vNnsceS0UDtD1T+bc1NIDaU0l4aT7WKEul33ObzEp7Rq\n",
       "PyG/OoakQD+wk9cS6Jlw0Fyv+mN6KKwIYJHWgzsiBckeurOTQEPKwg1UlFOSRKsn/laRgH88A5QU\n",
       "IyiaZ89tF0xDZbymSOkMUxF6F+g2HkGBjVI3/t8mNEnz0bsdi/KQIzyhNw42FvTlq9uGRmISYewu\n",
       "HhwEu1/bqC0s3OLdWx7kLjKBJWh2QDYfty/eqHuaiX/2JNtSnO7DO/hc1e9hmFiem4V2XInRaxrE\n",
       "VS9UzsU9KUas4TxDm8fm2jmUS+PH56Xqhu/ZpjAK1SxOoJjQjrQQL6bUbUp6zSroBkdP36PIuhVk\n",
       "tvQ9U0xFNadGEdetpee8IcRfEzgERH8nDPpz8G3+3AOmAAAA5UGeQniGfwAAAwAM38Vh4S47bb+T\n",
       "BIe32hPecLGwAuifWum9ZH0js1Ow9JHSu7sQAtoc/Un0Hb0jmZa/GxIhxeIeWkkUH/TwgTcIvkM9\n",
       "l2evYLYuEDh+VeXmzcW6kqUxQkOUcY3YlyHQyt63007FHmudrhBK7KCpu3ip0ql+Qp3bVuIDBKX3\n",
       "8BgL/OBW4EQVV3KNWHGoHHwKZlT5TUTJe/107I1raGDSutb/lGmrVbuVSJ8oNlbPcvH/fhh0+WsB\n",
       "eJRpF/cjLgN7sLhY1a5Uv8zwoZtP8/SC6WL6Sxza/fbuATkAFBEAAAC5AZ5hdEK/AAADABff6TwT\n",
       "BHKScNn+8+XUs34IQi8ncNdmdH0X74AWRNhTXVeNXok3ar9yPvlJDpE/SKTe098HiI/hm3rIQI+K\n",
       "soO8S5oQDu4BDOIsZk147eAVFTOn+kjYLPmzwoRCdCJOgOmQxSmmUQsesMjOsVjCME69MlKk2mTC\n",
       "D3YfOCYJud2Pt6V+BeeKZi7W2i2p99L/vcD2iBP9I017PubKKKLBUrKJaX/eOKpKcrquwG0AA2YA\n",
       "AACGAZ5jakK/AAADAASXX1oXGbcdtJlZS1xrAABwgMG2W3SY5SxVn9riKjDqBnpnWq+vqfY52i5z\n",
       "LEIwn8upajOR5JF/s2GLjfXADtFnN2JuBjJNq+gdTRytDfuLm+/O7V5tkhH9jz6xK56B1RAMV5pc\n",
       "mZq3QaYP0kicFwWq9seTEQfgGiAAAysAAAFCQZpoSahBaJlMCH///qmWAAADAAADAACcLNzoOo11\n",
       "OwAty80KBpFNfqyp9cG6wqerSz7xOyJMwb0DQMUphzCPJUETe59KAlW9H5VKUB+qrEIHBsAszlE1\n",
       "gsWrIvUy6pvZapiA2YV54oq8oIPs0/cf6POdfQttypnByccpUnLBX5RAdu4Hts5J9+FbHM1sig3p\n",
       "bvxH2RJihJtFaFyXQYPctbZFF+KQKsyTs3oWBH8PU+DCjj1d5JQ8AonBW2COJJ0Q/buHKfEEU+T7\n",
       "ZXP1+1UHhaSUOoj1sPkpcDdVTiHBG+IPXq3PgFWsjay/eJqUqzZHI2A46MBNAEGGiTnpP+Zc1IUa\n",
       "AboBlS7S5sUwmy6xpZxLfoOqVn3uj5Vswo4cPiKPT5EMIrDd45/6oSb2vhuNwAAH80BQ7ZFfTsjA\n",
       "GWj0AAAP8QAAALhBnoZFESwz/wAAAwACfU1DN1xo90vG0GNWKHoD31xxACyaUkGfMDHNrG2j1nUR\n",
       "7NE9nGcLrodVGUwgVtHkCtx9q8sRr2GQbu6GhOxRRq+EO70Uqs4lgu4Z4dWFJv5A5vJoWlrWriMl\n",
       "/I6F2jha3jz3iWBmQv3s0ipy6mO2RSIjkGyd8KQu3RUuNy5KCzcVi256gvBAOKL/XRDnbm07YXKm\n",
       "XLo0HSa/M20ksyq0drk3jfhGh/agAAI/AAAAcwGepXRCvwAAAwAEldBKFSgki7fieNAYbUjfFKM6\n",
       "UcaR25Rvdfo78bw2mdLAB8aABO2eRzsdhH2UNFOxwNo7qiR2Bhd2R/E3Pd5+eMh8nZBL7TRFCGW+\n",
       "Ox5i8+/k662AmqJqdDVGi5g3uwYBms/bHIAAAWUAAABuAZ6nakK/AAADAASXX1oXGbcdtHmqQPP3\n",
       "OzU2vvyaJGBokq0mBfkXra6IaTPxT6UoAE2lr8qcXfWXqpw6c1UvOtJfN1ul9PG8aNtiWzuuPf4j\n",
       "o4FHn7laOWBiLAWKw95XRuzN/GLEjHqkikAAA7oAAAEYQZqsSahBbJlMCH///qmWAAADAAADAABj\n",
       "DmJCM/KaAC0hS4/Hl8Jtb+LyKa99ssuELLuUtDGfBe3NJddmy/3gjsWvb+BXQuF3RHYymwSht+B0\n",
       "ZaZlltHrX9zcEP0+WIAfFqd5cqmB+IBws2VfVPJZisGhN+fvCAwIzI5NADv3wDrjcJBb2E/qbev7\n",
       "zjTxNLPLZ4ISpMb8cXphNKcKLBBWgmqG6AMYqkXgSzpht7TAJeyNe1vA6qg5xRrEVO/4xy5L9ZUM\n",
       "IlWyaQFnkfDi+UOil4nbwvKY2rEXnqTuCp0xJ9TXvqTvLj1wAoFh096fIkLISsQiuGCbXf75aN9P\n",
       "NiPwGJ/0Rx9m9CstZ8KAAAY/xnsBvUngAAAF3AAAANdBnspFFSwz/wAAAwACfU1DN1xo90vG0GNW\n",
       "KhSdK0QAsQ+v37JhFORYB0jHEYLK4xil3Q1MgYMNICSTk2/zp1E864blYkpk/2BKtq4AIM8HssWL\n",
       "Yet6iAaaYphpxWnBkFe7Q139WZaVAs/Y1B6TgfKTcHd3lWuHkCdUVgjV6ir1U0PbW+CnUGZY/kJZ\n",
       "HDUe/4KAg09IMjordSm6XRYa0QY9Cz+HNJwfyp/KpNG1AmLc7Eo3gE3dlS9etmAoKldAH3XgJiIr\n",
       "nmEj/4ec9BGn95K+6+vGAABOwQAAAHQBnul0Qr8AAAMABJXQShUoJIu34m4knC4gU5IAWEp9qp0I\n",
       "gt/XmgWbgRzi1Efe2QJO+Qjk+Uk/4uoPB6D5xjC9l7yxPh2yb0rmrJyKl3SIMPk0NpHMYfspUGdi\n",
       "qcAV5QA03z8nV6g3CTolmHdp+7eMAADegAAAAG4BnutqQr8AAAMABJdfWhcZtx20ecrKIAWeOnzk\n",
       "eaZ/ALxvSvK+BoyD5f2kMoBrfj+RW82c4VDOJNksT7lYt/5e0vyGpnAiu3oaHFhoEsb7iYDWubRc\n",
       "5vAI3kEFqqA2znUDPMbT934PvbxNAAAl4AAAAU9BmvBJqEFsmUwIf//+qZYAAAMAAAMAAGM2fI9k\n",
       "k2oqYDBESwjIUdy5GiaBmpIcAzjCLi4ogRLlqQTh+ndgCY7IJwU47NAJiadVl9x51D6XcPcL0gR4\n",
       "wL6bTLjp4vhSmavpFM9hzGkXRs6l9SIuCrNtllixgG7PzJZBuQcaANmLkgVXt37qtqr2YvfOy1YS\n",
       "YBlfV4RIRClnf2KGFptwD5ruGMYuT4LmpkQs+/dFCzX+WFmeAWQ2tyVBQxo3Ov4VvUVI51Z7Lhh/\n",
       "TBikMlHPY464bxGnpwnP7hDUQSvpRKp5vThjHp1xad1Oc5GecbXjHC3IBn18d8ZfsOxMAYek0l5Z\n",
       "HcOCH4cA7HUfhfBCyK78MS9FpdIQGe11C/7xfvyaZeFEjQSwFOMBQJF3TMTRbOeItkOv/t/Ss1Le\n",
       "uiVU2xOIMRpY3yL1qQAAAwAAAwAB1QAAALRBnw5FFSwz/wAAAwACfU1DN1xo90vG0GNWIBZE4wqA\n",
       "Djeo2h/c/3lddaSIgLhiFq4UoSsrD1tktZNc04G5eTTjtD5rMOJTr8Iq85i4V8ffiqJRVO8fxZCG\n",
       "JvQxwKp7x/lb51rDkGJCNDfwW7zWKy9j7lW5BTuGCK/5h6iADLOxm+O96nuEtln6tdPWqgpRq0aO\n",
       "pWzfg06rz40CjuJ1ifoBO1ZOAEbFKqIcyiZ+FuBQaAAAu4EAAABqAZ8tdEK/AAADAASV0EoVKCSL\n",
       "t+KOPKAG6f2zXu953ri7U8X6CjD0ag/KA/UnajzcbTb3X4QflnW/cW66zK/QvFcqJRLNBiaNef7H\n",
       "02P4srY5RyVWnQCl1oAK3FoOjsfMw+/8v34/AAAPmQAAAE0Bny9qQr8AAAMABJdfWhcZtx20eb/u\n",
       "Tz2mYA6SL6rw1zePKwvrHYACh/MSYq7+wpKJpMes1pNOrwEjm8AGhQhXfaP7DyXZKHcIwAAHdAAA\n",
       "APRBmzRJqEFsmUwIf//+qZYAAAMAAAMAABQvhSocs8MGwy6atMtAB/QOtlVioVYF/Rp10+WZ5YZw\n",
       "ftNf4ox0Ai18P+M50DvK+oK5TJQIkZye55yGeqH89g5GTwhgweiyBUmnEurx5L2Q5LQwEqhwmOTB\n",
       "bKSNOCC2+LE42RF58BdmYnJwCUyFnqFzuSWwLFehZnYxA7mdGxFpvzEQbuR2F/zDihYYjK7aghTV\n",
       "NP/JdCcWnS8FEU1pOnR6cHwfzBKHVAOi91cxmaHv76yOd49zE5Z4nWzthKdK/FkrPWznlGnQkNGM\n",
       "M4kJlUO0pSiAAAADAAADADagAAAAgkGfUkUVLDP/AAADAAJ9TUM3XGj3S8bQY1Mo+QRCXjkwAeTu\n",
       "ZH2DqLRqNE6E5CsraexOeO9sQhrw9n4MNFOZnuqwAgAUS263Ht6zLsSMn9kdthbEtWRN8iQNY0RA\n",
       "wCsPTQ4zq5OLO2/yKA1Zr9HAPtFslEWZ+NZEEAoisO9dXAAAHdEAAABRAZ9xdEK/AAADAASV0EoV\n",
       "KCSLt9rn9cNVm94cGJCM+ETvoZsk5E1K+8fsW40M4mWp/ez1SACc0cko2VCbOgAEBWQARSsb+jd6\n",
       "SCe/2T4AABUwAAAAVQGfc2pCvwAAAwAEl19aFxm3HbRzkZez3PK3UhrkAuOD3PgEttosAe/ZeCMC\n",
       "hcUaCxo/tI5ci8jqg7zgAH3ZU0dvAA0cSgAiGxH+R5ZvW/TfwGAAAaEAAAEJQZt4SahBbJlMCH//\n",
       "/qmWAAADAAADAAATmPWV/SsQA23eBo1WNIatQSi85ot+B26v6uf5SuzDZFcwTYjJFyE6wqWRh1EG\n",
       "OqATHj/56wm0SRgzbR3EXEPtOFi/loR92+q0fcKVBzfmVoHSLEGOKFXzlglO256ASegzKHvgYxv3\n",
       "g9a25BAEPZi4fVfWSXDczUH8LKYE7SHGIpvG0yJwS171Dp8ILM0M14n++Uo1q3ULA5uGe9yQPISg\n",
       "BL/j1Syg2NDeYzqL20cMvMvifW7WH28KVWprSvMzq9oMGiwxpvTpPxOxH+vdm5Ec3pKptZXgObBJ\n",
       "XBa8DYvzXiEwDz06I7sLwAAAAwAAAwBvwQAAAI5Bn5ZFFSwz/wAAAwACfU1DN1xo90vG0GNTKMFC\n",
       "QCQftDOpArjvGs9W2mmlzVT9Aq6HL99AdA0ntX49Pn7TOcgXW+kh5SjAc9U4gA+/LGjhlVpdsAQE\n",
       "FDhzdguZwS9lVHp2KIhHn+DCOD8tJxsubTa03hgUBVNxMwesoBkrHbgC8cB34giY8ctRwAAAAwEH\n",
       "AAAAXQGftXRCvwAAAwAEldBKFSgki7fa2p5I76bRp7tw3nnf+sBLg937mmq8WHvG/l8NJNRLoTt7\n",
       "iJZpyG72KQ9asbeAEzxOy0n43wAWrkABRr4p6L0hpOd/m85cAAAk4QAAAGYBn7dqQr8AAAMABJdf\n",
       "WhcZtx20c5wfpEmifAyrKgA3jDoLhIggAv3x1cDoUMfdxOrLfZvNGnMnXCxN3uWcUTmPbrZGwBvs\n",
       "mKLmW5PIoTTQym7QHGHIAChPQIYReqUxnuvTUAAAwIEAAADaQZu8SahBbJlMCH///qmWAAADAAAD\n",
       "AAATnld9jslQCbdORDt63QEChE1JwBPdJSWu7XnaH4wQcsjcSac9FqAuE0OjjF5/ogi08ASjDR+z\n",
       "GMPbCtlZRg5YAF4LJRELm/i9Jr3x42sfejNxhyxoBAhOlhQUHxZAWU5J6ga972WxGMWE5tEvofQp\n",
       "lt+UF9XVh6U4xo610eQVP8v9u0Z01aGWfYlBTWPu0j+nf3ioWySkxrNxuWW/eWIGwoqlJW+fZZkD\n",
       "glgLBRzsfJcx5ZWSQz9yUDN5DfgAAAMAakAAAACqQZ/aRRUsM/8AAAMAAn1NQzdcaPdLxtBjUyh/\n",
       "thGCSVt3KtfQAkJL+hZ3hT7pi4YX6Ivj9uf0hMAyn1AXx68oyuBe3i2WsXUDs7ygHm3Cc3P5GqLH\n",
       "tpMW9glBbW91JAMsMFxH2jsQ7l3jrKMB9pH/RDSuhDsUoun1TRJO6exQx5pbCNY5pSbyAZHQysmu\n",
       "xJi0TgElKpdICmv/LgEjQTpZwWDDs0JxwAAAH+EAAABxAZ/5dEK/AAADAASV0EoVKCSLt9rn8t99\n",
       "4tdCPoAZkbzEYecExIjDkGjAiSwd5/cUgpvYLXtxp+MWIDhAFg9X6AH4cNHNlUgKzMQyWXHbHx0o\n",
       "9g+omh6Vmc+iH18zyAItzAAL0dlz1Vo9ZvAqAAADAb0AAABxAZ/7akK/AAADAASXX1oXGbcdtHOc\n",
       "H6RJ/A19ADPcp+mboGHI/YIR1juMkeVVlF/tHLk79S3oSJMb+U70yn0/dv9HEmA3TlluA0XKeyTU\n",
       "qUx75agR8099SuppTgiExt4ELjoABKkWlZuGzm9NQAAAMWEAAAD3QZvgSahBbJlMCH///qmWAAAD\n",
       "AAADAAADA9RD33RKUGACxlk5FmTCmXjCZKmH6dhpKZwKqIPUkeAnAgIwwg+HgjFLA+lSLViIlktX\n",
       "T4L2RVhTEtfcATV/DtopKLLQKpWl2A1uZ+3EB3Ce+ACHf0znjFcyk8nMB4SnxicgXFCevnglIm4x\n",
       "dblzLzTC/W7BXSwZmBCUXUaKyZXaQZULpP0gCAvt3nmM83s49fxfz4dGD5v17y7ctiY7ShybYZ3R\n",
       "DvDSEAL6a0/53lAJNs7TrAdURwjl6+vljwhJDcmNfyEvfkMEyheClAoZGIQ88JauQAAAAwAAAwD1\n",
       "gQAAAJpBnh5FFSwz/wAAAwACfU1DN1xo90vG0GNTKIAhMVZHMSh+Q5zowgBZFd5yHm72UiVgizbL\n",
       "zelC8QIP/LNawUnsv3/zlo/5a2n6We34QwKhicwpTDMyy1r4R560QJP9TkJ3bWIeG5/EIp1oUsCm\n",
       "eGZrTxe5DfuhFwf69Q6PDgbecSb+lgI09DLWAGRi4wCqrKLeLc6GCFAAAB0wAAAAYgGePXRCvwAA\n",
       "AwAEldBKFSgki7fa5/kDL2WR9pQAVBGJeiEnROj06gMZvvBKFU/K/+jZIPU9hfshrUbS8Zi3PB9o\n",
       "Oy32T2kZP5dd7qST2UEDfTAANIrO+jnzIl+/AAADAMCAAAAAXQGeP2pCvwAAAwAEl19aFxm3HbRz\n",
       "nCHDhS6idxqHpaFoH7jJp9GSVlV1sMU58+QgAnCybjY1LnVxeedH7Q05VrvhLfOwPJEh/7OwMeng\n",
       "AFimSrwt+JTjTgAAAwB/gQAAAS9BmiRJqEFsmUwIf//+qZYAAAMAAAMAAAMDz9xgRUfMTSmMAJGc\n",
       "iGt9qbeUTvYnlNaa39T1XK5lqcHHY46yRle749OsdZV9r/ndZQDCX50NGbRsPR2ff/fq0W5rzUOA\n",
       "V3Y+0E4NKKc+c34QWDbPEEVZ6XuxV3IWrD/khIUi3BVrXjynkOxZfzm1RMFFyH/ww+r4yyeKOk2e\n",
       "92XZVo7U80kIfkhtA8hliB6uWSaz089G38o3SXPArZDHGFGxHF/BLJ0/Sn9BaSl/7tHftz5suaTO\n",
       "vdX+4E2YNOWy8LuSFfQQBCx+z9BVTnVSM5t3uXdERb/7PXOcbrZyi6YsKmtBSazUeUoAnyvdHf/V\n",
       "gBEg4gsXeuBNSDeIvFylWuFL9FyrQNw1GXQPV/gAAAMAAAMAMqAAAACwQZ5CRRUsM/8AAAMAAn1N\n",
       "QzdcaPdLxtBjUyiAIUTOZS5KACQkv6FneFPulZbXUGt0sKwmWkQSz+IXeSDr/gqkw1n7AD9qZ4Fz\n",
       "RCfCC2VBZ18agzb/8+0403Dtd+aXo+aWyNw244MQFijijTH6oMsrWviDYNoKmFNw9Vo/sWY1S5Di\n",
       "gzEYdcGAyarHhb1yvSZK27h3KVpmmbmgaJrGgGwf+8BJzWQHd9MjEsgkAAADARcAAABtAZ5hdEK/\n",
       "AAADAASV0EoVKCSLt9rn+QOJCnVxLMFX3o69mkt4oPYnutrbds5DhN5hiVNQAmCOqloiaPDQvows\n",
       "aNB/wKZ+rMw3ycYduAnhpz7qWthf9PDTShaVAA17MAA0pJO+7zcqQfkQAAAV8AAAAFgBnmNqQr8A\n",
       "AAMABJdfWhcZtx20c5whxJLV2CkAGfVdOMnLt4yNV2wrCRKvF2F2WqUwFqWvH2wa2PfluPqy5Ooj\n",
       "WxfqtobQAlaYAA8A8P9JfWZitMAAACthAAABAkGaaEmoQWyZTAh///6plgAAAwAAAwAAAwPVs+R7\n",
       "OcFYqYE/bbOJ4tqylIUC/ZN1a7HMcus/BLqpIS0E1e8Yu3mtpqFGWuWbz7pYdB7H18c1VvU/UGBN\n",
       "mbEkRpwsDvG9/4dmqjlrJm1swaGD+BZoSbKxcIV+5dXPezIwUPOtzFp0kfHctWhawDgKTVyML0rv\n",
       "AGEIw6RtWO82oWDYs0vk+EO7EbhNqo2Hgx3aK/ElnlyknJfdZoLkkYUw+ieuhTFnhfEy4vLJnFuY\n",
       "m85UyuXlSmoU5z9RhTnAGgwPCnBuw56CmFFOTLKjGtLQ6lGm2lzvK/tqR9m3ZIbtEAAAAwAAAwBb\n",
       "QQAAAJNBnoZFFSwz/wAAAwACfU1DN1xo90vG0GNTKIAhYM0wAcb1P+auU3QiS7BxRd2iV+NrJiwU\n",
       "m5+EcZTkvL+TQfvUqLR403C93DAqh/MW/BYFozPLJbS+NUacCMxNQyCGy+Ig/Fo9dUdbXHkX6HxU\n",
       "hHDWnDvJ1dZqVpvtHWO2pdv/a5bgGOkSICdr+HbHWVpqiAAADekAAABdAZ6ldEK/AAADAASV0EoV\n",
       "KCSLt9rn+QKMk4HoyxoAOL8I3dl/rd0j2HaDk2aj5jBFAcrORsNVnt48MCNr0Lz9vgpAV8LnsG/c\n",
       "JWWgAUKhQAYY4S+kmMkw6mAAABWxAAAAWAGep2pCvwAAAwAEl19aFxm3HbRznCHFcFIARjkTiD1G\n",
       "rZd838Rmh7ZN214VAu1qjJr/BBsj+PoMuaUFaVHIANQmuC6q2TwANOrwAfFCmukvISCqmAAABcQA\n",
       "AADZQZqsSahBbJlMCH///qmWAAADAAADAAADAMVUpdMvgBKpAu8nuZxWlmWR5AzrAT38fOKGsRKF\n",
       "lDV8gu5ryVXh4Zmgy0GwdRAuMJkmmoYnw2f0wKOB71iPeadpXkgEOzASCZe0dfM/IbiGv9oCPx+5\n",
       "GLdga+SCqZQMJ7jcW4Dh5Oaw88VqY/PKZb8NZP/dWOg9rPz0GcN3gvP78Og6RfqTI01jRP/Va5RL\n",
       "45Z/H1ZOi67cNWmo5lEFrMXZJuXl9IFU1jyWUP84wTUKNZWKvdRPbjaAAAADAAAFTAAAAIZBnspF\n",
       "FSwz/wAAAwACfU1DN1xo90vG0GNTKIAbau5q/X4RTUPh2rwIY6rshQIxMC1mH3QiVkjuhupACdPO\n",
       "dIc7X1c2ttrosbiOLeN5ZjYTsl8ThA39ydYXGpj+YMwMN2G9tQKrDQxDHSVQmZKlwHojwBpN37AA\n",
       "e+N89YWOWejRe0gAAAMB1QAAAFgBnul0Qr8AAAMABJXQShUoJIu32uf43s45FgmXcN0VYABT00ha\n",
       "B4OZvsiLzdzbFY/tQIouUgx8CAkluI7cMk6qrt7gcRMMA14xABsfSn5JtGnh6YAAAEbAAAAAXAGe\n",
       "62pCvwAAAwAEl19aFxm3HbRznCGwpXu8iwu4XXtY8ukIo7PUjpdDJgAlfxLWTHqLN/5+NoNmK+VY\n",
       "fxEP4V7QjFroSJ3MF2gABA20QAUdYO+ZYZPvCcAAABQQAAAA/0Ga8EmoQWyZTAh///6plgAAAwAA\n",
       "AwAAAwDFLI3yKmhe+WMAC2R0raVpG1rLcfVZo3luVJVdIvZwiE0H/dVsuapvNXI2up8oujYLfMdh\n",
       "amy8kvkhpNsnA3VK+TwSTeWUx0QuceKyMH7GHWJPpgg1w4ZJPs1EdyRwCZWlD+AA7qakgtchF01V\n",
       "94Xo/1SjLYJVY6xJdiI4sMiqjBbtTeOpQ97DHzC5oIk9foUIiBnf2IhUap/S6A2wdgqi9rOIcGwR\n",
       "OpyWYvHICyz7Du+TfwWJ1zkh8CgLArX9JqXlH2FTvToF4YRD+5vxzEvlj1gMXKcW9DovDQW9/AAA\n",
       "AwAAAwAoIQAAAK5Bnw5FFSwz/wAAAwACfU1DN1xo90vG0GNTKIAbhFGlH0VnoAWkb3bK5v5GrBAK\n",
       "VwhnvH+IKDe8TD6Rt5VESkmwMZEsd1sGxm3iL/yDm7eWafU8cqGSUGBXgeDrmaG4v180QKnIE9O2\n",
       "w8Oud+4pr5UQgJug0G1jqphAm5VBpmtU3QPL+B3R7zcf5bqIFohtwa0559+F7WxrUIR6ATI96YAb\n",
       "+0ooVh0j4AMAAAMAQsEAAABsAZ8tdEK/AAADAASV0EoVKCSLt9rn+H+vXLMWfFXiMML3vn8fBN/Z\n",
       "JsT6k1cYgANqMNOzZewXQvL9SutaXFBCMXq8AHM8KBsG2b08U5Z2R25ADBE4Psf11mNqBQtEAA16\n",
       "Ex93ku6V7IgAAAkZAAAAfAGfL2pCvwAAAwAEl19aFxm3HbRznCF3QlU5EJm/PPPieViRONj12obK\n",
       "zfFlrr/gBYmN2hjb+qrIjJSeH6TuDEwS1kkN1UanyswpcaATyIqM7HN55TIbb+okayleAcKhBGOF\n",
       "lCOSHW0uTUDSMkABMm77dE0plQe8KAAABWwAAAE4QZs0SahBbJlMCH///qmWAAADAAADAAADAMZs\n",
       "9NVjlmAHh4hBbi3/NYhxBhFUNoIHLy+O2TUFjrXIb64KdOzI/bVx8zmq5+Sy/cxXCAQGGtZsSlRa\n",
       "Yx+kDc6r1Xk2VAbJbbe8baf7Mt1NCrW2tQFTg4Oqav8FH8GoBO49Z8oO05Wi7fVREy37m1toNvSt\n",
       "fxhDJlAC/zDplhbyt/xtB2kXOkIm/YNeSdrZuoK92sWASv4JIC0JLrHMyPxAewe26HKyHgNY6kX1\n",
       "g2eoxKtt41z88+7KP8KAuBo5NrnIGsqQbYhGZMFEqlaUyD1ge65XgBdA5p99VVHmcA6SboLrY/wu\n",
       "+3hDw8nLCmhbY/mbXmrhM7ZdS6ThoJduGulPRBKGLg8zz/eyoxRtqwPpkgQpJCIgAAADAAADALuA\n",
       "AAAAoUGfUkUVLDP/AAADAAJ9TUM3XGj3S8bQY1MogBtq7mr9fhFO8Z+W/AlmTfIhS7QAC0gSZjIv\n",
       "LBK81PGJ6K+GpWxEKCgRol8Oz6GQHfOAhRH9UkyufP3G/b32ikajcYhIVSglwEiW11eIICZ892MR\n",
       "RrTPTt1WLF8hh0LhQ5MQe6g39bRPmUeEAOs+mtNfQCsMXxgBMgOwbbgtCfdYQFgAAAW1AAAAgwGf\n",
       "cXRCvwAAAwAEldBKFSgki7fa5/jezjkQ6s5450KOnHSrQAbtrth37kz6EYu4O/0sB3pfR8WTgxhH\n",
       "lARV3lx6/tsCpiuiHo+UjZ/gTlHvQFrUPQWaD3VMYmpofO58iTxwHrXCjPaR/dFU408fH7YGjlgA\n",
       "O3Qp/Q/fLgvTAAADAHXAAAAAcgGfc2pCvwAAAwAEl19aFxm3HbRznCGwpXu8iwu4XMKO3gEANwX1\n",
       "TiqjdKVwmGnteGp0UPcrFz8gFrR7Arr1e9eOFnJJTA8RJgcjzhyprUxv4Tnt8G8QsFrVslBadKa1\n",
       "oAizNwAPzfQfJSUzJPTAAAAk4AAAARtBm3hJqEFsmUwIf//+qZYAAAMAAAMAAAMAxSzNkjfyQP45\n",
       "Pjov8tlxnx6+aRcc95GGsHGd77X0fbIoaQ0JguYGngQEKa4YZ9vhAjbkVQWSc2jUTUTGTLyWCYqU\n",
       "nxIRfnTU8sjSsBQxC8f/ei/cqA2Jd2qr3xFj4WeYRDlvRAfOZYasCDy5CGwH/k9HpsdR6TIQu1EO\n",
       "J+Zl37T8pg50rWWMGxr7FhxBx2YDoCa1f5BopzFnM1B+JYtPF//fdmQYjm42kRviSGr30pl4mutH\n",
       "lrnvvF3GOejl0VXFtrXfBCUviPtRxW+577kmGYXPlTPNt051PgMoePrALf8V5MWtIezuAGYOZtRb\n",
       "lotUsWQ6ERBBJ8j864AAAAMAAAQdAAAAtkGflkUVLDP/AAADAAJ9TUM3XGj3S8bQY1MogBuEUaUW\n",
       "dQa9M5Zjf77ZABIlvFe5rhDtF91mytq6DKO5X4ErDk1/TI/ITP7/Ox0GmkfsTZMasss12uzeWkP+\n",
       "FcveRUM1+XUdNJScsor5lyVwdVDL4+bdqywdIZl5fX5xqkn+DIQwn4qpNLMKE6Ch/f8ttxFUSA0r\n",
       "fMpk8X8dmp6pVzEdTduRUqAMQc9MAO2LiGvICrNHhQAAAwG9AAAAfAGftXRCvwAAAwAEldBKFSgk\n",
       "i7fa5/jezjkTyAmGYKWK/EANyc+r2WPg5414B3+fzeIenimEEkZ1ysD2WvfB8CxEO8E3AanCe34+\n",
       "eY6jNBJvDTRUzveKi+mm3sJGRr08482W5Dxd89we+xgBFFMABjEy48vrAksecAAABN0AAABhAZ+3\n",
       "akK/AAADAASXX1oXGbcdtHOcIbCle7HEXDfXCUfb6a1UFgfNuT9URVnoD0SVf6JIvt0kr8wt1Zg2\n",
       "+IasAY22cAIY88nXbQvzAQ4G5cEDzKABfEav43I2d90IAAALuQAAAPJBm7xJqEFsmUwIf//+qZYA\n",
       "AAMAAAMAAAMAJwyy0yrMAG6IHLbIyxrFcYqGm5eX2om+3tYRvLsI/B8OQWVtTkG9tlpG4QzQtokZ\n",
       "EvvJ1eVL3CXOmp+TFvr/oxJ88eN8n7PFeH+6zx8epJviKPgfwZtGIU3uS3El8R1Vwq8Hqp4t/+kE\n",
       "CqtQbzXZkvxRkMrVSCQijyqz6+c4LHU7Ju6IxC5zjZUWwZtWw+dNhhZFvx45vvoNo1SK+mx4LZ2h\n",
       "KCyFHzqir8JM3Edh091537LW1Ev34AYnGZuO9chUGMxW5D5ppDetFKZcGCV2rnxAAAADAAAHdAAA\n",
       "AKJBn9pFFSwz/wAAAwACfU1DN1xo90vG0GNTKIAbhFGkcd2jlSGdg2Mh4AWiL0QMM1+x45XaMK0N\n",
       "HYCuLoj15mGswNiMSxg0jrcdZ9HyhkxUjk0LZFoHN6tewR6hvz1qA57LfhLcl559XWT7wDWtyvfo\n",
       "7knvhvKebRVZOhJ7XVb0t67b7oc4ZBD2KroTnAbhy+/AGXtPXnzJQnPKp2sAAAMAVsEAAABlAZ/5\n",
       "dEK/AAADAASV0EoVKCSLt9rn+N7OOPIldpxvBLIDz1WUjrXADZGO7zllFenZCfwXNYKhB5h7G/5p\n",
       "tRWk3NB1kBWxl7gOIXsiuK5ZlivU0O+CeSUAFZeuuNlZEQsJfAAABlQAAABvAZ/7akK/AAADAASX\n",
       "X1oXGbcdtHOcIbCle7HINLrHBq6cAK0e9Sd+nUrvU9eEWrOe5GILcqsM3xafxJDMlJyf62a72EFA\n",
       "d8NwEv2MpT+JL817MI+nqT/Sljd+JW8Dr4cACLCfiqgg3UwWWAAAAwIPAAABJUGb4EmoQWyZTAh/\n",
       "//6plgAAAwAAAwAAAwAnL8KUsO6AMAyljc9rvSUqVDyi7E7ZG4BZcAAtHaWIIUWTixdAwNzeqfcj\n",
       "fj9NyioUPubSlNQgZs/ub1X0oaXUUqvLw5HkhAv2pVNO7aGQ5ztDjp1bjDxKievTtCIBg0yKy/DP\n",
       "LwhM1/t/+ROHMPq5iMlstDyxekPTbGiTwXoegR7y+OoeOyjwtKPnWEf9LUpNx7zRV2KkB7y66jAe\n",
       "u6LxAcrixPERVRAemQGfpzoJ+XsLEsJZOIotmqL1lznwNYLgC2M6MtRTnWeIKKcSDpzTgyHeu1ow\n",
       "yvoyjTMG8EdUezo9AQ+uIehw8KzoGSl20/9k780x+hb0QRB0xRT/iqCjlQlj9GAAAAMAAAalAAAA\n",
       "rEGeHkUVLDP/AAADAAJ9TUM3XGj3S8bQY1MogBuEUaRx3bfPZfHKxZADXIwPcEn9E3bg/d2IYkbl\n",
       "garz7VB8opcTvGqVNiGvWF/6Ber67IT7xrcEPsNaPYtlGnKngP36j+7kV4fdnK6csk5rd4v1LM8e\n",
       "Kn/mtdQIf89//gm864hnvQ0oh238wqz2H4PWjsb4A/7U9morlPB11gGXaOmAKqrCOVPwnvMsAAAD\n",
       "AYsAAAB0AZ49dEK/AAADAASV0EoVKCSLt9rn+N7OOPIS1cK4hercTH/gBxvBZwxwiYS4o64E9piY\n",
       "yZcnHJYEgJAHt/nJr4iXQTpr02ALl4iL/j0KfL2pIjeebuRSButLcur1JRJBACM5YADvWUby/3mI\n",
       "2bgAAAMA1YAAAABuAZ4/akK/AAADAASXX1oXGbcdtHOcIbCle7HEXDfjuAgCMOhoCHNxgDD7pDKH\n",
       "aa1pu9WEfk1o0uDqfOBC3QHf4S+63oBonpX+gsgDcfRR4z05PWFDuoNkZXf3xBzSEABfhYN8ynwJ\n",
       "z9wAAAMAd0EAAAEgQZokSahBbJlMCH///qmWAAADAAADAAADACc8pbZl4ouPAAHaIlhFVg67rqDt\n",
       "9xGIGyDiNl/1x0ciOebCzRVjJeOna0gEdlK55HE9LKCp41Q+/ODIHepE7/oWrB8Hnwn+IHAtz+T5\n",
       "/3/BlrqItxjJLrpjU8JwSU9le6SobmdQrOEeuGrHmOzvRRoDORtqEMRiz/AbeSiA+/QQOoLRGuXg\n",
       "jmWv0iGTQWMrmPwFzXgh0JT2DrVtlkuxKczAsGvqEf7KRq4LVAhbUVF6MVs3Oxxdo0eau2+5iznE\n",
       "/1zcTeHgydP0zIRrjbj6izMm6ipfbSZm08YZRxAMkOPFE24wQEz+4XoxY+XHSE8UJxmImLSIF9cr\n",
       "3TcfgOUdpEAAAAMAAAekAAAAf0GeQkUVLDP/AAADAAJ9TUM3XGj3S8bQY1MogBuEUaRx3aOVIaMs\n",
       "NvYOsyABc80aOzPsntL3IsJff/8uGYMyTtk4EzEKsmZdl4LigyDoHoQYW99H4O3JX5D2X87NIbng\n",
       "TxMYq5jwbP6DJv8Aohv84ATMF79SULAOtyWKQAAAFFEAAABhAZ5hdEK/AAADAASV0EoVKCSLt9rn\n",
       "+N7OOPIldtF2wAKzXz3wmtOhyclyIYeDX1is7tGBLrWOPDjA6KnUTSmBaoL0mxRCMZYgC2mgHgxB\n",
       "8gfZiABJIyj6NzS3kKYAAAMBLwAAAG8BnmNqQr8AAAMABJdfWhcZtx20c5whsKV7tHuhCK5v2tJi\n",
       "7mGsJ8qfKAFxjERLq6pkJzVMzsItFPHnbc32rnxxMUiCu7wdxCP1gs3RSOe9SmcAjoB7u+SxQMqX\n",
       "JB2NaAA4sXP+XhGZd+4AAAMAN6EAAAEaQZpoSahBbJlMCH///qmWAAADAAADAAADAMVjisVXKd/I\n",
       "1w3rzQGasxDB77/sdfUSF1fPIwg0W/CXA0ixvgi3cR/dgOd3Z9sfRGdI8/rJsfagN+XGMDfBnxCZ\n",
       "h47Iv5qMJHoWY0hOX7KFh5nH60zG4Yh/o+e5Ngg/8Qkxgnoct+GoLgQFqtUClsZZKlgdSZd6inU8\n",
       "ZJmqNhOuTj3zbHiVk34xV8E+I/0f+QQD4k8rmFMbf9MNxEg3ColpddAcOkBmU659I7s/EBYAn/Bs\n",
       "cidKqKKaIOaT5HByW6t5VLPLuxggwAzlgfI6e687N8f9yMt3MEif2SiB/rsemlLxU3fH/Z9jzCE3\n",
       "fSY2NOE7S7X68PzbEAAAAwAAAwEvAAAAp0GehkUVLDP/AAADAAJ9TUM3XGj3S8bQY1MogBuEUaRy\n",
       "YN3qAZFFoT40syO7pBQJVQqq+yxbP2Dm/Ka/aXh9KGAK+PszWVMp5+1lsHH8i2TQ58I8dRCE+G30\n",
       "MbaIsT4BAQKrnc7glorcoWLPi9TtQEetiWudJpY+AALvrT1zCF8QsKwFa5dV15xbxvsdRfn5aKWr\n",
       "VJgG/C/yIBZyHrLwqY5Ua9AAABQRAAAAZgGepXRCvwAAAwAEldBKFSgki7fa5/h/r1/7W/6+5Cu4\n",
       "47OmLAIAZii2zRv1TAgNAJlG4KQw8R0oI3SaM0hnnGhf3KWpvpzxVZrUOU33eWSJZ5qqcJBQ3oAD\n",
       "UnlbwOT3/kFcAAAImQAAAHMBnqdqQr8AAAMABJdfWhcZtx20c5whd0JWfI+R8P+UNFRjKUEhgywA\n",
       "3Wux1o1UJgw2onTRmtoWYx6KYXwO/np6L5xDr7LDRCtjYAPP3JLuNIeWd/0LHqq/ecaMdQsj0ZoB\n",
       "iVmAApahieM5UmaGwAAAAwO6AAAA40GarEmoQWyZTAh///6plgAAAwAAAwAAAwDGDGuqlynfykCQ\n",
       "VOLPAKF5jzmRh9LCusDNjOphVhfNa9BaNaCQYc5b70B9sxZXkJmzkCzRDvCPs+YdwnnnqexPRZEw\n",
       "8+1V8w8SnsQoaut5DhGb2GI1BslSrb3bXdu7tjkjx4JMSL8l+9xtFrK2cVaOSWV7woHpSXOxFFkF\n",
       "muF+f2JjY5DRb9L/Kon/gVeMo+WWX6P5ZoDCqWTAtbYB9S79o/JjZTsSQvlKtHZ68AbgRVZzkD8h\n",
       "enZ2VQUeMxoS9aEr4UAAAAMAAAwYAAAAqUGeykUVLDP/AAADAAJ9TUM3XGj3S8bQY1MogBtq7mr9\n",
       "enZoRhWXcJEwgmhAARV2QJUIviXIFfspt5p8wYAGsJ/4CPV9Qf0EzYNW6Y60Ec/WE0rmXfGzBz/M\n",
       "BjISwlOdjsd7O0DTu+DqOLo56t7zdInV6n7YiAo3pr94oPEY56D+248qNEw+fcuDZDkSN1Tkavsi\n",
       "wA0OH9HAMPVt9feAWNp63hIAAAMAekEAAABuAZ7pdEK/AAADAASV0EoVKCSLt9rn+N7OOPrK0ciJ\n",
       "rjWSOONB6xGV8mACwmEoM2NWRlJoDS+RnfAX3UreNIg9gTQ3EwkWuT3IaHSdbsAuJAZ8RmIRb5U3\n",
       "SUuiq0poSmegBOJBL6MTzyG78AAADegAAABiAZ7rakK/AAADAASXX1oXGbcdtHOcIbCle7SLvGMd\n",
       "k58EA5/VcANhS9B0WP5bFYmzPjPscfPZVf6FpY2AzruJePpY6noHCMcuRk1JfoQE7/hApuyAAhuE\n",
       "m+jhKiBSmAAABHwAAAEkQZrwSahBbJlMCH///qmWAAADAAADAAADAKTXadtT2HS6EYAbogcYEX0Y\n",
       "gHUNdGHD7QYzi0Vwcj12glloB8u5HeHMTIszzpIj/WZ2+lT/E1zmoHLg1hLaD89sYXBxsp4gCRZQ\n",
       "ftAu8MV6nmHLdgzXoewhxqqINeAub+PyiayBkfAP9N0xNJlcg5znfy0ELGVLEIfoGoIAbGZ3sVIF\n",
       "0cG41UqwYPIjCG8zHM1MQ1aiqI8rS04IYbleiVPlQetSUQuAClqw+jlmM203By12rINj5E41xGH+\n",
       "Ug3msv/MTGkp06o5QGQoENXW7snDft1sTQIlVV1/zwoAaC/r90M7Fs+Y3vm2EoozHgAzBe5F7Awc\n",
       "qfZho6KipDUNP/0OtAAAAwAAAwDagQAAAI9Bnw5FFSwz/wAAAwACfU1DN1xo90vG0GNTKIAbhFGk\n",
       "ccGmF7K3soQXsH/YrDACu/PbKoZsLo7gv5e3wTQKNJVGEhabiWpObwzltryllTY3SefNEdgxqM/W\n",
       "8jPMZR5NLRzTSY5bBZCeVr/agDVf3VoGewzmI6Fke+gCu+wBZ+H7MAYg/IaCSGhikVgAAAMDZwAA\n",
       "AIQBny10Qr8AAAMABJXQShUoJIu32uf43s44+vDL4lmIVRxz7j78QA3KjWfUylXOTKpi1L4w8jVC\n",
       "q63h6R9I3E85c3dIifVvr7Ai+Kgpm8/UfAYn0W8IqWZChQABH5FpEk18UyrizcuPJBJiPvjSkXkg\n",
       "shLXWABZShU8H5qL184AAAMAg4EAAABkAZ8vakK/AAADAASXX1oXGbcdtHOcIbCle7SEW/Huk6c0\n",
       "V5Eq1gb375LZy1mNZ6t/ZIAcMjQaWEkdr5PJbUIj1u1HD/J9h33nCP4CRvoGxEjtNgSNOQAMkEp/\n",
       "MHkhQfhgAAAU0AAAAMVBmzRJqEFsmUwIf//+qZYAAAMAAAMAAAMApSh2d9bwsfi0AH51yEyNQ9wH\n",
       "BOwaDIn/ECbJ/z2XaXwuhLhn+fff1hjQpxbhkBaKyad95J2euVnI0giOQlQdOPJyOmGk1hRvQ3aV\n",
       "zG8KqVQK2TV0TOgCYlvgixbJ3rfxVAaYLSCQRrLdDEaZrJRwCFcJ8KcO0H3SoD4wcngWscDHh3jP\n",
       "A9M3nn442P3Ztp1vQky1YSMwChyW1bRO5Aay//qJpaAAAAMAAAMCLgAAAIFBn1JFFSwz/wAAAwAC\n",
       "fU1DN1xo90vG0GNTKIAbhFGkcvJlQk+JPEALXZ9TTz9nMmsftGNHgwywE3hM1ibOQlUvv9xGDCW6\n",
       "IgefN6GdFHO9PmWOjm9GC0BSyOW0kl8RoBxgzBQK3+JvR9KqIo/gGW9+mAH57NYtn18XfRmNQAAA\n",
       "OqEAAABVAZ9xdEK/AAADAASV0EoVKCSLt9rn+H+vYBG6vn7L2dpuDLCefQQo2y/Q4YAC5yMC9hje\n",
       "HpFGSRW4RypDwuOJiJwZjQQGHgAe89T944CQfiRAAABSQAAAAF8Bn3NqQr8AAAMABJdfWhcZtx20\n",
       "c5whd0JWf2CX29rEKafcODAugpdkbAAFyoWIAUltU4kGGYtw6Yls79GDFt50e7J1eXciF+WJJbap\n",
       "4DmSEABXI/U8aGvgI8iAAACggAAAANZBm3hJqEFsmUwId//+qZYAAAMAAAMAAAMApTDyngMQAU9E\n",
       "su924GsDyIO+fkrbheaF3vuAChJVY0iIlfWOl47nEZmZVQFTFYrRrF/w6y7ftOtu6VakbzRwK0Ft\n",
       "v8j1FbeYmWP4rF5HBsiEFEMszo29z3pYuDf6hvc7C0ghyxAg3G9cx2GtfP+ry+spPWvu1Njc8PNE\n",
       "+s2nuzWEEx+JO5srkpUvgQR0KgWeD/2cYnDwbsf2XB1VMXZaFp/BIMj7NucOehsUPuaTraq/n8aE\n",
       "xMAAAAMAACyhAAAAhUGflkUVLDP/AAADAAJ9TUM3XGj3S8bQY1MogBtq7mr9ensC9uymnM7f8a0A\n",
       "NcFXkNwO0a/ORmfPfIdTlt3V1WOAxTEFX+Z9eclS/LvCj7QLUz1CXLygzREpij9zYchnlCFB8GHj\n",
       "/VMDuzj9lqxR8SBIW+VueeRAJUMh/DW6WVkmgAAAk4AAAABRAZ+1dEK/AAADAASV0EoVKCSLt9rn\n",
       "+Hoew0awqz5HQM7ZOo57g2gplRAA39kZ5hBQikjApn9J7du5aUEJl9RwUKOgAe9WU+F6ps2u4AAA\n",
       "AwMXAAAAYQGft2pCvwAAAwAEl19aFxm3HbRznCFzZwMqIHoeAUoxAC1P/cUsLJCFjyLDTEExN+D8\n",
       "oCuHGet/413AGIpIZQoR8H1hLDOoONbkcePUuSGZsUAC/Ovf6NtolWL8AAADAu8AAADWQZu8SahB\n",
       "bJlMCHf//qmWAAADAAADAAADAykqJwA3Q+eSiKXNGTknkJUxz8LrCeiKcDh64234pv65G55sns88\n",
       "YedkJap4x2Q14+uNMoN4Fj8mkKpK3Q2oQNNynfb+UYmR9NDhc8Z/jeUkONOL7FVjCa4knRZ89lMU\n",
       "T6Rn/lbpL91T9JkOvCx5UhGF0dXbDy/L1imuEv/wAgu7tjIzd1y6hPsC9nvKupASp65C8aekkyx5\n",
       "f9BKS6vSnV6lryTotmFFo1Gl4KtK23PN3brXEAAAAwAAAwA8IAAAAJ5Bn9pFFSwz/wAAAwACfU1D\n",
       "N1xo90vG0GNTKIAcCrLCngAjH7vVyntYcOtKtu8e25gy7oM1Eh2Fw6NBarzX7YH035SLFMRtZ6pO\n",
       "K3RpbmfRQA+xo81dPSuk5qirzRQUtJE2FZW9H3sSb63fSiyhStzxuH79v1G5CaIwUKfShc09xkws\n",
       "ubndgPHiQvNMHmAYBpgecN21Tr2kCgAAAwAJeQAAAGYBn/l0Qr8AAAMABJXQShUoJIu32uf441lb\n",
       "Niv7bjbca2ZpkDygBUzcVur8mNkAAOp117dg/9ZWTDbecDHYtnzkS1kAX4gFgTioc5m9OIK/5Cgx\n",
       "rBzBaQABzamB5cffMt7gAAADAnYAAABYAZ/7akK/AAADAASXX1oXGbcdtHOcIbKc/4EzmoD18Bbn\n",
       "XbevvDYzNCO8nLKEI8DOuLIkrK7vnWmYAPb/rESUDelsn5TtT+K/q4AIrUo3hiZGvhOAAAApoQAA\n",
       "ANJBm+BJqEFsmUwIb//+p4QAAAMAAAMAAAZMxZh2b/AADeqHMoK+FncItM8pifn8mPQYapMwwsVy\n",
       "qCwtQM7FlEgijWawmmLb2oKWJqTEaEeZNdecw73/4yaT4QmLYoEjv//kop53SPTsqVhOiFDxe2Ge\n",
       "HAVsrJvp+j6LVyNOIJRgeJCR+h8LftSl5K1Vr+c08pHeoFdOTXBPKSaGLMK9nQlAwunsiOclVHHt\n",
       "mKnR1hCpj6TgSYM2ydtFAVBT8V2jwXo/YiJdIWgeJpo0AAADAAADAekAAACdQZ4eRRUsM/8AAAMA\n",
       "An1NQzdcaPdLxtBjUyiAG9pkIrWsIAHG9ReUI1fCH9h+MqrO1C0HeJNaYbTrRqPb2eJndImygOOz\n",
       "P8FgCirpgeSbTPlUkCQVFSQf+wHoKEIY50JECTXYUgw4QKs7g3doJANeXmoMkDeLdh+4BNNuDclS\n",
       "RxQDqLwVZqfxvtELGRTBpOAFeNekkWi+IDW4AABHwAAAAGQBnj10Qr8AAAMABJXQShUoJIu32uf4\n",
       "4Wtxz9ygBF6CCSr86RYc39A1ykEgexIEvMgzeAakuOMgaVwS4h1JMx+2Uqz3u83aFbpHGPAqFRzd\n",
       "sFAH60F8XgAcvQvVXCnABBAAAARcAAAAdQGeP2pCvwAAAwAEl19aFxm3HbRznCGyX/Fc45QAGsmv\n",
       "02rR3md/7+buo+pM6nPq/hfOJtuSIHGwJp7hTtyaQzTs7FUAY/YGCUSvDeWiVSgfwoKy8eBATbaN\n",
       "kJdkQxrw2GSW5Qx7mYAAVnvuSlaospPKAAAFJQAAAKhBmiJJqEFsmUwUTDP//p4QAAADAAADAAAY\n",
       "cV4EuoEAG2oOH19dGTp2IiI2nsli67kp1/zJ+rGptUMDbG4qIMfIFninmmK3pYO5M+MxYhP4j7oL\n",
       "mMW0ZbKdXgNtHS0B98PKnZvlbrNuGXbtn//s3GaEDo81p5ZtJxDFT2jIutujiRiKr9Ea8Vx2KKco\n",
       "0V6O441noG2YhoKAL25tMCPnuvYAAAMAAAMAesAAAAB1AZ5BakK/AAADAASYMwu8ukY6vcwQ4Ub8\n",
       "ZxnW2QvpJMuDVxfFN3fMDz1SDlgI8WCTGR9DQ+FP0VmMr87ADhp6a47VzYhmzqcqpz6dck5Qov9A\n",
       "P8h8IYyzeMD8lfHAOYgULAs5v7yAWJG5JS0bfosXTsAAAAZVAAAAdUGaQ0nhClJlMCFf/jhAAAAD\n",
       "AAADAABfWWJADdb0b6A2H+o5J6zf71yQQNjobwzmLAnZkT+VIu8WPlhlh7IhZIggY99EaExWELS6\n",
       "m4pXfI6QMokoDx6clmjbGBv/04insHYIklSV/moFWrrTR+YAAAMAAAMBQQAAB+Ntb292AAAAbG12\n",
       "aGQAAAAAAAAAAAAAAAAAAAPoAAATiAABAAABAAAAAAAAAAAAAAAAAQAAAAAAAAAAAAAAAAAAAAEA\n",
       "AAAAAAAAAAAAAAAAAEAAAAAAAAAAAAAAAAAAAAAAAAAAAAAAAAAAAAAAAAACAAAHDXRyYWsAAABc\n",
       "dGtoZAAAAAMAAAAAAAAAAAAAAAEAAAAAAAATiAAAAAAAAAAAAAAAAAAAAAAAAQAAAAAAAAAAAAAA\n",
       "AAAAAAEAAAAAAAAAAAAAAAAAAEAAAAAD6AAAAyAAAAAAACRlZHRzAAAAHGVsc3QAAAAAAAAAAQAA\n",
       "E4gAAAQAAAEAAAAABoVtZGlhAAAAIG1kaGQAAAAAAAAAAAAAAAAAACgAAADIAFXEAAAAAAAtaGRs\n",
       "cgAAAAAAAAAAdmlkZQAAAAAAAAAAAAAAAFZpZGVvSGFuZGxlcgAAAAYwbWluZgAAABR2bWhkAAAA\n",
       "AQAAAAAAAAAAAAAAJGRpbmYAAAAcZHJlZgAAAAAAAAABAAAADHVybCAAAAABAAAF8HN0YmwAAAC4\n",
       "c3RzZAAAAAAAAAABAAAAqGF2YzEAAAAAAAAAAQAAAAAAAAAAAAAAAAAAAAAD6AMgAEgAAABIAAAA\n",
       "AAAAAAEAAAAAAAAAAAAAAAAAAAAAAAAAAAAAAAAAAAAAAAAAAAAY//8AAAA2YXZjQwFkAB//4QAZ\n",
       "Z2QAH6zZQPwZeXhAAAADAEAAAAoDxgxlgAEABmjr48siwP34+AAAAAAcdXVpZGtoQPJfJE/Fujml\n",
       "G88DI/MAAAAAAAAAGHN0dHMAAAAAAAAAAQAAAGQAAAIAAAAAFHN0c3MAAAAAAAAAAQAAAAEAAAMw\n",
       "Y3R0cwAAAAAAAABkAAAAAQAABAAAAAABAAAKAAAAAAEAAAQAAAAAAQAAAAAAAAABAAACAAAAAAEA\n",
       "AAoAAAAAAQAABAAAAAABAAAAAAAAAAEAAAIAAAAAAQAACgAAAAABAAAEAAAAAAEAAAAAAAAAAQAA\n",
       "AgAAAAABAAAKAAAAAAEAAAQAAAAAAQAAAAAAAAABAAACAAAAAAEAAAoAAAAAAQAABAAAAAABAAAA\n",
       "AAAAAAEAAAIAAAAAAQAACgAAAAABAAAEAAAAAAEAAAAAAAAAAQAAAgAAAAABAAAKAAAAAAEAAAQA\n",
       "AAAAAQAAAAAAAAABAAACAAAAAAEAAAoAAAAAAQAABAAAAAABAAAAAAAAAAEAAAIAAAAAAQAACgAA\n",
       "AAABAAAEAAAAAAEAAAAAAAAAAQAAAgAAAAABAAAKAAAAAAEAAAQAAAAAAQAAAAAAAAABAAACAAAA\n",
       "AAEAAAoAAAAAAQAABAAAAAABAAAAAAAAAAEAAAIAAAAAAQAACgAAAAABAAAEAAAAAAEAAAAAAAAA\n",
       "AQAAAgAAAAABAAAKAAAAAAEAAAQAAAAAAQAAAAAAAAABAAACAAAAAAEAAAoAAAAAAQAABAAAAAAB\n",
       "AAAAAAAAAAEAAAIAAAAAAQAACgAAAAABAAAEAAAAAAEAAAAAAAAAAQAAAgAAAAABAAAKAAAAAAEA\n",
       "AAQAAAAAAQAAAAAAAAABAAACAAAAAAEAAAoAAAAAAQAABAAAAAABAAAAAAAAAAEAAAIAAAAAAQAA\n",
       "CgAAAAABAAAEAAAAAAEAAAAAAAAAAQAAAgAAAAABAAAKAAAAAAEAAAQAAAAAAQAAAAAAAAABAAAC\n",
       "AAAAAAEAAAoAAAAAAQAABAAAAAABAAAAAAAAAAEAAAIAAAAAAQAACgAAAAABAAAEAAAAAAEAAAAA\n",
       "AAAAAQAAAgAAAAABAAAKAAAAAAEAAAQAAAAAAQAAAAAAAAABAAACAAAAAAEAAAoAAAAAAQAABAAA\n",
       "AAABAAAAAAAAAAEAAAIAAAAAAQAACgAAAAABAAAEAAAAAAEAAAAAAAAAAQAAAgAAAAABAAAGAAAA\n",
       "AAEAAAIAAAAAAQAABAAAAAAcc3RzYwAAAAAAAAABAAAAAQAAAGQAAAABAAABpHN0c3oAAAAAAAAA\n",
       "AAAAAGQAAJUNAAADogAAAOkAAAC9AAAAigAAAUYAAAC8AAAAdwAAAHIAAAEcAAAA2wAAAHgAAABy\n",
       "AAABUwAAALgAAABuAAAAUQAAAPgAAACGAAAAVQAAAFkAAAENAAAAkgAAAGEAAABqAAAA3gAAAK4A\n",
       "AAB1AAAAdQAAAPsAAACeAAAAZgAAAGEAAAEzAAAAtAAAAHEAAABcAAABBgAAAJcAAABhAAAAXAAA\n",
       "AN0AAACKAAAAXAAAAGAAAAEDAAAAsgAAAHAAAACAAAABPAAAAKUAAACHAAAAdgAAAR8AAAC6AAAA\n",
       "gAAAAGUAAAD2AAAApgAAAGkAAABzAAABKQAAALAAAAB4AAAAcgAAASQAAACDAAAAZQAAAHMAAAEe\n",
       "AAAAqwAAAGoAAAB3AAAA5wAAAK0AAAByAAAAZgAAASgAAACTAAAAiAAAAGgAAADJAAAAhQAAAFkA\n",
       "AABjAAAA2gAAAIkAAABVAAAAZQAAANoAAACiAAAAagAAAFwAAADWAAAAoQAAAGgAAAB5AAAArAAA\n",
       "AHkAAAB5AAAAFHN0Y28AAAAAAAAAAQAAADAAAABidWR0YQAAAFptZXRhAAAAAAAAACFoZGxyAAAA\n",
       "AAAAAABtZGlyYXBwbAAAAAAAAAAAAAAAAC1pbHN0AAAAJal0b28AAAAdZGF0YQAAAAEAAAAATGF2\n",
       "ZjYwLjE2LjEwMA==\n",
       "\">\n",
       "  Your browser does not support the video tag.\n",
       "</video>"
      ],
      "text/plain": [
       "<IPython.core.display.HTML object>"
      ]
     },
     "execution_count": 9,
     "metadata": {},
     "output_type": "execute_result"
    }
   ],
   "source": [
    "import numpy as np\n",
    "import matplotlib.pyplot as plt\n",
    "from matplotlib.animation import FuncAnimation\n",
    "from mpl_toolkits.mplot3d import Axes3D\n",
    "\n",
    "# Set up the figure and 3D axis\n",
    "fig = plt.figure(figsize=(10, 8))\n",
    "ax = fig.add_subplot(111, projection='3d')\n",
    "\n",
    "# Three planets: [x, y, z, vx, vy, vz]\n",
    "planets = np.array([\n",
    "    [0, 0, 0, 0.1, 0.0, 0.0],  # Planet 1 (moving along x)\n",
    "    [5, 0, 0, 0.0, 0.1, 0.0],  # Planet 2 (moving along y)\n",
    "    [0, 5, 5, 0.0, 0.0, -0.1]  # Planet 3 (moving along z)\n",
    "])\n",
    "\n",
    "# Initialize scatter plot\n",
    "scatter = ax.scatter(\n",
    "    planets[:, 0], planets[:, 1], planets[:, 2],\n",
    "    c=['red', 'green', 'blue'], s=100\n",
    ")\n",
    "\n",
    "# Set axis limits\n",
    "ax.set_xlim(-10, 10)\n",
    "ax.set_ylim(-10, 10)\n",
    "ax.set_zlim(-10, 10)\n",
    "ax.set_xlabel('X')\n",
    "ax.set_ylabel('Y')\n",
    "ax.set_zlabel('Z')\n",
    "\n",
    "# Animation update function\n",
    "def update(frame):\n",
    "    planets[:, 0:3] += planets[:, 3:6]  # Update positions\n",
    "    scatter._offsets3d = (planets[:, 0], planets[:, 1], planets[:, 2])\n",
    "    return scatter,\n",
    "\n",
    "# Create animation\n",
    "ani = FuncAnimation(fig, update, frames=100, interval=50, blit=False)\n",
    "plt.close()  # Prevents double display in Jupyter\n",
    "\n",
    "# Display in Jupyter (HTML5 video)\n",
    "from IPython.display import HTML\n",
    "HTML(ani.to_html5_video())"
   ]
  },
  {
   "cell_type": "code",
   "execution_count": 11,
   "id": "d734671f",
   "metadata": {},
   "outputs": [
    {
     "name": "stdout",
     "output_type": "stream",
     "text": [
      "Collecting pygame\n",
      "  Downloading pygame-2.6.1-cp311-cp311-manylinux_2_17_x86_64.manylinux2014_x86_64.whl.metadata (12 kB)\n",
      "Downloading pygame-2.6.1-cp311-cp311-manylinux_2_17_x86_64.manylinux2014_x86_64.whl (14.0 MB)\n",
      "\u001b[2K   \u001b[90m━━━━━━━━━━━━━━━━━━━━━━━━━━━━━━━━━━━━━━━━\u001b[0m \u001b[32m14.0/14.0 MB\u001b[0m \u001b[31m5.0 MB/s\u001b[0m eta \u001b[36m0:00:00\u001b[0ma \u001b[36m0:00:01\u001b[0m\n",
      "\u001b[?25hInstalling collected packages: pygame\n",
      "Successfully installed pygame-2.6.1\n",
      "Note: you may need to restart the kernel to use updated packages.\n"
     ]
    }
   ],
   "source": [
    "%pip install pygame"
   ]
  },
  {
   "cell_type": "code",
   "execution_count": 13,
   "id": "caf8ee1f",
   "metadata": {},
   "outputs": [
    {
     "name": "stderr",
     "output_type": "stream",
     "text": [
      "ALSA lib confmisc.c:855:(parse_card) cannot find card '0'\n",
      "ALSA lib conf.c:5204:(_snd_config_evaluate) function snd_func_card_inum returned error: No such file or directory\n",
      "ALSA lib confmisc.c:422:(snd_func_concat) error evaluating strings\n",
      "ALSA lib conf.c:5204:(_snd_config_evaluate) function snd_func_concat returned error: No such file or directory\n",
      "ALSA lib confmisc.c:1342:(snd_func_refer) error evaluating name\n",
      "ALSA lib conf.c:5204:(_snd_config_evaluate) function snd_func_refer returned error: No such file or directory\n",
      "ALSA lib conf.c:5727:(snd_config_expand) Evaluate error: No such file or directory\n",
      "ALSA lib pcm.c:2721:(snd_pcm_open_noupdate) Unknown PCM default\n",
      "/tmp/ipykernel_266988/588863575.py:24: RuntimeWarning:\n",
      "\n",
      "divide by zero encountered in scalar divide\n",
      "\n",
      "/tmp/ipykernel_266988/588863575.py:25: RuntimeWarning:\n",
      "\n",
      "invalid value encountered in scalar multiply\n",
      "\n"
     ]
    },
    {
     "ename": "ValueError",
     "evalue": "cannot convert float NaN to integer",
     "output_type": "error",
     "traceback": [
      "\u001b[0;31m---------------------------------------------------------------------------\u001b[0m",
      "\u001b[0;31mValueError\u001b[0m                                Traceback (most recent call last)",
      "Cell \u001b[0;32mIn[13], line 43\u001b[0m\n\u001b[1;32m     41\u001b[0m \u001b[38;5;66;03m# Draw planets\u001b[39;00m\n\u001b[1;32m     42\u001b[0m \u001b[38;5;28;01mfor\u001b[39;00m i, (x, y, z, _, _, _) \u001b[38;5;129;01min\u001b[39;00m \u001b[38;5;28menumerate\u001b[39m(planets):\n\u001b[0;32m---> 43\u001b[0m     x_proj, y_proj \u001b[38;5;241m=\u001b[39m \u001b[43mproject_3d_to_2d\u001b[49m\u001b[43m(\u001b[49m\u001b[43mx\u001b[49m\u001b[43m,\u001b[49m\u001b[43m \u001b[49m\u001b[43my\u001b[49m\u001b[43m,\u001b[49m\u001b[43m \u001b[49m\u001b[43mz\u001b[49m\u001b[43m)\u001b[49m\n\u001b[1;32m     44\u001b[0m     radius \u001b[38;5;241m=\u001b[39m \u001b[38;5;28mmax\u001b[39m(\u001b[38;5;241m1\u001b[39m, \u001b[38;5;28mint\u001b[39m(\u001b[38;5;241m20\u001b[39m \u001b[38;5;241m*\u001b[39m \u001b[38;5;241m500\u001b[39m \u001b[38;5;241m/\u001b[39m (z \u001b[38;5;241m+\u001b[39m \u001b[38;5;241m500\u001b[39m)))  \u001b[38;5;66;03m# Smaller if farther\u001b[39;00m\n\u001b[1;32m     45\u001b[0m     pygame\u001b[38;5;241m.\u001b[39mdraw\u001b[38;5;241m.\u001b[39mcircle(screen, colors[i], (x_proj, y_proj), radius)\n",
      "Cell \u001b[0;32mIn[13], line 25\u001b[0m, in \u001b[0;36mproject_3d_to_2d\u001b[0;34m(x, y, z)\u001b[0m\n\u001b[1;32m     23\u001b[0m \u001b[38;5;28;01mdef\u001b[39;00m \u001b[38;5;21mproject_3d_to_2d\u001b[39m(x, y, z):\n\u001b[1;32m     24\u001b[0m     scale \u001b[38;5;241m=\u001b[39m \u001b[38;5;241m500\u001b[39m \u001b[38;5;241m/\u001b[39m (z \u001b[38;5;241m+\u001b[39m \u001b[38;5;241m500\u001b[39m)  \u001b[38;5;66;03m# Perspective scaling\u001b[39;00m\n\u001b[0;32m---> 25\u001b[0m     x_proj \u001b[38;5;241m=\u001b[39m width \u001b[38;5;241m/\u001b[39m\u001b[38;5;241m/\u001b[39m \u001b[38;5;241m2\u001b[39m \u001b[38;5;241m+\u001b[39m \u001b[38;5;28;43mint\u001b[39;49m\u001b[43m(\u001b[49m\u001b[43mx\u001b[49m\u001b[43m \u001b[49m\u001b[38;5;241;43m*\u001b[39;49m\u001b[43m \u001b[49m\u001b[43mscale\u001b[49m\u001b[43m)\u001b[49m\n\u001b[1;32m     26\u001b[0m     y_proj \u001b[38;5;241m=\u001b[39m height \u001b[38;5;241m/\u001b[39m\u001b[38;5;241m/\u001b[39m \u001b[38;5;241m2\u001b[39m \u001b[38;5;241m+\u001b[39m \u001b[38;5;28mint\u001b[39m(y \u001b[38;5;241m*\u001b[39m scale)\n\u001b[1;32m     27\u001b[0m     \u001b[38;5;28;01mreturn\u001b[39;00m x_proj, y_proj\n",
      "\u001b[0;31mValueError\u001b[0m: cannot convert float NaN to integer"
     ]
    }
   ],
   "source": [
    "import pygame\n",
    "from pygame.locals import *\n",
    "import numpy as np\n",
    "import sys\n",
    "\n",
    "# Initialize Pygame\n",
    "pygame.init()\n",
    "width, height = 800, 600\n",
    "screen = pygame.display.set_mode((width, height))\n",
    "pygame.display.set_caption(\"3D N-Body Simulation (Constant Velocity)\")\n",
    "clock = pygame.time.Clock()\n",
    "\n",
    "# Three planets: [x, y, z, vx, vy, vz]\n",
    "planets = np.array([\n",
    "    [0, 0, 0, 0.5, 0.0, 0.0],  # Planet 1 (x motion)\n",
    "    [100, 0, 0, 0.0, 0.5, 0.0],  # Planet 2 (y motion)\n",
    "    [0, 100, 100, 0.0, 0.0, -0.5]  # Planet 3 (z motion)\n",
    "])\n",
    "\n",
    "colors = [(255, 0, 0), (0, 255, 0), (0, 0, 255)]  # RGB colors\n",
    "\n",
    "# Simple 3D projection\n",
    "def project_3d_to_2d(x, y, z):\n",
    "    scale = 500 / (z + 500)  # Perspective scaling\n",
    "    x_proj = width // 2 + int(x * scale)\n",
    "    y_proj = height // 2 + int(y * scale)\n",
    "    return x_proj, y_proj\n",
    "\n",
    "# Main loop\n",
    "running = True\n",
    "while running:\n",
    "    for event in pygame.event.get():\n",
    "        if event.type == QUIT:\n",
    "            running = False\n",
    "    \n",
    "    screen.fill((0, 0, 0))\n",
    "    \n",
    "    # Update planet positions\n",
    "    planets[:, 0:3] += planets[:, 3:6]\n",
    "    \n",
    "    # Draw planets\n",
    "    for i, (x, y, z, _, _, _) in enumerate(planets):\n",
    "        x_proj, y_proj = project_3d_to_2d(x, y, z)\n",
    "        radius = max(1, int(20 * 500 / (z + 500)))  # Smaller if farther\n",
    "        pygame.draw.circle(screen, colors[i], (x_proj, y_proj), radius)\n",
    "    \n",
    "    pygame.display.flip()\n",
    "    clock.tick(60)\n",
    "\n",
    "pygame.quit()\n",
    "sys.exit()"
   ]
  },
  {
   "cell_type": "code",
   "execution_count": 15,
   "id": "ff100b5f",
   "metadata": {},
   "outputs": [
    {
     "ename": "ModuleNotFoundError",
     "evalue": "No module named 'taichi'",
     "output_type": "error",
     "traceback": [
      "\u001b[0;31m---------------------------------------------------------------------------\u001b[0m",
      "\u001b[0;31mModuleNotFoundError\u001b[0m                       Traceback (most recent call last)",
      "Cell \u001b[0;32mIn[15], line 1\u001b[0m\n\u001b[0;32m----> 1\u001b[0m \u001b[38;5;28;01mimport\u001b[39;00m \u001b[38;5;21;01mtaichi\u001b[39;00m \u001b[38;5;28;01mas\u001b[39;00m \u001b[38;5;21;01mti\u001b[39;00m\n\u001b[1;32m      2\u001b[0m \u001b[38;5;28;01mimport\u001b[39;00m \u001b[38;5;21;01mnumpy\u001b[39;00m \u001b[38;5;28;01mas\u001b[39;00m \u001b[38;5;21;01mnp\u001b[39;00m\n\u001b[1;32m      4\u001b[0m ti\u001b[38;5;241m.\u001b[39minit(arch\u001b[38;5;241m=\u001b[39mti\u001b[38;5;241m.\u001b[39mgpu)  \u001b[38;5;66;03m# Use GPU (or ti.cpu for CPU)\u001b[39;00m\n",
      "\u001b[0;31mModuleNotFoundError\u001b[0m: No module named 'taichi'"
     ]
    }
   ],
   "source": [
    "import taichi as ti\n",
    "import numpy as np\n",
    "\n",
    "ti.init(arch=ti.gpu)  # Use GPU (or ti.cpu for CPU)\n",
    "\n",
    "# Constants\n",
    "N = 3  # Number of planets\n",
    "dt = 0.01  # Time step\n",
    "\n",
    "# Taichi fields (GPU/CPU arrays)\n",
    "positions = ti.Vector.field(3, dtype=ti.f32, shape=N)\n",
    "velocities = ti.Vector.field(3, dtype=ti.f32, shape=N)\n",
    "colors = ti.Vector.field(3, dtype=ti.f32, shape=N)\n",
    "\n",
    "# Initialize planets (position, velocity, color)\n",
    "@ti.kernel\n",
    "def init_planets():\n",
    "    # Planet 1: Red, moving along X\n",
    "    positions[0] = [0, 0, 0]\n",
    "    velocities[0] = [0.5, 0.0, 0.0]\n",
    "    colors[0] = [1.0, 0.0, 0.0]  # RGB (red)\n",
    "    \n",
    "    # Planet 2: Green, moving along Y\n",
    "    positions[1] = [2, 0, 0]\n",
    "    velocities[1] = [0.0, 0.5, 0.0]\n",
    "    colors[1] = [0.0, 1.0, 0.0]  # RGB (green)\n",
    "    \n",
    "    # Planet 3: Blue, moving along Z\n",
    "    positions[2] = [0, 0, 2]\n",
    "    velocities[2] = [0.0, 0.0, -0.5]\n",
    "    colors[2] = [0.0, 0.0, 1.0]  # RGB (blue)\n",
    "\n",
    "# Update positions (constant velocity motion)\n",
    "@ti.kernel\n",
    "def update_positions():\n",
    "    for i in range(N):\n",
    "        positions[i] += velocities[i] * dt\n",
    "\n",
    "# Initialize\n",
    "init_planets()\n",
    "\n",
    "# GUI setup\n",
    "window = ti.ui.Window(\"3D N-Body (Taichi)\", (800, 600))\n",
    "canvas = window.get_canvas()\n",
    "scene = ti.ui.Scene()\n",
    "camera = ti.ui.Camera()\n",
    "camera.position(5, 5, 5)  # Camera position\n",
    "camera.lookat(0, 0, 0)    # Camera looks at origin\n",
    "\n",
    "# Main loop\n",
    "while window.running:\n",
    "    update_positions()  # Update planet positions\n",
    "    \n",
    "    # Set up camera\n",
    "    camera.track_user_inputs(window, movement_speed=0.1, hold_key=ti.ui.RMB)\n",
    "    scene.set_camera(camera)\n",
    "    \n",
    "    # Add planets (as spheres)\n",
    "    scene.point_light(pos=(0, 5, 0), color=(1, 1, 1))\n",
    "    scene.ambient_light((0.5, 0.5, 0.5))\n",
    "    for i in range(N):\n",
    "        scene.particles(positions[i], radius=0.1, per_vertex_color=colors[i])\n",
    "    \n",
    "    # Render\n",
    "    canvas.scene(scene)\n",
    "    window.show()"
   ]
  }
 ],
 "metadata": {
  "kernelspec": {
   "display_name": "Python 3 (ipykernel)",
   "language": "python",
   "name": "python3"
  }
 },
 "nbformat": 4,
 "nbformat_minor": 5
}
